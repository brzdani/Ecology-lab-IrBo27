{
 "cells": [
  {
   "cell_type": "markdown",
   "id": "52e6b33d-38ae-41f8-8d60-b82d97141627",
   "metadata": {},
   "source": [
    "# Density-independent Demography\n",
    "\n",
    "In the preceding chapter, we listed Hastings’ (A. Hastings 2011) key principles and assumptions of single species population growth. One of the key assumptions is that “all individuals in a population are identical.” In this chapter, we elucidate an important violation of that assumption, population structure.\n",
    "\n",
    "Populations have structure. Consider the human populations of Mexico and Sweden in 1990. Mexico had a much larger fraction of their population in child bearing age classes or younger. In addition, the age-specific fertility rate was higher in Mexico, especially for younger women. How did this happen, and why did Mexico have so many young people? What were the consequences of this for their culture, their use of resources, their domestic and foreign policies, and their future population growth? How about Sweden?\n",
    "\n",
    "Demography is the study of populations with special attention to their structure. Originally, age-based human demography was the provenance of actuaries who helped governments keep track of the number citizens of different ages and thus, for instance, know how many would be available for conscription into the military.\n",
    "\n",
    "The reason we model the structure of populations is because various demographic rates vary markedly with these stages. Juveniles produce no offspring. Very few seeds survive an entire year, whereas some large adults survive very well. We use structure when that structure is associated with important differences in demographic rates: survival, fecundity, and growth.\n",
    "\n",
    "The structure to which we refer is simply the organization of populations by some character such as life history stage, age, or size. Sizes and ages are often reduced to categories such as we saw in human populations (e.g., 0–4.9,y, 5–9.9,y,…). Sizes may be based on any reliable and repeatable measure that relates to demographic rates and are similarly binned. Life history stages may include eggs, larvae, metamorphs, juveniles, and adults in amphibians, or seeds, rosettes, and reproductive stems in herbaceous plants. With a variable such as size, we don’t need to use categories, but rather we can use size as a continuous variable; we address this briefly later in the chapter.\n",
    "\n",
    "Structured population models allow us to intertwine species-specific natural history and quantitative methods. This makes the approach especially appealing for the conservation biology of threatened and endangered species. We use structured population models to improve our understanding of a population or improve predictions of its future dynamics, or guide the management of the population. We might learn a lot about what controls the abundance of a species if we can test ideas related to different stages, ages, or sizes. What limits the population growth of the Western toad – is it egg survival, or overwintering survival of juveniles? Where should we invest our efforts to control garlic mustard (Alliaria petiolata) – killing the first year rosettes, or the second year adults? Why are cacti generally endangered (Goettsch et al. 2015)—is the smallest size or the largest size more important for long-term survival? We can use structured population models to address such questions."
   ]
  },
  {
   "cell_type": "markdown",
   "id": "dad21313-00f7-4691-8abb-8d38d7ed0e82",
   "metadata": {},
   "source": [
    "##  Survivorship\n",
    "\n",
    "The construction of a life table begins by gathering information on survivorship by age class. This sounds simple but is easier described than actually done. For example, one method is to study a cohort of individuals all born at the same time and follow the survivorship of these individuals until the last member of the cohort dies. At the beginning of such a study, it would be necessary to locate and mark all newborn individuals. Subsequently, one would need to verify when each individual died. Individuals that simply disappeared could not be assumed to have died; they might have emigrated.\n",
    "\n",
    "A second approach is to locate and examine all of the dead individuals in a population during some defined period. We would need a method for estimating the age of the animals or plants at death. This approach to the construction of a life table assumes that the rates of survival in the population are fairly constant. If this is not the case, age-specific mortality rates will be confused with year-to-year variation in mortality of the overall population. Data gathered in this manner produce a static, vertical, or time-specific life table.\n",
    "\n",
    "A third approach is to collect life history data for several cohorts over as long a period as possible. In most populations, there is a large difference between juvenile and adult survivorship. Therefore, although survivorship data on adults are often relatively easy to gather, such data do not apply to the juvenile age classes. Depending on the age when reproduction begins, it is possible to find the growth rate of the population without specific data on juvenile survivorship, as described later in the chapter.\n",
    "\n",
    "In a survivorship curve, age (x), the independent variable, is graphed against survivorship. Pearl (1927) introduced the idea that biological populations routinely fit one of the three “types” of survivorship curves. The type I curve, known as the “death at senescence” curve, is characterized by excellent survivorship at all ages from birth until “old age,” at which time the death rate rapidly accelerates and survivorship plummets. The type II curve is linear and assumes that either a constant number or a constant proportion of the population dies in each age interval.  Finally, the type III curve applies to the majority of biological populations. In this curve, there is very high mortality among the juvenile age classes while adult survivorship is relatively high.\n",
    "\n",
    "We can make some general comments. The least realistic of the three types is type I. A type I curve applies to laboratory populations of animals such as Drosophila. If provided ample food, the population has a high rate of survivorship until the end of its maximum life span when individuals die more or less simultaneously. In order for an organism to have a type II survivorship curve, all stages of the life history must be more or less equally vulnerable to predation or other causes of death. Birds, especially the adult stages, are most commonly cited as having a type II survivorship curve. The type III survivorship curve, which features heavy mortality among young age classes followed by good to excellent adult survivorship, applies to most bioogical populations from barnacles to sea turtles to plants"
   ]
  },
  {
   "cell_type": "markdown",
   "id": "b748ef97-d607-4ff0-ae5d-1b4489da1f08",
   "metadata": {},
   "source": [
    "## Fertility\n",
    "\n",
    "The other half of the life table is the fertility column, $b_x$. Here, each value represents the average number of female offspring produced per female of a given age. Again, gathering accurate data on fertility in the field is problematic for many populations. In order to simplify calculations, we count only the number of females. That is, the values are mean numbers of females by age class. Fertility, similar to survivorship, can be graphed as a function of age, and the resultant fertility curve is usually triangular or rectangular in shape. \n",
    "\n",
    "The sum of the $b_x$ column defines the gross reproductive rate (GRR). This number is the average number of female offspring produced by a female that survives at least through the last reproductive age class\n",
    "$$\n",
    "    GRR = \\sum {b_x}\n",
    "$$"
   ]
  },
  {
   "cell_type": "code",
   "execution_count": 86,
   "id": "9cdacab3-35f5-469b-be2c-601e2bd4543a",
   "metadata": {},
   "outputs": [
    {
     "data": {
      "text/html": [
       "<table>\n",
       "<thead><tr><th scope=col>Year</th><th scope=col>l</th><th scope=col>b</th></tr></thead>\n",
       "<tbody>\n",
       "\t<tr><td>0.00 </td><td>1.000</td><td>0.00 </td></tr>\n",
       "\t<tr><td>0.25 </td><td>0.662</td><td>0.00 </td></tr>\n",
       "\t<tr><td>0.75 </td><td>0.332</td><td>1.29 </td></tr>\n",
       "\t<tr><td>1.25 </td><td>0.251</td><td>0.00 </td></tr>\n",
       "\t<tr><td>1.75 </td><td>0.142</td><td>2.08 </td></tr>\n",
       "\t<tr><td>2.25 </td><td>0.104</td><td>0.00 </td></tr>\n",
       "\t<tr><td>2.75 </td><td>0.061</td><td>2.08 </td></tr>\n",
       "\t<tr><td>3.75 </td><td>0.026</td><td>2.08 </td></tr>\n",
       "\t<tr><td>4.75 </td><td>0.011</td><td>2.08 </td></tr>\n",
       "\t<tr><td>5.75 </td><td>0.000</td><td>0.00 </td></tr>\n",
       "</tbody>\n",
       "</table>\n"
      ],
      "text/latex": [
       "\\begin{tabular}{r|lll}\n",
       " Year & l & b\\\\\n",
       "\\hline\n",
       "\t 0.00  & 1.000 & 0.00 \\\\\n",
       "\t 0.25  & 0.662 & 0.00 \\\\\n",
       "\t 0.75  & 0.332 & 1.29 \\\\\n",
       "\t 1.25  & 0.251 & 0.00 \\\\\n",
       "\t 1.75  & 0.142 & 2.08 \\\\\n",
       "\t 2.25  & 0.104 & 0.00 \\\\\n",
       "\t 2.75  & 0.061 & 2.08 \\\\\n",
       "\t 3.75  & 0.026 & 2.08 \\\\\n",
       "\t 4.75  & 0.011 & 2.08 \\\\\n",
       "\t 5.75  & 0.000 & 0.00 \\\\\n",
       "\\end{tabular}\n"
      ],
      "text/markdown": [
       "\n",
       "| Year | l | b |\n",
       "|---|---|---|\n",
       "| 0.00  | 1.000 | 0.00  |\n",
       "| 0.25  | 0.662 | 0.00  |\n",
       "| 0.75  | 0.332 | 1.29  |\n",
       "| 1.25  | 0.251 | 0.00  |\n",
       "| 1.75  | 0.142 | 2.08  |\n",
       "| 2.25  | 0.104 | 0.00  |\n",
       "| 2.75  | 0.061 | 2.08  |\n",
       "| 3.75  | 0.026 | 2.08  |\n",
       "| 4.75  | 0.011 | 2.08  |\n",
       "| 5.75  | 0.000 | 0.00  |\n",
       "\n"
      ],
      "text/plain": [
       "   Year l     b   \n",
       "1  0.00 1.000 0.00\n",
       "2  0.25 0.662 0.00\n",
       "3  0.75 0.332 1.29\n",
       "4  1.25 0.251 0.00\n",
       "5  1.75 0.142 2.08\n",
       "6  2.25 0.104 0.00\n",
       "7  2.75 0.061 2.08\n",
       "8  3.75 0.026 2.08\n",
       "9  4.75 0.011 2.08\n",
       "10 5.75 0.000 0.00"
      ]
     },
     "metadata": {},
     "output_type": "display_data"
    }
   ],
   "source": [
    "library ('ggplot2')\n",
    "library('SciViews')\n",
    "squirrel_table <- data.frame (\n",
    "\n",
    "    Year = c( 0.00, 0.25, 0.75, 1.25, 1.75, 2.25, 2.75, 3.75, 4.75, 5.75), \n",
    "    l = c(1, 0.662, 0.332, 0.251, 0.142, 0.104, 0.061, 0.026, 0.011, 0.000), \n",
    "    b = c(0.00, 0.00, 1.29, 0.00, 2.08, 0.00, 2.08, 2.08, 2.08, 0.00)\n",
    "\n",
    "    \n",
    ")\n",
    "\n",
    "squirrel_table "
   ]
  },
  {
   "cell_type": "code",
   "execution_count": 87,
   "id": "3e29a30a-5389-4ac3-a4cd-e89973ee07ee",
   "metadata": {},
   "outputs": [
    {
     "data": {
      "image/png": "[encoded data removed]",
      "text/plain": [
       "plot without title"
      ]
     },
     "metadata": {},
     "output_type": "display_data"
    }
   ],
   "source": [
    "ggplot(squirrel_table, aes(x=Year, y=l)) + geom_line() + geom_point(pch=1)  + scale_x_continuous(name=\"Year\",  limits =c(0, 6), breaks=seq(0, 6, 1)) + \n",
    "    scale_y_continuous(name=\"Survival\\n\", limits = c(0, 1)) "
   ]
  },
  {
   "cell_type": "code",
   "execution_count": 88,
   "id": "00880a16-d974-4740-8105-8f983c5c2ac7",
   "metadata": {},
   "outputs": [
    {
     "data": {
      "image/png": "[encoded data removed]",
      "text/plain": [
       "plot without title"
      ]
     },
     "metadata": {},
     "output_type": "display_data"
    }
   ],
   "source": [
    "ggplot(squirrel_table, aes(x=Year, y=b)) + geom_line()+geom_point(pch=1)  + scale_x_continuous(name=\"Year\",  limits =c(0, 6), breaks=seq(0, 6, 1)) + \n",
    "    scale_y_continuous(name=\"Fertility\\n\", limits = c(0, 3)) "
   ]
  },
  {
   "cell_type": "markdown",
   "id": "6775e1dc-a6dc-439f-8adf-e6ece3c7b101",
   "metadata": {},
   "source": [
    "From the $l_x$ column, we can develop two parallel columns, which provide information on how survivorship and mortality rates change with age. The $l_x$ column is based on the probability, at birth, of surviving to a given age class. The $P_x$ column, by contrast, is the age-specific probability of surviving to the next age class.\n",
    "$$\n",
    " P(x) = \\frac {l(x+1)} {l(x)}\n",
    "$$\n",
    "These px values are critically important when we want to project future population growth as will become clear later in this chapter. The companion value to $P_x$ is $q_x$, which is the proportion of the population that has survived to a given age, $x$, but which will die in the next time or age interval.\n",
    "$$\n",
    "    q_x = 1 - P_x\n",
    "$$"
   ]
  },
  {
   "cell_type": "code",
   "execution_count": 89,
   "id": "923ec9da-6913-41c4-b398-bec406e3087b",
   "metadata": {},
   "outputs": [
    {
     "data": {
      "text/html": [
       "<table>\n",
       "<thead><tr><th scope=col>Year</th><th scope=col>l</th><th scope=col>b</th><th scope=col>P</th></tr></thead>\n",
       "<tbody>\n",
       "\t<tr><td>0.00     </td><td>1.000    </td><td>0.00     </td><td>1.0000000</td></tr>\n",
       "\t<tr><td>0.25     </td><td>0.662    </td><td>0.00     </td><td>0.6620000</td></tr>\n",
       "\t<tr><td>0.75     </td><td>0.332    </td><td>1.29     </td><td>0.5015106</td></tr>\n",
       "\t<tr><td>1.25     </td><td>0.251    </td><td>0.00     </td><td>0.7560241</td></tr>\n",
       "\t<tr><td>1.75     </td><td>0.142    </td><td>2.08     </td><td>0.5657371</td></tr>\n",
       "\t<tr><td>2.25     </td><td>0.104    </td><td>0.00     </td><td>0.7323944</td></tr>\n",
       "\t<tr><td>2.75     </td><td>0.061    </td><td>2.08     </td><td>0.5865385</td></tr>\n",
       "\t<tr><td>3.75     </td><td>0.026    </td><td>2.08     </td><td>0.4262295</td></tr>\n",
       "\t<tr><td>4.75     </td><td>0.011    </td><td>2.08     </td><td>0.4230769</td></tr>\n",
       "\t<tr><td>5.75     </td><td>0.000    </td><td>0.00     </td><td>0.0000000</td></tr>\n",
       "</tbody>\n",
       "</table>\n"
      ],
      "text/latex": [
       "\\begin{tabular}{r|llll}\n",
       " Year & l & b & P\\\\\n",
       "\\hline\n",
       "\t 0.00      & 1.000     & 0.00      & 1.0000000\\\\\n",
       "\t 0.25      & 0.662     & 0.00      & 0.6620000\\\\\n",
       "\t 0.75      & 0.332     & 1.29      & 0.5015106\\\\\n",
       "\t 1.25      & 0.251     & 0.00      & 0.7560241\\\\\n",
       "\t 1.75      & 0.142     & 2.08      & 0.5657371\\\\\n",
       "\t 2.25      & 0.104     & 0.00      & 0.7323944\\\\\n",
       "\t 2.75      & 0.061     & 2.08      & 0.5865385\\\\\n",
       "\t 3.75      & 0.026     & 2.08      & 0.4262295\\\\\n",
       "\t 4.75      & 0.011     & 2.08      & 0.4230769\\\\\n",
       "\t 5.75      & 0.000     & 0.00      & 0.0000000\\\\\n",
       "\\end{tabular}\n"
      ],
      "text/markdown": [
       "\n",
       "| Year | l | b | P |\n",
       "|---|---|---|---|\n",
       "| 0.00      | 1.000     | 0.00      | 1.0000000 |\n",
       "| 0.25      | 0.662     | 0.00      | 0.6620000 |\n",
       "| 0.75      | 0.332     | 1.29      | 0.5015106 |\n",
       "| 1.25      | 0.251     | 0.00      | 0.7560241 |\n",
       "| 1.75      | 0.142     | 2.08      | 0.5657371 |\n",
       "| 2.25      | 0.104     | 0.00      | 0.7323944 |\n",
       "| 2.75      | 0.061     | 2.08      | 0.5865385 |\n",
       "| 3.75      | 0.026     | 2.08      | 0.4262295 |\n",
       "| 4.75      | 0.011     | 2.08      | 0.4230769 |\n",
       "| 5.75      | 0.000     | 0.00      | 0.0000000 |\n",
       "\n"
      ],
      "text/plain": [
       "   Year l     b    P        \n",
       "1  0.00 1.000 0.00 1.0000000\n",
       "2  0.25 0.662 0.00 0.6620000\n",
       "3  0.75 0.332 1.29 0.5015106\n",
       "4  1.25 0.251 0.00 0.7560241\n",
       "5  1.75 0.142 2.08 0.5657371\n",
       "6  2.25 0.104 0.00 0.7323944\n",
       "7  2.75 0.061 2.08 0.5865385\n",
       "8  3.75 0.026 2.08 0.4262295\n",
       "9  4.75 0.011 2.08 0.4230769\n",
       "10 5.75 0.000 0.00 0.0000000"
      ]
     },
     "metadata": {},
     "output_type": "display_data"
    }
   ],
   "source": [
    "squirrel_table[[\"P\"]][1] = 1\n",
    "squirrel_table[[\"P\"]][2:10] = squirrel_table[2:10, 2] / squirrel_table [1:9, 2]\n",
    "\n",
    "squirrel_table "
   ]
  },
  {
   "cell_type": "code",
   "execution_count": 90,
   "id": "586e8cbe-97b4-4937-894b-d11a55e7747f",
   "metadata": {},
   "outputs": [
    {
     "data": {
      "text/html": [
       "<table>\n",
       "<thead><tr><th scope=col>Year</th><th scope=col>l</th><th scope=col>b</th><th scope=col>P</th><th scope=col>q</th></tr></thead>\n",
       "<tbody>\n",
       "\t<tr><td>0.00     </td><td>1.000    </td><td>0.00     </td><td>1.0000000</td><td>0.0000000</td></tr>\n",
       "\t<tr><td>0.25     </td><td>0.662    </td><td>0.00     </td><td>0.6620000</td><td>0.3380000</td></tr>\n",
       "\t<tr><td>0.75     </td><td>0.332    </td><td>1.29     </td><td>0.5015106</td><td>0.4984894</td></tr>\n",
       "\t<tr><td>1.25     </td><td>0.251    </td><td>0.00     </td><td>0.7560241</td><td>0.2439759</td></tr>\n",
       "\t<tr><td>1.75     </td><td>0.142    </td><td>2.08     </td><td>0.5657371</td><td>0.4342629</td></tr>\n",
       "\t<tr><td>2.25     </td><td>0.104    </td><td>0.00     </td><td>0.7323944</td><td>0.2676056</td></tr>\n",
       "\t<tr><td>2.75     </td><td>0.061    </td><td>2.08     </td><td>0.5865385</td><td>0.4134615</td></tr>\n",
       "\t<tr><td>3.75     </td><td>0.026    </td><td>2.08     </td><td>0.4262295</td><td>0.5737705</td></tr>\n",
       "\t<tr><td>4.75     </td><td>0.011    </td><td>2.08     </td><td>0.4230769</td><td>0.5769231</td></tr>\n",
       "\t<tr><td>5.75     </td><td>0.000    </td><td>0.00     </td><td>0.0000000</td><td>1.0000000</td></tr>\n",
       "</tbody>\n",
       "</table>\n"
      ],
      "text/latex": [
       "\\begin{tabular}{r|lllll}\n",
       " Year & l & b & P & q\\\\\n",
       "\\hline\n",
       "\t 0.00      & 1.000     & 0.00      & 1.0000000 & 0.0000000\\\\\n",
       "\t 0.25      & 0.662     & 0.00      & 0.6620000 & 0.3380000\\\\\n",
       "\t 0.75      & 0.332     & 1.29      & 0.5015106 & 0.4984894\\\\\n",
       "\t 1.25      & 0.251     & 0.00      & 0.7560241 & 0.2439759\\\\\n",
       "\t 1.75      & 0.142     & 2.08      & 0.5657371 & 0.4342629\\\\\n",
       "\t 2.25      & 0.104     & 0.00      & 0.7323944 & 0.2676056\\\\\n",
       "\t 2.75      & 0.061     & 2.08      & 0.5865385 & 0.4134615\\\\\n",
       "\t 3.75      & 0.026     & 2.08      & 0.4262295 & 0.5737705\\\\\n",
       "\t 4.75      & 0.011     & 2.08      & 0.4230769 & 0.5769231\\\\\n",
       "\t 5.75      & 0.000     & 0.00      & 0.0000000 & 1.0000000\\\\\n",
       "\\end{tabular}\n"
      ],
      "text/markdown": [
       "\n",
       "| Year | l | b | P | q |\n",
       "|---|---|---|---|---|\n",
       "| 0.00      | 1.000     | 0.00      | 1.0000000 | 0.0000000 |\n",
       "| 0.25      | 0.662     | 0.00      | 0.6620000 | 0.3380000 |\n",
       "| 0.75      | 0.332     | 1.29      | 0.5015106 | 0.4984894 |\n",
       "| 1.25      | 0.251     | 0.00      | 0.7560241 | 0.2439759 |\n",
       "| 1.75      | 0.142     | 2.08      | 0.5657371 | 0.4342629 |\n",
       "| 2.25      | 0.104     | 0.00      | 0.7323944 | 0.2676056 |\n",
       "| 2.75      | 0.061     | 2.08      | 0.5865385 | 0.4134615 |\n",
       "| 3.75      | 0.026     | 2.08      | 0.4262295 | 0.5737705 |\n",
       "| 4.75      | 0.011     | 2.08      | 0.4230769 | 0.5769231 |\n",
       "| 5.75      | 0.000     | 0.00      | 0.0000000 | 1.0000000 |\n",
       "\n"
      ],
      "text/plain": [
       "   Year l     b    P         q        \n",
       "1  0.00 1.000 0.00 1.0000000 0.0000000\n",
       "2  0.25 0.662 0.00 0.6620000 0.3380000\n",
       "3  0.75 0.332 1.29 0.5015106 0.4984894\n",
       "4  1.25 0.251 0.00 0.7560241 0.2439759\n",
       "5  1.75 0.142 2.08 0.5657371 0.4342629\n",
       "6  2.25 0.104 0.00 0.7323944 0.2676056\n",
       "7  2.75 0.061 2.08 0.5865385 0.4134615\n",
       "8  3.75 0.026 2.08 0.4262295 0.5737705\n",
       "9  4.75 0.011 2.08 0.4230769 0.5769231\n",
       "10 5.75 0.000 0.00 0.0000000 1.0000000"
      ]
     },
     "metadata": {},
     "output_type": "display_data"
    }
   ],
   "source": [
    "squirrel_table[[\"q\"]][1] = 0\n",
    "squirrel_table[[\"q\"]][2:10] = (1 - squirrel_table[[\"P\"]][2:10])\n",
    "\n",
    "squirrel_table "
   ]
  },
  {
   "cell_type": "code",
   "execution_count": 91,
   "id": "575793c9-8477-4b9f-a851-2b9e5eff7d34",
   "metadata": {},
   "outputs": [
    {
     "data": {
      "image/png": "[encoded data removed]",
      "text/plain": [
       "plot without title"
      ]
     },
     "metadata": {},
     "output_type": "display_data"
    }
   ],
   "source": [
    "ggplot(squirrel_table, aes(x=Year, y=q)) + geom_line()+geom_point(pch=1)  + scale_x_continuous(name=\"Year\",  limits =c(0, 6), breaks=seq(0, 6, 1)) + \n",
    "    scale_y_continuous(name=\"Mortality\\n\", limits = c(0, 3)) "
   ]
  },
  {
   "cell_type": "markdown",
   "id": "63426030-2565-4f29-a064-61f63c32c05a",
   "metadata": {},
   "source": [
    "## Expectation of life\n",
    "\n",
    "Another statistic of interest to demographers, to ecologists, and even to nonscientists is the age-specific expectation of life. The question to be addressed is, what is the average life expectancy of an individual of a given age, x?\n",
    "\n",
    "Age-specific life expectancy is measured by taking the area under the survivorship curve beyond an age, $x$, and dividing by the number or proportion of survivors of that age, $x$. In theory, using integral calculus, expectation of life, $e_x$, to the last age class, $w$, is found using the formula:\n",
    "$$\n",
    "    e_x =  \\frac{\\int{l_xd_x}}{l_x}\n",
    "$$\n",
    "\n",
    "In practice, we use discrete age classes. The survivorship between ages x and x + 1, if the age interval is reasonably small, is estimated as follows\n",
    "$$\n",
    "    L_x = \\frac {l_x + l_{x+1}}{2}\n",
    "$$\n",
    "$L_X$ is the mean survivorship for any particular age interval and assumes that, on average, an organism dies half way between two age classes. The area under the survivorship curve for an individual of a given age, x, to the age, w, at which the oldest individual dies, is estimated as follows:\n",
    "$$\n",
    "    T_x = \\sum {L_x} = \\sum {\\frac {l_x + l_{x+1}}{2}}\n",
    "$$\n",
    "Therefore, expectation of life is estimated by \n",
    "$$\n",
    "    e_x =  \\frac{T_x}{l_x}\n",
    "$$"
   ]
  },
  {
   "cell_type": "code",
   "execution_count": 103,
   "id": "065d580b-17c7-4f32-b61b-6838e2b9f8d2",
   "metadata": {},
   "outputs": [
    {
     "data": {
      "text/html": [
       "<table>\n",
       "<thead><tr><th scope=col>Year</th><th scope=col>l</th><th scope=col>b</th><th scope=col>P</th><th scope=col>q</th><th scope=col>L</th></tr></thead>\n",
       "<tbody>\n",
       "\t<tr><td>0.00     </td><td>1.000    </td><td>0.00     </td><td>1.0000000</td><td>0.0000000</td><td>0.8310   </td></tr>\n",
       "\t<tr><td>0.25     </td><td>0.662    </td><td>0.00     </td><td>0.6620000</td><td>0.3380000</td><td>0.4970   </td></tr>\n",
       "\t<tr><td>0.75     </td><td>0.332    </td><td>1.29     </td><td>0.5015106</td><td>0.4984894</td><td>0.2915   </td></tr>\n",
       "\t<tr><td>1.25     </td><td>0.251    </td><td>0.00     </td><td>0.7560241</td><td>0.2439759</td><td>0.1965   </td></tr>\n",
       "\t<tr><td>1.75     </td><td>0.142    </td><td>2.08     </td><td>0.5657371</td><td>0.4342629</td><td>0.1230   </td></tr>\n",
       "\t<tr><td>2.25     </td><td>0.104    </td><td>0.00     </td><td>0.7323944</td><td>0.2676056</td><td>0.0825   </td></tr>\n",
       "\t<tr><td>2.75     </td><td>0.061    </td><td>2.08     </td><td>0.5865385</td><td>0.4134615</td><td>0.0435   </td></tr>\n",
       "\t<tr><td>3.75     </td><td>0.026    </td><td>2.08     </td><td>0.4262295</td><td>0.5737705</td><td>0.0185   </td></tr>\n",
       "\t<tr><td>4.75     </td><td>0.011    </td><td>2.08     </td><td>0.4230769</td><td>0.5769231</td><td>0.0055   </td></tr>\n",
       "\t<tr><td>5.75     </td><td>0.000    </td><td>0.00     </td><td>0.0000000</td><td>1.0000000</td><td>0.0000   </td></tr>\n",
       "</tbody>\n",
       "</table>\n"
      ],
      "text/latex": [
       "\\begin{tabular}{r|llllll}\n",
       " Year & l & b & P & q & L\\\\\n",
       "\\hline\n",
       "\t 0.00      & 1.000     & 0.00      & 1.0000000 & 0.0000000 & 0.8310   \\\\\n",
       "\t 0.25      & 0.662     & 0.00      & 0.6620000 & 0.3380000 & 0.4970   \\\\\n",
       "\t 0.75      & 0.332     & 1.29      & 0.5015106 & 0.4984894 & 0.2915   \\\\\n",
       "\t 1.25      & 0.251     & 0.00      & 0.7560241 & 0.2439759 & 0.1965   \\\\\n",
       "\t 1.75      & 0.142     & 2.08      & 0.5657371 & 0.4342629 & 0.1230   \\\\\n",
       "\t 2.25      & 0.104     & 0.00      & 0.7323944 & 0.2676056 & 0.0825   \\\\\n",
       "\t 2.75      & 0.061     & 2.08      & 0.5865385 & 0.4134615 & 0.0435   \\\\\n",
       "\t 3.75      & 0.026     & 2.08      & 0.4262295 & 0.5737705 & 0.0185   \\\\\n",
       "\t 4.75      & 0.011     & 2.08      & 0.4230769 & 0.5769231 & 0.0055   \\\\\n",
       "\t 5.75      & 0.000     & 0.00      & 0.0000000 & 1.0000000 & 0.0000   \\\\\n",
       "\\end{tabular}\n"
      ],
      "text/markdown": [
       "\n",
       "| Year | l | b | P | q | L |\n",
       "|---|---|---|---|---|---|\n",
       "| 0.00      | 1.000     | 0.00      | 1.0000000 | 0.0000000 | 0.8310    |\n",
       "| 0.25      | 0.662     | 0.00      | 0.6620000 | 0.3380000 | 0.4970    |\n",
       "| 0.75      | 0.332     | 1.29      | 0.5015106 | 0.4984894 | 0.2915    |\n",
       "| 1.25      | 0.251     | 0.00      | 0.7560241 | 0.2439759 | 0.1965    |\n",
       "| 1.75      | 0.142     | 2.08      | 0.5657371 | 0.4342629 | 0.1230    |\n",
       "| 2.25      | 0.104     | 0.00      | 0.7323944 | 0.2676056 | 0.0825    |\n",
       "| 2.75      | 0.061     | 2.08      | 0.5865385 | 0.4134615 | 0.0435    |\n",
       "| 3.75      | 0.026     | 2.08      | 0.4262295 | 0.5737705 | 0.0185    |\n",
       "| 4.75      | 0.011     | 2.08      | 0.4230769 | 0.5769231 | 0.0055    |\n",
       "| 5.75      | 0.000     | 0.00      | 0.0000000 | 1.0000000 | 0.0000    |\n",
       "\n"
      ],
      "text/plain": [
       "   Year l     b    P         q         L     \n",
       "1  0.00 1.000 0.00 1.0000000 0.0000000 0.8310\n",
       "2  0.25 0.662 0.00 0.6620000 0.3380000 0.4970\n",
       "3  0.75 0.332 1.29 0.5015106 0.4984894 0.2915\n",
       "4  1.25 0.251 0.00 0.7560241 0.2439759 0.1965\n",
       "5  1.75 0.142 2.08 0.5657371 0.4342629 0.1230\n",
       "6  2.25 0.104 0.00 0.7323944 0.2676056 0.0825\n",
       "7  2.75 0.061 2.08 0.5865385 0.4134615 0.0435\n",
       "8  3.75 0.026 2.08 0.4262295 0.5737705 0.0185\n",
       "9  4.75 0.011 2.08 0.4230769 0.5769231 0.0055\n",
       "10 5.75 0.000 0.00 0.0000000 1.0000000 0.0000"
      ]
     },
     "metadata": {},
     "output_type": "display_data"
    }
   ],
   "source": [
    "a<- (squirrel_table[2:10,2] + squirrel_table[1:9,2]) /2\n",
    "a[10] = 0\n",
    "\n",
    "squirrel_table[[\"L\"]] = a\n",
    "\n",
    "squirrel_table "
   ]
  },
  {
   "cell_type": "code",
   "execution_count": 107,
   "id": "88c0868c-8dec-4da0-9f68-11b6a881ec0c",
   "metadata": {},
   "outputs": [
    {
     "data": {
      "text/html": [
       "<table>\n",
       "<thead><tr><th scope=col>Year</th><th scope=col>l</th><th scope=col>b</th><th scope=col>P</th><th scope=col>q</th><th scope=col>L</th><th scope=col>e</th></tr></thead>\n",
       "<tbody>\n",
       "\t<tr><td>0.00     </td><td>1.000    </td><td>0.00     </td><td>1.0000000</td><td>0.0000000</td><td>0.8310   </td><td>2.0890000</td></tr>\n",
       "\t<tr><td>0.25     </td><td>0.662    </td><td>0.00     </td><td>0.6620000</td><td>0.3380000</td><td>0.4970   </td><td>1.9003021</td></tr>\n",
       "\t<tr><td>0.75     </td><td>0.332    </td><td>1.29     </td><td>0.5015106</td><td>0.4984894</td><td>0.2915   </td><td>2.2921687</td></tr>\n",
       "\t<tr><td>1.25     </td><td>0.251    </td><td>0.00     </td><td>0.7560241</td><td>0.2439759</td><td>0.1965   </td><td>1.8705179</td></tr>\n",
       "\t<tr><td>1.75     </td><td>0.142    </td><td>2.08     </td><td>0.5657371</td><td>0.4342629</td><td>0.1230   </td><td>1.9225352</td></tr>\n",
       "\t<tr><td>2.25     </td><td>0.104    </td><td>0.00     </td><td>0.7323944</td><td>0.2676056</td><td>0.0825   </td><td>1.4423077</td></tr>\n",
       "\t<tr><td>2.75     </td><td>0.061    </td><td>2.08     </td><td>0.5865385</td><td>0.4134615</td><td>0.0435   </td><td>1.1065574</td></tr>\n",
       "\t<tr><td>3.75     </td><td>0.026    </td><td>2.08     </td><td>0.4262295</td><td>0.5737705</td><td>0.0185   </td><td>0.9230769</td></tr>\n",
       "\t<tr><td>4.75     </td><td>0.011    </td><td>2.08     </td><td>0.4230769</td><td>0.5769231</td><td>0.0055   </td><td>0.5000000</td></tr>\n",
       "\t<tr><td>5.75     </td><td>0.000    </td><td>0.00     </td><td>0.0000000</td><td>1.0000000</td><td>0.0000   </td><td>      NaN</td></tr>\n",
       "</tbody>\n",
       "</table>\n"
      ],
      "text/latex": [
       "\\begin{tabular}{r|lllllll}\n",
       " Year & l & b & P & q & L & e\\\\\n",
       "\\hline\n",
       "\t 0.00      & 1.000     & 0.00      & 1.0000000 & 0.0000000 & 0.8310    & 2.0890000\\\\\n",
       "\t 0.25      & 0.662     & 0.00      & 0.6620000 & 0.3380000 & 0.4970    & 1.9003021\\\\\n",
       "\t 0.75      & 0.332     & 1.29      & 0.5015106 & 0.4984894 & 0.2915    & 2.2921687\\\\\n",
       "\t 1.25      & 0.251     & 0.00      & 0.7560241 & 0.2439759 & 0.1965    & 1.8705179\\\\\n",
       "\t 1.75      & 0.142     & 2.08      & 0.5657371 & 0.4342629 & 0.1230    & 1.9225352\\\\\n",
       "\t 2.25      & 0.104     & 0.00      & 0.7323944 & 0.2676056 & 0.0825    & 1.4423077\\\\\n",
       "\t 2.75      & 0.061     & 2.08      & 0.5865385 & 0.4134615 & 0.0435    & 1.1065574\\\\\n",
       "\t 3.75      & 0.026     & 2.08      & 0.4262295 & 0.5737705 & 0.0185    & 0.9230769\\\\\n",
       "\t 4.75      & 0.011     & 2.08      & 0.4230769 & 0.5769231 & 0.0055    & 0.5000000\\\\\n",
       "\t 5.75      & 0.000     & 0.00      & 0.0000000 & 1.0000000 & 0.0000    &       NaN\\\\\n",
       "\\end{tabular}\n"
      ],
      "text/markdown": [
       "\n",
       "| Year | l | b | P | q | L | e |\n",
       "|---|---|---|---|---|---|---|\n",
       "| 0.00      | 1.000     | 0.00      | 1.0000000 | 0.0000000 | 0.8310    | 2.0890000 |\n",
       "| 0.25      | 0.662     | 0.00      | 0.6620000 | 0.3380000 | 0.4970    | 1.9003021 |\n",
       "| 0.75      | 0.332     | 1.29      | 0.5015106 | 0.4984894 | 0.2915    | 2.2921687 |\n",
       "| 1.25      | 0.251     | 0.00      | 0.7560241 | 0.2439759 | 0.1965    | 1.8705179 |\n",
       "| 1.75      | 0.142     | 2.08      | 0.5657371 | 0.4342629 | 0.1230    | 1.9225352 |\n",
       "| 2.25      | 0.104     | 0.00      | 0.7323944 | 0.2676056 | 0.0825    | 1.4423077 |\n",
       "| 2.75      | 0.061     | 2.08      | 0.5865385 | 0.4134615 | 0.0435    | 1.1065574 |\n",
       "| 3.75      | 0.026     | 2.08      | 0.4262295 | 0.5737705 | 0.0185    | 0.9230769 |\n",
       "| 4.75      | 0.011     | 2.08      | 0.4230769 | 0.5769231 | 0.0055    | 0.5000000 |\n",
       "| 5.75      | 0.000     | 0.00      | 0.0000000 | 1.0000000 | 0.0000    |       NaN |\n",
       "\n"
      ],
      "text/plain": [
       "   Year l     b    P         q         L      e        \n",
       "1  0.00 1.000 0.00 1.0000000 0.0000000 0.8310 2.0890000\n",
       "2  0.25 0.662 0.00 0.6620000 0.3380000 0.4970 1.9003021\n",
       "3  0.75 0.332 1.29 0.5015106 0.4984894 0.2915 2.2921687\n",
       "4  1.25 0.251 0.00 0.7560241 0.2439759 0.1965 1.8705179\n",
       "5  1.75 0.142 2.08 0.5657371 0.4342629 0.1230 1.9225352\n",
       "6  2.25 0.104 0.00 0.7323944 0.2676056 0.0825 1.4423077\n",
       "7  2.75 0.061 2.08 0.5865385 0.4134615 0.0435 1.1065574\n",
       "8  3.75 0.026 2.08 0.4262295 0.5737705 0.0185 0.9230769\n",
       "9  4.75 0.011 2.08 0.4230769 0.5769231 0.0055 0.5000000\n",
       "10 5.75 0.000 0.00 0.0000000 1.0000000 0.0000       NaN"
      ]
     },
     "metadata": {},
     "output_type": "display_data"
    }
   ],
   "source": [
    "e <- vector()\n",
    "\n",
    "\n",
    "for (i in 1:10) {\n",
    "    t = 0\n",
    "    for ( z in i: 10) {\n",
    "\n",
    "        t = t + squirrel_table[z, 6]\n",
    "\n",
    "    }\n",
    "    e[i] = t/squirrel_table[i,2]\n",
    "    \n",
    "}\n",
    "\n",
    "squirrel_table[[\"e\"]] = e\n",
    "\n",
    "squirrel_table"
   ]
  },
  {
   "cell_type": "markdown",
   "id": "6d09014d-c3b9-4e8e-95fd-5a4f41182253",
   "metadata": {},
   "source": [
    "## Net reproductive rate\n",
    "\n",
    "Once we have the basic life table, we are in a position to calculate the same types of growth rate statistics that we discussed in the first two chapters. The first of these is the net reproductive rate, $R_0$. The net reproductive rate represents the increase in the population per generation and is defined as the mean number of female offspring produced per female in the population per generation. This value is found by incorporating both the fertility and survivorship functions of the life table. For each age class, we calculate the product of $l_xb_x$. This product is the contribution a particular age class is making toward population growth per generation. The net reproductive rate for the population as a whole is the sum of these products for all age classes:\n",
    "$$\n",
    "  R_0 = \\sum {l(x)b(x)}\n",
    "$$"
   ]
  },
  {
   "cell_type": "code",
   "execution_count": 108,
   "id": "c6b8291e-24de-4e58-b2f4-df33ab83ab49",
   "metadata": {},
   "outputs": [
    {
     "data": {
      "text/html": [
       "<table>\n",
       "<thead><tr><th scope=col>Year</th><th scope=col>l</th><th scope=col>b</th><th scope=col>P</th><th scope=col>q</th><th scope=col>L</th><th scope=col>e</th><th scope=col>l_b</th></tr></thead>\n",
       "<tbody>\n",
       "\t<tr><td>0.00     </td><td>1.000    </td><td>0.00     </td><td>1.0000000</td><td>0.0000000</td><td>0.8310   </td><td>2.0890000</td><td>0.00000  </td></tr>\n",
       "\t<tr><td>0.25     </td><td>0.662    </td><td>0.00     </td><td>0.6620000</td><td>0.3380000</td><td>0.4970   </td><td>1.9003021</td><td>0.00000  </td></tr>\n",
       "\t<tr><td>0.75     </td><td>0.332    </td><td>1.29     </td><td>0.5015106</td><td>0.4984894</td><td>0.2915   </td><td>2.2921687</td><td>0.42828  </td></tr>\n",
       "\t<tr><td>1.25     </td><td>0.251    </td><td>0.00     </td><td>0.7560241</td><td>0.2439759</td><td>0.1965   </td><td>1.8705179</td><td>0.00000  </td></tr>\n",
       "\t<tr><td>1.75     </td><td>0.142    </td><td>2.08     </td><td>0.5657371</td><td>0.4342629</td><td>0.1230   </td><td>1.9225352</td><td>0.29536  </td></tr>\n",
       "\t<tr><td>2.25     </td><td>0.104    </td><td>0.00     </td><td>0.7323944</td><td>0.2676056</td><td>0.0825   </td><td>1.4423077</td><td>0.00000  </td></tr>\n",
       "\t<tr><td>2.75     </td><td>0.061    </td><td>2.08     </td><td>0.5865385</td><td>0.4134615</td><td>0.0435   </td><td>1.1065574</td><td>0.12688  </td></tr>\n",
       "\t<tr><td>3.75     </td><td>0.026    </td><td>2.08     </td><td>0.4262295</td><td>0.5737705</td><td>0.0185   </td><td>0.9230769</td><td>0.05408  </td></tr>\n",
       "\t<tr><td>4.75     </td><td>0.011    </td><td>2.08     </td><td>0.4230769</td><td>0.5769231</td><td>0.0055   </td><td>0.5000000</td><td>0.02288  </td></tr>\n",
       "\t<tr><td>5.75     </td><td>0.000    </td><td>0.00     </td><td>0.0000000</td><td>1.0000000</td><td>0.0000   </td><td>      NaN</td><td>0.00000  </td></tr>\n",
       "</tbody>\n",
       "</table>\n"
      ],
      "text/latex": [
       "\\begin{tabular}{r|llllllll}\n",
       " Year & l & b & P & q & L & e & l\\_b\\\\\n",
       "\\hline\n",
       "\t 0.00      & 1.000     & 0.00      & 1.0000000 & 0.0000000 & 0.8310    & 2.0890000 & 0.00000  \\\\\n",
       "\t 0.25      & 0.662     & 0.00      & 0.6620000 & 0.3380000 & 0.4970    & 1.9003021 & 0.00000  \\\\\n",
       "\t 0.75      & 0.332     & 1.29      & 0.5015106 & 0.4984894 & 0.2915    & 2.2921687 & 0.42828  \\\\\n",
       "\t 1.25      & 0.251     & 0.00      & 0.7560241 & 0.2439759 & 0.1965    & 1.8705179 & 0.00000  \\\\\n",
       "\t 1.75      & 0.142     & 2.08      & 0.5657371 & 0.4342629 & 0.1230    & 1.9225352 & 0.29536  \\\\\n",
       "\t 2.25      & 0.104     & 0.00      & 0.7323944 & 0.2676056 & 0.0825    & 1.4423077 & 0.00000  \\\\\n",
       "\t 2.75      & 0.061     & 2.08      & 0.5865385 & 0.4134615 & 0.0435    & 1.1065574 & 0.12688  \\\\\n",
       "\t 3.75      & 0.026     & 2.08      & 0.4262295 & 0.5737705 & 0.0185    & 0.9230769 & 0.05408  \\\\\n",
       "\t 4.75      & 0.011     & 2.08      & 0.4230769 & 0.5769231 & 0.0055    & 0.5000000 & 0.02288  \\\\\n",
       "\t 5.75      & 0.000     & 0.00      & 0.0000000 & 1.0000000 & 0.0000    &       NaN & 0.00000  \\\\\n",
       "\\end{tabular}\n"
      ],
      "text/markdown": [
       "\n",
       "| Year | l | b | P | q | L | e | l_b |\n",
       "|---|---|---|---|---|---|---|---|\n",
       "| 0.00      | 1.000     | 0.00      | 1.0000000 | 0.0000000 | 0.8310    | 2.0890000 | 0.00000   |\n",
       "| 0.25      | 0.662     | 0.00      | 0.6620000 | 0.3380000 | 0.4970    | 1.9003021 | 0.00000   |\n",
       "| 0.75      | 0.332     | 1.29      | 0.5015106 | 0.4984894 | 0.2915    | 2.2921687 | 0.42828   |\n",
       "| 1.25      | 0.251     | 0.00      | 0.7560241 | 0.2439759 | 0.1965    | 1.8705179 | 0.00000   |\n",
       "| 1.75      | 0.142     | 2.08      | 0.5657371 | 0.4342629 | 0.1230    | 1.9225352 | 0.29536   |\n",
       "| 2.25      | 0.104     | 0.00      | 0.7323944 | 0.2676056 | 0.0825    | 1.4423077 | 0.00000   |\n",
       "| 2.75      | 0.061     | 2.08      | 0.5865385 | 0.4134615 | 0.0435    | 1.1065574 | 0.12688   |\n",
       "| 3.75      | 0.026     | 2.08      | 0.4262295 | 0.5737705 | 0.0185    | 0.9230769 | 0.05408   |\n",
       "| 4.75      | 0.011     | 2.08      | 0.4230769 | 0.5769231 | 0.0055    | 0.5000000 | 0.02288   |\n",
       "| 5.75      | 0.000     | 0.00      | 0.0000000 | 1.0000000 | 0.0000    |       NaN | 0.00000   |\n",
       "\n"
      ],
      "text/plain": [
       "   Year l     b    P         q         L      e         l_b    \n",
       "1  0.00 1.000 0.00 1.0000000 0.0000000 0.8310 2.0890000 0.00000\n",
       "2  0.25 0.662 0.00 0.6620000 0.3380000 0.4970 1.9003021 0.00000\n",
       "3  0.75 0.332 1.29 0.5015106 0.4984894 0.2915 2.2921687 0.42828\n",
       "4  1.25 0.251 0.00 0.7560241 0.2439759 0.1965 1.8705179 0.00000\n",
       "5  1.75 0.142 2.08 0.5657371 0.4342629 0.1230 1.9225352 0.29536\n",
       "6  2.25 0.104 0.00 0.7323944 0.2676056 0.0825 1.4423077 0.00000\n",
       "7  2.75 0.061 2.08 0.5865385 0.4134615 0.0435 1.1065574 0.12688\n",
       "8  3.75 0.026 2.08 0.4262295 0.5737705 0.0185 0.9230769 0.05408\n",
       "9  4.75 0.011 2.08 0.4230769 0.5769231 0.0055 0.5000000 0.02288\n",
       "10 5.75 0.000 0.00 0.0000000 1.0000000 0.0000       NaN 0.00000"
      ]
     },
     "metadata": {},
     "output_type": "display_data"
    }
   ],
   "source": [
    "squirrel_table[[\"l_b\"]]= squirrel_table[, 2] * squirrel_table [,3]\n",
    "squirrel_table"
   ]
  },
  {
   "cell_type": "code",
   "execution_count": 23,
   "id": "b75ddf95-1194-4cd0-b00a-1646a03a2e83",
   "metadata": {},
   "outputs": [
    {
     "data": {
      "text/html": [
       "1.4142"
      ],
      "text/latex": [
       "1.4142"
      ],
      "text/markdown": [
       "1.4142"
      ],
      "text/plain": [
       "[1] 1.4142"
      ]
     },
     "metadata": {},
     "output_type": "display_data"
    }
   ],
   "source": [
    "R0 = sum(squirrel_table[[\"l_b\"]])\n",
    "R0 "
   ]
  },
  {
   "cell_type": "markdown",
   "id": "28c62a48-342b-4f65-b609-a3cc0bb66c0a",
   "metadata": {},
   "source": [
    "## Generation time\n",
    "\n",
    "We now must calculate G, the mean generation time. Mean generation time is actually a somewhat slippery concept and can be defined in various ways. Here we will use the definition, the mean age of the mothers at the time of their daughter’s birth. This is the same definition as “the average interval between reproductive onset in two successive generations” (Dingle 1990). Generation time is estimated according to the following equations in which the age, x, is weighted by its realized fecundity, $l_xb_x$. In the second equation, discrete age intervals are used:\n",
    "$$\n",
    "    G = \\frac {\\sum {l(x)b(x)x}}{\\sum{l(x)b(x)}}\n",
    "$$"
   ]
  },
  {
   "cell_type": "code",
   "execution_count": 24,
   "id": "690e4091-a729-4d47-b125-9791669726c7",
   "metadata": {},
   "outputs": [
    {
     "data": {
      "text/html": [
       "<table>\n",
       "<thead><tr><th scope=col>Year</th><th scope=col>l</th><th scope=col>b</th><th scope=col>P</th><th scope=col>l_b</th><th scope=col>l_b_x</th></tr></thead>\n",
       "<tbody>\n",
       "\t<tr><td>0.00      </td><td>1.000     </td><td>0.00      </td><td>1.00000000</td><td>0.00000   </td><td>0.00000   </td></tr>\n",
       "\t<tr><td>0.25      </td><td>0.662     </td><td>0.00      </td><td>0.66200000</td><td>0.00000   </td><td>0.00000   </td></tr>\n",
       "\t<tr><td>0.75      </td><td>0.332     </td><td>1.29      </td><td>0.50151057</td><td>0.42828   </td><td>0.32121   </td></tr>\n",
       "\t<tr><td>1.25      </td><td>0.251     </td><td>0.00      </td><td>0.75602410</td><td>0.00000   </td><td>0.00000   </td></tr>\n",
       "\t<tr><td>1.75      </td><td>0.142     </td><td>2.08      </td><td>0.56573705</td><td>0.29536   </td><td>0.51688   </td></tr>\n",
       "\t<tr><td>2.25      </td><td>0.104     </td><td>0.00      </td><td>0.73239437</td><td>0.00000   </td><td>0.00000   </td></tr>\n",
       "\t<tr><td>2.75      </td><td>0.061     </td><td>2.08      </td><td>0.58653846</td><td>0.12688   </td><td>0.34892   </td></tr>\n",
       "\t<tr><td>3.75      </td><td>0.260     </td><td>2.08      </td><td>4.26229508</td><td>0.54080   </td><td>2.02800   </td></tr>\n",
       "\t<tr><td>4.75      </td><td>0.011     </td><td>2.08      </td><td>0.04230769</td><td>0.02288   </td><td>0.10868   </td></tr>\n",
       "\t<tr><td>5.75      </td><td>0.000     </td><td>0.00      </td><td>0.00000000</td><td>0.00000   </td><td>0.00000   </td></tr>\n",
       "</tbody>\n",
       "</table>\n"
      ],
      "text/latex": [
       "\\begin{tabular}{r|llllll}\n",
       " Year & l & b & P & l\\_b & l\\_b\\_x\\\\\n",
       "\\hline\n",
       "\t 0.00       & 1.000      & 0.00       & 1.00000000 & 0.00000    & 0.00000   \\\\\n",
       "\t 0.25       & 0.662      & 0.00       & 0.66200000 & 0.00000    & 0.00000   \\\\\n",
       "\t 0.75       & 0.332      & 1.29       & 0.50151057 & 0.42828    & 0.32121   \\\\\n",
       "\t 1.25       & 0.251      & 0.00       & 0.75602410 & 0.00000    & 0.00000   \\\\\n",
       "\t 1.75       & 0.142      & 2.08       & 0.56573705 & 0.29536    & 0.51688   \\\\\n",
       "\t 2.25       & 0.104      & 0.00       & 0.73239437 & 0.00000    & 0.00000   \\\\\n",
       "\t 2.75       & 0.061      & 2.08       & 0.58653846 & 0.12688    & 0.34892   \\\\\n",
       "\t 3.75       & 0.260      & 2.08       & 4.26229508 & 0.54080    & 2.02800   \\\\\n",
       "\t 4.75       & 0.011      & 2.08       & 0.04230769 & 0.02288    & 0.10868   \\\\\n",
       "\t 5.75       & 0.000      & 0.00       & 0.00000000 & 0.00000    & 0.00000   \\\\\n",
       "\\end{tabular}\n"
      ],
      "text/markdown": [
       "\n",
       "| Year | l | b | P | l_b | l_b_x |\n",
       "|---|---|---|---|---|---|\n",
       "| 0.00       | 1.000      | 0.00       | 1.00000000 | 0.00000    | 0.00000    |\n",
       "| 0.25       | 0.662      | 0.00       | 0.66200000 | 0.00000    | 0.00000    |\n",
       "| 0.75       | 0.332      | 1.29       | 0.50151057 | 0.42828    | 0.32121    |\n",
       "| 1.25       | 0.251      | 0.00       | 0.75602410 | 0.00000    | 0.00000    |\n",
       "| 1.75       | 0.142      | 2.08       | 0.56573705 | 0.29536    | 0.51688    |\n",
       "| 2.25       | 0.104      | 0.00       | 0.73239437 | 0.00000    | 0.00000    |\n",
       "| 2.75       | 0.061      | 2.08       | 0.58653846 | 0.12688    | 0.34892    |\n",
       "| 3.75       | 0.260      | 2.08       | 4.26229508 | 0.54080    | 2.02800    |\n",
       "| 4.75       | 0.011      | 2.08       | 0.04230769 | 0.02288    | 0.10868    |\n",
       "| 5.75       | 0.000      | 0.00       | 0.00000000 | 0.00000    | 0.00000    |\n",
       "\n"
      ],
      "text/plain": [
       "   Year l     b    P          l_b     l_b_x  \n",
       "1  0.00 1.000 0.00 1.00000000 0.00000 0.00000\n",
       "2  0.25 0.662 0.00 0.66200000 0.00000 0.00000\n",
       "3  0.75 0.332 1.29 0.50151057 0.42828 0.32121\n",
       "4  1.25 0.251 0.00 0.75602410 0.00000 0.00000\n",
       "5  1.75 0.142 2.08 0.56573705 0.29536 0.51688\n",
       "6  2.25 0.104 0.00 0.73239437 0.00000 0.00000\n",
       "7  2.75 0.061 2.08 0.58653846 0.12688 0.34892\n",
       "8  3.75 0.260 2.08 4.26229508 0.54080 2.02800\n",
       "9  4.75 0.011 2.08 0.04230769 0.02288 0.10868\n",
       "10 5.75 0.000 0.00 0.00000000 0.00000 0.00000"
      ]
     },
     "metadata": {},
     "output_type": "display_data"
    }
   ],
   "source": [
    "squirrel_table[[\"l_b_x\"]]= squirrel_table[, 2] * squirrel_table [,3] * squirrel_table[, 1]\n",
    "squirrel_table"
   ]
  },
  {
   "cell_type": "code",
   "execution_count": 48,
   "id": "e8b6253f-4923-4ca1-a002-5143096ecb70",
   "metadata": {},
   "outputs": [
    {
     "data": {
      "text/html": [
       "2.35022627633998"
      ],
      "text/latex": [
       "2.35022627633998"
      ],
      "text/markdown": [
       "2.35022627633998"
      ],
      "text/plain": [
       "[1] 2.350226"
      ]
     },
     "metadata": {},
     "output_type": "display_data"
    }
   ],
   "source": [
    "G = sum(squirrel_table[[\"l_b_x\"]])/sum(squirrel_table[[\"l_b\"]])\n",
    "G"
   ]
  },
  {
   "cell_type": "markdown",
   "id": "603aea20-8b48-47b8-95b0-0ebcb2fa3d14",
   "metadata": {},
   "source": [
    "## The intrinsic rate of increase\n",
    "\n",
    "Although the net reproductive rate is an important statistic, we usually want to know the growth rate per year (or some other defined period). When we compare growth rates among different types of populations, the usual currency is r, the intrinsic rate of increase, or the finite rate of increase (𝜆), since both are measured for a specific unit of time. \n",
    "\n",
    "If $G$ =generation time, we can write $N_G/N_0 = R_0$. It is also true that $N_G/N_0 = e^{rG}$. Therefore, we can set $R_0 = e^{rG}$. Taking natural logs of both sides of the equation gives us\n",
    "$$\n",
    " r(estimated) =  \\frac{\\ln{R_0}}{G}\n",
    "$$"
   ]
  },
  {
   "cell_type": "code",
   "execution_count": 54,
   "id": "76b93312-6d4d-4610-a933-3829b9ad57a3",
   "metadata": {},
   "outputs": [
    {
     "data": {
      "text/html": [
       "0.147459844048595"
      ],
      "text/latex": [
       "0.147459844048595"
      ],
      "text/markdown": [
       "0.147459844048595"
      ],
      "text/plain": [
       "[1] 0.1474598"
      ]
     },
     "metadata": {},
     "output_type": "display_data"
    }
   ],
   "source": [
    "r = ln(R0)/G\n",
    "r"
   ]
  },
  {
   "cell_type": "markdown",
   "id": "d39a595c-bc45-4c09-a899-419fefecc514",
   "metadata": {},
   "source": [
    "$$\n",
    "    1 = \\sum e^{-rx}l(x)b(x)\n",
    "$$"
   ]
  },
  {
   "cell_type": "code",
   "execution_count": 55,
   "id": "4b08d62a-0553-441d-a1b7-29ad28570ce2",
   "metadata": {},
   "outputs": [
    {
     "data": {
      "text/html": [
       "1.01864811101382"
      ],
      "text/latex": [
       "1.01864811101382"
      ],
      "text/markdown": [
       "1.01864811101382"
      ],
      "text/plain": [
       "[1] 1.018648"
      ]
     },
     "metadata": {},
     "output_type": "display_data"
    }
   ],
   "source": [
    "euler_eq = vector() \n",
    "euler_eq <- expression(exp(-r*squirrel_table[, 1]) * squirrel_table[, 5])\n",
    "a <- eval(euler_eq)\n",
    "sum(a)"
   ]
  },
  {
   "cell_type": "code",
   "execution_count": 57,
   "id": "7a5c9f36-dde2-4f40-92ef-5a0039bea7ff",
   "metadata": {},
   "outputs": [
    {
     "data": {
      "text/html": [
       "0.147469844048595"
      ],
      "text/latex": [
       "0.147469844048595"
      ],
      "text/markdown": [
       "0.147469844048595"
      ],
      "text/plain": [
       "[1] 0.1474698"
      ]
     },
     "metadata": {},
     "output_type": "display_data"
    },
    {
     "data": {
      "text/html": [
       "1.01862671108935"
      ],
      "text/latex": [
       "1.01862671108935"
      ],
      "text/markdown": [
       "1.01862671108935"
      ],
      "text/plain": [
       "[1] 1.018627"
      ]
     },
     "metadata": {},
     "output_type": "display_data"
    }
   ],
   "source": [
    "r = ln(R0)/G\n",
    "r = r + 0.00001 \n",
    "r\n",
    "euler_eq = vector() \n",
    "euler_eq <- expression(exp(-r*squirrel_table[, 1]) * squirrel_table[, 5])\n",
    "a <- eval(euler_eq)\n",
    "sum(a)"
   ]
  },
  {
   "cell_type": "code",
   "execution_count": 62,
   "id": "8302a961-18cc-4d03-a591-02dabb946917",
   "metadata": {},
   "outputs": [
    {
     "data": {
      "text/html": [
       "0.156289844048604"
      ],
      "text/latex": [
       "0.156289844048604"
      ],
      "text/markdown": [
       "0.156289844048604"
      ],
      "text/plain": [
       "[1] 0.1562898"
      ]
     },
     "metadata": {},
     "output_type": "display_data"
    },
    {
     "data": {
      "text/html": [
       "0.9999904616736"
      ],
      "text/latex": [
       "0.9999904616736"
      ],
      "text/markdown": [
       "0.9999904616736"
      ],
      "text/plain": [
       "[1] 0.9999905"
      ]
     },
     "metadata": {},
     "output_type": "display_data"
    }
   ],
   "source": [
    "for (i in 1:50000) {\n",
    "    a <- eval(euler_eq)\n",
    "    if (sum(a) > 1){\n",
    "\n",
    "        r = r + 0.00001\n",
    "        \n",
    "    }\n",
    "    if (sum(a) < 1){\n",
    "\n",
    "        r = r - 0.00001\n",
    "        \n",
    "    }\n",
    "    if (sum(a) == 1){\n",
    "\n",
    "        r = r \n",
    "        \n",
    "    }\n",
    "}\n",
    "r\n",
    "a <- eval(euler_eq)\n",
    "sum(a)"
   ]
  },
  {
   "cell_type": "markdown",
   "id": "cf47f119-d7db-4401-b562-8deaf3971db1",
   "metadata": {},
   "source": [
    "## Age structure and the stable age distribution\n",
    "\n",
    "In the next sections, we are ready to begin examining the interactions between the age distribution of a population and its life table. As stated earlier, the actual age distribution of a population has potentially dramatic effects on population growth in the short term. The age distribution of a population is defined as the proportions of the population belonging to various age categories at a given point in time. The proportion belonging to a given age category, x, is calculated by dividing the number of individuals in that age category by the total population size, $N$, producing $c_x$\n",
    "$$\n",
    "    c_x = \\frac {n_x}{N} = \\frac {n_x}{\\sum{n_x}}\n",
    "$$\n",
    "The variable $c_x$ is the proportion of the population belonging to an age category, x, and $n_x$ equals the number of individuals in that age category. \n",
    "\n",
    "\n",
    "Whenever survivorship and fertility remain constant for long enough, a population will converge on a particular age distribution, known as the stable age distribution, which is unique for each combination of survivorship and fertility. Once this SAD is achieved, the age distribution no longer changes unless and until survivorship or fertility change in the life table. Furthermore, the population will grow or decline at the steady rate, and each age class will change at the same rate as the population as a whole. The SAD itself can be calculated from the survivorship column of the life table. In\n",
    "order to predict the SAD, however, it is also necessary to know the value of $r$ as well as the survivorship function. The formula for predicting the SAD is as follows\n",
    "$$\n",
    "    c_x = \\frac {e^{-rx}l_X}{\\sum{e^{-rx}l_X}}\n",
    "$$"
   ]
  },
  {
   "cell_type": "code",
   "execution_count": null,
   "id": "a8bd9890-7634-4e6f-b085-5512aba2f9c7",
   "metadata": {},
   "outputs": [],
   "source": []
  }
 ],
 "metadata": {
  "kernelspec": {
   "display_name": "R",
   "language": "R",
   "name": "ir"
  },
  "language_info": {
   "codemirror_mode": "r",
   "file_extension": ".r",
   "mimetype": "text/x-r-source",
   "name": "R",
   "pygments_lexer": "r",
   "version": "3.6.1"
  }
 },
 "nbformat": 4,
 "nbformat_minor": 5
}
