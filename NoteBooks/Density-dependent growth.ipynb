{
 "cells": [
  {
   "cell_type": "markdown",
   "id": "97402a64-52e6-40d6-966a-25a6284aac0e",
   "metadata": {},
   "source": [
    "# Density-dependent growth\n",
    "\n",
    "When we plot the annual per capita growth rate, $r_t = \\log( N_{t+1} / N_t)$, as a function of $N_t$ , we see a pattern emerge. At low $N$, $ r >0$, whereas at high $N$, $r < 0 $. The annual growth rate depends on the size or density of the population. This is the sort of thing we mean when we use the term *density-dependent growth*.\n",
    "\n",
    "What might limit the population growth of these sparrows? Space available for male territories in their successional-scrub type habitat? Availability of seeds, fruits and invertebrates? We don’t necessarily know precisely what limits it, but if it is something related to their own abundance, then we can treat density as a proxy for the amount of limitation.\n",
    "\n",
    "Density-dependent population growth is the case where the per capita population growth rate depends statistically on the density of the population. When the slope of that relation is negative as it is in Fig. below, we call this negative density-dependence. Negative density dependence a characteristic of a population undergoing intraspecific competition, where individuals of the same species compete for shared resources and have negative effects on their demographic rates. So, how would we represent this algebraically?"
   ]
  },
  {
   "cell_type": "code",
   "execution_count": 17,
   "id": "f33a8eaf-6142-4068-8f9d-53a22f3a3857",
   "metadata": {},
   "outputs": [
    {
     "data": {
      "image/png": "[encoded data removed]",
      "text/plain": [
       "plot without title"
      ]
     },
     "metadata": {},
     "output_type": "display_data"
    }
   ],
   "source": [
    "library ('ggplot2')\n",
    "sparrows <- data.frame (\n",
    "\n",
    "    Year = c(1966:2001), \n",
    "    Count = c( 34, 40, 42, 54, 49, 71, 66, 56, 72, 77, 37, 32, 26, 22, 31, 28, 41, 36, 37, 44, 34, 47, 45, 41, 32, 40, 120, 96, 93, 67, 84, 90, 37, 34, 34, 43) \n",
    "    \n",
    ")\n",
    "ggplot(sparrows, aes(x=Year, y=Count)) + geom_line() + geom_point(pch=1)"
   ]
  },
  {
   "cell_type": "code",
   "execution_count": 19,
   "id": "85138454-f090-4c56-bcf9-870a19f00341",
   "metadata": {},
   "outputs": [
    {
     "data": {
      "text/html": [
       "<table>\n",
       "<thead><tr><th scope=col>Year</th><th scope=col>Count</th></tr></thead>\n",
       "<tbody>\n",
       "\t<tr><td>1966</td><td> 34 </td></tr>\n",
       "\t<tr><td>1967</td><td> 40 </td></tr>\n",
       "\t<tr><td>1968</td><td> 42 </td></tr>\n",
       "\t<tr><td>1969</td><td> 54 </td></tr>\n",
       "\t<tr><td>1970</td><td> 49 </td></tr>\n",
       "\t<tr><td>1971</td><td> 71 </td></tr>\n",
       "\t<tr><td>1972</td><td> 66 </td></tr>\n",
       "\t<tr><td>1973</td><td> 56 </td></tr>\n",
       "\t<tr><td>1974</td><td> 72 </td></tr>\n",
       "\t<tr><td>1975</td><td> 77 </td></tr>\n",
       "\t<tr><td>1976</td><td> 37 </td></tr>\n",
       "\t<tr><td>1977</td><td> 32 </td></tr>\n",
       "\t<tr><td>1978</td><td> 26 </td></tr>\n",
       "\t<tr><td>1979</td><td> 22 </td></tr>\n",
       "\t<tr><td>1980</td><td> 31 </td></tr>\n",
       "\t<tr><td>1981</td><td> 28 </td></tr>\n",
       "\t<tr><td>1982</td><td> 41 </td></tr>\n",
       "\t<tr><td>1983</td><td> 36 </td></tr>\n",
       "\t<tr><td>1984</td><td> 37 </td></tr>\n",
       "\t<tr><td>1985</td><td> 44 </td></tr>\n",
       "\t<tr><td>1986</td><td> 34 </td></tr>\n",
       "\t<tr><td>1987</td><td> 47 </td></tr>\n",
       "\t<tr><td>1988</td><td> 45 </td></tr>\n",
       "\t<tr><td>1989</td><td> 41 </td></tr>\n",
       "\t<tr><td>1990</td><td> 32 </td></tr>\n",
       "\t<tr><td>1991</td><td> 40 </td></tr>\n",
       "\t<tr><td>1992</td><td>120 </td></tr>\n",
       "\t<tr><td>1993</td><td> 96 </td></tr>\n",
       "\t<tr><td>1994</td><td> 93 </td></tr>\n",
       "\t<tr><td>1995</td><td> 67 </td></tr>\n",
       "\t<tr><td>1996</td><td> 84 </td></tr>\n",
       "\t<tr><td>1997</td><td> 90 </td></tr>\n",
       "\t<tr><td>1998</td><td> 37 </td></tr>\n",
       "\t<tr><td>1999</td><td> 34 </td></tr>\n",
       "\t<tr><td>2000</td><td> 34 </td></tr>\n",
       "\t<tr><td>2001</td><td> 43 </td></tr>\n",
       "</tbody>\n",
       "</table>\n"
      ],
      "text/latex": [
       "\\begin{tabular}{r|ll}\n",
       " Year & Count\\\\\n",
       "\\hline\n",
       "\t 1966 &  34 \\\\\n",
       "\t 1967 &  40 \\\\\n",
       "\t 1968 &  42 \\\\\n",
       "\t 1969 &  54 \\\\\n",
       "\t 1970 &  49 \\\\\n",
       "\t 1971 &  71 \\\\\n",
       "\t 1972 &  66 \\\\\n",
       "\t 1973 &  56 \\\\\n",
       "\t 1974 &  72 \\\\\n",
       "\t 1975 &  77 \\\\\n",
       "\t 1976 &  37 \\\\\n",
       "\t 1977 &  32 \\\\\n",
       "\t 1978 &  26 \\\\\n",
       "\t 1979 &  22 \\\\\n",
       "\t 1980 &  31 \\\\\n",
       "\t 1981 &  28 \\\\\n",
       "\t 1982 &  41 \\\\\n",
       "\t 1983 &  36 \\\\\n",
       "\t 1984 &  37 \\\\\n",
       "\t 1985 &  44 \\\\\n",
       "\t 1986 &  34 \\\\\n",
       "\t 1987 &  47 \\\\\n",
       "\t 1988 &  45 \\\\\n",
       "\t 1989 &  41 \\\\\n",
       "\t 1990 &  32 \\\\\n",
       "\t 1991 &  40 \\\\\n",
       "\t 1992 & 120 \\\\\n",
       "\t 1993 &  96 \\\\\n",
       "\t 1994 &  93 \\\\\n",
       "\t 1995 &  67 \\\\\n",
       "\t 1996 &  84 \\\\\n",
       "\t 1997 &  90 \\\\\n",
       "\t 1998 &  37 \\\\\n",
       "\t 1999 &  34 \\\\\n",
       "\t 2000 &  34 \\\\\n",
       "\t 2001 &  43 \\\\\n",
       "\\end{tabular}\n"
      ],
      "text/markdown": [
       "\n",
       "| Year | Count |\n",
       "|---|---|\n",
       "| 1966 |  34  |\n",
       "| 1967 |  40  |\n",
       "| 1968 |  42  |\n",
       "| 1969 |  54  |\n",
       "| 1970 |  49  |\n",
       "| 1971 |  71  |\n",
       "| 1972 |  66  |\n",
       "| 1973 |  56  |\n",
       "| 1974 |  72  |\n",
       "| 1975 |  77  |\n",
       "| 1976 |  37  |\n",
       "| 1977 |  32  |\n",
       "| 1978 |  26  |\n",
       "| 1979 |  22  |\n",
       "| 1980 |  31  |\n",
       "| 1981 |  28  |\n",
       "| 1982 |  41  |\n",
       "| 1983 |  36  |\n",
       "| 1984 |  37  |\n",
       "| 1985 |  44  |\n",
       "| 1986 |  34  |\n",
       "| 1987 |  47  |\n",
       "| 1988 |  45  |\n",
       "| 1989 |  41  |\n",
       "| 1990 |  32  |\n",
       "| 1991 |  40  |\n",
       "| 1992 | 120  |\n",
       "| 1993 |  96  |\n",
       "| 1994 |  93  |\n",
       "| 1995 |  67  |\n",
       "| 1996 |  84  |\n",
       "| 1997 |  90  |\n",
       "| 1998 |  37  |\n",
       "| 1999 |  34  |\n",
       "| 2000 |  34  |\n",
       "| 2001 |  43  |\n",
       "\n"
      ],
      "text/plain": [
       "   Year Count\n",
       "1  1966  34  \n",
       "2  1967  40  \n",
       "3  1968  42  \n",
       "4  1969  54  \n",
       "5  1970  49  \n",
       "6  1971  71  \n",
       "7  1972  66  \n",
       "8  1973  56  \n",
       "9  1974  72  \n",
       "10 1975  77  \n",
       "11 1976  37  \n",
       "12 1977  32  \n",
       "13 1978  26  \n",
       "14 1979  22  \n",
       "15 1980  31  \n",
       "16 1981  28  \n",
       "17 1982  41  \n",
       "18 1983  36  \n",
       "19 1984  37  \n",
       "20 1985  44  \n",
       "21 1986  34  \n",
       "22 1987  47  \n",
       "23 1988  45  \n",
       "24 1989  41  \n",
       "25 1990  32  \n",
       "26 1991  40  \n",
       "27 1992 120  \n",
       "28 1993  96  \n",
       "29 1994  93  \n",
       "30 1995  67  \n",
       "31 1996  84  \n",
       "32 1997  90  \n",
       "33 1998  37  \n",
       "34 1999  34  \n",
       "35 2000  34  \n",
       "36 2001  43  "
      ]
     },
     "metadata": {},
     "output_type": "display_data"
    }
   ],
   "source": [
    "sparrows"
   ]
  },
  {
   "cell_type": "code",
   "execution_count": 21,
   "id": "d521c9e0-52cb-437a-a2cc-ee743c7f0006",
   "metadata": {},
   "outputs": [
    {
     "name": "stderr",
     "output_type": "stream",
     "text": [
      "Warning message:\n",
      "\"Removed 1 rows containing non-finite values (stat_smooth).\"Warning message:\n",
      "\"Removed 1 rows containing missing values (geom_point).\""
     ]
    },
    {
     "data": {
      "image/png": "[encoded data removed]",
      "text/plain": [
       "plot without title"
      ]
     },
     "metadata": {},
     "output_type": "display_data"
    }
   ],
   "source": [
    "ratio = vector() \n",
    "ratio[1] = 1 \n",
    "total.incr <- sparrows[[\"Count\"]][1:length(sparrows[[\"Count\"]]) +1 ] -sparrows[[\"Count\"]][1:length(sparrows[[\"Count\"]]) ]\n",
    "per.capita.incr <- total.incr/sparrows[[\"Count\"]][1:length(sparrows[[\"Count\"]]) ]\n",
    "\n",
    "\n",
    "ratio_frame = data.frame (\n",
    "\n",
    "    Change = per.capita.incr,\n",
    "    Number = sparrows[[\"Count\"]]\n",
    "    \n",
    ")\n",
    "\n",
    "ggplot(ratio_frame, aes(x=Number, y=Change)) +  geom_point(pch=1) + geom_smooth(method = 'lm', se = FALSE)"
   ]
  },
  {
   "cell_type": "markdown",
   "id": "671409b9-d2a7-43a5-b7b2-498a861ed791",
   "metadata": {},
   "source": [
    "Density dependence means that the population will grow or shrink at a rate that depends on its size. We can imagine that each individual in the population exerts some tiny negative effect on $r_dN_t$ so that the realized per capita growth increment shrinks as $N_t$ grows. \n",
    "\n",
    "Let us specify that the negative effect of each individual in the population is the same, regardless of how many individuals there are. That is, we could represent this negative effect with a constant, perhaps $\\alpha$ , where $\\alpha N_t$  is the total negative effect of all individuals in the population. On average, each individual exerts the same negative impact, with a magnitude $\\alpha$, whether there is one individual or 1000 individuals. A particularly convenient way of implementing this is to keep using $r_d$ but to multiply it by a scaling factor. This scaling factor should equal 1 when the population size is zero so that $rd$ $\\times$ (scailing factor) $= $ $r_d$. The scaling factor should be zero when the population is so big that per capita growth increment is zero, $rd$ $\\times$ (scailing factor) $= $ $0$. One such scaling factor looks like this,\n",
    "\n",
    "$$\n",
    "    Per Capita Increment = rd (1 − αNt) \n",
    "$$\n",
    "At precisely what value of $N$ will per capita growth shrink to zero? We can solve this by noting that $r_d$ is a constant and won’t change; all that matters is inside the parentheses. We set the per capita increment equal to zero, and solve for $N_t$.\n",
    "\n",
    "$$\n",
    "    0 = r_d (1-\\alpha N_t)  \n",
    "$$\n",
    "$$\n",
    "    0 = r_d - r_d \\alpha N_t \n",
    "$$\n",
    "\n",
    "$$\n",
    "    N_t = \\frac {1} {\\alpha} \n",
    "$$\n",
    "Now instead of density-independent per capita growth, $r_d$, we have density-dependent per capita growth $r_d (1-\\alpha N_t) $ and our population growth equation becomes,\n",
    "$$\n",
    "    N_{t+1} = N_t + N_t r_d (1-\\alpha N_t)\n",
    "$$\n",
    "This describes discrete *logistic growth*. A common alternative representation uses $1/α$ symbolized as $K$, \n",
    "$$\n",
    "    N_{t+1} = N_t + N_t r_d (1-\\frac {N_t} {K})\n",
    "$$\n",
    "where $K$ represents the carrying capacity. The carrying capacity is the population size at which the per capita growth increment has fallen to zero. The context dictates whether we prefer to represent the scaling factor as the per capita effect, $α$, or the population carrying capacity, $K$."
   ]
  },
  {
   "cell_type": "code",
   "execution_count": 24,
   "id": "2b738ee4-5c29-443a-b73e-d14bd75a2d14",
   "metadata": {},
   "outputs": [],
   "source": [
    "dlogistic <- function (alpha = 0.01, rd = 1, N0 = 2, t = 15) {\n",
    "\n",
    "    N = vector()\n",
    "    N[1] = N0 \n",
    "    for ( i in 1:t) {\n",
    "\n",
    "        N[i+1] = N[i] + N[i] * rd * (1-(N[i]*alpha))\n",
    "        \n",
    "    }\n",
    "    return (N)\n",
    "}"
   ]
  },
  {
   "cell_type": "code",
   "execution_count": 28,
   "id": "343a28c7-fbd2-4441-8bfd-985872da44a7",
   "metadata": {},
   "outputs": [
    {
     "data": {
      "image/png": "[encoded data removed]",
      "text/plain": [
       "plot without title"
      ]
     },
     "metadata": {},
     "output_type": "display_data"
    }
   ],
   "source": [
    "Number = dlogistic()\n",
    "time = c(1:16) \n",
    "logistic_frame <- data.frame (\n",
    "\n",
    "    Abundance = Number, \n",
    "    Iteration = time \n",
    "    \n",
    ")\n",
    "\n",
    "ggplot(logistic_frame, aes(x=Iteration, y=Abundance)) + geom_line() + geom_point(pch=1)"
   ]
  },
  {
   "cell_type": "code",
   "execution_count": 39,
   "id": "31420e49-a958-4d88-b716-a01e36c57804",
   "metadata": {},
   "outputs": [
    {
     "data": {
      "text/html": [
       "<table>\n",
       "<thead><tr><th scope=col>Abundance_r_1</th><th scope=col>Abundance_r_0.3</th><th scope=col>Abundance_r_0.7</th><th scope=col>Iteration</th></tr></thead>\n",
       "<tbody>\n",
       "\t<tr><td>  2.000000</td><td> 2.000000 </td><td>  2.000000</td><td> 1        </td></tr>\n",
       "\t<tr><td>  3.960000</td><td> 2.588000 </td><td>  3.372000</td><td> 2        </td></tr>\n",
       "\t<tr><td>  7.763184</td><td> 3.344307 </td><td>  5.652807</td><td> 3        </td></tr>\n",
       "\t<tr><td> 14.923698</td><td> 4.314046 </td><td>  9.386093</td><td> 4        </td></tr>\n",
       "\t<tr><td> 27.620228</td><td> 5.552426 </td><td> 15.339667</td><td> 5        </td></tr>\n",
       "\t<tr><td> 47.611686</td><td> 7.125666 </td><td> 24.430296</td><td> 6        </td></tr>\n",
       "\t<tr><td> 72.554646</td><td> 9.111040 </td><td> 37.353627</td><td> 7        </td></tr>\n",
       "\t<tr><td> 92.467525</td><td>11.595319 </td><td> 53.734112</td><td> 8        </td></tr>\n",
       "\t<tr><td> 99.432618</td><td>14.670561 </td><td> 71.136507</td><td> 9        </td></tr>\n",
       "\t<tr><td> 99.996781</td><td>18.426053 </td><td> 85.509243</td><td>10        </td></tr>\n",
       "\t<tr><td>100.000000</td><td>22.935311 </td><td> 94.182899</td><td>11        </td></tr>\n",
       "\t<tr><td>100.000000</td><td>28.237818 </td><td> 98.017999</td><td>12        </td></tr>\n",
       "\t<tr><td>100.000000</td><td>34.317041 </td><td> 99.377901</td><td>13        </td></tr>\n",
       "\t<tr><td>100.000000</td><td>41.079175 </td><td> 99.810661</td><td>14        </td></tr>\n",
       "\t<tr><td>100.000000</td><td>48.340432 </td><td> 99.942947</td><td>15        </td></tr>\n",
       "\t<tr><td>100.000000</td><td>55.832169 </td><td> 99.982861</td><td>16        </td></tr>\n",
       "\t<tr><td>100.000000</td><td>63.230127 </td><td> 99.994856</td><td>17        </td></tr>\n",
       "\t<tr><td>100.000000</td><td>70.205018 </td><td> 99.998457</td><td>18        </td></tr>\n",
       "\t<tr><td>100.000000</td><td>76.480290 </td><td> 99.999537</td><td>19        </td></tr>\n",
       "\t<tr><td>100.000000</td><td>81.876672 </td><td> 99.999861</td><td>20        </td></tr>\n",
       "\t<tr><td>100.000000</td><td>86.328306 </td><td> 99.999958</td><td>21        </td></tr>\n",
       "\t<tr><td>100.000000</td><td>89.869068 </td><td> 99.999987</td><td>22        </td></tr>\n",
       "\t<tr><td>100.000000</td><td>92.600441 </td><td> 99.999996</td><td>23        </td></tr>\n",
       "\t<tr><td>100.000000</td><td>94.656048 </td><td> 99.999999</td><td>24        </td></tr>\n",
       "\t<tr><td>100.000000</td><td>96.173560 </td><td>100.000000</td><td>25        </td></tr>\n",
       "\t<tr><td>100.000000</td><td>97.277567 </td><td>100.000000</td><td>26        </td></tr>\n",
       "\t<tr><td>100.000000</td><td>98.072062 </td><td>100.000000</td><td>27        </td></tr>\n",
       "\t<tr><td>100.000000</td><td>98.639293 </td><td>100.000000</td><td>28        </td></tr>\n",
       "\t<tr><td>100.000000</td><td>99.041950 </td><td>100.000000</td><td>29        </td></tr>\n",
       "\t<tr><td>100.000000</td><td>99.326612 </td><td>100.000000</td><td>30        </td></tr>\n",
       "\t<tr><td>100.000000</td><td>99.527268 </td><td>100.000000</td><td>31        </td></tr>\n",
       "</tbody>\n",
       "</table>\n"
      ],
      "text/latex": [
       "\\begin{tabular}{r|llll}\n",
       " Abundance\\_r\\_1 & Abundance\\_r\\_0.3 & Abundance\\_r\\_0.7 & Iteration\\\\\n",
       "\\hline\n",
       "\t   2.000000 &  2.000000  &   2.000000 &  1        \\\\\n",
       "\t   3.960000 &  2.588000  &   3.372000 &  2        \\\\\n",
       "\t   7.763184 &  3.344307  &   5.652807 &  3        \\\\\n",
       "\t  14.923698 &  4.314046  &   9.386093 &  4        \\\\\n",
       "\t  27.620228 &  5.552426  &  15.339667 &  5        \\\\\n",
       "\t  47.611686 &  7.125666  &  24.430296 &  6        \\\\\n",
       "\t  72.554646 &  9.111040  &  37.353627 &  7        \\\\\n",
       "\t  92.467525 & 11.595319  &  53.734112 &  8        \\\\\n",
       "\t  99.432618 & 14.670561  &  71.136507 &  9        \\\\\n",
       "\t  99.996781 & 18.426053  &  85.509243 & 10        \\\\\n",
       "\t 100.000000 & 22.935311  &  94.182899 & 11        \\\\\n",
       "\t 100.000000 & 28.237818  &  98.017999 & 12        \\\\\n",
       "\t 100.000000 & 34.317041  &  99.377901 & 13        \\\\\n",
       "\t 100.000000 & 41.079175  &  99.810661 & 14        \\\\\n",
       "\t 100.000000 & 48.340432  &  99.942947 & 15        \\\\\n",
       "\t 100.000000 & 55.832169  &  99.982861 & 16        \\\\\n",
       "\t 100.000000 & 63.230127  &  99.994856 & 17        \\\\\n",
       "\t 100.000000 & 70.205018  &  99.998457 & 18        \\\\\n",
       "\t 100.000000 & 76.480290  &  99.999537 & 19        \\\\\n",
       "\t 100.000000 & 81.876672  &  99.999861 & 20        \\\\\n",
       "\t 100.000000 & 86.328306  &  99.999958 & 21        \\\\\n",
       "\t 100.000000 & 89.869068  &  99.999987 & 22        \\\\\n",
       "\t 100.000000 & 92.600441  &  99.999996 & 23        \\\\\n",
       "\t 100.000000 & 94.656048  &  99.999999 & 24        \\\\\n",
       "\t 100.000000 & 96.173560  & 100.000000 & 25        \\\\\n",
       "\t 100.000000 & 97.277567  & 100.000000 & 26        \\\\\n",
       "\t 100.000000 & 98.072062  & 100.000000 & 27        \\\\\n",
       "\t 100.000000 & 98.639293  & 100.000000 & 28        \\\\\n",
       "\t 100.000000 & 99.041950  & 100.000000 & 29        \\\\\n",
       "\t 100.000000 & 99.326612  & 100.000000 & 30        \\\\\n",
       "\t 100.000000 & 99.527268  & 100.000000 & 31        \\\\\n",
       "\\end{tabular}\n"
      ],
      "text/markdown": [
       "\n",
       "| Abundance_r_1 | Abundance_r_0.3 | Abundance_r_0.7 | Iteration |\n",
       "|---|---|---|---|\n",
       "|   2.000000 |  2.000000  |   2.000000 |  1         |\n",
       "|   3.960000 |  2.588000  |   3.372000 |  2         |\n",
       "|   7.763184 |  3.344307  |   5.652807 |  3         |\n",
       "|  14.923698 |  4.314046  |   9.386093 |  4         |\n",
       "|  27.620228 |  5.552426  |  15.339667 |  5         |\n",
       "|  47.611686 |  7.125666  |  24.430296 |  6         |\n",
       "|  72.554646 |  9.111040  |  37.353627 |  7         |\n",
       "|  92.467525 | 11.595319  |  53.734112 |  8         |\n",
       "|  99.432618 | 14.670561  |  71.136507 |  9         |\n",
       "|  99.996781 | 18.426053  |  85.509243 | 10         |\n",
       "| 100.000000 | 22.935311  |  94.182899 | 11         |\n",
       "| 100.000000 | 28.237818  |  98.017999 | 12         |\n",
       "| 100.000000 | 34.317041  |  99.377901 | 13         |\n",
       "| 100.000000 | 41.079175  |  99.810661 | 14         |\n",
       "| 100.000000 | 48.340432  |  99.942947 | 15         |\n",
       "| 100.000000 | 55.832169  |  99.982861 | 16         |\n",
       "| 100.000000 | 63.230127  |  99.994856 | 17         |\n",
       "| 100.000000 | 70.205018  |  99.998457 | 18         |\n",
       "| 100.000000 | 76.480290  |  99.999537 | 19         |\n",
       "| 100.000000 | 81.876672  |  99.999861 | 20         |\n",
       "| 100.000000 | 86.328306  |  99.999958 | 21         |\n",
       "| 100.000000 | 89.869068  |  99.999987 | 22         |\n",
       "| 100.000000 | 92.600441  |  99.999996 | 23         |\n",
       "| 100.000000 | 94.656048  |  99.999999 | 24         |\n",
       "| 100.000000 | 96.173560  | 100.000000 | 25         |\n",
       "| 100.000000 | 97.277567  | 100.000000 | 26         |\n",
       "| 100.000000 | 98.072062  | 100.000000 | 27         |\n",
       "| 100.000000 | 98.639293  | 100.000000 | 28         |\n",
       "| 100.000000 | 99.041950  | 100.000000 | 29         |\n",
       "| 100.000000 | 99.326612  | 100.000000 | 30         |\n",
       "| 100.000000 | 99.527268  | 100.000000 | 31         |\n",
       "\n"
      ],
      "text/plain": [
       "   Abundance_r_1 Abundance_r_0.3 Abundance_r_0.7 Iteration\n",
       "1    2.000000     2.000000         2.000000       1       \n",
       "2    3.960000     2.588000         3.372000       2       \n",
       "3    7.763184     3.344307         5.652807       3       \n",
       "4   14.923698     4.314046         9.386093       4       \n",
       "5   27.620228     5.552426        15.339667       5       \n",
       "6   47.611686     7.125666        24.430296       6       \n",
       "7   72.554646     9.111040        37.353627       7       \n",
       "8   92.467525    11.595319        53.734112       8       \n",
       "9   99.432618    14.670561        71.136507       9       \n",
       "10  99.996781    18.426053        85.509243      10       \n",
       "11 100.000000    22.935311        94.182899      11       \n",
       "12 100.000000    28.237818        98.017999      12       \n",
       "13 100.000000    34.317041        99.377901      13       \n",
       "14 100.000000    41.079175        99.810661      14       \n",
       "15 100.000000    48.340432        99.942947      15       \n",
       "16 100.000000    55.832169        99.982861      16       \n",
       "17 100.000000    63.230127        99.994856      17       \n",
       "18 100.000000    70.205018        99.998457      18       \n",
       "19 100.000000    76.480290        99.999537      19       \n",
       "20 100.000000    81.876672        99.999861      20       \n",
       "21 100.000000    86.328306        99.999958      21       \n",
       "22 100.000000    89.869068        99.999987      22       \n",
       "23 100.000000    92.600441        99.999996      23       \n",
       "24 100.000000    94.656048        99.999999      24       \n",
       "25 100.000000    96.173560       100.000000      25       \n",
       "26 100.000000    97.277567       100.000000      26       \n",
       "27 100.000000    98.072062       100.000000      27       \n",
       "28 100.000000    98.639293       100.000000      28       \n",
       "29 100.000000    99.041950       100.000000      29       \n",
       "30 100.000000    99.326612       100.000000      30       \n",
       "31 100.000000    99.527268       100.000000      31       "
      ]
     },
     "metadata": {},
     "output_type": "display_data"
    }
   ],
   "source": [
    "dlogistic <- function (alpha = 0.01, rd, N0 = 2, t = 30) {\n",
    "\n",
    "    N = vector()\n",
    "    N[1] = N0 \n",
    "    for ( i in 1:t) {\n",
    "\n",
    "        N[i+1] = N[i] + N[i] * rd * (1-(N[i]*alpha))\n",
    "        \n",
    "    }\n",
    "    return (N)\n",
    "}\n",
    "\n",
    "Number <- matrix(nrow = 3, ncol = 31)\n",
    "\n",
    "Number [1,] = dlogistic (rd = 1) \n",
    "Number [2,] = dlogistic (rd = 0.3) \n",
    "Number [3,] = dlogistic (rd = 0.7) \n",
    "\n",
    "logistic_frame <- data.frame (\n",
    "\n",
    "    Abundance_r_1 = Number [1,], \n",
    "    Abundance_r_0.3 = Number [2,],\n",
    "    Abundance_r_0.7 = Number [3,],\n",
    "    Iteration = c(1:31) \n",
    "    \n",
    ")\n",
    "logistic_frame"
   ]
  },
  {
   "cell_type": "code",
   "execution_count": 43,
   "id": "45d2c272-d8c9-4319-b80c-2c8fa775d17a",
   "metadata": {},
   "outputs": [
    {
     "data": {
      "image/png": "[encoded data removed]",
      "text/plain": [
       "plot without title"
      ]
     },
     "metadata": {},
     "output_type": "display_data"
    }
   ],
   "source": [
    "    Fig11 <- data.frame(\"Time\" = c(1:31), \"Number\" =Number [1,], \"Mode\" = rep(\"r = 1\", 31))\n",
    "    Fig12 <- data.frame(\"Time\" = c(1:31), \"Number\" = Number [2,], \"Mode\" = rep(\"r = 0.3\", 31))\n",
    "    Fig13 <- data.frame(\"Time\" = c(1:31), \"Number\" = Number [3,], \"Mode\" = rep(\"r = 0.7\", 31))\n",
    "    \n",
    "    Fig1 <- rbind(Fig11, Fig12, Fig13)\n",
    "  \n",
    "  ggplot(Fig1, aes(x=Time, y=Number, color=Mode)) +\n",
    "    geom_line(size=1) +\n",
    "    scale_x_continuous(name=\"Time\",  limits =c(1, 31), breaks=seq(0, 31, 1)) + \n",
    "    scale_y_continuous(name=\"NUMBER\\n\", limits = c(0, 110)) +\n",
    "    theme(aspect.ratio = 1/1.5) +  theme(legend.position = \"top\", legend.direction = \"horizontal\")+\n",
    "    ggtitle(label = 'Exponential Growth') + geom_point(pch=1) "
   ]
  },
  {
   "cell_type": "code",
   "execution_count": 283,
   "id": "cc3a7564-6a37-41bb-bd1d-6400748394f7",
   "metadata": {},
   "outputs": [
    {
     "data": {
      "text/html": [
       "<table>\n",
       "<thead><tr><th scope=col>Change</th><th scope=col>Number</th></tr></thead>\n",
       "<tbody>\n",
       "\t<tr><td>1.960000e+00</td><td>  2.000000  </td></tr>\n",
       "\t<tr><td>3.803184e+00</td><td>  3.960000  </td></tr>\n",
       "\t<tr><td>7.160514e+00</td><td>  7.763184  </td></tr>\n",
       "\t<tr><td>1.269653e+01</td><td> 14.923698  </td></tr>\n",
       "\t<tr><td>1.999146e+01</td><td> 27.620228  </td></tr>\n",
       "\t<tr><td>2.494296e+01</td><td> 47.611686  </td></tr>\n",
       "\t<tr><td>1.991288e+01</td><td> 72.554646  </td></tr>\n",
       "\t<tr><td>6.965093e+00</td><td> 92.467525  </td></tr>\n",
       "\t<tr><td>5.641625e-01</td><td> 99.432618  </td></tr>\n",
       "\t<tr><td>3.219117e-03</td><td> 99.996781  </td></tr>\n",
       "\t<tr><td>1.036338e-07</td><td>100.000000  </td></tr>\n",
       "\t<tr><td>0.000000e+00</td><td>100.000000  </td></tr>\n",
       "\t<tr><td>0.000000e+00</td><td>100.000000  </td></tr>\n",
       "\t<tr><td>0.000000e+00</td><td>100.000000  </td></tr>\n",
       "\t<tr><td>0.000000e+00</td><td>100.000000  </td></tr>\n",
       "\t<tr><td>          NA</td><td>100.000000  </td></tr>\n",
       "</tbody>\n",
       "</table>\n"
      ],
      "text/latex": [
       "\\begin{tabular}{r|ll}\n",
       " Change & Number\\\\\n",
       "\\hline\n",
       "\t 1.960000e+00 &   2.000000  \\\\\n",
       "\t 3.803184e+00 &   3.960000  \\\\\n",
       "\t 7.160514e+00 &   7.763184  \\\\\n",
       "\t 1.269653e+01 &  14.923698  \\\\\n",
       "\t 1.999146e+01 &  27.620228  \\\\\n",
       "\t 2.494296e+01 &  47.611686  \\\\\n",
       "\t 1.991288e+01 &  72.554646  \\\\\n",
       "\t 6.965093e+00 &  92.467525  \\\\\n",
       "\t 5.641625e-01 &  99.432618  \\\\\n",
       "\t 3.219117e-03 &  99.996781  \\\\\n",
       "\t 1.036338e-07 & 100.000000  \\\\\n",
       "\t 0.000000e+00 & 100.000000  \\\\\n",
       "\t 0.000000e+00 & 100.000000  \\\\\n",
       "\t 0.000000e+00 & 100.000000  \\\\\n",
       "\t 0.000000e+00 & 100.000000  \\\\\n",
       "\t           NA & 100.000000  \\\\\n",
       "\\end{tabular}\n"
      ],
      "text/markdown": [
       "\n",
       "| Change | Number |\n",
       "|---|---|\n",
       "| 1.960000e+00 |   2.000000   |\n",
       "| 3.803184e+00 |   3.960000   |\n",
       "| 7.160514e+00 |   7.763184   |\n",
       "| 1.269653e+01 |  14.923698   |\n",
       "| 1.999146e+01 |  27.620228   |\n",
       "| 2.494296e+01 |  47.611686   |\n",
       "| 1.991288e+01 |  72.554646   |\n",
       "| 6.965093e+00 |  92.467525   |\n",
       "| 5.641625e-01 |  99.432618   |\n",
       "| 3.219117e-03 |  99.996781   |\n",
       "| 1.036338e-07 | 100.000000   |\n",
       "| 0.000000e+00 | 100.000000   |\n",
       "| 0.000000e+00 | 100.000000   |\n",
       "| 0.000000e+00 | 100.000000   |\n",
       "| 0.000000e+00 | 100.000000   |\n",
       "|           NA | 100.000000   |\n",
       "\n"
      ],
      "text/plain": [
       "   Change       Number    \n",
       "1  1.960000e+00   2.000000\n",
       "2  3.803184e+00   3.960000\n",
       "3  7.160514e+00   7.763184\n",
       "4  1.269653e+01  14.923698\n",
       "5  1.999146e+01  27.620228\n",
       "6  2.494296e+01  47.611686\n",
       "7  1.991288e+01  72.554646\n",
       "8  6.965093e+00  92.467525\n",
       "9  5.641625e-01  99.432618\n",
       "10 3.219117e-03  99.996781\n",
       "11 1.036338e-07 100.000000\n",
       "12 0.000000e+00 100.000000\n",
       "13 0.000000e+00 100.000000\n",
       "14 0.000000e+00 100.000000\n",
       "15 0.000000e+00 100.000000\n",
       "16           NA 100.000000"
      ]
     },
     "metadata": {},
     "output_type": "display_data"
    },
    {
     "name": "stderr",
     "output_type": "stream",
     "text": [
      "Warning message:\n",
      "\"Removed 1 rows containing missing values (geom_point).\"Warning message:\n",
      "\"Removed 1 rows containing missing values (geom_path).\""
     ]
    },
    {
     "data": {
      "image/png": "[encoded data removed]",
      "text/plain": [
       "plot without title"
      ]
     },
     "metadata": {},
     "output_type": "display_data"
    }
   ],
   "source": [
    "dlogistic <- function (alpha = 0.01, rd = 1, N0 = 2, t = 15) {\n",
    "\n",
    "    N = vector()\n",
    "    N[1] = N0 \n",
    "    for ( i in 1:t) {\n",
    "\n",
    "        N[i+1] = N[i] + N[i] * rd * (1-(N[i]*alpha))\n",
    "        \n",
    "    }\n",
    "    return (N)\n",
    "}\n",
    "\n",
    "Number = dlogistic()\n",
    "time = c(1:16) \n",
    "logistic_frame <- data.frame (\n",
    "\n",
    "    Count = Number, \n",
    "    Iteration = time \n",
    "    \n",
    ")\n",
    "ratio = vector() \n",
    "ratio[1] = 1 \n",
    "total.incr <- logistic_frame[[\"Count\"]][1:length(logistic_frame[[\"Count\"]]) +1 ] -logistic_frame[[\"Count\"]][1:length(logistic_frame[[\"Count\"]]) ]\n",
    "per.capita.incr <- total.incr/logistic_frame[[\"Count\"]][1:length(logistic_frame[[\"Count\"]]) ]\n",
    "\n",
    "\n",
    "ratio_frame = data.frame (\n",
    "\n",
    "    Change = total.incr ,\n",
    "    Number = logistic_frame[[\"Count\"]]\n",
    "    \n",
    ")\n",
    "ratio_frame\n",
    "ggplot(ratio_frame, aes(x=Number, y=Change)) +  geom_point(pch=1) + geom_line()"
   ]
  },
  {
   "cell_type": "code",
   "execution_count": 51,
   "id": "2f2ba5d0-15e3-4540-bdbf-5de84d7faba3",
   "metadata": {},
   "outputs": [
    {
     "name": "stderr",
     "output_type": "stream",
     "text": [
      "Warning message:\n",
      "\"Removed 1 rows containing missing values (geom_point).\"Warning message:\n",
      "\"Removed 1 rows containing missing values (geom_path).\""
     ]
    },
    {
     "data": {
      "image/png": "[encoded data removed]",
      "text/plain": [
       "plot without title"
      ]
     },
     "metadata": {},
     "output_type": "display_data"
    }
   ],
   "source": [
    "ratio_frame = data.frame (\n",
    "\n",
    "    Change = total.incr ,\n",
    "    Number = logistic_frame[[\"Count\"]]\n",
    "    \n",
    ")\n",
    "\n",
    "ggplot(ratio_frame, aes(x=Number, y=Change)) +  geom_point(pch=1) + geom_line()"
   ]
  },
  {
   "cell_type": "markdown",
   "id": "4609e644-12f0-4378-bf87-a78513e418a1",
   "metadata": {},
   "source": [
    "## Growth in Populations with Discrete Generations: a second model\n",
    "\n",
    "In a density dependent population we expect growth to slow and eventually stop as a population increases, and reaches the carrying capacity. For populations with discrete generations, we can begin with equation $N_t = N_0 R^t $.\n",
    "\n",
    "To incorporate intraspecific competition into a model, we simply modify the growth rate factor, $R$. One approach is to graph the reciprocal of increase per generation $N_{t} / N_{t+1}$ versus $N_t$. If a population is very small (virtually zero), the population is assumed to grow at the maximal rate, $R$. \n",
    "\n",
    "Rearranging equation we have $N_t/N_{t+1} = 1/R$. Point A is therefore (0, 1/$R$). The carrying capacity, K, occurs when $N_t/N_{t+1} = 1$. That is, when there is no population change from one generation to the next. Point B, then, is (K, 1). If we assume that population growth per generation\n",
    "follows a straight line between points A and B, we have that the y-intercept is 1/$R$ and the slope is therefore \n",
    "$$\n",
    "\\frac {1-(1/R)} {K}\n",
    "$$\n",
    "The general linear equation, $y = a + mx$ becomes\n",
    "$$\n",
    "    N_t/N_{t+1} = 1/R + {\\frac{1-(1/R)}{K}}N_t\n",
    "$$\n",
    "Rearranging and providing the common denominator $RK$\n",
    "$$\n",
    "    N_t/N_{t+1} = \\frac {K + (1-\\frac {1}{R} (N_tR)}{RK} = \\frac {(R_1)(N_t)+K}{RK}\n",
    "$$"
   ]
  },
  {
   "cell_type": "code",
   "execution_count": 52,
   "id": "34b84c36-c4ca-4b10-98b8-5b0ab024bcf6",
   "metadata": {},
   "outputs": [
    {
     "data": {
      "image/png": "[encoded data removed]",
      "text/plain": [
       "plot without title"
      ]
     },
     "metadata": {},
     "output_type": "display_data"
    }
   ],
   "source": [
    "sparrows <- data.frame (\n",
    "\n",
    "    Year = c(1966:2001), \n",
    "    Count = c( 34, 40, 42, 54, 49, 71, 66, 56, 72, 77, 37, 32, 26, 22, 31, 28, 41, 36, 37, 44, 34, 47, 45, 41, 32, 40, 120, 96, 93, 67, 84, 90, 37, 34, 34, 43) \n",
    "    \n",
    ")\n",
    "ggplot(sparrows, aes(x=Year, y=Count)) + geom_line() + geom_point(pch=1)"
   ]
  },
  {
   "cell_type": "code",
   "execution_count": 75,
   "id": "764e80b2-4334-4f6b-8770-a14bf89dccf1",
   "metadata": {},
   "outputs": [
    {
     "name": "stderr",
     "output_type": "stream",
     "text": [
      "Warning message:\n",
      "\"Removed 1 rows containing non-finite values (stat_smooth).\"Warning message:\n",
      "\"Removed 1 rows containing missing values (geom_point).\""
     ]
    },
    {
     "data": {
      "image/png": "[encoded data removed]",
      "text/plain": [
       "plot without title"
      ]
     },
     "metadata": {},
     "output_type": "display_data"
    }
   ],
   "source": [
    "ratio = vector() \n",
    "ratio[1] = 1 \n",
    "total.incr <- sparrows[[\"Count\"]][1:length(sparrows[[\"Count\"]]) ] / sparrows[[\"Count\"]][1:length(sparrows[[\"Count\"]]) +1 ]\n",
    "\n",
    "\n",
    "\n",
    "ratio_frame = data.frame (\n",
    "\n",
    "    Change = total.incr,\n",
    "    Number = sparrows[[\"Count\"]]\n",
    "    \n",
    ")\n",
    "\n",
    "ggplot(ratio_frame, aes(x=Number, y=Change)) +  geom_point(pch=1) + geom_smooth(method = 'lm', se = FALSE)"
   ]
  },
  {
   "cell_type": "code",
   "execution_count": 76,
   "id": "fd556971-73f5-46f2-8671-659d079a587b",
   "metadata": {},
   "outputs": [
    {
     "data": {
      "text/plain": [
       "\n",
       "Call:\n",
       "lm(formula = Change ~ Number, data = ratio_frame)\n",
       "\n",
       "Residuals:\n",
       "     Min       1Q   Median       3Q      Max \n",
       "-0.63536 -0.20358 -0.01631  0.15213  1.10069 \n",
       "\n",
       "Coefficients:\n",
       "            Estimate Std. Error t value Pr(>|t|)    \n",
       "(Intercept) 0.678245   0.138791   4.887 2.57e-05 ***\n",
       "Number      0.007261   0.002472   2.938  0.00599 ** \n",
       "---\n",
       "Signif. codes:  0 '***' 0.001 '**' 0.01 '*' 0.05 '.' 0.1 ' ' 1\n",
       "\n",
       "Residual standard error: 0.3399 on 33 degrees of freedom\n",
       "  (1 observation deleted due to missingness)\n",
       "Multiple R-squared:  0.2073,\tAdjusted R-squared:  0.1833 \n",
       "F-statistic: 8.629 on 1 and 33 DF,  p-value: 0.005991\n"
      ]
     },
     "metadata": {},
     "output_type": "display_data"
    }
   ],
   "source": [
    "lm.r <- lm(formula = Change ~ Number,\n",
    "         data = ratio_frame)\n",
    "summary(lm.r)"
   ]
  },
  {
   "cell_type": "code",
   "execution_count": 77,
   "id": "78aa4de9-a599-4800-ae56-e00240d1d645",
   "metadata": {},
   "outputs": [
    {
     "data": {
      "text/html": [
       "<ol class=list-inline>\n",
       "\t<li>'(Intercept)'</li>\n",
       "\t<li>'Number'</li>\n",
       "</ol>\n"
      ],
      "text/latex": [
       "\\begin{enumerate*}\n",
       "\\item '(Intercept)'\n",
       "\\item 'Number'\n",
       "\\end{enumerate*}\n"
      ],
      "text/markdown": [
       "1. '(Intercept)'\n",
       "2. 'Number'\n",
       "\n",
       "\n"
      ],
      "text/plain": [
       "[1] \"(Intercept)\" \"Number\"     "
      ]
     },
     "metadata": {},
     "output_type": "display_data"
    }
   ],
   "source": [
    "names(lm.r[['coefficients']])"
   ]
  },
  {
   "cell_type": "code",
   "execution_count": 78,
   "id": "e40eb53b-15b4-455c-8e47-810699ce3d67",
   "metadata": {},
   "outputs": [
    {
     "data": {
      "text/html": [
       "44.3121223977231"
      ],
      "text/latex": [
       "44.3121223977231"
      ],
      "text/markdown": [
       "44.3121223977231"
      ],
      "text/plain": [
       "[1] 44.31212"
      ]
     },
     "metadata": {},
     "output_type": "display_data"
    }
   ],
   "source": [
    "# finding K for disecrete growth \n",
    "K = (1 - lm.r[['coefficients']] [['(Intercept)']] ) / lm.r[['coefficients']] [['Number']] \n",
    "K"
   ]
  },
  {
   "cell_type": "code",
   "execution_count": 80,
   "id": "38916180-a357-4968-8c20-8560cbd86d12",
   "metadata": {},
   "outputs": [
    {
     "data": {
      "text/html": [
       "1.47439426031523"
      ],
      "text/latex": [
       "1.47439426031523"
      ],
      "text/markdown": [
       "1.47439426031523"
      ],
      "text/plain": [
       "[1] 1.474394"
      ]
     },
     "metadata": {},
     "output_type": "display_data"
    }
   ],
   "source": [
    "# finding R for disecrete growth  \n",
    "R =  1 / lm.r[['coefficients']] [['(Intercept)']] \n",
    "R"
   ]
  },
  {
   "cell_type": "code",
   "execution_count": 88,
   "id": "ff1398d1-494d-432d-8dd4-0767cf4e357b",
   "metadata": {},
   "outputs": [
    {
     "data": {
      "text/html": [
       "<table>\n",
       "<thead><tr><th scope=col>Generation</th><th scope=col>Number</th></tr></thead>\n",
       "<tbody>\n",
       "\t<tr><td> 1       </td><td> 5.000000</td></tr>\n",
       "\t<tr><td> 2       </td><td> 6.997409</td></tr>\n",
       "\t<tr><td> 3       </td><td> 9.597935</td></tr>\n",
       "\t<tr><td> 4       </td><td>12.832556</td></tr>\n",
       "\t<tr><td> 5       </td><td>16.634908</td></tr>\n",
       "\t<tr><td> 6       </td><td>20.818811</td></tr>\n",
       "\t<tr><td> 7       </td><td>25.100675</td></tr>\n",
       "\t<tr><td> 8       </td><td>29.169753</td></tr>\n",
       "\t<tr><td> 9       </td><td>32.773180</td></tr>\n",
       "\t<tr><td>10       </td><td>35.770207</td></tr>\n",
       "\t<tr><td>11       </td><td>38.135518</td></tr>\n",
       "\t<tr><td>12       </td><td>39.926167</td></tr>\n",
       "\t<tr><td>13       </td><td>41.239519</td></tr>\n",
       "\t<tr><td>14       </td><td>42.180590</td></tr>\n",
       "\t<tr><td>15       </td><td>42.843695</td></tr>\n",
       "\t<tr><td>16       </td><td>43.305435</td></tr>\n",
       "\t<tr><td>17       </td><td>43.624315</td></tr>\n",
       "\t<tr><td>18       </td><td>43.843279</td></tr>\n",
       "\t<tr><td>19       </td><td>43.993046</td></tr>\n",
       "\t<tr><td>20       </td><td>44.095208</td></tr>\n",
       "\t<tr><td>21       </td><td>44.164769</td></tr>\n",
       "\t<tr><td>22       </td><td>44.212074</td></tr>\n",
       "\t<tr><td>23       </td><td>44.244216</td></tr>\n",
       "\t<tr><td>24       </td><td>44.266042</td></tr>\n",
       "\t<tr><td>25       </td><td>44.280858</td></tr>\n",
       "\t<tr><td>26       </td><td>44.290913</td></tr>\n",
       "\t<tr><td>27       </td><td>44.297735</td></tr>\n",
       "\t<tr><td>28       </td><td>44.302363</td></tr>\n",
       "\t<tr><td>29       </td><td>44.305503</td></tr>\n",
       "\t<tr><td>30       </td><td>44.307632</td></tr>\n",
       "\t<tr><td>31       </td><td>44.309077</td></tr>\n",
       "</tbody>\n",
       "</table>\n"
      ],
      "text/latex": [
       "\\begin{tabular}{r|ll}\n",
       " Generation & Number\\\\\n",
       "\\hline\n",
       "\t  1        &  5.000000\\\\\n",
       "\t  2        &  6.997409\\\\\n",
       "\t  3        &  9.597935\\\\\n",
       "\t  4        & 12.832556\\\\\n",
       "\t  5        & 16.634908\\\\\n",
       "\t  6        & 20.818811\\\\\n",
       "\t  7        & 25.100675\\\\\n",
       "\t  8        & 29.169753\\\\\n",
       "\t  9        & 32.773180\\\\\n",
       "\t 10        & 35.770207\\\\\n",
       "\t 11        & 38.135518\\\\\n",
       "\t 12        & 39.926167\\\\\n",
       "\t 13        & 41.239519\\\\\n",
       "\t 14        & 42.180590\\\\\n",
       "\t 15        & 42.843695\\\\\n",
       "\t 16        & 43.305435\\\\\n",
       "\t 17        & 43.624315\\\\\n",
       "\t 18        & 43.843279\\\\\n",
       "\t 19        & 43.993046\\\\\n",
       "\t 20        & 44.095208\\\\\n",
       "\t 21        & 44.164769\\\\\n",
       "\t 22        & 44.212074\\\\\n",
       "\t 23        & 44.244216\\\\\n",
       "\t 24        & 44.266042\\\\\n",
       "\t 25        & 44.280858\\\\\n",
       "\t 26        & 44.290913\\\\\n",
       "\t 27        & 44.297735\\\\\n",
       "\t 28        & 44.302363\\\\\n",
       "\t 29        & 44.305503\\\\\n",
       "\t 30        & 44.307632\\\\\n",
       "\t 31        & 44.309077\\\\\n",
       "\\end{tabular}\n"
      ],
      "text/markdown": [
       "\n",
       "| Generation | Number |\n",
       "|---|---|\n",
       "|  1        |  5.000000 |\n",
       "|  2        |  6.997409 |\n",
       "|  3        |  9.597935 |\n",
       "|  4        | 12.832556 |\n",
       "|  5        | 16.634908 |\n",
       "|  6        | 20.818811 |\n",
       "|  7        | 25.100675 |\n",
       "|  8        | 29.169753 |\n",
       "|  9        | 32.773180 |\n",
       "| 10        | 35.770207 |\n",
       "| 11        | 38.135518 |\n",
       "| 12        | 39.926167 |\n",
       "| 13        | 41.239519 |\n",
       "| 14        | 42.180590 |\n",
       "| 15        | 42.843695 |\n",
       "| 16        | 43.305435 |\n",
       "| 17        | 43.624315 |\n",
       "| 18        | 43.843279 |\n",
       "| 19        | 43.993046 |\n",
       "| 20        | 44.095208 |\n",
       "| 21        | 44.164769 |\n",
       "| 22        | 44.212074 |\n",
       "| 23        | 44.244216 |\n",
       "| 24        | 44.266042 |\n",
       "| 25        | 44.280858 |\n",
       "| 26        | 44.290913 |\n",
       "| 27        | 44.297735 |\n",
       "| 28        | 44.302363 |\n",
       "| 29        | 44.305503 |\n",
       "| 30        | 44.307632 |\n",
       "| 31        | 44.309077 |\n",
       "\n"
      ],
      "text/plain": [
       "   Generation Number   \n",
       "1   1          5.000000\n",
       "2   2          6.997409\n",
       "3   3          9.597935\n",
       "4   4         12.832556\n",
       "5   5         16.634908\n",
       "6   6         20.818811\n",
       "7   7         25.100675\n",
       "8   8         29.169753\n",
       "9   9         32.773180\n",
       "10 10         35.770207\n",
       "11 11         38.135518\n",
       "12 12         39.926167\n",
       "13 13         41.239519\n",
       "14 14         42.180590\n",
       "15 15         42.843695\n",
       "16 16         43.305435\n",
       "17 17         43.624315\n",
       "18 18         43.843279\n",
       "19 19         43.993046\n",
       "20 20         44.095208\n",
       "21 21         44.164769\n",
       "22 22         44.212074\n",
       "23 23         44.244216\n",
       "24 24         44.266042\n",
       "25 25         44.280858\n",
       "26 26         44.290913\n",
       "27 27         44.297735\n",
       "28 28         44.302363\n",
       "29 29         44.305503\n",
       "30 30         44.307632\n",
       "31 31         44.309077"
      ]
     },
     "metadata": {},
     "output_type": "display_data"
    }
   ],
   "source": [
    "t = 30 \n",
    "N = vector ()\n",
    "N[1] = 5\n",
    "for ( i in 1:t) {\n",
    "\n",
    "    N[i+1] = (N[i] * R * K)/((N[i]) * (R-1) + K)\n",
    "    \n",
    "}\n",
    "\n",
    "N_frame <- data.frame (\n",
    "\n",
    "    Generation = c(1:31),\n",
    "    Number = N\n",
    "    \n",
    ")\n",
    "\n",
    "N_frame"
   ]
  },
  {
   "cell_type": "code",
   "execution_count": 89,
   "id": "3ff0a345-9a01-41d0-9dcc-984f94674cac",
   "metadata": {},
   "outputs": [
    {
     "data": {
      "image/png": "[encoded data removed]",
      "text/plain": [
       "plot without title"
      ]
     },
     "metadata": {},
     "output_type": "display_data"
    }
   ],
   "source": [
    "ggplot(N_frame, aes(x=Generation, y=Number)) +  geom_point(pch=1) + geom_line()"
   ]
  },
  {
   "cell_type": "markdown",
   "id": "165ec416-3559-4b1d-accf-fb1fe525799e",
   "metadata": {},
   "source": [
    "## Growth in Populations with Discrete Generations: another model\n",
    "\n",
    "The simplest way is to assume that the multiplication rate changes as population density rises and falls. At high densities, birth rates will decrease or death rates will increase from a variety of causes, such as food shortage or epidemic disease. At low densities birth rates will be high and losses from diseases and natural enemies low. We need to express the way in which the multiplication rate slows down as density increases. The simplest mathematical model is linear: Assume that there is a straight-line relationship between the density and multiplication rates such that the higher the density, the lower the multiplication rate. The point where the line crosses $R_0 = 1.0$ is a point of equilibrium in population density at which the birth rate equals the death rate. It is convenient to measure population density in terms of deviations from this equilibrium density, expressed as\n",
    "$$\n",
    "    z = N - N_{eq} \n",
    "$$\n",
    "where \n",
    "- $z$ = deviation from equilibrium density, \n",
    "- $N$ = observed population size\n",
    "- $N_{eq}$ = equilibrium population size (where $R_0 = 1.0$). "
   ]
  },
  {
   "cell_type": "code",
   "execution_count": 114,
   "id": "19218277-ab60-4d10-8366-dd8335c67198",
   "metadata": {},
   "outputs": [
    {
     "data": {
      "image/png": "[encoded data removed]",
      "text/plain": [
       "plot without title"
      ]
     },
     "metadata": {},
     "output_type": "display_data"
    }
   ],
   "source": [
    "curve(x^0, from=0, to=150, , xlab=\"Population density\", ylab=\"Net reproductive rate\" , ylim = c(0, 3), col = 'red') \n",
    "lines(0:150, 1.0 - 0.02*((0:150) - 100), col = 'blue')\n",
    "text (5, 1.2, 'R0 = 1.0')\n",
    "text (110, 1.5, 'R0 = 1.0 - 0.02(N - 100)')"
   ]
  },
  {
   "cell_type": "markdown",
   "id": "55f446b1-0ccb-492c-84de-ff712f906dec",
   "metadata": {},
   "source": [
    "The equation of the straight line shown in Figure above is thus \n",
    "$$\n",
    "    R_0 = 1.0 - B(N- N_{eq})\n",
    "$$\n",
    "where \n",
    "- $R_0$ = net reproductive rate or rate of population growth per generation\n",
    "- $B$ = slope of line\n",
    "\n",
    "$$\n",
    "    N_{t+1} = N_t(R_0) = N_t (1-Bz_t)  \n",
    "$$"
   ]
  },
  {
   "cell_type": "code",
   "execution_count": 118,
   "id": "ddb96cf7-dd17-43fd-a918-fe8b3d08c6d0",
   "metadata": {},
   "outputs": [
    {
     "data": {
      "text/html": [
       "<table>\n",
       "<thead><tr><th scope=col>Generation</th><th scope=col>Number</th></tr></thead>\n",
       "<tbody>\n",
       "\t<tr><td> 1       </td><td> 50.00000</td></tr>\n",
       "\t<tr><td> 2       </td><td>112.50000</td></tr>\n",
       "\t<tr><td> 3       </td><td> 77.34375</td></tr>\n",
       "\t<tr><td> 4       </td><td>121.15173</td></tr>\n",
       "\t<tr><td> 5       </td><td> 57.08750</td></tr>\n",
       "\t<tr><td> 6       </td><td>118.33169</td></tr>\n",
       "\t<tr><td> 7       </td><td> 64.10120</td></tr>\n",
       "\t<tr><td> 8       </td><td>121.63010</td></tr>\n",
       "\t<tr><td> 9       </td><td> 55.85831</td></tr>\n",
       "\t<tr><td>10       </td><td>117.50031</td></tr>\n",
       "\t<tr><td>11       </td><td> 66.09301</td></tr>\n",
       "\t<tr><td>12       </td><td>122.11838</td></tr>\n",
       "\t<tr><td>13       </td><td> 54.59185</td></tr>\n",
       "\t<tr><td>14       </td><td>116.56472</td></tr>\n",
       "\t<tr><td>15       </td><td> 68.29317</td></tr>\n",
       "\t<tr><td>16       </td><td>122.42717</td></tr>\n",
       "\t<tr><td>17       </td><td> 53.78480</td></tr>\n",
       "\t<tr><td>18       </td><td>115.92668</td></tr>\n",
       "\t<tr><td>19       </td><td> 69.76849</td></tr>\n",
       "\t<tr><td>20       </td><td>122.49866</td></tr>\n",
       "\t<tr><td>21       </td><td> 53.59727</td></tr>\n",
       "</tbody>\n",
       "</table>\n"
      ],
      "text/latex": [
       "\\begin{tabular}{r|ll}\n",
       " Generation & Number\\\\\n",
       "\\hline\n",
       "\t  1        &  50.00000\\\\\n",
       "\t  2        & 112.50000\\\\\n",
       "\t  3        &  77.34375\\\\\n",
       "\t  4        & 121.15173\\\\\n",
       "\t  5        &  57.08750\\\\\n",
       "\t  6        & 118.33169\\\\\n",
       "\t  7        &  64.10120\\\\\n",
       "\t  8        & 121.63010\\\\\n",
       "\t  9        &  55.85831\\\\\n",
       "\t 10        & 117.50031\\\\\n",
       "\t 11        &  66.09301\\\\\n",
       "\t 12        & 122.11838\\\\\n",
       "\t 13        &  54.59185\\\\\n",
       "\t 14        & 116.56472\\\\\n",
       "\t 15        &  68.29317\\\\\n",
       "\t 16        & 122.42717\\\\\n",
       "\t 17        &  53.78480\\\\\n",
       "\t 18        & 115.92668\\\\\n",
       "\t 19        &  69.76849\\\\\n",
       "\t 20        & 122.49866\\\\\n",
       "\t 21        &  53.59727\\\\\n",
       "\\end{tabular}\n"
      ],
      "text/markdown": [
       "\n",
       "| Generation | Number |\n",
       "|---|---|\n",
       "|  1        |  50.00000 |\n",
       "|  2        | 112.50000 |\n",
       "|  3        |  77.34375 |\n",
       "|  4        | 121.15173 |\n",
       "|  5        |  57.08750 |\n",
       "|  6        | 118.33169 |\n",
       "|  7        |  64.10120 |\n",
       "|  8        | 121.63010 |\n",
       "|  9        |  55.85831 |\n",
       "| 10        | 117.50031 |\n",
       "| 11        |  66.09301 |\n",
       "| 12        | 122.11838 |\n",
       "| 13        |  54.59185 |\n",
       "| 14        | 116.56472 |\n",
       "| 15        |  68.29317 |\n",
       "| 16        | 122.42717 |\n",
       "| 17        |  53.78480 |\n",
       "| 18        | 115.92668 |\n",
       "| 19        |  69.76849 |\n",
       "| 20        | 122.49866 |\n",
       "| 21        |  53.59727 |\n",
       "\n"
      ],
      "text/plain": [
       "   Generation Number   \n",
       "1   1          50.00000\n",
       "2   2         112.50000\n",
       "3   3          77.34375\n",
       "4   4         121.15173\n",
       "5   5          57.08750\n",
       "6   6         118.33169\n",
       "7   7          64.10120\n",
       "8   8         121.63010\n",
       "9   9          55.85831\n",
       "10 10         117.50031\n",
       "11 11          66.09301\n",
       "12 12         122.11838\n",
       "13 13          54.59185\n",
       "14 14         116.56472\n",
       "15 15          68.29317\n",
       "16 16         122.42717\n",
       "17 17          53.78480\n",
       "18 18         115.92668\n",
       "19 19          69.76849\n",
       "20 20         122.49866\n",
       "21 21          53.59727"
      ]
     },
     "metadata": {},
     "output_type": "display_data"
    }
   ],
   "source": [
    "B = 0.025\n",
    "Neq = 100 \n",
    "N0 = 50\n",
    "N = vector() \n",
    "N[1] = N0 \n",
    "t = 20 \n",
    "for ( i in 1:t) {\n",
    "\n",
    "    N[i+1] = (1-B*(N[i]-Neq)) * N[i] \n",
    "    \n",
    "}\n",
    "\n",
    "krebs_frame <- data.frame (\n",
    "\n",
    "    Generation = c(1:21), \n",
    "    Number = N\n",
    "    \n",
    ")\n",
    "\n",
    "krebs_frame"
   ]
  },
  {
   "cell_type": "code",
   "execution_count": 119,
   "id": "b12f4a91-4d1a-4fcd-aa0c-6071fd2044df",
   "metadata": {},
   "outputs": [
    {
     "data": {
      "image/png": "[encoded data removed]",
      "text/plain": [
       "plot without title"
      ]
     },
     "metadata": {},
     "output_type": "display_data"
    }
   ],
   "source": [
    "ggplot(krebs_frame, aes(x=Generation, y=Number)) +  geom_point(pch=1) + geom_line()"
   ]
  },
  {
   "cell_type": "markdown",
   "id": "440243da-fc7b-4e19-b3fa-f9013eefb261",
   "metadata": {},
   "source": [
    "The classic version of continuous density dependent growth is the continuous logistic growth equation, the continuous version of eq.\n",
    "$$\n",
    "     N_{t+1} = N_t + N_t r_d (1-\\frac {N_t} {K})\n",
    "$$\n",
    "which will become\n",
    "$$\n",
    "    \\frac {dN}{dt} = rN(1-\\frac{N}{K})\n",
    "$$\n",
    "By now you might be wondering why we are studying such simplistic models that make such unrealistic assumptions. Let’s use the next couple of pages to figure out how we might relax some of these assumptions, and generalize it. \n",
    "\n",
    "First let’s realize that the density independent per capita growth rate, r, is really a net rate — it is the difference between the density independent, instantaneous birth and death rates, b and d. If we start with per capita logistic growth, the generalization would look like this.\n",
    "$$\n",
    " \\frac {dN}{Ndt} = r(1-\\alpha N)\n",
    "$$\n",
    "$$\n",
    "    = (b-d) (1-\\alpha N)\n",
    "$$\n",
    "$$\n",
    "    = b - d - b\\alpha N + d\\alpha N\n",
    "$$\n",
    "where $b-d = r$ \n",
    "Note that the positive, density-independent effect on growth rate of $b$ is counterbalanced a bit by a negative density-dependent effect of $b$. As $N$ increases, increasing births tend to rein in growth rate a bit, because more births mean a larger negative density-dependent effect. Similarly, mortality, $d$ includes a small positive density-dependent effect that helps enhance growth rate because it reduces the negative effect of $αN$ — death frees up resources."
   ]
  },
  {
   "cell_type": "code",
   "execution_count": 120,
   "id": "5abcf53a-980d-45dd-bd37-c5c3dac18977",
   "metadata": {},
   "outputs": [
    {
     "name": "stderr",
     "output_type": "stream",
     "text": [
      "Warning message:\n",
      "\"Removed 1 rows containing non-finite values (stat_smooth).\"Warning message:\n",
      "\"Removed 1 rows containing missing values (geom_point).\""
     ]
    },
    {
     "data": {
      "image/png": "[encoded data removed]",
      "text/plain": [
       "plot without title"
      ]
     },
     "metadata": {},
     "output_type": "display_data"
    }
   ],
   "source": [
    "ratio = vector() \n",
    "ratio[1] = 1 \n",
    "total.incr <- sparrows[[\"Count\"]][1:length(sparrows[[\"Count\"]]) +1 ] -sparrows[[\"Count\"]][1:length(sparrows[[\"Count\"]]) ]\n",
    "per.capita.incr <- total.incr/sparrows[[\"Count\"]][1:length(sparrows[[\"Count\"]]) ]\n",
    "\n",
    "\n",
    "ratio_frame = data.frame (\n",
    "\n",
    "    Change = total.incr,\n",
    "    Number = sparrows[[\"Count\"]]\n",
    "    \n",
    ")\n",
    "\n",
    "ggplot(ratio_frame, aes(x=Number, y=Change)) +  geom_point(pch=1) + geom_smooth(method = 'lm', se = FALSE)"
   ]
  },
  {
   "cell_type": "code",
   "execution_count": 121,
   "id": "f9d67f07-0cd9-44dc-ba92-b0909d472c70",
   "metadata": {},
   "outputs": [
    {
     "data": {
      "text/plain": [
       "\n",
       "Call:\n",
       "lm(formula = Change ~ Number, data = ratio_frame)\n",
       "\n",
       "Residuals:\n",
       "    Min      1Q  Median      3Q     Max \n",
       "-38.185  -9.600  -2.565   4.946  75.435 \n",
       "\n",
       "Coefficients:\n",
       "            Estimate Std. Error t value Pr(>|t|)   \n",
       "(Intercept)  20.0697     7.6519   2.623  0.01310 * \n",
       "Number       -0.3876     0.1363  -2.844  0.00759 **\n",
       "---\n",
       "Signif. codes:  0 '***' 0.001 '**' 0.01 '*' 0.05 '.' 0.1 ' ' 1\n",
       "\n",
       "Residual standard error: 18.74 on 33 degrees of freedom\n",
       "  (1 observation deleted due to missingness)\n",
       "Multiple R-squared:  0.1969,\tAdjusted R-squared:  0.1726 \n",
       "F-statistic:  8.09 on 1 and 33 DF,  p-value: 0.007585\n"
      ]
     },
     "metadata": {},
     "output_type": "display_data"
    }
   ],
   "source": [
    "lm.r <- lm(formula = Change ~ Number,\n",
    "         data = ratio_frame)\n",
    "summary(lm.r)"
   ]
  },
  {
   "cell_type": "code",
   "execution_count": 122,
   "id": "a4382c56-e9a4-4e83-bfc8-f0a1fb1b2998",
   "metadata": {},
   "outputs": [
    {
     "data": {
      "text/html": [
       "<ol class=list-inline>\n",
       "\t<li>'(Intercept)'</li>\n",
       "\t<li>'Number'</li>\n",
       "</ol>\n"
      ],
      "text/latex": [
       "\\begin{enumerate*}\n",
       "\\item '(Intercept)'\n",
       "\\item 'Number'\n",
       "\\end{enumerate*}\n"
      ],
      "text/markdown": [
       "1. '(Intercept)'\n",
       "2. 'Number'\n",
       "\n",
       "\n"
      ],
      "text/plain": [
       "[1] \"(Intercept)\" \"Number\"     "
      ]
     },
     "metadata": {},
     "output_type": "display_data"
    }
   ],
   "source": [
    "names(lm.r[['coefficients']])"
   ]
  },
  {
   "cell_type": "code",
   "execution_count": 123,
   "id": "752c39b0-31f5-4fc0-bb59-d30fd8e53588",
   "metadata": {},
   "outputs": [
    {
     "data": {
      "text/html": [
       "51.7776872360916"
      ],
      "text/latex": [
       "51.7776872360916"
      ],
      "text/markdown": [
       "51.7776872360916"
      ],
      "text/plain": [
       "[1] 51.77769"
      ]
     },
     "metadata": {},
     "output_type": "display_data"
    }
   ],
   "source": [
    "# finding K for countinious generation \n",
    "K = ( - lm.r[['coefficients']] [['(Intercept)']] ) / lm.r[['coefficients']] [['Number']] \n",
    "K"
   ]
  },
  {
   "cell_type": "code",
   "execution_count": 125,
   "id": "08fbb637-7372-4643-913a-17339210f52c",
   "metadata": {},
   "outputs": [
    {
     "data": {
      "text/html": [
       "20.0696893125826"
      ],
      "text/latex": [
       "20.0696893125826"
      ],
      "text/markdown": [
       "20.0696893125826"
      ],
      "text/plain": [
       "[1] 20.06969"
      ]
     },
     "metadata": {},
     "output_type": "display_data"
    }
   ],
   "source": [
    "# finding R for disecrete growth  \n",
    "r =  lm.r[['coefficients']] [['(Intercept)']] \n",
    "r"
   ]
  },
  {
   "cell_type": "code",
   "execution_count": 136,
   "id": "e399e824-36d1-4c9f-b34d-6fdba10a40bc",
   "metadata": {},
   "outputs": [
    {
     "data": {
      "text/html": [
       "<table>\n",
       "<thead><tr><th scope=col>Generation</th><th scope=col>Number</th></tr></thead>\n",
       "<tbody>\n",
       "\t<tr><td> 1      </td><td> 5.00000</td></tr>\n",
       "\t<tr><td> 2      </td><td>95.65813</td></tr>\n",
       "\t<tr><td> 3      </td><td> 0.00000</td></tr>\n",
       "\t<tr><td> 4      </td><td> 0.00000</td></tr>\n",
       "\t<tr><td> 5      </td><td> 0.00000</td></tr>\n",
       "\t<tr><td> 6      </td><td> 0.00000</td></tr>\n",
       "\t<tr><td> 7      </td><td> 0.00000</td></tr>\n",
       "\t<tr><td> 8      </td><td> 0.00000</td></tr>\n",
       "\t<tr><td> 9      </td><td> 0.00000</td></tr>\n",
       "\t<tr><td>10      </td><td> 0.00000</td></tr>\n",
       "\t<tr><td>11      </td><td> 0.00000</td></tr>\n",
       "\t<tr><td>12      </td><td> 0.00000</td></tr>\n",
       "\t<tr><td>13      </td><td> 0.00000</td></tr>\n",
       "\t<tr><td>14      </td><td> 0.00000</td></tr>\n",
       "\t<tr><td>15      </td><td> 0.00000</td></tr>\n",
       "\t<tr><td>16      </td><td> 0.00000</td></tr>\n",
       "\t<tr><td>17      </td><td> 0.00000</td></tr>\n",
       "\t<tr><td>18      </td><td> 0.00000</td></tr>\n",
       "\t<tr><td>19      </td><td> 0.00000</td></tr>\n",
       "\t<tr><td>20      </td><td> 0.00000</td></tr>\n",
       "\t<tr><td>21      </td><td> 0.00000</td></tr>\n",
       "\t<tr><td>22      </td><td> 0.00000</td></tr>\n",
       "\t<tr><td>23      </td><td> 0.00000</td></tr>\n",
       "\t<tr><td>24      </td><td> 0.00000</td></tr>\n",
       "\t<tr><td>25      </td><td> 0.00000</td></tr>\n",
       "\t<tr><td>26      </td><td> 0.00000</td></tr>\n",
       "\t<tr><td>27      </td><td> 0.00000</td></tr>\n",
       "\t<tr><td>28      </td><td> 0.00000</td></tr>\n",
       "\t<tr><td>29      </td><td> 0.00000</td></tr>\n",
       "\t<tr><td>30      </td><td> 0.00000</td></tr>\n",
       "\t<tr><td>31      </td><td> 0.00000</td></tr>\n",
       "</tbody>\n",
       "</table>\n"
      ],
      "text/latex": [
       "\\begin{tabular}{r|ll}\n",
       " Generation & Number\\\\\n",
       "\\hline\n",
       "\t  1       &  5.00000\\\\\n",
       "\t  2       & 95.65813\\\\\n",
       "\t  3       &  0.00000\\\\\n",
       "\t  4       &  0.00000\\\\\n",
       "\t  5       &  0.00000\\\\\n",
       "\t  6       &  0.00000\\\\\n",
       "\t  7       &  0.00000\\\\\n",
       "\t  8       &  0.00000\\\\\n",
       "\t  9       &  0.00000\\\\\n",
       "\t 10       &  0.00000\\\\\n",
       "\t 11       &  0.00000\\\\\n",
       "\t 12       &  0.00000\\\\\n",
       "\t 13       &  0.00000\\\\\n",
       "\t 14       &  0.00000\\\\\n",
       "\t 15       &  0.00000\\\\\n",
       "\t 16       &  0.00000\\\\\n",
       "\t 17       &  0.00000\\\\\n",
       "\t 18       &  0.00000\\\\\n",
       "\t 19       &  0.00000\\\\\n",
       "\t 20       &  0.00000\\\\\n",
       "\t 21       &  0.00000\\\\\n",
       "\t 22       &  0.00000\\\\\n",
       "\t 23       &  0.00000\\\\\n",
       "\t 24       &  0.00000\\\\\n",
       "\t 25       &  0.00000\\\\\n",
       "\t 26       &  0.00000\\\\\n",
       "\t 27       &  0.00000\\\\\n",
       "\t 28       &  0.00000\\\\\n",
       "\t 29       &  0.00000\\\\\n",
       "\t 30       &  0.00000\\\\\n",
       "\t 31       &  0.00000\\\\\n",
       "\\end{tabular}\n"
      ],
      "text/markdown": [
       "\n",
       "| Generation | Number |\n",
       "|---|---|\n",
       "|  1       |  5.00000 |\n",
       "|  2       | 95.65813 |\n",
       "|  3       |  0.00000 |\n",
       "|  4       |  0.00000 |\n",
       "|  5       |  0.00000 |\n",
       "|  6       |  0.00000 |\n",
       "|  7       |  0.00000 |\n",
       "|  8       |  0.00000 |\n",
       "|  9       |  0.00000 |\n",
       "| 10       |  0.00000 |\n",
       "| 11       |  0.00000 |\n",
       "| 12       |  0.00000 |\n",
       "| 13       |  0.00000 |\n",
       "| 14       |  0.00000 |\n",
       "| 15       |  0.00000 |\n",
       "| 16       |  0.00000 |\n",
       "| 17       |  0.00000 |\n",
       "| 18       |  0.00000 |\n",
       "| 19       |  0.00000 |\n",
       "| 20       |  0.00000 |\n",
       "| 21       |  0.00000 |\n",
       "| 22       |  0.00000 |\n",
       "| 23       |  0.00000 |\n",
       "| 24       |  0.00000 |\n",
       "| 25       |  0.00000 |\n",
       "| 26       |  0.00000 |\n",
       "| 27       |  0.00000 |\n",
       "| 28       |  0.00000 |\n",
       "| 29       |  0.00000 |\n",
       "| 30       |  0.00000 |\n",
       "| 31       |  0.00000 |\n",
       "\n"
      ],
      "text/plain": [
       "   Generation Number  \n",
       "1   1          5.00000\n",
       "2   2         95.65813\n",
       "3   3          0.00000\n",
       "4   4          0.00000\n",
       "5   5          0.00000\n",
       "6   6          0.00000\n",
       "7   7          0.00000\n",
       "8   8          0.00000\n",
       "9   9          0.00000\n",
       "10 10          0.00000\n",
       "11 11          0.00000\n",
       "12 12          0.00000\n",
       "13 13          0.00000\n",
       "14 14          0.00000\n",
       "15 15          0.00000\n",
       "16 16          0.00000\n",
       "17 17          0.00000\n",
       "18 18          0.00000\n",
       "19 19          0.00000\n",
       "20 20          0.00000\n",
       "21 21          0.00000\n",
       "22 22          0.00000\n",
       "23 23          0.00000\n",
       "24 24          0.00000\n",
       "25 25          0.00000\n",
       "26 26          0.00000\n",
       "27 27          0.00000\n",
       "28 28          0.00000\n",
       "29 29          0.00000\n",
       "30 30          0.00000\n",
       "31 31          0.00000"
      ]
     },
     "metadata": {},
     "output_type": "display_data"
    }
   ],
   "source": [
    "t = 30 \n",
    "N = vector ()\n",
    "N[1] = 5\n",
    "for ( i in 1:t) {\n",
    "\n",
    "    N[i+1] = N[i] + r*N[i]*(1-(N[i]/K))\n",
    "    if(N[i+1] < 0) {\n",
    "\n",
    "        N[i+1] = 0\n",
    "        \n",
    "    }\n",
    "    \n",
    "}\n",
    "\n",
    "N_frame <- data.frame (\n",
    "\n",
    "    Generation = c(1:31),\n",
    "    Number = N\n",
    "    \n",
    ")\n",
    "\n",
    "N_frame"
   ]
  },
  {
   "cell_type": "code",
   "execution_count": 137,
   "id": "10cbfab9-4d8e-4fe5-aa64-c15ecbbab9f8",
   "metadata": {},
   "outputs": [
    {
     "data": {
      "image/png": "[encoded data removed]",
      "text/plain": [
       "plot without title"
      ]
     },
     "metadata": {},
     "output_type": "display_data"
    }
   ],
   "source": [
    "ggplot(N_frame, aes(x=Generation, y=Number)) +  geom_point(pch=1) + geom_line()"
   ]
  },
  {
   "cell_type": "markdown",
   "id": "25efc52a-0c9b-40a1-b0da-43d9ac5c0c29",
   "metadata": {},
   "source": [
    "Density dependence is the effect of density on growth rate, and thus far we have let that be $1 − αN$.  Let’s represent this as the function $F (N) = 1 − αN$. We can now note that α is also a net effect — $N$ will have separate effects on the birth and death rates, and α could be just the sum of more arbitrary constants (e.g., $αN = (x + y)N$); $1 − αN$ is merely the simplest form of $F (N)$. We can generalize further and let density affect the birth and death rates separately,\n",
    "$$\n",
    "    \\frac {dN}{Ndt} = rNF(N)\n",
    "$$\n",
    "$$\n",
    "    F(N) = B(N) - D(N) \n",
    "$$\n",
    "\n",
    "We might anticipate that density has no effect on death rates when $N$ is low, because there is no particular limiting factor. Paradoxically, however, when $N$ becomes large, the ensuing mortality benefits growth rate a bit because death frees up limiting resources. Such an idea might have the simple form\n",
    "$$\n",
    "    D(N) = gN^2\n",
    "$$\n",
    "where $g$ is a constant. This function starts out at zero (no effect) and increases rapidly. This means that at low density, mortality does not influence growth rate, whereas at high density, mortality enhances growth rate.\n",
    "The density dependence for birth rates could also be more complicated. The Allee effect arises when a population gets very small and mating success\n",
    "declines because mates can’t find each other, leading to a large negative per capita impact of $N$. We can describe this with a quadratic function,\n",
    "$$\n",
    "    B(N) = -\\alpha N^2 + eN - f\n",
    "$$\n",
    "where $a$, $e$, and $f$ are constants. Here, the negative effect of $N$ on birth rates, $B(N)$, will be important at low $N$ because when $N = 0$, $B(N) = −f$ . The negative effect will also be large at very high $N$ because $−aN2$ becomes a large negative number at large $N$. The point here is that we can alter density dependence to incorporate specific biology."
   ]
  },
  {
   "cell_type": "code",
   "execution_count": 141,
   "id": "1c308dc9-ff6b-4060-87f4-832fbd0837b3",
   "metadata": {},
   "outputs": [
    {
     "data": {
      "text/html": [
       "<table>\n",
       "<thead><tr><th scope=col>Abundance</th><th scope=col>Birth_rate</th><th scope=col>Death_rate</th><th scope=col>Density_dependance</th></tr></thead>\n",
       "<tbody>\n",
       "\t<tr><td> 0       </td><td>-0.200000</td><td>0.00000  </td><td>-0.200000</td></tr>\n",
       "\t<tr><td> 1       </td><td>-0.150625</td><td>0.00004  </td><td>-0.150585</td></tr>\n",
       "\t<tr><td> 2       </td><td>-0.102500</td><td>0.00016  </td><td>-0.102340</td></tr>\n",
       "\t<tr><td> 3       </td><td>-0.055625</td><td>0.00036  </td><td>-0.055265</td></tr>\n",
       "\t<tr><td> 4       </td><td>-0.010000</td><td>0.00064  </td><td>-0.009360</td></tr>\n",
       "\t<tr><td> 5       </td><td> 0.034375</td><td>0.00100  </td><td> 0.035375</td></tr>\n",
       "\t<tr><td> 6       </td><td> 0.077500</td><td>0.00144  </td><td> 0.078940</td></tr>\n",
       "\t<tr><td> 7       </td><td> 0.119375</td><td>0.00196  </td><td> 0.121335</td></tr>\n",
       "\t<tr><td> 8       </td><td> 0.160000</td><td>0.00256  </td><td> 0.162560</td></tr>\n",
       "\t<tr><td> 9       </td><td> 0.199375</td><td>0.00324  </td><td> 0.202615</td></tr>\n",
       "\t<tr><td>10       </td><td> 0.237500</td><td>0.00400  </td><td> 0.241500</td></tr>\n",
       "\t<tr><td>11       </td><td> 0.274375</td><td>0.00484  </td><td> 0.279215</td></tr>\n",
       "\t<tr><td>12       </td><td> 0.310000</td><td>0.00576  </td><td> 0.315760</td></tr>\n",
       "\t<tr><td>13       </td><td> 0.344375</td><td>0.00676  </td><td> 0.351135</td></tr>\n",
       "\t<tr><td>14       </td><td> 0.377500</td><td>0.00784  </td><td> 0.385340</td></tr>\n",
       "\t<tr><td>15       </td><td> 0.409375</td><td>0.00900  </td><td> 0.418375</td></tr>\n",
       "\t<tr><td>16       </td><td> 0.440000</td><td>0.01024  </td><td> 0.450240</td></tr>\n",
       "\t<tr><td>17       </td><td> 0.469375</td><td>0.01156  </td><td> 0.480935</td></tr>\n",
       "\t<tr><td>18       </td><td> 0.497500</td><td>0.01296  </td><td> 0.510460</td></tr>\n",
       "\t<tr><td>19       </td><td> 0.524375</td><td>0.01444  </td><td> 0.538815</td></tr>\n",
       "\t<tr><td>20       </td><td> 0.550000</td><td>0.01600  </td><td> 0.566000</td></tr>\n",
       "\t<tr><td>21       </td><td> 0.574375</td><td>0.01764  </td><td> 0.592015</td></tr>\n",
       "\t<tr><td>22       </td><td> 0.597500</td><td>0.01936  </td><td> 0.616860</td></tr>\n",
       "\t<tr><td>23       </td><td> 0.619375</td><td>0.02116  </td><td> 0.640535</td></tr>\n",
       "\t<tr><td>24       </td><td> 0.640000</td><td>0.02304  </td><td> 0.663040</td></tr>\n",
       "\t<tr><td>25       </td><td> 0.659375</td><td>0.02500  </td><td> 0.684375</td></tr>\n",
       "\t<tr><td>26       </td><td> 0.677500</td><td>0.02704  </td><td> 0.704540</td></tr>\n",
       "\t<tr><td>27       </td><td> 0.694375</td><td>0.02916  </td><td> 0.723535</td></tr>\n",
       "\t<tr><td>28       </td><td> 0.710000</td><td>0.03136  </td><td> 0.741360</td></tr>\n",
       "\t<tr><td>29       </td><td> 0.724375</td><td>0.03364  </td><td> 0.758015</td></tr>\n",
       "\t<tr><td>...</td><td>...</td><td>...</td><td>...</td></tr>\n",
       "\t<tr><td> 71      </td><td> 0.199375</td><td>0.20164  </td><td> 0.401015</td></tr>\n",
       "\t<tr><td> 72      </td><td> 0.160000</td><td>0.20736  </td><td> 0.367360</td></tr>\n",
       "\t<tr><td> 73      </td><td> 0.119375</td><td>0.21316  </td><td> 0.332535</td></tr>\n",
       "\t<tr><td> 74      </td><td> 0.077500</td><td>0.21904  </td><td> 0.296540</td></tr>\n",
       "\t<tr><td> 75      </td><td> 0.034375</td><td>0.22500  </td><td> 0.259375</td></tr>\n",
       "\t<tr><td> 76      </td><td>-0.010000</td><td>0.23104  </td><td> 0.221040</td></tr>\n",
       "\t<tr><td> 77      </td><td>-0.055625</td><td>0.23716  </td><td> 0.181535</td></tr>\n",
       "\t<tr><td> 78      </td><td>-0.102500</td><td>0.24336  </td><td> 0.140860</td></tr>\n",
       "\t<tr><td> 79      </td><td>-0.150625</td><td>0.24964  </td><td> 0.099015</td></tr>\n",
       "\t<tr><td> 80      </td><td>-0.200000</td><td>0.25600  </td><td> 0.056000</td></tr>\n",
       "\t<tr><td> 81      </td><td>-0.250625</td><td>0.26244  </td><td> 0.011815</td></tr>\n",
       "\t<tr><td> 82      </td><td>-0.302500</td><td>0.26896  </td><td>-0.033540</td></tr>\n",
       "\t<tr><td> 83      </td><td>-0.355625</td><td>0.27556  </td><td>-0.080065</td></tr>\n",
       "\t<tr><td> 84      </td><td>-0.410000</td><td>0.28224  </td><td>-0.127760</td></tr>\n",
       "\t<tr><td> 85      </td><td>-0.465625</td><td>0.28900  </td><td>-0.176625</td></tr>\n",
       "\t<tr><td> 86      </td><td>-0.522500</td><td>0.29584  </td><td>-0.226660</td></tr>\n",
       "\t<tr><td> 87      </td><td>-0.580625</td><td>0.30276  </td><td>-0.277865</td></tr>\n",
       "\t<tr><td> 88      </td><td>-0.640000</td><td>0.30976  </td><td>-0.330240</td></tr>\n",
       "\t<tr><td> 89      </td><td>-0.700625</td><td>0.31684  </td><td>-0.383785</td></tr>\n",
       "\t<tr><td> 90      </td><td>-0.762500</td><td>0.32400  </td><td>-0.438500</td></tr>\n",
       "\t<tr><td> 91      </td><td>-0.825625</td><td>0.33124  </td><td>-0.494385</td></tr>\n",
       "\t<tr><td> 92      </td><td>-0.890000</td><td>0.33856  </td><td>-0.551440</td></tr>\n",
       "\t<tr><td> 93      </td><td>-0.955625</td><td>0.34596  </td><td>-0.609665</td></tr>\n",
       "\t<tr><td> 94      </td><td>-1.022500</td><td>0.35344  </td><td>-0.669060</td></tr>\n",
       "\t<tr><td> 95      </td><td>-1.090625</td><td>0.36100  </td><td>-0.729625</td></tr>\n",
       "\t<tr><td> 96      </td><td>-1.160000</td><td>0.36864  </td><td>-0.791360</td></tr>\n",
       "\t<tr><td> 97      </td><td>-1.230625</td><td>0.37636  </td><td>-0.854265</td></tr>\n",
       "\t<tr><td> 98      </td><td>-1.302500</td><td>0.38416  </td><td>-0.918340</td></tr>\n",
       "\t<tr><td> 99      </td><td>-1.375625</td><td>0.39204  </td><td>-0.983585</td></tr>\n",
       "\t<tr><td>100      </td><td>-1.450000</td><td>0.40000  </td><td>-1.050000</td></tr>\n",
       "</tbody>\n",
       "</table>\n"
      ],
      "text/latex": [
       "\\begin{tabular}{r|llll}\n",
       " Abundance & Birth\\_rate & Death\\_rate & Density\\_dependance\\\\\n",
       "\\hline\n",
       "\t  0        & -0.200000 & 0.00000   & -0.200000\\\\\n",
       "\t  1        & -0.150625 & 0.00004   & -0.150585\\\\\n",
       "\t  2        & -0.102500 & 0.00016   & -0.102340\\\\\n",
       "\t  3        & -0.055625 & 0.00036   & -0.055265\\\\\n",
       "\t  4        & -0.010000 & 0.00064   & -0.009360\\\\\n",
       "\t  5        &  0.034375 & 0.00100   &  0.035375\\\\\n",
       "\t  6        &  0.077500 & 0.00144   &  0.078940\\\\\n",
       "\t  7        &  0.119375 & 0.00196   &  0.121335\\\\\n",
       "\t  8        &  0.160000 & 0.00256   &  0.162560\\\\\n",
       "\t  9        &  0.199375 & 0.00324   &  0.202615\\\\\n",
       "\t 10        &  0.237500 & 0.00400   &  0.241500\\\\\n",
       "\t 11        &  0.274375 & 0.00484   &  0.279215\\\\\n",
       "\t 12        &  0.310000 & 0.00576   &  0.315760\\\\\n",
       "\t 13        &  0.344375 & 0.00676   &  0.351135\\\\\n",
       "\t 14        &  0.377500 & 0.00784   &  0.385340\\\\\n",
       "\t 15        &  0.409375 & 0.00900   &  0.418375\\\\\n",
       "\t 16        &  0.440000 & 0.01024   &  0.450240\\\\\n",
       "\t 17        &  0.469375 & 0.01156   &  0.480935\\\\\n",
       "\t 18        &  0.497500 & 0.01296   &  0.510460\\\\\n",
       "\t 19        &  0.524375 & 0.01444   &  0.538815\\\\\n",
       "\t 20        &  0.550000 & 0.01600   &  0.566000\\\\\n",
       "\t 21        &  0.574375 & 0.01764   &  0.592015\\\\\n",
       "\t 22        &  0.597500 & 0.01936   &  0.616860\\\\\n",
       "\t 23        &  0.619375 & 0.02116   &  0.640535\\\\\n",
       "\t 24        &  0.640000 & 0.02304   &  0.663040\\\\\n",
       "\t 25        &  0.659375 & 0.02500   &  0.684375\\\\\n",
       "\t 26        &  0.677500 & 0.02704   &  0.704540\\\\\n",
       "\t 27        &  0.694375 & 0.02916   &  0.723535\\\\\n",
       "\t 28        &  0.710000 & 0.03136   &  0.741360\\\\\n",
       "\t 29        &  0.724375 & 0.03364   &  0.758015\\\\\n",
       "\t ... & ... & ... & ...\\\\\n",
       "\t  71       &  0.199375 & 0.20164   &  0.401015\\\\\n",
       "\t  72       &  0.160000 & 0.20736   &  0.367360\\\\\n",
       "\t  73       &  0.119375 & 0.21316   &  0.332535\\\\\n",
       "\t  74       &  0.077500 & 0.21904   &  0.296540\\\\\n",
       "\t  75       &  0.034375 & 0.22500   &  0.259375\\\\\n",
       "\t  76       & -0.010000 & 0.23104   &  0.221040\\\\\n",
       "\t  77       & -0.055625 & 0.23716   &  0.181535\\\\\n",
       "\t  78       & -0.102500 & 0.24336   &  0.140860\\\\\n",
       "\t  79       & -0.150625 & 0.24964   &  0.099015\\\\\n",
       "\t  80       & -0.200000 & 0.25600   &  0.056000\\\\\n",
       "\t  81       & -0.250625 & 0.26244   &  0.011815\\\\\n",
       "\t  82       & -0.302500 & 0.26896   & -0.033540\\\\\n",
       "\t  83       & -0.355625 & 0.27556   & -0.080065\\\\\n",
       "\t  84       & -0.410000 & 0.28224   & -0.127760\\\\\n",
       "\t  85       & -0.465625 & 0.28900   & -0.176625\\\\\n",
       "\t  86       & -0.522500 & 0.29584   & -0.226660\\\\\n",
       "\t  87       & -0.580625 & 0.30276   & -0.277865\\\\\n",
       "\t  88       & -0.640000 & 0.30976   & -0.330240\\\\\n",
       "\t  89       & -0.700625 & 0.31684   & -0.383785\\\\\n",
       "\t  90       & -0.762500 & 0.32400   & -0.438500\\\\\n",
       "\t  91       & -0.825625 & 0.33124   & -0.494385\\\\\n",
       "\t  92       & -0.890000 & 0.33856   & -0.551440\\\\\n",
       "\t  93       & -0.955625 & 0.34596   & -0.609665\\\\\n",
       "\t  94       & -1.022500 & 0.35344   & -0.669060\\\\\n",
       "\t  95       & -1.090625 & 0.36100   & -0.729625\\\\\n",
       "\t  96       & -1.160000 & 0.36864   & -0.791360\\\\\n",
       "\t  97       & -1.230625 & 0.37636   & -0.854265\\\\\n",
       "\t  98       & -1.302500 & 0.38416   & -0.918340\\\\\n",
       "\t  99       & -1.375625 & 0.39204   & -0.983585\\\\\n",
       "\t 100       & -1.450000 & 0.40000   & -1.050000\\\\\n",
       "\\end{tabular}\n"
      ],
      "text/markdown": [
       "\n",
       "| Abundance | Birth_rate | Death_rate | Density_dependance |\n",
       "|---|---|---|---|\n",
       "|  0        | -0.200000 | 0.00000   | -0.200000 |\n",
       "|  1        | -0.150625 | 0.00004   | -0.150585 |\n",
       "|  2        | -0.102500 | 0.00016   | -0.102340 |\n",
       "|  3        | -0.055625 | 0.00036   | -0.055265 |\n",
       "|  4        | -0.010000 | 0.00064   | -0.009360 |\n",
       "|  5        |  0.034375 | 0.00100   |  0.035375 |\n",
       "|  6        |  0.077500 | 0.00144   |  0.078940 |\n",
       "|  7        |  0.119375 | 0.00196   |  0.121335 |\n",
       "|  8        |  0.160000 | 0.00256   |  0.162560 |\n",
       "|  9        |  0.199375 | 0.00324   |  0.202615 |\n",
       "| 10        |  0.237500 | 0.00400   |  0.241500 |\n",
       "| 11        |  0.274375 | 0.00484   |  0.279215 |\n",
       "| 12        |  0.310000 | 0.00576   |  0.315760 |\n",
       "| 13        |  0.344375 | 0.00676   |  0.351135 |\n",
       "| 14        |  0.377500 | 0.00784   |  0.385340 |\n",
       "| 15        |  0.409375 | 0.00900   |  0.418375 |\n",
       "| 16        |  0.440000 | 0.01024   |  0.450240 |\n",
       "| 17        |  0.469375 | 0.01156   |  0.480935 |\n",
       "| 18        |  0.497500 | 0.01296   |  0.510460 |\n",
       "| 19        |  0.524375 | 0.01444   |  0.538815 |\n",
       "| 20        |  0.550000 | 0.01600   |  0.566000 |\n",
       "| 21        |  0.574375 | 0.01764   |  0.592015 |\n",
       "| 22        |  0.597500 | 0.01936   |  0.616860 |\n",
       "| 23        |  0.619375 | 0.02116   |  0.640535 |\n",
       "| 24        |  0.640000 | 0.02304   |  0.663040 |\n",
       "| 25        |  0.659375 | 0.02500   |  0.684375 |\n",
       "| 26        |  0.677500 | 0.02704   |  0.704540 |\n",
       "| 27        |  0.694375 | 0.02916   |  0.723535 |\n",
       "| 28        |  0.710000 | 0.03136   |  0.741360 |\n",
       "| 29        |  0.724375 | 0.03364   |  0.758015 |\n",
       "| ... | ... | ... | ... |\n",
       "|  71       |  0.199375 | 0.20164   |  0.401015 |\n",
       "|  72       |  0.160000 | 0.20736   |  0.367360 |\n",
       "|  73       |  0.119375 | 0.21316   |  0.332535 |\n",
       "|  74       |  0.077500 | 0.21904   |  0.296540 |\n",
       "|  75       |  0.034375 | 0.22500   |  0.259375 |\n",
       "|  76       | -0.010000 | 0.23104   |  0.221040 |\n",
       "|  77       | -0.055625 | 0.23716   |  0.181535 |\n",
       "|  78       | -0.102500 | 0.24336   |  0.140860 |\n",
       "|  79       | -0.150625 | 0.24964   |  0.099015 |\n",
       "|  80       | -0.200000 | 0.25600   |  0.056000 |\n",
       "|  81       | -0.250625 | 0.26244   |  0.011815 |\n",
       "|  82       | -0.302500 | 0.26896   | -0.033540 |\n",
       "|  83       | -0.355625 | 0.27556   | -0.080065 |\n",
       "|  84       | -0.410000 | 0.28224   | -0.127760 |\n",
       "|  85       | -0.465625 | 0.28900   | -0.176625 |\n",
       "|  86       | -0.522500 | 0.29584   | -0.226660 |\n",
       "|  87       | -0.580625 | 0.30276   | -0.277865 |\n",
       "|  88       | -0.640000 | 0.30976   | -0.330240 |\n",
       "|  89       | -0.700625 | 0.31684   | -0.383785 |\n",
       "|  90       | -0.762500 | 0.32400   | -0.438500 |\n",
       "|  91       | -0.825625 | 0.33124   | -0.494385 |\n",
       "|  92       | -0.890000 | 0.33856   | -0.551440 |\n",
       "|  93       | -0.955625 | 0.34596   | -0.609665 |\n",
       "|  94       | -1.022500 | 0.35344   | -0.669060 |\n",
       "|  95       | -1.090625 | 0.36100   | -0.729625 |\n",
       "|  96       | -1.160000 | 0.36864   | -0.791360 |\n",
       "|  97       | -1.230625 | 0.37636   | -0.854265 |\n",
       "|  98       | -1.302500 | 0.38416   | -0.918340 |\n",
       "|  99       | -1.375625 | 0.39204   | -0.983585 |\n",
       "| 100       | -1.450000 | 0.40000   | -1.050000 |\n",
       "\n"
      ],
      "text/plain": [
       "    Abundance Birth_rate Death_rate Density_dependance\n",
       "1    0        -0.200000  0.00000    -0.200000         \n",
       "2    1        -0.150625  0.00004    -0.150585         \n",
       "3    2        -0.102500  0.00016    -0.102340         \n",
       "4    3        -0.055625  0.00036    -0.055265         \n",
       "5    4        -0.010000  0.00064    -0.009360         \n",
       "6    5         0.034375  0.00100     0.035375         \n",
       "7    6         0.077500  0.00144     0.078940         \n",
       "8    7         0.119375  0.00196     0.121335         \n",
       "9    8         0.160000  0.00256     0.162560         \n",
       "10   9         0.199375  0.00324     0.202615         \n",
       "11  10         0.237500  0.00400     0.241500         \n",
       "12  11         0.274375  0.00484     0.279215         \n",
       "13  12         0.310000  0.00576     0.315760         \n",
       "14  13         0.344375  0.00676     0.351135         \n",
       "15  14         0.377500  0.00784     0.385340         \n",
       "16  15         0.409375  0.00900     0.418375         \n",
       "17  16         0.440000  0.01024     0.450240         \n",
       "18  17         0.469375  0.01156     0.480935         \n",
       "19  18         0.497500  0.01296     0.510460         \n",
       "20  19         0.524375  0.01444     0.538815         \n",
       "21  20         0.550000  0.01600     0.566000         \n",
       "22  21         0.574375  0.01764     0.592015         \n",
       "23  22         0.597500  0.01936     0.616860         \n",
       "24  23         0.619375  0.02116     0.640535         \n",
       "25  24         0.640000  0.02304     0.663040         \n",
       "26  25         0.659375  0.02500     0.684375         \n",
       "27  26         0.677500  0.02704     0.704540         \n",
       "28  27         0.694375  0.02916     0.723535         \n",
       "29  28         0.710000  0.03136     0.741360         \n",
       "30  29         0.724375  0.03364     0.758015         \n",
       "... ...       ...        ...        ...               \n",
       "72   71        0.199375  0.20164     0.401015         \n",
       "73   72        0.160000  0.20736     0.367360         \n",
       "74   73        0.119375  0.21316     0.332535         \n",
       "75   74        0.077500  0.21904     0.296540         \n",
       "76   75        0.034375  0.22500     0.259375         \n",
       "77   76       -0.010000  0.23104     0.221040         \n",
       "78   77       -0.055625  0.23716     0.181535         \n",
       "79   78       -0.102500  0.24336     0.140860         \n",
       "80   79       -0.150625  0.24964     0.099015         \n",
       "81   80       -0.200000  0.25600     0.056000         \n",
       "82   81       -0.250625  0.26244     0.011815         \n",
       "83   82       -0.302500  0.26896    -0.033540         \n",
       "84   83       -0.355625  0.27556    -0.080065         \n",
       "85   84       -0.410000  0.28224    -0.127760         \n",
       "86   85       -0.465625  0.28900    -0.176625         \n",
       "87   86       -0.522500  0.29584    -0.226660         \n",
       "88   87       -0.580625  0.30276    -0.277865         \n",
       "89   88       -0.640000  0.30976    -0.330240         \n",
       "90   89       -0.700625  0.31684    -0.383785         \n",
       "91   90       -0.762500  0.32400    -0.438500         \n",
       "92   91       -0.825625  0.33124    -0.494385         \n",
       "93   92       -0.890000  0.33856    -0.551440         \n",
       "94   93       -0.955625  0.34596    -0.609665         \n",
       "95   94       -1.022500  0.35344    -0.669060         \n",
       "96   95       -1.090625  0.36100    -0.729625         \n",
       "97   96       -1.160000  0.36864    -0.791360         \n",
       "98   97       -1.230625  0.37636    -0.854265         \n",
       "99   98       -1.302500  0.38416    -0.918340         \n",
       "100  99       -1.375625  0.39204    -0.983585         \n",
       "101 100       -1.450000  0.40000    -1.050000         "
      ]
     },
     "metadata": {},
     "output_type": "display_data"
    }
   ],
   "source": [
    "B.N <- expression(-a * N^2 + e * N - f) \n",
    "D.N <- expression(g * N^2)\n",
    "\n",
    " a <- 1/1600; e <- 80 * a; f <- 0.2; g <- 4e-05; N <- 0:100\n",
    "\n",
    "Allee_effect <- data.frame (\n",
    "\n",
    "    Abundance = N,\n",
    "    Birth_rate = eval(B.N),\n",
    "    Death_rate = eval(D.N),\n",
    "    Density_dependance = eval(B.N) + eval(D.N)\n",
    "    \n",
    ")\n",
    "\n",
    "Allee_effect"
   ]
  },
  {
   "cell_type": "code",
   "execution_count": 142,
   "id": "d59c3593-56f4-4cf4-abed-2da23a60203a",
   "metadata": {},
   "outputs": [
    {
     "data": {
      "image/png": "[encoded data removed]",
      "text/plain": [
       "plot without title"
      ]
     },
     "metadata": {},
     "output_type": "display_data"
    }
   ],
   "source": [
    "plot(N, eval(B.N), type = \"l\", ylab = \"B(N), D(N)\")\n",
    "lines(N, eval(D.N), lty = 2)\n",
    "abline(h = 0, lty = 3)\n",
    "legend(\"bottom\", c(\"Effect on Birth Rate\", \"Effect on Death Rate\"), lty = 1:2, bty = \"n\")"
   ]
  },
  {
   "cell_type": "code",
   "execution_count": 143,
   "id": "711cea90-b6dc-43d2-a953-819499be2327",
   "metadata": {},
   "outputs": [
    {
     "data": {
      "image/png": "[encoded data removed]",
      "text/plain": [
       "plot without title"
      ]
     },
     "metadata": {},
     "output_type": "display_data"
    }
   ],
   "source": [
    "plot(N, eval(B.N) + eval(D.N), type = \"l\", ylim = c(-0.4, 1), ylab = \"Net Density Dependence, F(N)\")\n",
    "abline(h = 0, lty = 3)\n",
    "curve(1 - 0.01 * x, 0, 100, lty = 2, add = T)\n",
    "legend(\"topright\", c(\"Generalized\", \"Logistic\"), lty = 1:2, bty = \"n\") "
   ]
  },
  {
   "cell_type": "code",
   "execution_count": 157,
   "id": "c3b783ba-2cdd-450e-8284-d60dc3d36cb9",
   "metadata": {},
   "outputs": [
    {
     "data": {
      "text/html": [
       "FALSE"
      ],
      "text/latex": [
       "FALSE"
      ],
      "text/markdown": [
       "FALSE"
      ],
      "text/plain": [
       "[1] FALSE"
      ]
     },
     "metadata": {},
     "output_type": "display_data"
    },
    {
     "name": "stdout",
     "output_type": "stream",
     "text": [
      "[1] 4.238988\n"
     ]
    }
   ],
   "source": [
    "# Define the expressions\n",
    "B_N <- expression(-a * N^2 + e * N - f)\n",
    "D_N <- expression(g * N^2)\n",
    " a< - 1/1600; e <- 80 * a; f <- 0.2; g <- 4e-05\n",
    "# Convert expressions to functions\n",
    "f_BN <- function(N) eval(B_N, envir = list(N = N))\n",
    "f_DN <- function(N) eval(D_N, envir = list(N = N))\n",
    "\n",
    "# Define the function to find the root of f_BN(N) - f_DN(N)\n",
    "root_function <- function(N) f_BN(N) - f_DN(N)\n",
    "\n",
    "# Use uniroot to find the value of N where B.N = D.N\n",
    "result <- uniroot(root_function, interval = c(0, 20))  # Example values for a, e, f, g\n",
    "\n",
    "# Print the result\n",
    "print(result$root)\n"
   ]
  },
  {
   "cell_type": "code",
   "execution_count": 158,
   "id": "945b5edb-a3fa-436c-b773-037877d35b8c",
   "metadata": {},
   "outputs": [
    {
     "data": {
      "text/html": [
       "FALSE"
      ],
      "text/latex": [
       "FALSE"
      ],
      "text/markdown": [
       "FALSE"
      ],
      "text/plain": [
       "[1] FALSE"
      ]
     },
     "metadata": {},
     "output_type": "display_data"
    },
    {
     "name": "stdout",
     "output_type": "stream",
     "text": [
      "[1] 70.94901\n"
     ]
    }
   ],
   "source": [
    "# Define the expressions\n",
    "B_N <- expression(-a * N^2 + e * N - f)\n",
    "D_N <- expression(g * N^2)\n",
    " a< - 1/1600; e <- 80 * a; f <- 0.2; g <- 4e-05\n",
    "# Convert expressions to functions\n",
    "f_BN <- function(N) eval(B_N, envir = list(N = N))\n",
    "f_DN <- function(N) eval(D_N, envir = list(N = N))\n",
    "\n",
    "# Define the function to find the root of f_BN(N) - f_DN(N)\n",
    "root_function <- function(N) f_BN(N) - f_DN(N)\n",
    "\n",
    "# Use uniroot to find the value of N where B.N = D.N\n",
    "result <- uniroot(root_function, interval = c(50, 80))  # Example values for a, e, f, g\n",
    "\n",
    "# Print the result\n",
    "print(result$root)\n"
   ]
  },
  {
   "cell_type": "markdown",
   "id": "df711945-fbfd-4a46-8424-1295c7f8bcec",
   "metadata": {},
   "source": [
    "#### Projection with numerical integration\n",
    "\n",
    "In simple density-independent growth, we were able to project a population using the integral of the exponential growth equation, $N_t = N_0 e^{rt}$. As our models become more and more complex, we are no longer able to to do that. Instead, we use numerical integration to project models of continuous growth through time. We use numerical techniques that turn the infinitely small intervals of calculus ($dy$, $dx$) into very, very small, but finite steps. Mathematicians and computer scientists have devised very clever ways of doing this very accurately and precisely. \n",
    "When we have an ordinary differential equation (ODE) such as logistic growth, $dN / dt = rN(1-\\alpha N)$ we say that we “solve” the equation, \n",
    "- over a particular time interval\n",
    "- given a set of parameters and\n",
    "- with particular initial conditions or initial population size."
   ]
  },
  {
   "cell_type": "code",
   "execution_count": 165,
   "id": "55d80f49-3597-4444-8e04-9cd5d8c8fab8",
   "metadata": {},
   "outputs": [
    {
     "data": {
      "image/png": "[encoded data removed]",
      "text/plain": [
       "Plot with title \"N\""
      ]
     },
     "metadata": {},
     "output_type": "display_data"
    }
   ],
   "source": [
    "library ('deSolve')\n",
    "\n",
    "logistic <- function(t, y, p){\n",
    "    dN.dt <- p[1] * y[1] * (1 - p[2] * y[1])\n",
    "    return( list( dN.dt ) )\n",
    "   }   \n",
    "\n",
    "p <- c(r=1, alpha = 0.001)\n",
    "\n",
    "# We name the state variable and the parameters\n",
    "y0 <- c(N=1)\n",
    "t <- 0:20\n",
    "\n",
    "out <- ode(y=y0, times=t, func=logistic, parms=p)\n",
    "\n",
    "plot(out)"
   ]
  },
  {
   "cell_type": "code",
   "execution_count": 167,
   "id": "add8bab7-c952-4093-a950-bc9cf6d27b55",
   "metadata": {},
   "outputs": [
    {
     "data": {
      "image/png": "[encoded data removed]",
      "text/plain": [
       "Plot with title \"N\""
      ]
     },
     "metadata": {},
     "output_type": "display_data"
    }
   ],
   "source": [
    "p <- c(r=20.0696893125826, alpha = 1/51.7776872360916)\n",
    "\n",
    "# We name the state variable and the parameters\n",
    "y0 <- c(N=1)\n",
    "t <- 0:20\n",
    "\n",
    "out <- ode(y=y0, times=t, func=logistic, parms=p)\n",
    "\n",
    "plot(out)"
   ]
  },
  {
   "cell_type": "code",
   "execution_count": 171,
   "id": "2ee526ac-5d37-43b9-ab0b-5a290ace92bc",
   "metadata": {},
   "outputs": [
    {
     "data": {
      "text/html": [
       "FALSE"
      ],
      "text/latex": [
       "FALSE"
      ],
      "text/markdown": [
       "FALSE"
      ],
      "text/plain": [
       "[1] FALSE"
      ]
     },
     "metadata": {},
     "output_type": "display_data"
    },
    {
     "data": {
      "image/png": "[encoded data removed]",
      "text/plain": [
       "Plot with title \"N\""
      ]
     },
     "metadata": {},
     "output_type": "display_data"
    }
   ],
   "source": [
    "logistic2 <- function(t, y, p){\n",
    "    dN.dt <- ((-p[1] * y[1]^2 + p[2] * y[1] - p[3]) - (p[4] * y[1]^2)) * y[1] \n",
    "    eturn( list( dN.dt ) )\n",
    "   }   \n",
    "\n",
    "a< - 1/1600; e <- 80 * a; f <- 0.2; g <- 4e-05\n",
    "p <- c(a, e, f, g)\n",
    "\n",
    "# We name the state variable and the parameters\n",
    "y0 <- c(N=10)\n",
    "t <- 0:20000\n",
    "out <- ode(y=y0, times=t, func=logistic, parms=p)\n",
    "\n",
    "plot(out)"
   ]
  },
  {
   "cell_type": "code",
   "execution_count": 190,
   "id": "eae69aec-911f-4aa8-a8fe-5279d51c458d",
   "metadata": {},
   "outputs": [
    {
     "data": {
      "text/html": [
       "FALSE"
      ],
      "text/latex": [
       "FALSE"
      ],
      "text/markdown": [
       "FALSE"
      ],
      "text/plain": [
       "[1] FALSE"
      ]
     },
     "metadata": {},
     "output_type": "display_data"
    },
    {
     "name": "stderr",
     "output_type": "stream",
     "text": [
      "Warning message:\n",
      "\"Removed 2 rows containing missing values (geom_path).\""
     ]
    },
    {
     "data": {
      "image/png": "[encoded data removed]",
      "text/plain": [
       "plot without title"
      ]
     },
     "metadata": {},
     "output_type": "display_data"
    }
   ],
   "source": [
    "logistic2 <- function(t, y, p){\n",
    "    dN.dt <- ((-p[1] * y[1]^2 + p[2] * y[1] - p[3]) - (p[4] * y[1]^2)) * y[1] \n",
    "    return( list( dN.dt ) )\n",
    "   }   \n",
    "\n",
    "a< - 1/1600; e <- 80 * a; f <- 0.2; g <- 4e-05\n",
    "p <- c(a, e, f, g)\n",
    "\n",
    "# We name the state variable and the parameters\n",
    "y0 <- c(N=4)\n",
    "y1 <- c(N=5)\n",
    "t <- 0:69\n",
    "out1 <- ode(y=y0, times=t, func=logistic2, parms=p)\n",
    "out2 <-  ode(y=y1, times=t, func=logistic2, parms=p)\n",
    "\n",
    "    Fig11 <- data.frame(\"Time\" = t, \"Number\" =out1[,2], \"Mode\" = rep(\"N0= 4\", 70))\n",
    "    Fig12 <- data.frame(\"Time\" = t, \"Number\" = out2[,2], \"Mode\" = rep(\"N0 = 5\", 70))\n",
    "\n",
    "    \n",
    "    Fig1 <- rbind(Fig11, Fig12)\n",
    "  \n",
    "  ggplot(Fig1, aes(x=Time, y=Number, color=Mode)) +\n",
    "    geom_line(size=1) +\n",
    "    scale_x_continuous(name=\"Time\",  limits =c(1, 70), breaks=seq(0, 70, 5)) + \n",
    "    scale_y_continuous(name=\"NUMBER\\n\", limits = c(0, 75)) +\n",
    "    theme(aspect.ratio = 1/1.5) +  theme(legend.position = \"top\", legend.direction = \"horizontal\")+\n",
    "    ggtitle(label = 'Exponential Growth') "
   ]
  },
  {
   "cell_type": "code",
   "execution_count": 285,
   "id": "81ef5318-c22e-4875-995d-c6ef0a44817e",
   "metadata": {},
   "outputs": [
    {
     "data": {
      "image/png": "[encoded data removed]",
      "text/plain": [
       "plot without title"
      ]
     },
     "metadata": {},
     "output_type": "display_data"
    }
   ],
   "source": [
    "pgrA <- function(N, alpha, a, tau){ N*(1-alpha*N)*(1-(a+tau)/(N+tau)) }\n",
    "myData <- data.frame( N=c(0, 110) ) # ggplot requires a data frame\n",
    "p <- ggplot(data=myData, aes(x=N)) + # set the basic properties of the plot\n",
    "  # in the stat_function, we indicate the parameters in our equation.\n",
    "    stat_function(fun=pgrA, geom=\"line\", n=1001,\n",
    "                  args=list(alpha = 0.01, a=20, tau=.1)) + \n",
    "  labs(y=\"Population growth rate (dN/dt)\", x=\"Population size (N)\") + \n",
    "  #theme_classic() + \n",
    "  geom_hline(yintercept=0, lty=3)+\n",
    "  scale_x_continuous(expand = c(0, 0)) \n",
    "p"
   ]
  },
  {
   "cell_type": "markdown",
   "id": "01d7b0a0-17e6-4f73-8c4a-0b3b260973ca",
   "metadata": {},
   "source": [
    "### Effects of N on birth and death rates\n",
    "\n",
    "There are many mathematical forms of density-dependent growth, some of which will we describe below. Let’s start by decoupling the density-dependence of birth and death rates in logistic growth (N. J. Gotelli 2001).\n",
    "\n",
    "Recall from chapter density-independent growth that $ r = b-d$ Now we will let $b$ and $d$ be functions of population size $N$ ($b = f(N)$, $ d= g(N)$). We could let $f(N)$ and $g(N)$  take a wide variety of different forms. For now, however, let’s say that $N$ has linear effects on these rates so that \n",
    "$$\n",
    "    b = b_0 - aN \n",
    "$$\n",
    "$$\n",
    "    d = d_0 + cN\n",
    "$$\n",
    "\n",
    "With this addition we convert exponential population growth nto a form where both birth rate and death rate depend on density, but in independent ways:\n",
    "$$\n",
    "    \\frac {dN}{Ndt} = (b_0 - a N )-(d_0 + cN) \n",
    "$$\n",
    "$$\n",
    "     =(b_0 - d_0) - (a + c)N \n",
    "$$\n",
    "$$\n",
    "    = (b_0 - d_0) * (1- \\frac {a+c} {b_0 - d_0 } N)\n",
    "$$\n",
    "\n",
    "If we chose to, we can now say that the net negative effect of  $N$ n per capita population growth rate is\n",
    "$$\n",
    "    \\alpha = \\frac {a+c}{b_0 - d_0}\n",
    "$$\n",
    "where the numerator is the total direct negative effect of $N$ on birth and death rates, and the denominator is $r$ the net maximum per capita growth rate which occurs as $N$ approaches zero. "
   ]
  },
  {
   "cell_type": "markdown",
   "id": "b6bfd090-5d4f-4701-bfde-480b74f45ab1",
   "metadata": {},
   "source": [
    "### Sexual Vs. Asexual\n",
    "\n",
    "Here, we assume that resources limit the population size, instead of space.\n",
    "\n",
    "Under standart terminology, let b be the number of offspring produced by females in absence of any intraspecific competition. Let d be the death rate following reproduction. Now, let a represent the sensivity of birth rate to density, so that the actual Birth rate, B, is equal to: b-aN, where N is the number of hosts competing for resources in the relevant patch. Similarly, let c represent the sensivity of death rate to density, so that the actual Death rate, D is equal to: d-cN. Note that D is constrained to be less than or equal to one.\n",
    "\n",
    "The recursion equation for the number of individuals at time *t + 1*, as a function of Nt is:\n",
    "$$\n",
    "  N_{t+1} = N_{t} + BN_{t} - DN_{t} \n",
    "$$\n",
    "The change in population size is calculated as: \n",
    "$$ \n",
    " N_{t+1} - N_{t} = BN_{t} - DN_{t}\n",
    "$$\n",
    "The equilibrium density, Kasex, is thus attained when B=D. Hence as reviewed by Gotelli (1995), the carrying capacity is \n",
    "$$\n",
    "  K_{asex} = \\frac {b-d} {a+c}\n",
    "$$\n",
    "Using this value for Kasex, eqn 1 can be converted into the more familiar form of the discrete-time logistic equation:\n",
    "$$\n",
    "  N_{t+1} = N_{t} + rN_{t} ( 1 - \\frac {N_{t}} {K_{asex}}) \n",
    "$$\n",
    "\n",
    "where *r = b–d*. This formulation assumes that all individuals are reproducing (e.g. asexual). For a dioecious (orgonochoric) population, however, males are not directly producing offspring. Hence the calculation for equilibrium in a sexual population is attained when *(1– s)B = D*, where s is the frequency of males in the population. It is easy to show that the carrying capacity for a sexual population, Ksex, is equal to:\n",
    "$$\n",
    "    K_{sex} = \\frac {(1-s)b -d }{(1-s)a + c}\n",
    "$$"
   ]
  },
  {
   "cell_type": "code",
   "execution_count": 191,
   "id": "7640c4ae-b370-4363-935d-34a274dfe374",
   "metadata": {},
   "outputs": [
    {
     "data": {
      "text/html": [
       "10000"
      ],
      "text/latex": [
       "10000"
      ],
      "text/markdown": [
       "10000"
      ],
      "text/plain": [
       "[1] 10000"
      ]
     },
     "metadata": {},
     "output_type": "display_data"
    },
    {
     "data": {
      "text/html": [
       "20000"
      ],
      "text/latex": [
       "20000"
      ],
      "text/markdown": [
       "20000"
      ],
      "text/plain": [
       "[1] 20000"
      ]
     },
     "metadata": {},
     "output_type": "display_data"
    }
   ],
   "source": [
    "# the simulation assumes that carrying capacity is set by the parameters below, rather than being fixed.\n",
    "\n",
    "a = 0.0001  #a is a constant that gives the sensitivity to total population density\n",
    "d = 1.0 # d is the death rate.  Here I set d=1, meaning an annual species.\n",
    "b = 3.0 # b is the number of offspring prouduced by a single female (sexual or asexual)\n",
    "c = 0  # c is a constant that gives the sensitivity of the death rate to density.  Here set = 0.\n",
    "s = 1/2 # s is the frequency of males in the sexual subpopulation.  (1-s) gives the freq of females in sexual popl\n",
    "\n",
    "# anayltical solutions: carrying capacities for sexual and asexuals are set by the parameters given above\n",
    "Ksex = ((1-s)*b - d)/((1-s)*a + c) #solution for carrying capacity of sexual population\n",
    "Kasex = (b - d)/(a + c) #solution for carrying capacity of asexual population\n",
    "\n",
    "Ksex \n",
    "Kasex"
   ]
  },
  {
   "cell_type": "code",
   "execution_count": 195,
   "id": "5131ec2e-1850-4e83-ba6d-d4ca9f66291b",
   "metadata": {},
   "outputs": [],
   "source": [
    "# intitial conditions.  Sex initiated at Ksex.  Asex at 0.\n",
    "Sex = Ksex \n",
    "Asex = 0\n",
    "\n",
    "Gasex = 1000 #generation at which a single asexual female is introduced\n",
    "\n",
    "T = 1200 # T is the number of time steps in addition to time step 0\n",
    "time = c(1:T)  #sets up do loop for i = 1 to T\n",
    "\n",
    "outSex = vector()  # outSex vector\n",
    "outSex[1]=Sex[1]\n",
    "\n",
    "outAsex = vector()  # outAsex  vector\n",
    "outAsex[1]=Asex[1]\n",
    "\n",
    "Ext_time = 0 "
   ]
  },
  {
   "cell_type": "code",
   "execution_count": 197,
   "id": "53acb820-0494-4add-a29a-0ee82201fad4",
   "metadata": {},
   "outputs": [
    {
     "data": {
      "text/html": [
       "1029"
      ],
      "text/latex": [
       "1029"
      ],
      "text/markdown": [
       "1029"
      ],
      "text/plain": [
       "[1] 1029"
      ]
     },
     "metadata": {},
     "output_type": "display_data"
    }
   ],
   "source": [
    "for(i in 1:T)\n",
    "\n",
    "{\n",
    "  outSex[i] = Sex[i]\n",
    "  Sex[i+1] = Sex[i] - Sex[i]*(d + c*(Sex[i]+Asex[i])) + Sex[i]*(1-s)*(b - a*(Sex[i]+Asex[i]))\n",
    "  if ( outSex[i] < 1){\n",
    "      if (Ext_time == 0) {\n",
    "\n",
    "          Ext_time = i\n",
    "      }\n",
    "  }\n",
    "  if(i == Gasex)\n",
    "    {\n",
    "    Asex[i] = Asex[i] + 1\n",
    "    }\n",
    "  \n",
    "  outAsex[i] = Asex[i]\n",
    "  Asex[i+1] = Asex[i] - Asex[i]*d + Asex[i]*(b - a*(Sex[i]+Asex[i]))\n",
    "\n",
    "}\n",
    "\n",
    "Ext_time"
   ]
  },
  {
   "cell_type": "code",
   "execution_count": 207,
   "id": "843017dc-a677-4351-afa8-104b8a31bf15",
   "metadata": {},
   "outputs": [
    {
     "data": {
      "text/html": [
       "<table>\n",
       "<thead><tr><th scope=col>Generation</th><th scope=col>Sexual</th><th scope=col>Asexual</th></tr></thead>\n",
       "<tbody>\n",
       "\t<tr><td> 999        </td><td>1.000000e+04</td><td>    0.00000 </td></tr>\n",
       "\t<tr><td>1000        </td><td>1.000000e+04</td><td>    1.00000 </td></tr>\n",
       "\t<tr><td>1001        </td><td>1.000000e+04</td><td>    1.99990 </td></tr>\n",
       "\t<tr><td>1002        </td><td>9.999000e+03</td><td>    3.99940 </td></tr>\n",
       "\t<tr><td>1003        </td><td>9.997500e+03</td><td>    7.99760 </td></tr>\n",
       "\t<tr><td>1004        </td><td>9.994752e+03</td><td>   15.99080 </td></tr>\n",
       "\t<tr><td>1005        </td><td>9.989383e+03</td><td>   31.96443 </td></tr>\n",
       "\t<tr><td>1006        </td><td>9.978721e+03</td><td>   63.86062 </td></tr>\n",
       "\t<tr><td>1007        </td><td>9.957475e+03</td><td>  127.44931 </td></tr>\n",
       "\t<tr><td>1008        </td><td>9.915194e+03</td><td>  253.81627 </td></tr>\n",
       "\t<tr><td>1009        </td><td>9.831405e+03</td><td>  503.34278 </td></tr>\n",
       "\t<tr><td>1010        </td><td>9.666853e+03</td><td>  989.83626 </td></tr>\n",
       "\t<tr><td>1011        </td><td>9.349447e+03</td><td> 1914.67103 </td></tr>\n",
       "\t<tr><td>1012        </td><td>8.758507e+03</td><td> 3587.30502 </td></tr>\n",
       "\t<tr><td>1013        </td><td>7.731216e+03</td><td> 6333.09578 </td></tr>\n",
       "\t<tr><td>1014        </td><td>6.160113e+03</td><td>10092.22375 </td></tr>\n",
       "\t<tr><td>1015        </td><td>4.234358e+03</td><td>13874.44982 </td></tr>\n",
       "\t<tr><td>1016        </td><td>2.517578e+03</td><td>16498.37522 </td></tr>\n",
       "\t<tr><td>1017        </td><td>1.382660e+03</td><td>18121.89227 </td></tr>\n",
       "\t<tr><td>1018        </td><td>7.255817e+02</td><td>19019.73769 </td></tr>\n",
       "\t<tr><td>1019        </td><td>3.720304e+02</td><td>19504.13354 </td></tr>\n",
       "\t<tr><td>1020        </td><td>1.883188e+02</td><td>19745.66499 </td></tr>\n",
       "\t<tr><td>1021        </td><td>9.478098e+01</td><td>19876.01848 </td></tr>\n",
       "\t<tr><td>1022        </td><td>4.752887e+01</td><td>19934.05753 </td></tr>\n",
       "\t<tr><td>1023        </td><td>2.380820e+01</td><td>19970.76330 </td></tr>\n",
       "\t<tr><td>1024        </td><td>1.191056e+01</td><td>19981.60443 </td></tr>\n",
       "\t<tr><td>1025        </td><td>5.959142e+00</td><td>19994.56252 </td></tr>\n",
       "\t<tr><td>1026        </td><td>2.979416e+00</td><td>19993.51948 </td></tr>\n",
       "\t<tr><td>1027        </td><td>1.490229e+00</td><td>20000.51942 </td></tr>\n",
       "\t<tr><td>1028        </td><td>7.449649e-01</td><td>19996.50002 </td></tr>\n",
       "\t<tr><td>1029        </td><td>3.725851e-01</td><td>20002.00909 </td></tr>\n",
       "\t<tr><td>1030        </td><td>1.862482e-01</td><td>19997.24526 </td></tr>\n",
       "\t<tr><td>1031        </td><td>9.314800e-02</td><td>20002.38153 </td></tr>\n",
       "\t<tr><td>1032        </td><td>4.656248e-02</td><td>19997.43158 </td></tr>\n",
       "\t<tr><td>1033        </td><td>2.328711e-02</td><td>20002.47464 </td></tr>\n",
       "\t<tr><td>1034        </td><td>1.164065e-02</td><td>19997.47816 </td></tr>\n",
       "\t<tr><td>1035        </td><td>5.821784e-03</td><td>20002.49792 </td></tr>\n",
       "\t<tr><td>1036        </td><td>2.910163e-03</td><td>19997.48981 </td></tr>\n",
       "\t<tr><td>1037        </td><td>1.455446e-03</td><td>20002.50374 </td></tr>\n",
       "\t<tr><td>1038        </td><td>7.275409e-04</td><td>19997.49272 </td></tr>\n",
       "\t<tr><td>1039        </td><td>3.638616e-04</td><td>20002.50520 </td></tr>\n",
       "\t<tr><td>1040        </td><td>1.818852e-04</td><td>19997.49345 </td></tr>\n",
       "</tbody>\n",
       "</table>\n"
      ],
      "text/latex": [
       "\\begin{tabular}{r|lll}\n",
       " Generation & Sexual & Asexual\\\\\n",
       "\\hline\n",
       "\t  999         & 1.000000e+04 &     0.00000 \\\\\n",
       "\t 1000         & 1.000000e+04 &     1.00000 \\\\\n",
       "\t 1001         & 1.000000e+04 &     1.99990 \\\\\n",
       "\t 1002         & 9.999000e+03 &     3.99940 \\\\\n",
       "\t 1003         & 9.997500e+03 &     7.99760 \\\\\n",
       "\t 1004         & 9.994752e+03 &    15.99080 \\\\\n",
       "\t 1005         & 9.989383e+03 &    31.96443 \\\\\n",
       "\t 1006         & 9.978721e+03 &    63.86062 \\\\\n",
       "\t 1007         & 9.957475e+03 &   127.44931 \\\\\n",
       "\t 1008         & 9.915194e+03 &   253.81627 \\\\\n",
       "\t 1009         & 9.831405e+03 &   503.34278 \\\\\n",
       "\t 1010         & 9.666853e+03 &   989.83626 \\\\\n",
       "\t 1011         & 9.349447e+03 &  1914.67103 \\\\\n",
       "\t 1012         & 8.758507e+03 &  3587.30502 \\\\\n",
       "\t 1013         & 7.731216e+03 &  6333.09578 \\\\\n",
       "\t 1014         & 6.160113e+03 & 10092.22375 \\\\\n",
       "\t 1015         & 4.234358e+03 & 13874.44982 \\\\\n",
       "\t 1016         & 2.517578e+03 & 16498.37522 \\\\\n",
       "\t 1017         & 1.382660e+03 & 18121.89227 \\\\\n",
       "\t 1018         & 7.255817e+02 & 19019.73769 \\\\\n",
       "\t 1019         & 3.720304e+02 & 19504.13354 \\\\\n",
       "\t 1020         & 1.883188e+02 & 19745.66499 \\\\\n",
       "\t 1021         & 9.478098e+01 & 19876.01848 \\\\\n",
       "\t 1022         & 4.752887e+01 & 19934.05753 \\\\\n",
       "\t 1023         & 2.380820e+01 & 19970.76330 \\\\\n",
       "\t 1024         & 1.191056e+01 & 19981.60443 \\\\\n",
       "\t 1025         & 5.959142e+00 & 19994.56252 \\\\\n",
       "\t 1026         & 2.979416e+00 & 19993.51948 \\\\\n",
       "\t 1027         & 1.490229e+00 & 20000.51942 \\\\\n",
       "\t 1028         & 7.449649e-01 & 19996.50002 \\\\\n",
       "\t 1029         & 3.725851e-01 & 20002.00909 \\\\\n",
       "\t 1030         & 1.862482e-01 & 19997.24526 \\\\\n",
       "\t 1031         & 9.314800e-02 & 20002.38153 \\\\\n",
       "\t 1032         & 4.656248e-02 & 19997.43158 \\\\\n",
       "\t 1033         & 2.328711e-02 & 20002.47464 \\\\\n",
       "\t 1034         & 1.164065e-02 & 19997.47816 \\\\\n",
       "\t 1035         & 5.821784e-03 & 20002.49792 \\\\\n",
       "\t 1036         & 2.910163e-03 & 19997.48981 \\\\\n",
       "\t 1037         & 1.455446e-03 & 20002.50374 \\\\\n",
       "\t 1038         & 7.275409e-04 & 19997.49272 \\\\\n",
       "\t 1039         & 3.638616e-04 & 20002.50520 \\\\\n",
       "\t 1040         & 1.818852e-04 & 19997.49345 \\\\\n",
       "\\end{tabular}\n"
      ],
      "text/markdown": [
       "\n",
       "| Generation | Sexual | Asexual |\n",
       "|---|---|---|\n",
       "|  999         | 1.000000e+04 |     0.00000  |\n",
       "| 1000         | 1.000000e+04 |     1.00000  |\n",
       "| 1001         | 1.000000e+04 |     1.99990  |\n",
       "| 1002         | 9.999000e+03 |     3.99940  |\n",
       "| 1003         | 9.997500e+03 |     7.99760  |\n",
       "| 1004         | 9.994752e+03 |    15.99080  |\n",
       "| 1005         | 9.989383e+03 |    31.96443  |\n",
       "| 1006         | 9.978721e+03 |    63.86062  |\n",
       "| 1007         | 9.957475e+03 |   127.44931  |\n",
       "| 1008         | 9.915194e+03 |   253.81627  |\n",
       "| 1009         | 9.831405e+03 |   503.34278  |\n",
       "| 1010         | 9.666853e+03 |   989.83626  |\n",
       "| 1011         | 9.349447e+03 |  1914.67103  |\n",
       "| 1012         | 8.758507e+03 |  3587.30502  |\n",
       "| 1013         | 7.731216e+03 |  6333.09578  |\n",
       "| 1014         | 6.160113e+03 | 10092.22375  |\n",
       "| 1015         | 4.234358e+03 | 13874.44982  |\n",
       "| 1016         | 2.517578e+03 | 16498.37522  |\n",
       "| 1017         | 1.382660e+03 | 18121.89227  |\n",
       "| 1018         | 7.255817e+02 | 19019.73769  |\n",
       "| 1019         | 3.720304e+02 | 19504.13354  |\n",
       "| 1020         | 1.883188e+02 | 19745.66499  |\n",
       "| 1021         | 9.478098e+01 | 19876.01848  |\n",
       "| 1022         | 4.752887e+01 | 19934.05753  |\n",
       "| 1023         | 2.380820e+01 | 19970.76330  |\n",
       "| 1024         | 1.191056e+01 | 19981.60443  |\n",
       "| 1025         | 5.959142e+00 | 19994.56252  |\n",
       "| 1026         | 2.979416e+00 | 19993.51948  |\n",
       "| 1027         | 1.490229e+00 | 20000.51942  |\n",
       "| 1028         | 7.449649e-01 | 19996.50002  |\n",
       "| 1029         | 3.725851e-01 | 20002.00909  |\n",
       "| 1030         | 1.862482e-01 | 19997.24526  |\n",
       "| 1031         | 9.314800e-02 | 20002.38153  |\n",
       "| 1032         | 4.656248e-02 | 19997.43158  |\n",
       "| 1033         | 2.328711e-02 | 20002.47464  |\n",
       "| 1034         | 1.164065e-02 | 19997.47816  |\n",
       "| 1035         | 5.821784e-03 | 20002.49792  |\n",
       "| 1036         | 2.910163e-03 | 19997.48981  |\n",
       "| 1037         | 1.455446e-03 | 20002.50374  |\n",
       "| 1038         | 7.275409e-04 | 19997.49272  |\n",
       "| 1039         | 3.638616e-04 | 20002.50520  |\n",
       "| 1040         | 1.818852e-04 | 19997.49345  |\n",
       "\n"
      ],
      "text/plain": [
       "   Generation Sexual       Asexual    \n",
       "1   999       1.000000e+04     0.00000\n",
       "2  1000       1.000000e+04     1.00000\n",
       "3  1001       1.000000e+04     1.99990\n",
       "4  1002       9.999000e+03     3.99940\n",
       "5  1003       9.997500e+03     7.99760\n",
       "6  1004       9.994752e+03    15.99080\n",
       "7  1005       9.989383e+03    31.96443\n",
       "8  1006       9.978721e+03    63.86062\n",
       "9  1007       9.957475e+03   127.44931\n",
       "10 1008       9.915194e+03   253.81627\n",
       "11 1009       9.831405e+03   503.34278\n",
       "12 1010       9.666853e+03   989.83626\n",
       "13 1011       9.349447e+03  1914.67103\n",
       "14 1012       8.758507e+03  3587.30502\n",
       "15 1013       7.731216e+03  6333.09578\n",
       "16 1014       6.160113e+03 10092.22375\n",
       "17 1015       4.234358e+03 13874.44982\n",
       "18 1016       2.517578e+03 16498.37522\n",
       "19 1017       1.382660e+03 18121.89227\n",
       "20 1018       7.255817e+02 19019.73769\n",
       "21 1019       3.720304e+02 19504.13354\n",
       "22 1020       1.883188e+02 19745.66499\n",
       "23 1021       9.478098e+01 19876.01848\n",
       "24 1022       4.752887e+01 19934.05753\n",
       "25 1023       2.380820e+01 19970.76330\n",
       "26 1024       1.191056e+01 19981.60443\n",
       "27 1025       5.959142e+00 19994.56252\n",
       "28 1026       2.979416e+00 19993.51948\n",
       "29 1027       1.490229e+00 20000.51942\n",
       "30 1028       7.449649e-01 19996.50002\n",
       "31 1029       3.725851e-01 20002.00909\n",
       "32 1030       1.862482e-01 19997.24526\n",
       "33 1031       9.314800e-02 20002.38153\n",
       "34 1032       4.656248e-02 19997.43158\n",
       "35 1033       2.328711e-02 20002.47464\n",
       "36 1034       1.164065e-02 19997.47816\n",
       "37 1035       5.821784e-03 20002.49792\n",
       "38 1036       2.910163e-03 19997.48981\n",
       "39 1037       1.455446e-03 20002.50374\n",
       "40 1038       7.275409e-04 19997.49272\n",
       "41 1039       3.638616e-04 20002.50520\n",
       "42 1040       1.818852e-04 19997.49345"
      ]
     },
     "metadata": {},
     "output_type": "display_data"
    }
   ],
   "source": [
    "Male_cost <- data.frame (\n",
    "\n",
    "    Generation = time[999:1040], \n",
    "    Sexual = outSex[999:1040],\n",
    "    Asexual = outAsex[999:1040]\n",
    "    \n",
    ")\n",
    "Male_cost"
   ]
  },
  {
   "cell_type": "code",
   "execution_count": 208,
   "id": "da96a6d2-aef2-4ed8-a2cd-863c02b17360",
   "metadata": {},
   "outputs": [
    {
     "name": "stderr",
     "output_type": "stream",
     "text": [
      "Warning message:\n",
      "\"Removed 2248 rows containing missing values (geom_path).\"Warning message in grid.Call.graphics(C_text, as.graphicsAnnot(x$label), x$x, x$y, :\n",
      "\"font family not found in Windows font database\""
     ]
    },
    {
     "data": {
      "image/png": "[encoded data removed]",
      "text/plain": [
       "plot without title"
      ]
     },
     "metadata": {},
     "output_type": "display_data"
    }
   ],
   "source": [
    "Fig12 <- data.frame(\"Generation\" = time, \"Number\" = outAsex, \"Mode\" = rep(\"Asexuals\", length(outAsex)))\n",
    "Fig12s <- data.frame(\"Generation\" = time, \"Number\" = outSex, \"Mode\" = rep(\"Sexuals\", length(outSex)))\n",
    "Fig12 <- rbind(Fig12, Fig12s)\n",
    "\n",
    "ggplot(Fig12, aes(x=Generation, y=Number, color=Mode)) +\n",
    "  geom_line(size=2) +\n",
    "  scale_x_continuous(name=\"GENERATION\",  limits =c(975, 1050), breaks=seq(975, 1050, 25)) + \n",
    "  scale_y_continuous(name=\"NUMBER\\n\", limits = c(0, 21500)) +\n",
    "  scale_color_manual(values = c(Asexuals = \"#235FA4\", Sexuals = \"#FF4242\"))  +\n",
    "  annotate(geom = \"text\", x= 1040, y = 21500, label = \"Asexuals\", color = \"#235FA4\", size = 6, family = \"Routed Gothic\") +\n",
    "  annotate(geom = \"text\", x= 1040, y = 1500, label = \"Sexuals\", color = \"#FF4242\", size = 6, family = \"Routed Gothic\") +\n",
    "  theme(aspect.ratio = 1/1.5) +  theme(legend.position = \"top\", legend.direction = \"horizontal\")"
   ]
  },
  {
   "cell_type": "markdown",
   "id": "48405831-da09-4f71-966d-3e0fc96ae56a",
   "metadata": {},
   "source": [
    "## Theta-logistic growth\n",
    "The life history of a population frequently does not respond to increases in density in a linear fashion, as assumed by the logistic equation.Here we explore a simple extension of the logistic model, the theta-logistic model, which adds a parameter to increase flexibility and generality.\n",
    "$$\n",
    "    \\frac {dN}{dt} = rN(1-(\\frac {N}{K})^\\theta)\n",
    "$$\n",
    "A little imagination lets us see that, at face value, \n",
    "- $\\theta > 0$ implies growth and a stable equilibrium at $K$\n",
    "- $\\theta = 0$ means zero growth "
   ]
  },
  {
   "cell_type": "code",
   "execution_count": 213,
   "id": "499fc734-0c21-47cb-a841-2ba09e22392f",
   "metadata": {},
   "outputs": [
    {
     "data": {
      "image/png": "[encoded data removed]",
      "text/plain": [
       "Plot with title \"N\""
      ]
     },
     "metadata": {},
     "output_type": "display_data"
    }
   ],
   "source": [
    "thetalogistic <- function(t, y, p){\n",
    "    dN.dt <- p[1] * y[1] * (1 - (p[2] * y[1])^p[3])\n",
    "    return( list( dN.dt ) )\n",
    "   }   \n",
    "r <- .75; alpha <- 0.01; theta <- 0.5; \n",
    "p <- c(r, alpha, theta)\n",
    "\n",
    "# We name the state variable and the parameters\n",
    "y0 <- c(N=1)\n",
    "t <- 0:20\n",
    "outtheta <- ode(y=y0, times=t, fun=thetalogistic, parms=p)"
   ]
  },
  {
   "cell_type": "code",
   "execution_count": 255,
   "id": "815d272a-0721-43d6-a5bb-27e47e37b9de",
   "metadata": {},
   "outputs": [
    {
     "data": {
      "text/html": [
       "<table>\n",
       "<thead><tr><th scope=col>Theta_0.6.time</th><th scope=col>Theta_0.6.N</th><th scope=col>Theta_1.time</th><th scope=col>Theta_1.N</th><th scope=col>Theta_1.6.time</th><th scope=col>Theta_1.6.N</th></tr></thead>\n",
       "<tbody>\n",
       "\t<tr><td> 0       </td><td> 1.000000</td><td> 0       </td><td> 1.000000</td><td> 0       </td><td> 1.000000</td></tr>\n",
       "\t<tr><td> 1       </td><td> 1.936750</td><td> 1       </td><td> 2.093617</td><td> 1       </td><td> 2.114073</td></tr>\n",
       "\t<tr><td> 2       </td><td> 3.626315</td><td> 2       </td><td> 4.330904</td><td> 2       </td><td> 4.456517</td></tr>\n",
       "\t<tr><td> 3       </td><td> 6.501464</td><td> 3       </td><td> 8.745424</td><td> 3       </td><td> 9.313313</td></tr>\n",
       "\t<tr><td> 4       </td><td>11.050780</td><td> 4       </td><td>16.866420</td><td> 4       </td><td>18.975470</td></tr>\n",
       "\t<tr><td> 5       </td><td>17.651168</td><td> 5       </td><td>30.045689</td><td> 5       </td><td>36.138860</td></tr>\n",
       "\t<tr><td> 6       </td><td>26.336434</td><td> 6       </td><td>47.623787</td><td> 6       </td><td>59.666725</td></tr>\n",
       "\t<tr><td> 7       </td><td>36.643911</td><td> 7       </td><td>65.810834</td><td> 7       </td><td>80.686198</td></tr>\n",
       "\t<tr><td> 8       </td><td>47.688376</td><td> 8       </td><td>80.295545</td><td> 8       </td><td>92.542167</td></tr>\n",
       "\t<tr><td> 9       </td><td>58.453199</td><td> 9       </td><td>89.612352</td><td> 9       </td><td>97.417585</td></tr>\n",
       "\t<tr><td>10       </td><td>68.114219</td><td>10       </td><td>94.808793</td><td>10       </td><td>99.142981</td></tr>\n",
       "\t<tr><td>11       </td><td>76.213292</td><td>11       </td><td>97.478807</td><td>11       </td><td>99.719741</td></tr>\n",
       "\t<tr><td>12       </td><td>82.647391</td><td>12       </td><td>98.793065</td><td>12       </td><td>99.908796</td></tr>\n",
       "\t<tr><td>13       </td><td>87.553866</td><td>13       </td><td>99.426257</td><td>13       </td><td>99.970372</td></tr>\n",
       "\t<tr><td>14       </td><td>91.183846</td><td>14       </td><td>99.728093</td><td>14       </td><td>99.990385</td></tr>\n",
       "\t<tr><td>15       </td><td>93.811159</td><td>15       </td><td>99.871406</td><td>15       </td><td>99.996863</td></tr>\n",
       "\t<tr><td>16       </td><td>95.683272</td><td>16       </td><td>99.939218</td><td>16       </td><td>99.998990</td></tr>\n",
       "\t<tr><td>17       </td><td>97.002631</td><td>17       </td><td>99.971288</td><td>17       </td><td>99.999678</td></tr>\n",
       "\t<tr><td>18       </td><td>97.925326</td><td>18       </td><td>99.986433</td><td>18       </td><td>99.999889</td></tr>\n",
       "\t<tr><td>19       </td><td>98.567149</td><td>19       </td><td>99.993585</td><td>19       </td><td>99.999963</td></tr>\n",
       "\t<tr><td>20       </td><td>99.011923</td><td>20       </td><td>99.996957</td><td>20       </td><td>99.999987</td></tr>\n",
       "</tbody>\n",
       "</table>\n"
      ],
      "text/latex": [
       "\\begin{tabular}{r|llllll}\n",
       " Theta\\_0.6.time & Theta\\_0.6.N & Theta\\_1.time & Theta\\_1.N & Theta\\_1.6.time & Theta\\_1.6.N\\\\\n",
       "\\hline\n",
       "\t  0        &  1.000000 &  0        &  1.000000 &  0        &  1.000000\\\\\n",
       "\t  1        &  1.936750 &  1        &  2.093617 &  1        &  2.114073\\\\\n",
       "\t  2        &  3.626315 &  2        &  4.330904 &  2        &  4.456517\\\\\n",
       "\t  3        &  6.501464 &  3        &  8.745424 &  3        &  9.313313\\\\\n",
       "\t  4        & 11.050780 &  4        & 16.866420 &  4        & 18.975470\\\\\n",
       "\t  5        & 17.651168 &  5        & 30.045689 &  5        & 36.138860\\\\\n",
       "\t  6        & 26.336434 &  6        & 47.623787 &  6        & 59.666725\\\\\n",
       "\t  7        & 36.643911 &  7        & 65.810834 &  7        & 80.686198\\\\\n",
       "\t  8        & 47.688376 &  8        & 80.295545 &  8        & 92.542167\\\\\n",
       "\t  9        & 58.453199 &  9        & 89.612352 &  9        & 97.417585\\\\\n",
       "\t 10        & 68.114219 & 10        & 94.808793 & 10        & 99.142981\\\\\n",
       "\t 11        & 76.213292 & 11        & 97.478807 & 11        & 99.719741\\\\\n",
       "\t 12        & 82.647391 & 12        & 98.793065 & 12        & 99.908796\\\\\n",
       "\t 13        & 87.553866 & 13        & 99.426257 & 13        & 99.970372\\\\\n",
       "\t 14        & 91.183846 & 14        & 99.728093 & 14        & 99.990385\\\\\n",
       "\t 15        & 93.811159 & 15        & 99.871406 & 15        & 99.996863\\\\\n",
       "\t 16        & 95.683272 & 16        & 99.939218 & 16        & 99.998990\\\\\n",
       "\t 17        & 97.002631 & 17        & 99.971288 & 17        & 99.999678\\\\\n",
       "\t 18        & 97.925326 & 18        & 99.986433 & 18        & 99.999889\\\\\n",
       "\t 19        & 98.567149 & 19        & 99.993585 & 19        & 99.999963\\\\\n",
       "\t 20        & 99.011923 & 20        & 99.996957 & 20        & 99.999987\\\\\n",
       "\\end{tabular}\n"
      ],
      "text/markdown": [
       "\n",
       "| Theta_0.6.time | Theta_0.6.N | Theta_1.time | Theta_1.N | Theta_1.6.time | Theta_1.6.N |\n",
       "|---|---|---|---|---|---|\n",
       "|  0        |  1.000000 |  0        |  1.000000 |  0        |  1.000000 |\n",
       "|  1        |  1.936750 |  1        |  2.093617 |  1        |  2.114073 |\n",
       "|  2        |  3.626315 |  2        |  4.330904 |  2        |  4.456517 |\n",
       "|  3        |  6.501464 |  3        |  8.745424 |  3        |  9.313313 |\n",
       "|  4        | 11.050780 |  4        | 16.866420 |  4        | 18.975470 |\n",
       "|  5        | 17.651168 |  5        | 30.045689 |  5        | 36.138860 |\n",
       "|  6        | 26.336434 |  6        | 47.623787 |  6        | 59.666725 |\n",
       "|  7        | 36.643911 |  7        | 65.810834 |  7        | 80.686198 |\n",
       "|  8        | 47.688376 |  8        | 80.295545 |  8        | 92.542167 |\n",
       "|  9        | 58.453199 |  9        | 89.612352 |  9        | 97.417585 |\n",
       "| 10        | 68.114219 | 10        | 94.808793 | 10        | 99.142981 |\n",
       "| 11        | 76.213292 | 11        | 97.478807 | 11        | 99.719741 |\n",
       "| 12        | 82.647391 | 12        | 98.793065 | 12        | 99.908796 |\n",
       "| 13        | 87.553866 | 13        | 99.426257 | 13        | 99.970372 |\n",
       "| 14        | 91.183846 | 14        | 99.728093 | 14        | 99.990385 |\n",
       "| 15        | 93.811159 | 15        | 99.871406 | 15        | 99.996863 |\n",
       "| 16        | 95.683272 | 16        | 99.939218 | 16        | 99.998990 |\n",
       "| 17        | 97.002631 | 17        | 99.971288 | 17        | 99.999678 |\n",
       "| 18        | 97.925326 | 18        | 99.986433 | 18        | 99.999889 |\n",
       "| 19        | 98.567149 | 19        | 99.993585 | 19        | 99.999963 |\n",
       "| 20        | 99.011923 | 20        | 99.996957 | 20        | 99.999987 |\n",
       "\n"
      ],
      "text/plain": [
       "   Theta_0.6.time Theta_0.6.N Theta_1.time Theta_1.N Theta_1.6.time Theta_1.6.N\n",
       "1   0              1.000000    0            1.000000  0              1.000000  \n",
       "2   1              1.936750    1            2.093617  1              2.114073  \n",
       "3   2              3.626315    2            4.330904  2              4.456517  \n",
       "4   3              6.501464    3            8.745424  3              9.313313  \n",
       "5   4             11.050780    4           16.866420  4             18.975470  \n",
       "6   5             17.651168    5           30.045689  5             36.138860  \n",
       "7   6             26.336434    6           47.623787  6             59.666725  \n",
       "8   7             36.643911    7           65.810834  7             80.686198  \n",
       "9   8             47.688376    8           80.295545  8             92.542167  \n",
       "10  9             58.453199    9           89.612352  9             97.417585  \n",
       "11 10             68.114219   10           94.808793 10             99.142981  \n",
       "12 11             76.213292   11           97.478807 11             99.719741  \n",
       "13 12             82.647391   12           98.793065 12             99.908796  \n",
       "14 13             87.553866   13           99.426257 13             99.970372  \n",
       "15 14             91.183846   14           99.728093 14             99.990385  \n",
       "16 15             93.811159   15           99.871406 15             99.996863  \n",
       "17 16             95.683272   16           99.939218 16             99.998990  \n",
       "18 17             97.002631   17           99.971288 17             99.999678  \n",
       "19 18             97.925326   18           99.986433 18             99.999889  \n",
       "20 19             98.567149   19           99.993585 19             99.999963  \n",
       "21 20             99.011923   20           99.996957 20             99.999987  "
      ]
     },
     "metadata": {},
     "output_type": "display_data"
    }
   ],
   "source": [
    "theta_frame <- data.frame (\n",
    "\n",
    "    Theta_0.6 = ode(y=y0, times=t, fun=thetalogistic, parms=c(r, alpha, 0.5)),\n",
    "    Theta_1 = ode(y=y0, times=t, fun=thetalogistic, parms=c(r, alpha, 1)),\n",
    "    Theta_1.6 = ode(y=y0, times=t, fun=thetalogistic, parms=c(r, alpha, 1.5))\n",
    "    \n",
    ")\n",
    "theta_frame\n"
   ]
  },
  {
   "cell_type": "code",
   "execution_count": 258,
   "id": "0c24e9cc-6252-4391-a5f5-f189566fa578",
   "metadata": {},
   "outputs": [
    {
     "name": "stderr",
     "output_type": "stream",
     "text": [
      "Warning message:\n",
      "\"Removed 3 rows containing missing values (geom_path).\""
     ]
    },
    {
     "data": {
      "image/png": "[encoded data removed]",
      "text/plain": [
       "plot without title"
      ]
     },
     "metadata": {},
     "output_type": "display_data"
    }
   ],
   "source": [
    "    Fig11 <- data.frame(\"Time\" = theta_frame[1:21,1], \"Number\" =theta_frame[1:21,2], \"Mode\" = rep(\"theta = 0.5\", 21))\n",
    "    Fig12 <- data.frame(\"Time\" = theta_frame[1:21,3], \"Number\" = theta_frame[1:21,4], \"Mode\" = rep(\"theta = 1\", 21))\n",
    "    Fig13 <- data.frame(\"Time\" = theta_frame[1:21,5], \"Number\" = theta_frame[1:21,6], \"Mode\" = rep(\"theta = 1.5\", 21))\n",
    "\n",
    "    \n",
    "    Fig1 <- rbind(Fig11, Fig12, Fig13)\n",
    "  \n",
    "  ggplot(Fig1, aes(x=Time, y= Number, color=Mode)) +\n",
    "    geom_line(size=1) +\n",
    "    scale_x_continuous(name=\"Time\",  limits =c(1, 20), breaks=seq(0, 20, 1)) + \n",
    "    scale_y_continuous(name=\"Number\\n\", limits = c(0, 100)) +\n",
    "    theme(aspect.ratio = 1/1.5) +  theme(legend.position = \"top\", legend.direction = \"horizontal\")+\n",
    "    ggtitle(label = 'Theta Logistic') "
   ]
  },
  {
   "cell_type": "code",
   "execution_count": 230,
   "id": "78436d6b-175c-4be4-b94d-2b408f4f77d4",
   "metadata": {},
   "outputs": [
    {
     "data": {
      "text/html": [
       "<table>\n",
       "<thead><tr><th scope=col>Theta_0.5_r</th><th scope=col>Theta_1_r</th><th scope=col>Theta_1.5_r</th></tr></thead>\n",
       "<tbody>\n",
       "\t<tr><td>0.936750250 </td><td>1.093617e+00</td><td>1.114073e+00</td></tr>\n",
       "\t<tr><td>0.872371225 </td><td>1.068622e+00</td><td>1.108024e+00</td></tr>\n",
       "\t<tr><td>0.792856811 </td><td>1.019307e+00</td><td>1.089819e+00</td></tr>\n",
       "\t<tr><td>0.699737010 </td><td>9.285995e-01</td><td>1.037457e+00</td></tr>\n",
       "\t<tr><td>0.597278094 </td><td>7.813910e-01</td><td>9.045041e-01</td></tr>\n",
       "\t<tr><td>0.492050467 </td><td>5.850456e-01</td><td>6.510406e-01</td></tr>\n",
       "\t<tr><td>0.391377129 </td><td>3.818900e-01</td><td>3.522813e-01</td></tr>\n",
       "\t<tr><td>0.301399721 </td><td>2.200962e-01</td><td>1.469392e-01</td></tr>\n",
       "\t<tr><td>0.225732647 </td><td>1.160314e-01</td><td>5.268321e-02</td></tr>\n",
       "\t<tr><td>0.165277864 </td><td>5.798800e-02</td><td>1.771134e-02</td></tr>\n",
       "\t<tr><td>0.118904294 </td><td>2.816209e-02</td><td>5.817453e-03</td></tr>\n",
       "\t<tr><td>0.084422264 </td><td>1.348251e-02</td><td>1.895864e-03</td></tr>\n",
       "\t<tr><td>0.059366363 </td><td>6.409271e-03</td><td>6.163177e-04</td></tr>\n",
       "\t<tr><td>0.041459963 </td><td>3.035779e-03</td><td>2.001974e-04</td></tr>\n",
       "\t<tr><td>0.028813359 </td><td>1.437036e-03</td><td>6.478571e-05</td></tr>\n",
       "\t<tr><td>0.019956182 </td><td>6.789994e-04</td><td>2.126804e-05</td></tr>\n",
       "\t<tr><td>0.013788817 </td><td>3.208950e-04</td><td>6.880215e-06</td></tr>\n",
       "\t<tr><td>0.009512065 </td><td>1.514860e-04</td><td>2.105441e-06</td></tr>\n",
       "\t<tr><td>0.006554210 </td><td>7.152954e-05</td><td>7.398590e-07</td></tr>\n",
       "\t<tr><td>0.004512388 </td><td>3.372782e-05</td><td>2.478385e-07</td></tr>\n",
       "</tbody>\n",
       "</table>\n"
      ],
      "text/latex": [
       "\\begin{tabular}{r|lll}\n",
       " Theta\\_0.5\\_r & Theta\\_1\\_r & Theta\\_1.5\\_r\\\\\n",
       "\\hline\n",
       "\t 0.936750250  & 1.093617e+00 & 1.114073e+00\\\\\n",
       "\t 0.872371225  & 1.068622e+00 & 1.108024e+00\\\\\n",
       "\t 0.792856811  & 1.019307e+00 & 1.089819e+00\\\\\n",
       "\t 0.699737010  & 9.285995e-01 & 1.037457e+00\\\\\n",
       "\t 0.597278094  & 7.813910e-01 & 9.045041e-01\\\\\n",
       "\t 0.492050467  & 5.850456e-01 & 6.510406e-01\\\\\n",
       "\t 0.391377129  & 3.818900e-01 & 3.522813e-01\\\\\n",
       "\t 0.301399721  & 2.200962e-01 & 1.469392e-01\\\\\n",
       "\t 0.225732647  & 1.160314e-01 & 5.268321e-02\\\\\n",
       "\t 0.165277864  & 5.798800e-02 & 1.771134e-02\\\\\n",
       "\t 0.118904294  & 2.816209e-02 & 5.817453e-03\\\\\n",
       "\t 0.084422264  & 1.348251e-02 & 1.895864e-03\\\\\n",
       "\t 0.059366363  & 6.409271e-03 & 6.163177e-04\\\\\n",
       "\t 0.041459963  & 3.035779e-03 & 2.001974e-04\\\\\n",
       "\t 0.028813359  & 1.437036e-03 & 6.478571e-05\\\\\n",
       "\t 0.019956182  & 6.789994e-04 & 2.126804e-05\\\\\n",
       "\t 0.013788817  & 3.208950e-04 & 6.880215e-06\\\\\n",
       "\t 0.009512065  & 1.514860e-04 & 2.105441e-06\\\\\n",
       "\t 0.006554210  & 7.152954e-05 & 7.398590e-07\\\\\n",
       "\t 0.004512388  & 3.372782e-05 & 2.478385e-07\\\\\n",
       "\\end{tabular}\n"
      ],
      "text/markdown": [
       "\n",
       "| Theta_0.5_r | Theta_1_r | Theta_1.5_r |\n",
       "|---|---|---|\n",
       "| 0.936750250  | 1.093617e+00 | 1.114073e+00 |\n",
       "| 0.872371225  | 1.068622e+00 | 1.108024e+00 |\n",
       "| 0.792856811  | 1.019307e+00 | 1.089819e+00 |\n",
       "| 0.699737010  | 9.285995e-01 | 1.037457e+00 |\n",
       "| 0.597278094  | 7.813910e-01 | 9.045041e-01 |\n",
       "| 0.492050467  | 5.850456e-01 | 6.510406e-01 |\n",
       "| 0.391377129  | 3.818900e-01 | 3.522813e-01 |\n",
       "| 0.301399721  | 2.200962e-01 | 1.469392e-01 |\n",
       "| 0.225732647  | 1.160314e-01 | 5.268321e-02 |\n",
       "| 0.165277864  | 5.798800e-02 | 1.771134e-02 |\n",
       "| 0.118904294  | 2.816209e-02 | 5.817453e-03 |\n",
       "| 0.084422264  | 1.348251e-02 | 1.895864e-03 |\n",
       "| 0.059366363  | 6.409271e-03 | 6.163177e-04 |\n",
       "| 0.041459963  | 3.035779e-03 | 2.001974e-04 |\n",
       "| 0.028813359  | 1.437036e-03 | 6.478571e-05 |\n",
       "| 0.019956182  | 6.789994e-04 | 2.126804e-05 |\n",
       "| 0.013788817  | 3.208950e-04 | 6.880215e-06 |\n",
       "| 0.009512065  | 1.514860e-04 | 2.105441e-06 |\n",
       "| 0.006554210  | 7.152954e-05 | 7.398590e-07 |\n",
       "| 0.004512388  | 3.372782e-05 | 2.478385e-07 |\n",
       "\n"
      ],
      "text/plain": [
       "   Theta_0.5_r Theta_1_r    Theta_1.5_r \n",
       "1  0.936750250 1.093617e+00 1.114073e+00\n",
       "2  0.872371225 1.068622e+00 1.108024e+00\n",
       "3  0.792856811 1.019307e+00 1.089819e+00\n",
       "4  0.699737010 9.285995e-01 1.037457e+00\n",
       "5  0.597278094 7.813910e-01 9.045041e-01\n",
       "6  0.492050467 5.850456e-01 6.510406e-01\n",
       "7  0.391377129 3.818900e-01 3.522813e-01\n",
       "8  0.301399721 2.200962e-01 1.469392e-01\n",
       "9  0.225732647 1.160314e-01 5.268321e-02\n",
       "10 0.165277864 5.798800e-02 1.771134e-02\n",
       "11 0.118904294 2.816209e-02 5.817453e-03\n",
       "12 0.084422264 1.348251e-02 1.895864e-03\n",
       "13 0.059366363 6.409271e-03 6.163177e-04\n",
       "14 0.041459963 3.035779e-03 2.001974e-04\n",
       "15 0.028813359 1.437036e-03 6.478571e-05\n",
       "16 0.019956182 6.789994e-04 2.126804e-05\n",
       "17 0.013788817 3.208950e-04 6.880215e-06\n",
       "18 0.009512065 1.514860e-04 2.105441e-06\n",
       "19 0.006554210 7.152954e-05 7.398590e-07\n",
       "20 0.004512388 3.372782e-05 2.478385e-07"
      ]
     },
     "metadata": {},
     "output_type": "display_data"
    }
   ],
   "source": [
    "theta_r_frame <- data.frame (\n",
    "\n",
    "    Theta_0.5_r = (theta_frame[2:21,2] - theta_frame[1:20,2])/theta_frame[1:20,2],\n",
    "    Theta_1_r = (theta_frame[2:21,4] - theta_frame[1:20,4])/theta_frame[1:20,4],\n",
    "    Theta_1.5_r =  (theta_frame[2:21,6] - theta_frame[1:20,6])/theta_frame[1:20,6]\n",
    "    \n",
    ")\n",
    "theta_r_frame"
   ]
  },
  {
   "cell_type": "code",
   "execution_count": 253,
   "id": "59c07563-f44b-49a8-90a6-5811ad81b1f3",
   "metadata": {},
   "outputs": [
    {
     "name": "stderr",
     "output_type": "stream",
     "text": [
      "Warning message:\n",
      "\"Removed 7 rows containing missing values (geom_path).\""
     ]
    },
    {
     "data": {
      "image/png": "[encoded data removed]",
      "text/plain": [
       "plot without title"
      ]
     },
     "metadata": {},
     "output_type": "display_data"
    }
   ],
   "source": [
    "\n",
    "\n",
    "    Fig11 <- data.frame(\"Population\" = theta_frame[2:21,2], \"Realized_value_of_r\" =theta_r_frame[,1], \"Mode\" = rep(\"theta = 0.5\", 20))\n",
    "    Fig12 <- data.frame(\"Population\" = theta_frame[2:21,4], \"Realized_value_of_r\" = theta_r_frame[,2], \"Mode\" = rep(\"theta = 1\", 20))\n",
    "    Fig13 <- data.frame(\"Population\" = theta_frame[2:21,6], \"Realized_value_of_r\" = theta_r_frame[,3], \"Mode\" = rep(\"theta = 1.5\", 20))\n",
    "\n",
    "    \n",
    "    Fig1 <- rbind(Fig11, Fig12, Fig13)\n",
    "  \n",
    "  ggplot(Fig1, aes(x=Population, y= Realized_value_of_r, color=Mode)) +\n",
    "    geom_line(size=1) +\n",
    "    scale_x_continuous(name=\"Population (N)\",  limits =c(1, 100), breaks=seq(0, 100, 5)) + \n",
    "    scale_y_continuous(name=\"Realized value of r\\n\", limits = c(0, 1)) +\n",
    "    theme(aspect.ratio = 1/1.5) +  theme(legend.position = \"top\", legend.direction = \"horizontal\")+\n",
    "    ggtitle(label = 'Theta Logistic') "
   ]
  },
  {
   "cell_type": "code",
   "execution_count": 276,
   "id": "75e50fe8-b736-4767-a213-a08f0dab0536",
   "metadata": {},
   "outputs": [
    {
     "data": {
      "text/html": [
       "<table>\n",
       "<thead><tr><th scope=col>Theta_0.5_r</th><th scope=col>Theta_1_r</th><th scope=col>Theta_1.5_r</th></tr></thead>\n",
       "<tbody>\n",
       "\t<tr><td> 0.9367502  </td><td> 1.093617441</td><td>1.114073e+00</td></tr>\n",
       "\t<tr><td> 1.6895652  </td><td> 2.237286343</td><td>2.342444e+00</td></tr>\n",
       "\t<tr><td> 2.8751489  </td><td> 4.414519865</td><td>4.856795e+00</td></tr>\n",
       "\t<tr><td> 4.5493152  </td><td> 8.120996242</td><td>9.662157e+00</td></tr>\n",
       "\t<tr><td> 6.6003885  </td><td>13.179269127</td><td>1.716339e+01</td></tr>\n",
       "\t<tr><td> 8.6852655  </td><td>17.578097634</td><td>2.352787e+01</td></tr>\n",
       "\t<tr><td>10.3074778  </td><td>18.187047015</td><td>2.101947e+01</td></tr>\n",
       "\t<tr><td>11.0444646  </td><td>14.484711813</td><td>1.185597e+01</td></tr>\n",
       "\t<tr><td>10.7648233  </td><td> 9.316806478</td><td>4.875418e+00</td></tr>\n",
       "\t<tr><td> 9.6610200  </td><td> 5.196440640</td><td>1.725396e+00</td></tr>\n",
       "\t<tr><td> 8.0990732  </td><td> 2.670013914</td><td>5.767596e-01</td></tr>\n",
       "\t<tr><td> 6.4340987  </td><td> 1.314258749</td><td>1.890550e-01</td></tr>\n",
       "\t<tr><td> 4.9064750  </td><td> 0.633191551</td><td>6.157556e-02</td></tr>\n",
       "\t<tr><td> 3.6299800  </td><td> 0.301836108</td><td>2.001381e-02</td></tr>\n",
       "\t<tr><td> 2.6273129  </td><td> 0.143312909</td><td>6.477948e-03</td></tr>\n",
       "\t<tr><td> 1.8721125  </td><td> 0.067812620</td><td>2.126737e-03</td></tr>\n",
       "\t<tr><td> 1.3193591  </td><td> 0.032069993</td><td>6.880145e-04</td></tr>\n",
       "\t<tr><td> 0.9226953  </td><td> 0.015144246</td><td>2.105434e-04</td></tr>\n",
       "\t<tr><td> 0.6418232  </td><td> 0.007151983</td><td>7.398582e-05</td></tr>\n",
       "\t<tr><td> 0.4447732  </td><td> 0.003372566</td><td>2.478384e-05</td></tr>\n",
       "</tbody>\n",
       "</table>\n"
      ],
      "text/latex": [
       "\\begin{tabular}{r|lll}\n",
       " Theta\\_0.5\\_r & Theta\\_1\\_r & Theta\\_1.5\\_r\\\\\n",
       "\\hline\n",
       "\t  0.9367502   &  1.093617441 & 1.114073e+00\\\\\n",
       "\t  1.6895652   &  2.237286343 & 2.342444e+00\\\\\n",
       "\t  2.8751489   &  4.414519865 & 4.856795e+00\\\\\n",
       "\t  4.5493152   &  8.120996242 & 9.662157e+00\\\\\n",
       "\t  6.6003885   & 13.179269127 & 1.716339e+01\\\\\n",
       "\t  8.6852655   & 17.578097634 & 2.352787e+01\\\\\n",
       "\t 10.3074778   & 18.187047015 & 2.101947e+01\\\\\n",
       "\t 11.0444646   & 14.484711813 & 1.185597e+01\\\\\n",
       "\t 10.7648233   &  9.316806478 & 4.875418e+00\\\\\n",
       "\t  9.6610200   &  5.196440640 & 1.725396e+00\\\\\n",
       "\t  8.0990732   &  2.670013914 & 5.767596e-01\\\\\n",
       "\t  6.4340987   &  1.314258749 & 1.890550e-01\\\\\n",
       "\t  4.9064750   &  0.633191551 & 6.157556e-02\\\\\n",
       "\t  3.6299800   &  0.301836108 & 2.001381e-02\\\\\n",
       "\t  2.6273129   &  0.143312909 & 6.477948e-03\\\\\n",
       "\t  1.8721125   &  0.067812620 & 2.126737e-03\\\\\n",
       "\t  1.3193591   &  0.032069993 & 6.880145e-04\\\\\n",
       "\t  0.9226953   &  0.015144246 & 2.105434e-04\\\\\n",
       "\t  0.6418232   &  0.007151983 & 7.398582e-05\\\\\n",
       "\t  0.4447732   &  0.003372566 & 2.478384e-05\\\\\n",
       "\\end{tabular}\n"
      ],
      "text/markdown": [
       "\n",
       "| Theta_0.5_r | Theta_1_r | Theta_1.5_r |\n",
       "|---|---|---|\n",
       "|  0.9367502   |  1.093617441 | 1.114073e+00 |\n",
       "|  1.6895652   |  2.237286343 | 2.342444e+00 |\n",
       "|  2.8751489   |  4.414519865 | 4.856795e+00 |\n",
       "|  4.5493152   |  8.120996242 | 9.662157e+00 |\n",
       "|  6.6003885   | 13.179269127 | 1.716339e+01 |\n",
       "|  8.6852655   | 17.578097634 | 2.352787e+01 |\n",
       "| 10.3074778   | 18.187047015 | 2.101947e+01 |\n",
       "| 11.0444646   | 14.484711813 | 1.185597e+01 |\n",
       "| 10.7648233   |  9.316806478 | 4.875418e+00 |\n",
       "|  9.6610200   |  5.196440640 | 1.725396e+00 |\n",
       "|  8.0990732   |  2.670013914 | 5.767596e-01 |\n",
       "|  6.4340987   |  1.314258749 | 1.890550e-01 |\n",
       "|  4.9064750   |  0.633191551 | 6.157556e-02 |\n",
       "|  3.6299800   |  0.301836108 | 2.001381e-02 |\n",
       "|  2.6273129   |  0.143312909 | 6.477948e-03 |\n",
       "|  1.8721125   |  0.067812620 | 2.126737e-03 |\n",
       "|  1.3193591   |  0.032069993 | 6.880145e-04 |\n",
       "|  0.9226953   |  0.015144246 | 2.105434e-04 |\n",
       "|  0.6418232   |  0.007151983 | 7.398582e-05 |\n",
       "|  0.4447732   |  0.003372566 | 2.478384e-05 |\n",
       "\n"
      ],
      "text/plain": [
       "   Theta_0.5_r Theta_1_r    Theta_1.5_r \n",
       "1   0.9367502   1.093617441 1.114073e+00\n",
       "2   1.6895652   2.237286343 2.342444e+00\n",
       "3   2.8751489   4.414519865 4.856795e+00\n",
       "4   4.5493152   8.120996242 9.662157e+00\n",
       "5   6.6003885  13.179269127 1.716339e+01\n",
       "6   8.6852655  17.578097634 2.352787e+01\n",
       "7  10.3074778  18.187047015 2.101947e+01\n",
       "8  11.0444646  14.484711813 1.185597e+01\n",
       "9  10.7648233   9.316806478 4.875418e+00\n",
       "10  9.6610200   5.196440640 1.725396e+00\n",
       "11  8.0990732   2.670013914 5.767596e-01\n",
       "12  6.4340987   1.314258749 1.890550e-01\n",
       "13  4.9064750   0.633191551 6.157556e-02\n",
       "14  3.6299800   0.301836108 2.001381e-02\n",
       "15  2.6273129   0.143312909 6.477948e-03\n",
       "16  1.8721125   0.067812620 2.126737e-03\n",
       "17  1.3193591   0.032069993 6.880145e-04\n",
       "18  0.9226953   0.015144246 2.105434e-04\n",
       "19  0.6418232   0.007151983 7.398582e-05\n",
       "20  0.4447732   0.003372566 2.478384e-05"
      ]
     },
     "metadata": {},
     "output_type": "display_data"
    }
   ],
   "source": [
    "theta_r_frame <- data.frame (\n",
    "\n",
    "    Theta_0.5_r = (theta_frame[2:21,2] - theta_frame[1:20,2]),\n",
    "    Theta_1_r = (theta_frame[2:21,4] - theta_frame[1:20,4]),\n",
    "    Theta_1.5_r =  (theta_frame[2:21,6] - theta_frame[1:20,6])\n",
    "    \n",
    ")\n",
    "theta_r_frame"
   ]
  },
  {
   "cell_type": "code",
   "execution_count": 277,
   "id": "08bb4902-0f90-4889-922d-eaa9df65f2e4",
   "metadata": {},
   "outputs": [
    {
     "data": {
      "image/png": "[encoded data removed]",
      "text/plain": [
       "plot without title"
      ]
     },
     "metadata": {},
     "output_type": "display_data"
    }
   ],
   "source": [
    "    Fig11 <- data.frame(\"Population\" = theta_frame[1:20,2], \"Realized_value_of_r\" =theta_r_frame[1:20,1], \"Mode\" = rep(\"theta = 0.5\", 20))\n",
    "    Fig12 <- data.frame(\"Population\" = theta_frame[1:20,4], \"Realized_value_of_r\" = theta_r_frame[1:20,2], \"Mode\" = rep(\"theta = 1\", 20))\n",
    "    Fig13 <- data.frame(\"Population\" = theta_frame[1:20,6], \"Realized_value_of_r\" = theta_r_frame[1:20,3], \"Mode\" = rep(\"theta = 1.5\", 20))\n",
    "\n",
    "    \n",
    "    Fig1 <- rbind(Fig11, Fig12, Fig13)\n",
    "  \n",
    "  ggplot(Fig1, aes(x=Population, y= Realized_value_of_r, color=Mode)) +\n",
    "    geom_line(size=1) +\n",
    "    scale_x_continuous(name=\"Population (N)\",  limits =c(-1, 100), breaks=seq(0, 100, 5)) + \n",
    "    scale_y_continuous(name=\"Realized value of r\\n\", limits = c(0, 30)) +\n",
    "    theme(aspect.ratio = 1/1.5) +  theme(legend.position = \"top\", legend.direction = \"horizontal\")+\n",
    "    ggtitle(label = 'Theta Logistic') "
   ]
  },
  {
   "cell_type": "code",
   "execution_count": 284,
   "id": "af65dc36-5d5c-4668-9fee-2b6ea3425506",
   "metadata": {},
   "outputs": [
    {
     "data": {
      "image/png": "[encoded data removed]",
      "text/plain": [
       "plot without title"
      ]
     },
     "metadata": {},
     "output_type": "display_data"
    }
   ],
   "source": []
  },
  {
   "cell_type": "code",
   "execution_count": 288,
   "id": "5d30f6c0-f4bb-4330-a192-2bae0ab0bd78",
   "metadata": {},
   "outputs": [
    {
     "data": {
      "image/png": "[encoded data removed]",
      "text/plain": [
       "plot without title"
      ]
     },
     "metadata": {},
     "output_type": "display_data"
    }
   ],
   "source": [
    "dlogistic <- function (t, y, p) {\n",
    "  N <- y[1]\n",
    "  with( as.list(p),{\n",
    "      N.diff <-  rd * N * (1 - alpha * N) \n",
    "      return(list(N.diff))  }) }\n",
    "\n",
    "p <- c(rd=1, alpha=.01)\n",
    "y <- c(N=10)\n",
    "years <- 0:10\n",
    "outd <- ode(func = dlogistic, y = y, times = years,\n",
    " parms = p, method = \"euler\")\n",
    "outd <- as.data.frame(outd)\n",
    "ggplot(outd, aes(x=time, N)) + geom_line() + geom_point() +\n",
    "  annotate(\"text\", x=1, y =1/p[\"alpha\"]+2, label=\"K = 1/alpha\")\n"
   ]
  },
  {
   "cell_type": "code",
   "execution_count": 299,
   "id": "8835fbf4-828f-4acd-9943-26c9285d1858",
   "metadata": {},
   "outputs": [
    {
     "data": {
      "text/html": [
       "<table>\n",
       "<thead><tr><th scope=col>t</th><th scope=col>rd=1.3</th><th scope=col>rd=1.6</th><th scope=col>rd=1.9</th><th scope=col>rd=2.2</th><th scope=col>rd=2.5</th><th scope=col>rd=2.8</th></tr></thead>\n",
       "<tbody>\n",
       "\t<tr><td> 0       </td><td> 10.00000</td><td> 10.00000</td><td> 10.00000</td><td> 10.00000</td><td> 10.00000</td><td> 10.00000</td></tr>\n",
       "\t<tr><td> 1       </td><td> 21.70000</td><td> 24.40000</td><td> 27.10000</td><td> 29.80000</td><td> 32.50000</td><td> 35.20000</td></tr>\n",
       "\t<tr><td> 2       </td><td> 43.78843</td><td> 53.91424</td><td> 64.63621</td><td> 75.82312</td><td> 87.34375</td><td> 99.06688</td></tr>\n",
       "\t<tr><td> 3       </td><td> 75.78684</td><td> 93.66910</td><td>108.06606</td><td>116.15278</td><td>114.97986</td><td>101.65524</td></tr>\n",
       "\t<tr><td> 4       </td><td> 99.64235</td><td>103.15726</td><td> 91.50439</td><td> 74.87659</td><td> 71.92031</td><td> 96.94386</td></tr>\n",
       "\t<tr><td> 5       </td><td>100.10563</td><td> 97.94615</td><td>106.27472</td><td>116.26201</td><td>122.40781</td><td>105.23953</td></tr>\n",
       "\t<tr><td> 6       </td><td> 99.96817</td><td>101.16481</td><td> 93.60468</td><td> 74.66763</td><td> 53.83554</td><td> 89.80017</td></tr>\n",
       "\t<tr><td> 7       </td><td>100.00954</td><td> 99.27940</td><td>104.97868</td><td>116.28081</td><td>115.96775</td><td>115.44667</td></tr>\n",
       "\t<tr><td> 8       </td><td> 99.99714</td><td>100.42405</td><td> 95.04823</td><td> 74.63161</td><td> 69.67414</td><td> 65.51520</td></tr>\n",
       "\t<tr><td> 9       </td><td>100.00086</td><td> 99.74269</td><td>103.99072</td><td>116.28385</td><td>122.49735</td><td>128.77500</td></tr>\n",
       "\t<tr><td>10       </td><td> 99.99974</td><td>100.15333</td><td> 96.10577</td><td> 74.62577</td><td> 53.60072</td><td> 25.02098</td></tr>\n",
       "\t<tr><td>11       </td><td>100.00008</td><td> 99.90763</td><td>103.21667</td><td>116.28434</td><td>115.77659</td><td> 77.55035</td></tr>\n",
       "\t<tr><td>12       </td><td> 99.99998</td><td>100.05529</td><td> 96.90840</td><td> 74.62483</td><td> 70.11260</td><td>126.29774</td></tr>\n",
       "\t<tr><td>13       </td><td>100.00001</td><td> 99.96678</td><td>102.60084</td><td>116.28442</td><td>122.49968</td><td> 33.30008</td></tr>\n",
       "\t<tr><td>14       </td><td>100.00000</td><td>100.01991</td><td> 97.53072</td><td> 74.62468</td><td> 53.59458</td><td> 95.49123</td></tr>\n",
       "\t<tr><td>15       </td><td>100.00000</td><td> 99.98804</td><td>102.10650</td><td>116.28443</td><td>115.77156</td><td>107.54658</td></tr>\n",
       "\t<tr><td>16       </td><td>100.00000</td><td>100.00717</td><td> 98.01984</td><td> 74.62466</td><td> 70.12412</td><td> 84.82154</td></tr>\n",
       "\t<tr><td>17       </td><td>100.00000</td><td> 99.99570</td><td>101.70764</td><td>116.28443</td><td>122.49961</td><td>120.87043</td></tr>\n",
       "\t<tr><td>18       </td><td>100.00000</td><td>100.00258</td><td> 98.40772</td><td> 74.62466</td><td> 53.59476</td><td> 50.23713</td></tr>\n",
       "\t<tr><td>19       </td><td>100.00000</td><td> 99.99845</td><td>101.38488</td><td>116.28443</td><td>115.77170</td><td>120.23555</td></tr>\n",
       "\t<tr><td>20       </td><td>100.00000</td><td>100.00093</td><td> 98.71716</td><td> 74.62466</td><td> 70.12378</td><td> 52.11063</td></tr>\n",
       "</tbody>\n",
       "</table>\n"
      ],
      "text/latex": [
       "\\begin{tabular}{r|lllllll}\n",
       " t & rd=1.3 & rd=1.6 & rd=1.9 & rd=2.2 & rd=2.5 & rd=2.8\\\\\n",
       "\\hline\n",
       "\t  0        &  10.00000 &  10.00000 &  10.00000 &  10.00000 &  10.00000 &  10.00000\\\\\n",
       "\t  1        &  21.70000 &  24.40000 &  27.10000 &  29.80000 &  32.50000 &  35.20000\\\\\n",
       "\t  2        &  43.78843 &  53.91424 &  64.63621 &  75.82312 &  87.34375 &  99.06688\\\\\n",
       "\t  3        &  75.78684 &  93.66910 & 108.06606 & 116.15278 & 114.97986 & 101.65524\\\\\n",
       "\t  4        &  99.64235 & 103.15726 &  91.50439 &  74.87659 &  71.92031 &  96.94386\\\\\n",
       "\t  5        & 100.10563 &  97.94615 & 106.27472 & 116.26201 & 122.40781 & 105.23953\\\\\n",
       "\t  6        &  99.96817 & 101.16481 &  93.60468 &  74.66763 &  53.83554 &  89.80017\\\\\n",
       "\t  7        & 100.00954 &  99.27940 & 104.97868 & 116.28081 & 115.96775 & 115.44667\\\\\n",
       "\t  8        &  99.99714 & 100.42405 &  95.04823 &  74.63161 &  69.67414 &  65.51520\\\\\n",
       "\t  9        & 100.00086 &  99.74269 & 103.99072 & 116.28385 & 122.49735 & 128.77500\\\\\n",
       "\t 10        &  99.99974 & 100.15333 &  96.10577 &  74.62577 &  53.60072 &  25.02098\\\\\n",
       "\t 11        & 100.00008 &  99.90763 & 103.21667 & 116.28434 & 115.77659 &  77.55035\\\\\n",
       "\t 12        &  99.99998 & 100.05529 &  96.90840 &  74.62483 &  70.11260 & 126.29774\\\\\n",
       "\t 13        & 100.00001 &  99.96678 & 102.60084 & 116.28442 & 122.49968 &  33.30008\\\\\n",
       "\t 14        & 100.00000 & 100.01991 &  97.53072 &  74.62468 &  53.59458 &  95.49123\\\\\n",
       "\t 15        & 100.00000 &  99.98804 & 102.10650 & 116.28443 & 115.77156 & 107.54658\\\\\n",
       "\t 16        & 100.00000 & 100.00717 &  98.01984 &  74.62466 &  70.12412 &  84.82154\\\\\n",
       "\t 17        & 100.00000 &  99.99570 & 101.70764 & 116.28443 & 122.49961 & 120.87043\\\\\n",
       "\t 18        & 100.00000 & 100.00258 &  98.40772 &  74.62466 &  53.59476 &  50.23713\\\\\n",
       "\t 19        & 100.00000 &  99.99845 & 101.38488 & 116.28443 & 115.77170 & 120.23555\\\\\n",
       "\t 20        & 100.00000 & 100.00093 &  98.71716 &  74.62466 &  70.12378 &  52.11063\\\\\n",
       "\\end{tabular}\n"
      ],
      "text/markdown": [
       "\n",
       "| t | rd=1.3 | rd=1.6 | rd=1.9 | rd=2.2 | rd=2.5 | rd=2.8 |\n",
       "|---|---|---|---|---|---|---|\n",
       "|  0        |  10.00000 |  10.00000 |  10.00000 |  10.00000 |  10.00000 |  10.00000 |\n",
       "|  1        |  21.70000 |  24.40000 |  27.10000 |  29.80000 |  32.50000 |  35.20000 |\n",
       "|  2        |  43.78843 |  53.91424 |  64.63621 |  75.82312 |  87.34375 |  99.06688 |\n",
       "|  3        |  75.78684 |  93.66910 | 108.06606 | 116.15278 | 114.97986 | 101.65524 |\n",
       "|  4        |  99.64235 | 103.15726 |  91.50439 |  74.87659 |  71.92031 |  96.94386 |\n",
       "|  5        | 100.10563 |  97.94615 | 106.27472 | 116.26201 | 122.40781 | 105.23953 |\n",
       "|  6        |  99.96817 | 101.16481 |  93.60468 |  74.66763 |  53.83554 |  89.80017 |\n",
       "|  7        | 100.00954 |  99.27940 | 104.97868 | 116.28081 | 115.96775 | 115.44667 |\n",
       "|  8        |  99.99714 | 100.42405 |  95.04823 |  74.63161 |  69.67414 |  65.51520 |\n",
       "|  9        | 100.00086 |  99.74269 | 103.99072 | 116.28385 | 122.49735 | 128.77500 |\n",
       "| 10        |  99.99974 | 100.15333 |  96.10577 |  74.62577 |  53.60072 |  25.02098 |\n",
       "| 11        | 100.00008 |  99.90763 | 103.21667 | 116.28434 | 115.77659 |  77.55035 |\n",
       "| 12        |  99.99998 | 100.05529 |  96.90840 |  74.62483 |  70.11260 | 126.29774 |\n",
       "| 13        | 100.00001 |  99.96678 | 102.60084 | 116.28442 | 122.49968 |  33.30008 |\n",
       "| 14        | 100.00000 | 100.01991 |  97.53072 |  74.62468 |  53.59458 |  95.49123 |\n",
       "| 15        | 100.00000 |  99.98804 | 102.10650 | 116.28443 | 115.77156 | 107.54658 |\n",
       "| 16        | 100.00000 | 100.00717 |  98.01984 |  74.62466 |  70.12412 |  84.82154 |\n",
       "| 17        | 100.00000 |  99.99570 | 101.70764 | 116.28443 | 122.49961 | 120.87043 |\n",
       "| 18        | 100.00000 | 100.00258 |  98.40772 |  74.62466 |  53.59476 |  50.23713 |\n",
       "| 19        | 100.00000 |  99.99845 | 101.38488 | 116.28443 | 115.77170 | 120.23555 |\n",
       "| 20        | 100.00000 | 100.00093 |  98.71716 |  74.62466 |  70.12378 |  52.11063 |\n",
       "\n"
      ],
      "text/plain": [
       "   t  rd=1.3    rd=1.6    rd=1.9    rd=2.2    rd=2.5    rd=2.8   \n",
       "1   0  10.00000  10.00000  10.00000  10.00000  10.00000  10.00000\n",
       "2   1  21.70000  24.40000  27.10000  29.80000  32.50000  35.20000\n",
       "3   2  43.78843  53.91424  64.63621  75.82312  87.34375  99.06688\n",
       "4   3  75.78684  93.66910 108.06606 116.15278 114.97986 101.65524\n",
       "5   4  99.64235 103.15726  91.50439  74.87659  71.92031  96.94386\n",
       "6   5 100.10563  97.94615 106.27472 116.26201 122.40781 105.23953\n",
       "7   6  99.96817 101.16481  93.60468  74.66763  53.83554  89.80017\n",
       "8   7 100.00954  99.27940 104.97868 116.28081 115.96775 115.44667\n",
       "9   8  99.99714 100.42405  95.04823  74.63161  69.67414  65.51520\n",
       "10  9 100.00086  99.74269 103.99072 116.28385 122.49735 128.77500\n",
       "11 10  99.99974 100.15333  96.10577  74.62577  53.60072  25.02098\n",
       "12 11 100.00008  99.90763 103.21667 116.28434 115.77659  77.55035\n",
       "13 12  99.99998 100.05529  96.90840  74.62483  70.11260 126.29774\n",
       "14 13 100.00001  99.96678 102.60084 116.28442 122.49968  33.30008\n",
       "15 14 100.00000 100.01991  97.53072  74.62468  53.59458  95.49123\n",
       "16 15 100.00000  99.98804 102.10650 116.28443 115.77156 107.54658\n",
       "17 16 100.00000 100.00717  98.01984  74.62466  70.12412  84.82154\n",
       "18 17 100.00000  99.99570 101.70764 116.28443 122.49961 120.87043\n",
       "19 18 100.00000 100.00258  98.40772  74.62466  53.59476  50.23713\n",
       "20 19 100.00000  99.99845 101.38488 116.28443 115.77170 120.23555\n",
       "21 20 100.00000 100.00093  98.71716  74.62466  70.12378  52.11063"
      ]
     },
     "metadata": {},
     "output_type": "display_data"
    },
    {
     "data": {
      "image/png": "[encoded data removed]",
      "text/plain": [
       "plot without title"
      ]
     },
     "metadata": {},
     "output_type": "display_data"
    }
   ],
   "source": [
    "\n",
    "rd.v <- seq(1.3, 2.8, by=.3)\n",
    "N0 <- c(N=10); t = 0:20\n",
    "Ns <- sapply(rd.v, function(r) {\n",
    "  p <- c(rd=r, alpha=0.01)\n",
    "  outd <- ode(func = dlogistic, y = N0, times = t,\n",
    " parms = p, method = \"euler\")[,2]\n",
    "  }\n",
    " ) \n",
    "out <- data.frame(t=t, Ns)\n",
    "names(out) <- c(\"t\", paste(\"rd=\",rd.v, sep=\"\"))\n",
    "out\n",
    "\n",
    "    Fig11 <- data.frame(\"Time\" = out[,1], \"Population\" = out[,2], \"Mode\" = rep(\"theta = 0.5\", 21))\n",
    "    Fig12 <- data.frame(\"Time\" =  out[,1], \"Population\" = out[,3], \"Mode\" = rep(\"theta = 1\", 21))\n",
    "    Fig13 <- data.frame(\"Time\" =  out[,1], \"Population\" = out[,4], \"Mode\" = rep(\"theta = 1.5\", 21))\n",
    "\n",
    "    \n",
    "    Fig1 <- rbind(Fig11, Fig12, Fig13)\n",
    "  \n",
    "  ggplot(Fig1, aes(x=Time, y= Population, color=Mode)) +\n",
    "    geom_line(size=1) +\n",
    "    scale_x_continuous(name=\"Time\",  limits =c(-1, 21), breaks=seq(0, 21, 1)) + \n",
    "    scale_y_continuous(name=\"Population\\n\", limits = c(0, 120)) +\n",
    "    theme(aspect.ratio = 1/1.5) +  theme(legend.position = \"top\", legend.direction = \"horizontal\")+\n",
    "    ggtitle(label = 'Theta Logistic') "
   ]
  },
  {
   "cell_type": "code",
   "execution_count": null,
   "id": "5dba524a-9d87-4e9b-92ea-60d603a27297",
   "metadata": {},
   "outputs": [],
   "source": []
  }
 ],
 "metadata": {
  "kernelspec": {
   "display_name": "R",
   "language": "R",
   "name": "ir"
  },
  "language_info": {
   "codemirror_mode": "r",
   "file_extension": ".r",
   "mimetype": "text/x-r-source",
   "name": "R",
   "pygments_lexer": "r",
   "version": "3.6.1"
  }
 },
 "nbformat": 4,
 "nbformat_minor": 5
}
