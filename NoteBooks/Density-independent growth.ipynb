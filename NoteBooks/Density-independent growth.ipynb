{
 "cells": [
  {
   "cell_type": "markdown",
   "id": "0ca2b9a3-1fc5-4d02-bb18-31d17a88c422",
   "metadata": {},
   "source": [
    "# Simple density-independent growth \n",
    "\n",
    "Geometric and exponential growth are examples of density-independent growth. This captures the fundamental process of reproduction (e.g., making seeds or babies) results in a geometric series. For instance, one cell divides to make two, those two cells each divide to make four, and so on, where reproduction for each cell results in two cells, regardless of how many other cells are in the population—that is what we mean by density-independent. Therefore, most models of populations include this fundamental process of geometric increase. Second, populations can grow in a density-independent fashion when resources are plentiful. \n",
    "In this notebook, I choose to start with A. Hastings (2011)’ macroscopic approach. These propositions appear simpler. \n",
    "1. A population grows exponentially in the absence of other forces.\n",
    "2. There are forces that can prevent a population from growing exponentially.\n",
    "\n",
    "These are the consequences of the following assumptions.\n",
    "- all individuals in a population are identical.\n",
    "- there is no migration in or out of the population.\n",
    "- the number of offspring per individual (or the per capita birth and death rates) are constant through time, and independent of the number of individuals in the population.\n",
    "\n",
    "Here we define Density-independence in a real population as a lack of a statistical relation between the density of a population, and its per capita growth rate. The power to detect a significant relation between any two continuous variables depends on those factors which govern statistical power, such as the number of observations, the range of the predictor variable, and the strength of the underlying relation. \n"
   ]
  },
  {
   "cell_type": "markdown",
   "id": "51bf38f3-ade0-427f-8eb0-e54068dce5e0",
   "metadata": {},
   "source": [
    "## Discrete growth rates of fruit flies\n",
    "\n",
    "Summertime, and the living is easy. Fruit flies in my kitchen, and their number’s quite high. Flies love my ripe fruit, and my red wine. They drown in the wine–I am not sure if that is good or bad.  \n",
    "For now, we’ll treat fruit flies as if they grow in discrete generations. This is very common for populatilons that live in seasonal habitats - their reproduction is timed to the season, and they breed altogether in one bout."
   ]
  },
  {
   "cell_type": "code",
   "execution_count": 12,
   "id": "09bb4b5f-f037-48cc-b3c8-c9962e8b509f",
   "metadata": {},
   "outputs": [
    {
     "name": "stderr",
     "output_type": "stream",
     "text": [
      "Registered S3 methods overwritten by 'ggplot2':\n",
      "  method         from \n",
      "  [.quosures     rlang\n",
      "  c.quosures     rlang\n",
      "  print.quosures rlang\n"
     ]
    },
    {
     "data": {
      "text/html": [
       "<table>\n",
       "<thead><tr><th scope=col>Time</th><th scope=col>Number</th></tr></thead>\n",
       "<tbody>\n",
       "\t<tr><td>0 </td><td> 2</td></tr>\n",
       "\t<tr><td>1 </td><td> 4</td></tr>\n",
       "\t<tr><td>2 </td><td> 8</td></tr>\n",
       "\t<tr><td>3 </td><td>16</td></tr>\n",
       "</tbody>\n",
       "</table>\n"
      ],
      "text/latex": [
       "\\begin{tabular}{r|ll}\n",
       " Time & Number\\\\\n",
       "\\hline\n",
       "\t 0  &  2\\\\\n",
       "\t 1  &  4\\\\\n",
       "\t 2  &  8\\\\\n",
       "\t 3  & 16\\\\\n",
       "\\end{tabular}\n"
      ],
      "text/markdown": [
       "\n",
       "| Time | Number |\n",
       "|---|---|\n",
       "| 0  |  2 |\n",
       "| 1  |  4 |\n",
       "| 2  |  8 |\n",
       "| 3  | 16 |\n",
       "\n"
      ],
      "text/plain": [
       "  Time Number\n",
       "1 0     2    \n",
       "2 1     4    \n",
       "3 2     8    \n",
       "4 3    16    "
      ]
     },
     "metadata": {},
     "output_type": "display_data"
    },
    {
     "data": {
      "image/png": "[encoded data removed]",
      "text/plain": [
       "plot without title"
      ]
     },
     "metadata": {},
     "output_type": "display_data"
    }
   ],
   "source": [
    "library ('ggplot2')\n",
    "t <- c(0, 1, 2, 3)\n",
    "N <- c(2, 4, 8, 16)\n",
    "\n",
    "Data_Frame <- data.frame (\n",
    "\n",
    "    Time = t,\n",
    "    Number = N \n",
    "    \n",
    "    )\n",
    "Data_Frame \n",
    "ggplot(Data_Frame, aes(Time, Number)) + geom_line()"
   ]
  },
  {
   "cell_type": "markdown",
   "id": "204c2ea3-eb66-4ae9-8558-c721ab003ee7",
   "metadata": {},
   "source": [
    "There are several ways we can describe fruit fly population growth. Here, we choose to begin by considering the proximate causes of change to population size per unit time: the numbers of births, immigration, death and emigration. \n",
    "\n",
    "$$\n",
    "\\frac {∆N}{∆t}= \\frac{B+I-D-E}{∆t}\n",
    "$$\n",
    "Over the past month, I suspect the fruit flies are increasing primarily through reproduction in my kitchen. Clearly, at some point in the past, a fly or two (or three) must have immigrated into my kitchen, either as adults or as eggs or larvae in fruit I brought home (*I > 0*). or now, I will assume fruit fly population dynamics in my kitchen are governed by only births and deaths (*I = E = 0*). We refer to a population like this as closed, because it is closed to migration in or out. \n",
    "If I counted the number of flies last week and again this week, I can calculate the change over one week. We have \n",
    "$$\n",
    "\\frac {∆N}{∆t}= \\frac{B-D}{∆t}\n",
    "$$\n",
    "\n",
    "Because adults give rise to offspring, we can represent births and deaths as proportions of existing **adults**. That is, as per capita rates of birth and death, as \n",
    "$$ \n",
    " B = bN;        D = dN\n",
    "$$\n",
    "This reflects the biological realities that adults produce offspring, and everyone has some chance of dying. The parameter *b* could be any positive real number. This model of births reflects the geometric property of reproduction: over a specified time interval, an average parent makes *b* babies. Parameter *d* s any real number between zero and one. \n",
    "\n",
    "Let’s define a few terms.\n",
    "\n",
    "- $ N_{0}, N_{1} $ - the number of flies at the start and after the first time interval.\n",
    "- $ N', N\" $ - distinct values of $N$, after births, but before $N_1$\n",
    "- $\\Delta N $ - the change in $ N $ from one point in time to another.\n",
    "- $t$ is time, so $ \\delta t$ is the time interval over which $N$ may change.\n",
    "\n",
    "Let’s match these numbers to what is going on in my kitchen. or my first census count, at $t = 0$, I counted the adults and label that number $N_0$. These adults lay eggs which hatch, and then larvae and pupae develop, and become adults, giving us a population of \n",
    "$$\n",
    "    N' = N_0 + bN \n",
    "$$\n",
    "\n",
    "Some of the eggs fail to hatch, and some of the larvae die before maturing. Many of the adults die as well. If we assume the eggs, larvae, and adults all die at the same rate, then by the end of one generation we have\n",
    "$$\n",
    "    N_1 = N' - dN' \n",
    "$$\n",
    "\n",
    "Substituting, we get\n",
    "\n",
    " $$\n",
    "    N_1 = N_0 + bN_0 - d(N_0 + bN_0) \n",
    " $$\n",
    "\n",
    "We see that by the next time point, $ t = 1 $ the number of fruit flies should be equal to the number we started with, $ N_0 $, plus the number of new individuals, $bN_0$ minus the number of original adults that die, $ dN_0$, and minus the number of new individuals that die, $ dbN_0$. \n",
    "We can pull all of these parameters together, \n",
    "$$\n",
    "    N_1 = N_0 + bN_0 - dN_0 - dbN_0 \n",
    "$$\n",
    "\n",
    "$$\n",
    "    N_1 - N_0 = N_0(b - d - db) = N_0r_d  \n",
    "$$\n",
    "where $ r_d  = b - d - db $. \n",
    "\n",
    "If we know that $r_d$ is constant over time, we can infer a general rule to project the population forward in time an arbitrary number of time steps. We will let $ \\lambda = 1 + r_d$. \n",
    "$$\n",
    "    N_1 = N_0 + r_dN_0 = N_0 (1+r_d) = \\lambda N_0 \n",
    "$$\n",
    "$$\n",
    "    N_t = N_0 \\lambda ^ t\n",
    "$$"
   ]
  },
  {
   "cell_type": "code",
   "execution_count": 13,
   "id": "90399cfd-7891-48ab-a004-2ac0ba7b4483",
   "metadata": {
    "scrolled": true
   },
   "outputs": [
    {
     "data": {
      "text/html": [
       "<table>\n",
       "<thead><tr><th scope=col>Week</th><th scope=col>per_capita_population_growth_rate</th></tr></thead>\n",
       "<tbody>\n",
       "\t<tr><td>0 </td><td>NA</td></tr>\n",
       "\t<tr><td>1 </td><td> 2</td></tr>\n",
       "\t<tr><td>2 </td><td> 2</td></tr>\n",
       "\t<tr><td>3 </td><td> 2</td></tr>\n",
       "</tbody>\n",
       "</table>\n"
      ],
      "text/latex": [
       "\\begin{tabular}{r|ll}\n",
       " Week & per\\_capita\\_population\\_growth\\_rate\\\\\n",
       "\\hline\n",
       "\t 0  & NA\\\\\n",
       "\t 1  &  2\\\\\n",
       "\t 2  &  2\\\\\n",
       "\t 3  &  2\\\\\n",
       "\\end{tabular}\n"
      ],
      "text/markdown": [
       "\n",
       "| Week | per_capita_population_growth_rate |\n",
       "|---|---|\n",
       "| 0  | NA |\n",
       "| 1  |  2 |\n",
       "| 2  |  2 |\n",
       "| 3  |  2 |\n",
       "\n"
      ],
      "text/plain": [
       "  Week per_capita_population_growth_rate\n",
       "1 0    NA                               \n",
       "2 1     2                               \n",
       "3 2     2                               \n",
       "4 3     2                               "
      ]
     },
     "metadata": {},
     "output_type": "display_data"
    }
   ],
   "source": [
    "rd = vector()\n",
    "for ( i in 2:length(N)) { \n",
    "\n",
    "    rd[i] = N[i] / N[i-1]  \n",
    "    \n",
    "    }\n",
    "rd_frame <- data.frame ( \n",
    "    Week = t,\n",
    "    per_capita_population_growth_rate = rd) \n",
    "rd_frame "
   ]
  },
  {
   "cell_type": "markdown",
   "id": "a846f56a-a96a-419b-97ab-b6263034f886",
   "metadata": {},
   "source": [
    "## Fruit flies with continuous overlapping generations\n",
    "\n",
    "In the reality that is my kitchen, individual fruit flies are having sex and reproducing on their own schedules. As a population, they breed continuously, so the cohorts are not synchronous. For populations like that, we need to describe instantaneous growth rates, where $\\Delta t$  is no longer a fixed period of time, but is an instant, or infinity small.\n",
    "\n",
    "In what follows, we make time more explicit so that it appears in the equation. We begin by remembering that $b$ and $d$ have time units. \n",
    "- Let $\\Delta t$ be a small fraction of 1, so that the time step goes from $t$ to $ t + \\Delta t$\n",
    "- As $\\Delta t$ shrinks, $b$ and $d$ need to shrink as well, to  $\\Delta t b$ and $\\Delta t d$\n",
    "- $ dN/dt $ is  how we symbolize the instantaneous rate of population growth, with lower case $d$ symbolizing infinitesimally small change; it is a differential equation.\n",
    "\n",
    "We now have to solve for the limit of $ \\Delta N / \\Delta t $ as $ \\Delta t $ goes to zero. \n",
    "$$\n",
    "    \\frac{dN} {dt} = \\lim_{\\Delta t \\to 0} (\\frac {N_{t + \\Delta t} - N_t} {\\Delta t})\n",
    "$$\n",
    "\n",
    "Substituting, we get,\n",
    "\n",
    "$$\n",
    "    \\frac{dN} {dt} = \\lim_{\\Delta t \\to 0} (\\frac {\\Delta tbN_t - \\Delta tdN_t - \\Delta td (\\Delta tb) N_t} {\\Delta t})\n",
    "$$\n",
    "\n",
    "If we divide through by $\\Delta t $ and then let $\\Delta t \\to 0$, we get \n",
    "$$\n",
    "    \\frac{dN} {dt} = \\lim_{\\Delta t \\to 0} ( {bN_t - dN_t - d (\\Delta tb) N_t} ) = bN_t - dN_t = r_cN\n",
    "$$\n",
    "\n",
    "To arrive at the projection equation for a continuously growing population, we integrate $rN$ with respect to time. Here we integrate population growth across time. We start by rearranging \n",
    "$$\n",
    "     \\frac{dN} {dt} =  r_cN,  \\frac{dN} {N} = r {dt}\n",
    "$$\n",
    "\n",
    "Now we integrate $N$ and $r$ with respect to their start and end points: $N$ from $N_0$ to $N_t$, and, correspondingly,$r$ from $ t = 0$ to $t = t$. \n",
    "\n",
    "$$ \\int \\frac{1}{N} dN =  \\int_0^t rt dt$$\n",
    "$$ N_t = N_0e^{rt} $$"
   ]
  },
  {
   "cell_type": "code",
   "execution_count": 14,
   "id": "e19852bf-caec-4efb-b24b-c04a2e654e7b",
   "metadata": {},
   "outputs": [
    {
     "data": {
      "text/html": [
       "<table>\n",
       "<thead><tr><th scope=col>time</th><th scope=col>rc_n0.01</th><th scope=col>rc_0</th><th scope=col>rc_0.01</th><th scope=col>rc_0.2</th></tr></thead>\n",
       "<tbody>\n",
       "\t<tr><td> 1       </td><td>10.000000</td><td>10       </td><td>10.00000 </td><td>10.00000 </td></tr>\n",
       "\t<tr><td> 2       </td><td> 9.801987</td><td>10       </td><td>12.21403 </td><td>14.91825 </td></tr>\n",
       "\t<tr><td> 3       </td><td> 9.704455</td><td>10       </td><td>13.49859 </td><td>18.22119 </td></tr>\n",
       "\t<tr><td> 4       </td><td> 9.607894</td><td>10       </td><td>14.91825 </td><td>22.25541 </td></tr>\n",
       "\t<tr><td> 5       </td><td> 9.512294</td><td>10       </td><td>16.48721 </td><td>27.18282 </td></tr>\n",
       "\t<tr><td> 6       </td><td> 9.417645</td><td>10       </td><td>18.22119 </td><td>33.20117 </td></tr>\n",
       "\t<tr><td> 7       </td><td> 9.323938</td><td>10       </td><td>20.13753 </td><td>40.55200 </td></tr>\n",
       "\t<tr><td> 8       </td><td> 9.231163</td><td>10       </td><td>22.25541 </td><td>49.53032 </td></tr>\n",
       "\t<tr><td> 9       </td><td> 9.139312</td><td>10       </td><td>24.59603 </td><td>60.49647 </td></tr>\n",
       "\t<tr><td>10       </td><td> 9.048374</td><td>10       </td><td>27.18282 </td><td>73.89056 </td></tr>\n",
       "</tbody>\n",
       "</table>\n"
      ],
      "text/latex": [
       "\\begin{tabular}{r|lllll}\n",
       " time & rc\\_n0.01 & rc\\_0 & rc\\_0.01 & rc\\_0.2\\\\\n",
       "\\hline\n",
       "\t  1        & 10.000000 & 10        & 10.00000  & 10.00000 \\\\\n",
       "\t  2        &  9.801987 & 10        & 12.21403  & 14.91825 \\\\\n",
       "\t  3        &  9.704455 & 10        & 13.49859  & 18.22119 \\\\\n",
       "\t  4        &  9.607894 & 10        & 14.91825  & 22.25541 \\\\\n",
       "\t  5        &  9.512294 & 10        & 16.48721  & 27.18282 \\\\\n",
       "\t  6        &  9.417645 & 10        & 18.22119  & 33.20117 \\\\\n",
       "\t  7        &  9.323938 & 10        & 20.13753  & 40.55200 \\\\\n",
       "\t  8        &  9.231163 & 10        & 22.25541  & 49.53032 \\\\\n",
       "\t  9        &  9.139312 & 10        & 24.59603  & 60.49647 \\\\\n",
       "\t 10        &  9.048374 & 10        & 27.18282  & 73.89056 \\\\\n",
       "\\end{tabular}\n"
      ],
      "text/markdown": [
       "\n",
       "| time | rc_n0.01 | rc_0 | rc_0.01 | rc_0.2 |\n",
       "|---|---|---|---|---|\n",
       "|  1        | 10.000000 | 10        | 10.00000  | 10.00000  |\n",
       "|  2        |  9.801987 | 10        | 12.21403  | 14.91825  |\n",
       "|  3        |  9.704455 | 10        | 13.49859  | 18.22119  |\n",
       "|  4        |  9.607894 | 10        | 14.91825  | 22.25541  |\n",
       "|  5        |  9.512294 | 10        | 16.48721  | 27.18282  |\n",
       "|  6        |  9.417645 | 10        | 18.22119  | 33.20117  |\n",
       "|  7        |  9.323938 | 10        | 20.13753  | 40.55200  |\n",
       "|  8        |  9.231163 | 10        | 22.25541  | 49.53032  |\n",
       "|  9        |  9.139312 | 10        | 24.59603  | 60.49647  |\n",
       "| 10        |  9.048374 | 10        | 27.18282  | 73.89056  |\n",
       "\n"
      ],
      "text/plain": [
       "   time rc_n0.01  rc_0 rc_0.01  rc_0.2  \n",
       "1   1   10.000000 10   10.00000 10.00000\n",
       "2   2    9.801987 10   12.21403 14.91825\n",
       "3   3    9.704455 10   13.49859 18.22119\n",
       "4   4    9.607894 10   14.91825 22.25541\n",
       "5   5    9.512294 10   16.48721 27.18282\n",
       "6   6    9.417645 10   18.22119 33.20117\n",
       "7   7    9.323938 10   20.13753 40.55200\n",
       "8   8    9.231163 10   22.25541 49.53032\n",
       "9   9    9.139312 10   24.59603 60.49647\n",
       "10 10    9.048374 10   27.18282 73.89056"
      ]
     },
     "metadata": {},
     "output_type": "display_data"
    }
   ],
   "source": [
    "T = 10\n",
    "time = c(1:T) \n",
    "N = matrix(nrow = 4, ncol = T)\n",
    "for ( i in 1:T) {\n",
    "\n",
    "    N[,i] = 10 # initial population size \n",
    "    \n",
    "    }\n",
    "\n",
    "\n",
    "for ( i in 2:T) { \n",
    "\n",
    "    r = -0.01 # per capita growth \n",
    "    N [1,i] = N[1,1] * exp (r*i)\n",
    "\n",
    "    }\n",
    "for ( i in 2:T) { \n",
    "\n",
    "    r = 0 # per capita growth \n",
    "    N [2,i] = N[2,1] * exp (r*i)\n",
    "\n",
    "    }\n",
    "for ( i in 2:T) { \n",
    "\n",
    "    r = 0.1 # per capita growth \n",
    "    N [3,i] = N[3,1] * exp (r*i)\n",
    "\n",
    "    }\n",
    "for ( i in 2:T) { \n",
    "\n",
    "    r = 0.2 # per capita growth \n",
    "    N [4,i] = N[4,1] * exp (r*i)\n",
    "\n",
    "    }\n",
    "\n",
    "Exp_growth <- data.frame (\n",
    "\n",
    "    time = time,\n",
    "    rc_n0.01 = N[1,],\n",
    "    rc_0 = N[2,], \n",
    "    rc_0.01 = N[3,], \n",
    "    rc_0.2 = N[4,] \n",
    "    \n",
    "    )\n",
    "Exp_growth"
   ]
  },
  {
   "cell_type": "code",
   "execution_count": 15,
   "id": "f6b8edc0-bab7-4698-9f41-91a0a4b26b8b",
   "metadata": {},
   "outputs": [
    {
     "data": {
      "image/png": "[encoded data removed]",
      "text/plain": [
       "plot without title"
      ]
     },
     "metadata": {},
     "output_type": "display_data"
    }
   ],
   "source": [
    "    Fig11 <- data.frame(\"Time\" = time, \"Number\" = N[1,], \"Mode\" = rep(\"r = -0.01\", length(time)))\n",
    "    Fig12 <- data.frame(\"Time\" = time, \"Number\" = N[2,], \"Mode\" = rep(\"r = 0\", length(time)))\n",
    "    Fig13 <- data.frame(\"Time\" = time, \"Number\" = N[3,], \"Mode\" = rep(\"r = 0.1\", length(time)))\n",
    "    Fig14 <- data.frame(\"Time\" = time, \"Number\" = N[4,], \"Mode\" = rep(\"r = 0.2\", length(time)))\n",
    "    Fig1 <- rbind(Fig11, Fig12, Fig13, Fig14)\n",
    "  \n",
    "  ggplot(Fig1, aes(x=Time, y=Number, color=Mode)) +\n",
    "    geom_line(size=1) +\n",
    "    scale_x_continuous(name=\"Time\",  limits =c(1, T), breaks=seq(0, T, 5)) + \n",
    "    scale_y_continuous(name=\"NUMBER\\n\", limits = c(0, max(N[4,]))) +\n",
    "    theme(aspect.ratio = 1/1.5) +  theme(legend.position = \"top\", legend.direction = \"horizontal\")+\n",
    "    ggtitle(label = 'Exponential Growth')\n",
    "   "
   ]
  },
  {
   "cell_type": "markdown",
   "id": "c39dbd39-e41d-445c-ab44-bbea745a7808",
   "metadata": {},
   "source": [
    "Compare the projection equations for geometric and exponential growth. We find that \n",
    "$$ e^r = \\lambda, \\ln \\lambda = r $$"
   ]
  },
  {
   "cell_type": "code",
   "execution_count": 16,
   "id": "189f3e41-3ce9-45f0-a282-17fa463ef151",
   "metadata": {},
   "outputs": [
    {
     "data": {
      "text/html": [
       "<table>\n",
       "<thead><tr><th scope=col>Number</th><th scope=col>lambda</th><th scope=col>r</th></tr></thead>\n",
       "<tbody>\n",
       "\t<tr><td>1        </td><td>0.9900498</td><td>-0.01    </td></tr>\n",
       "\t<tr><td>2        </td><td>1.0000000</td><td> 0.00    </td></tr>\n",
       "\t<tr><td>3        </td><td>1.1051709</td><td> 0.10    </td></tr>\n",
       "\t<tr><td>4        </td><td>1.2214028</td><td> 0.20    </td></tr>\n",
       "</tbody>\n",
       "</table>\n"
      ],
      "text/latex": [
       "\\begin{tabular}{r|lll}\n",
       " Number & lambda & r\\\\\n",
       "\\hline\n",
       "\t 1         & 0.9900498 & -0.01    \\\\\n",
       "\t 2         & 1.0000000 &  0.00    \\\\\n",
       "\t 3         & 1.1051709 &  0.10    \\\\\n",
       "\t 4         & 1.2214028 &  0.20    \\\\\n",
       "\\end{tabular}\n"
      ],
      "text/markdown": [
       "\n",
       "| Number | lambda | r |\n",
       "|---|---|---|\n",
       "| 1         | 0.9900498 | -0.01     |\n",
       "| 2         | 1.0000000 |  0.00     |\n",
       "| 3         | 1.1051709 |  0.10     |\n",
       "| 4         | 1.2214028 |  0.20     |\n",
       "\n"
      ],
      "text/plain": [
       "  Number lambda    r    \n",
       "1 1      0.9900498 -0.01\n",
       "2 2      1.0000000  0.00\n",
       "3 3      1.1051709  0.10\n",
       "4 4      1.2214028  0.20"
      ]
     },
     "metadata": {},
     "output_type": "display_data"
    }
   ],
   "source": [
    "# convert r to lambda \n",
    "lambda = vector() \n",
    "lambda[1] = exp(-0.01)\n",
    "lambda[2] = exp(0)\n",
    "lambda[3] = exp(0.1)  \n",
    "lambda [4] = exp (0.2) \n",
    "\n",
    "# r \n",
    "r = vector ()\n",
    "r[1] = -0.01\n",
    "r[2] = 0\n",
    "r[3] = 0.1\n",
    "r[4] = 0.2\n",
    "\n",
    "lambda_frame <- data.frame ( \n",
    "\n",
    "    Number = c(1:4), \n",
    "    lambda = lambda, \n",
    "    r = r\n",
    ")\n",
    "\n",
    "lambda_frame "
   ]
  },
  {
   "cell_type": "markdown",
   "id": "1b3d1a57-41a0-4efb-8dfd-078d29864cfa",
   "metadata": {},
   "source": [
    "### Doubling time \n",
    "\n",
    "Sometimes we gain a more intuitive grasp of an idea when we convert to a different form of the same relationship. Exponential growth is one of those ideas that can be hard to grasp. A more intuitive way to compare or express exponential growth rate is through doubling time, the time required for the population to double in size. For instance, a per capita growth rate of $ r = 0.014 inds \\times ind^-1y^-1 $ means that the population will double in less than 5 years.\n",
    "\n",
    "We determine this by letting $ N_t = 2N_0 $\n",
    "$$ 2N_0 = N_0e^{rt} $$\n",
    "$$ \\ln(2) = rt $$\n",
    "$$ t = \\frac {\\ln 2} {r} $$\n"
   ]
  },
  {
   "cell_type": "code",
   "execution_count": 17,
   "id": "75849963-d3fb-4a79-abdd-503085e2256b",
   "metadata": {},
   "outputs": [
    {
     "data": {
      "text/html": [
       "<table>\n",
       "<thead><tr><th scope=col>Number</th><th scope=col>Doubling_time</th><th scope=col>r</th></tr></thead>\n",
       "<tbody>\n",
       "\t<tr><td>1         </td><td>-69.314718</td><td>-0.01     </td></tr>\n",
       "\t<tr><td>2         </td><td>       Inf</td><td> 0.00     </td></tr>\n",
       "\t<tr><td>3         </td><td>  6.931472</td><td> 0.10     </td></tr>\n",
       "\t<tr><td>4         </td><td>  3.465736</td><td> 0.20     </td></tr>\n",
       "</tbody>\n",
       "</table>\n"
      ],
      "text/latex": [
       "\\begin{tabular}{r|lll}\n",
       " Number & Doubling\\_time & r\\\\\n",
       "\\hline\n",
       "\t 1          & -69.314718 & -0.01     \\\\\n",
       "\t 2          &        Inf &  0.00     \\\\\n",
       "\t 3          &   6.931472 &  0.10     \\\\\n",
       "\t 4          &   3.465736 &  0.20     \\\\\n",
       "\\end{tabular}\n"
      ],
      "text/markdown": [
       "\n",
       "| Number | Doubling_time | r |\n",
       "|---|---|---|\n",
       "| 1          | -69.314718 | -0.01      |\n",
       "| 2          |        Inf |  0.00      |\n",
       "| 3          |   6.931472 |  0.10      |\n",
       "| 4          |   3.465736 |  0.20      |\n",
       "\n"
      ],
      "text/plain": [
       "  Number Doubling_time r    \n",
       "1 1      -69.314718    -0.01\n",
       "2 2             Inf     0.00\n",
       "3 3        6.931472     0.10\n",
       "4 4        3.465736     0.20"
      ]
     },
     "metadata": {},
     "output_type": "display_data"
    }
   ],
   "source": [
    "library('SciViews')\n",
    "# r \n",
    "r = vector ()\n",
    "r[1] = -0.01\n",
    "r[2] = 0\n",
    "r[3] = 0.1\n",
    "r[4] = 0.2 \n",
    "\n",
    "# Doubling time \n",
    "db = vector() \n",
    "for( i  in 1:length (r) ) {\n",
    "\n",
    "    db [i] = ln (2) / r[i] \n",
    "    \n",
    "}\n",
    "\n",
    "db_frame <- data.frame ( \n",
    "\n",
    "    Number = c(1:4), \n",
    "    Doubling_time = db, \n",
    "    r = r\n",
    ")\n",
    "db_frame"
   ]
  },
  {
   "cell_type": "code",
   "execution_count": 18,
   "id": "360626c7-c105-4c31-aa36-dd4f66c1f50d",
   "metadata": {},
   "outputs": [
    {
     "data": {
      "image/png": "[encoded data removed]",
      "text/plain": [
       "plot without title"
      ]
     },
     "metadata": {},
     "output_type": "display_data"
    }
   ],
   "source": [
    "curve( log(2)/x, xlab=\"r\", ylab=\"Doubling time\")"
   ]
  },
  {
   "cell_type": "code",
   "execution_count": 19,
   "id": "5c9680af-187e-40e4-8535-0477f16f5d2c",
   "metadata": {},
   "outputs": [
    {
     "data": {
      "text/html": [
       "<table>\n",
       "<thead><tr><th scope=col>Year</th><th scope=col>Count</th></tr></thead>\n",
       "<tbody>\n",
       "\t<tr><td>1966</td><td> 34 </td></tr>\n",
       "\t<tr><td>1967</td><td> 40 </td></tr>\n",
       "\t<tr><td>1968</td><td> 42 </td></tr>\n",
       "\t<tr><td>1969</td><td> 54 </td></tr>\n",
       "\t<tr><td>1970</td><td> 49 </td></tr>\n",
       "\t<tr><td>1971</td><td> 71 </td></tr>\n",
       "\t<tr><td>1972</td><td> 66 </td></tr>\n",
       "\t<tr><td>1973</td><td> 56 </td></tr>\n",
       "\t<tr><td>1974</td><td> 72 </td></tr>\n",
       "\t<tr><td>1975</td><td> 77 </td></tr>\n",
       "\t<tr><td>1976</td><td> 37 </td></tr>\n",
       "\t<tr><td>1977</td><td> 32 </td></tr>\n",
       "\t<tr><td>1978</td><td> 26 </td></tr>\n",
       "\t<tr><td>1979</td><td> 22 </td></tr>\n",
       "\t<tr><td>1980</td><td> 31 </td></tr>\n",
       "\t<tr><td>1981</td><td> 28 </td></tr>\n",
       "\t<tr><td>1982</td><td> 41 </td></tr>\n",
       "\t<tr><td>1983</td><td> 36 </td></tr>\n",
       "\t<tr><td>1984</td><td> 37 </td></tr>\n",
       "\t<tr><td>1985</td><td> 44 </td></tr>\n",
       "\t<tr><td>1986</td><td> 34 </td></tr>\n",
       "\t<tr><td>1987</td><td> 47 </td></tr>\n",
       "\t<tr><td>1988</td><td> 45 </td></tr>\n",
       "\t<tr><td>1989</td><td> 41 </td></tr>\n",
       "\t<tr><td>1990</td><td> 32 </td></tr>\n",
       "\t<tr><td>1991</td><td> 40 </td></tr>\n",
       "\t<tr><td>1992</td><td>120 </td></tr>\n",
       "\t<tr><td>1993</td><td> 96 </td></tr>\n",
       "\t<tr><td>1994</td><td> 93 </td></tr>\n",
       "\t<tr><td>1995</td><td> 67 </td></tr>\n",
       "\t<tr><td>1996</td><td> 84 </td></tr>\n",
       "\t<tr><td>1997</td><td> 90 </td></tr>\n",
       "\t<tr><td>1998</td><td> 37 </td></tr>\n",
       "\t<tr><td>1999</td><td> 34 </td></tr>\n",
       "\t<tr><td>2000</td><td> 34 </td></tr>\n",
       "\t<tr><td>2001</td><td> 43 </td></tr>\n",
       "</tbody>\n",
       "</table>\n"
      ],
      "text/latex": [
       "\\begin{tabular}{r|ll}\n",
       " Year & Count\\\\\n",
       "\\hline\n",
       "\t 1966 &  34 \\\\\n",
       "\t 1967 &  40 \\\\\n",
       "\t 1968 &  42 \\\\\n",
       "\t 1969 &  54 \\\\\n",
       "\t 1970 &  49 \\\\\n",
       "\t 1971 &  71 \\\\\n",
       "\t 1972 &  66 \\\\\n",
       "\t 1973 &  56 \\\\\n",
       "\t 1974 &  72 \\\\\n",
       "\t 1975 &  77 \\\\\n",
       "\t 1976 &  37 \\\\\n",
       "\t 1977 &  32 \\\\\n",
       "\t 1978 &  26 \\\\\n",
       "\t 1979 &  22 \\\\\n",
       "\t 1980 &  31 \\\\\n",
       "\t 1981 &  28 \\\\\n",
       "\t 1982 &  41 \\\\\n",
       "\t 1983 &  36 \\\\\n",
       "\t 1984 &  37 \\\\\n",
       "\t 1985 &  44 \\\\\n",
       "\t 1986 &  34 \\\\\n",
       "\t 1987 &  47 \\\\\n",
       "\t 1988 &  45 \\\\\n",
       "\t 1989 &  41 \\\\\n",
       "\t 1990 &  32 \\\\\n",
       "\t 1991 &  40 \\\\\n",
       "\t 1992 & 120 \\\\\n",
       "\t 1993 &  96 \\\\\n",
       "\t 1994 &  93 \\\\\n",
       "\t 1995 &  67 \\\\\n",
       "\t 1996 &  84 \\\\\n",
       "\t 1997 &  90 \\\\\n",
       "\t 1998 &  37 \\\\\n",
       "\t 1999 &  34 \\\\\n",
       "\t 2000 &  34 \\\\\n",
       "\t 2001 &  43 \\\\\n",
       "\\end{tabular}\n"
      ],
      "text/markdown": [
       "\n",
       "| Year | Count |\n",
       "|---|---|\n",
       "| 1966 |  34  |\n",
       "| 1967 |  40  |\n",
       "| 1968 |  42  |\n",
       "| 1969 |  54  |\n",
       "| 1970 |  49  |\n",
       "| 1971 |  71  |\n",
       "| 1972 |  66  |\n",
       "| 1973 |  56  |\n",
       "| 1974 |  72  |\n",
       "| 1975 |  77  |\n",
       "| 1976 |  37  |\n",
       "| 1977 |  32  |\n",
       "| 1978 |  26  |\n",
       "| 1979 |  22  |\n",
       "| 1980 |  31  |\n",
       "| 1981 |  28  |\n",
       "| 1982 |  41  |\n",
       "| 1983 |  36  |\n",
       "| 1984 |  37  |\n",
       "| 1985 |  44  |\n",
       "| 1986 |  34  |\n",
       "| 1987 |  47  |\n",
       "| 1988 |  45  |\n",
       "| 1989 |  41  |\n",
       "| 1990 |  32  |\n",
       "| 1991 |  40  |\n",
       "| 1992 | 120  |\n",
       "| 1993 |  96  |\n",
       "| 1994 |  93  |\n",
       "| 1995 |  67  |\n",
       "| 1996 |  84  |\n",
       "| 1997 |  90  |\n",
       "| 1998 |  37  |\n",
       "| 1999 |  34  |\n",
       "| 2000 |  34  |\n",
       "| 2001 |  43  |\n",
       "\n"
      ],
      "text/plain": [
       "   Year Count\n",
       "1  1966  34  \n",
       "2  1967  40  \n",
       "3  1968  42  \n",
       "4  1969  54  \n",
       "5  1970  49  \n",
       "6  1971  71  \n",
       "7  1972  66  \n",
       "8  1973  56  \n",
       "9  1974  72  \n",
       "10 1975  77  \n",
       "11 1976  37  \n",
       "12 1977  32  \n",
       "13 1978  26  \n",
       "14 1979  22  \n",
       "15 1980  31  \n",
       "16 1981  28  \n",
       "17 1982  41  \n",
       "18 1983  36  \n",
       "19 1984  37  \n",
       "20 1985  44  \n",
       "21 1986  34  \n",
       "22 1987  47  \n",
       "23 1988  45  \n",
       "24 1989  41  \n",
       "25 1990  32  \n",
       "26 1991  40  \n",
       "27 1992 120  \n",
       "28 1993  96  \n",
       "29 1994  93  \n",
       "30 1995  67  \n",
       "31 1996  84  \n",
       "32 1997  90  \n",
       "33 1998  37  \n",
       "34 1999  34  \n",
       "35 2000  34  \n",
       "36 2001  43  "
      ]
     },
     "metadata": {},
     "output_type": "display_data"
    }
   ],
   "source": [
    "sparrows <- data.frame (\n",
    "\n",
    "    Year = c(1966:2001), \n",
    "    Count = c( 34, 40, 42, 54, 49, 71, 66, 56, 72, 77, 37, 32, 26, 22, 31, 28, 41, 36, 37, 44, 34, 47, 45, 41, 32, 40, 120, 96, 93, 67, 84, 90, 37, 34, 34, 43) \n",
    "    \n",
    ")\n",
    "\n",
    "sparrows"
   ]
  },
  {
   "cell_type": "code",
   "execution_count": 20,
   "id": "5277f2fc-b14f-4edc-98b9-8884678f3629",
   "metadata": {},
   "outputs": [
    {
     "data": {
      "image/png": "[encoded data removed]",
      "text/plain": [
       "plot without title"
      ]
     },
     "metadata": {},
     "output_type": "display_data"
    }
   ],
   "source": [
    "ggplot(sparrows, aes(x=Year, y=Count)) + geom_line() + geom_point(pch=1)"
   ]
  },
  {
   "cell_type": "code",
   "execution_count": 21,
   "id": "ea3c700d-03cc-4751-99ed-568503c4f094",
   "metadata": {},
   "outputs": [
    {
     "name": "stderr",
     "output_type": "stream",
     "text": [
      "The following objects are masked from sparrows (pos = 5):\n",
      "\n",
      "    Count, Year\n",
      "\n",
      "The following objects are masked from sparrows (pos = 6):\n",
      "\n",
      "    Count, Year\n",
      "\n",
      "The following objects are masked from sparrows (pos = 7):\n",
      "\n",
      "    Count, Year\n",
      "\n"
     ]
    }
   ],
   "source": [
    "attach (sparrows) "
   ]
  },
  {
   "cell_type": "code",
   "execution_count": 22,
   "id": "b8da41d4-1da1-4abf-9557-eaee9cf1a7d7",
   "metadata": {},
   "outputs": [
    {
     "data": {
      "text/html": [
       "<ol class=list-inline>\n",
       "\t<li>1.17647058823529</li>\n",
       "\t<li>1.05</li>\n",
       "\t<li>1.28571428571429</li>\n",
       "\t<li>0.907407407407407</li>\n",
       "\t<li>1.44897959183673</li>\n",
       "\t<li>0.929577464788732</li>\n",
       "\t<li>0.848484848484849</li>\n",
       "\t<li>1.28571428571429</li>\n",
       "\t<li>1.06944444444444</li>\n",
       "\t<li>0.480519480519481</li>\n",
       "\t<li>0.864864864864865</li>\n",
       "\t<li>0.8125</li>\n",
       "\t<li>0.846153846153846</li>\n",
       "\t<li>1.40909090909091</li>\n",
       "\t<li>0.903225806451613</li>\n",
       "\t<li>1.46428571428571</li>\n",
       "\t<li>0.878048780487805</li>\n",
       "\t<li>1.02777777777778</li>\n",
       "\t<li>1.18918918918919</li>\n",
       "\t<li>0.772727272727273</li>\n",
       "\t<li>1.38235294117647</li>\n",
       "\t<li>0.957446808510638</li>\n",
       "\t<li>0.911111111111111</li>\n",
       "\t<li>0.780487804878049</li>\n",
       "\t<li>1.25</li>\n",
       "\t<li>3</li>\n",
       "\t<li>0.8</li>\n",
       "\t<li>0.96875</li>\n",
       "\t<li>0.720430107526882</li>\n",
       "\t<li>1.25373134328358</li>\n",
       "\t<li>1.07142857142857</li>\n",
       "\t<li>0.411111111111111</li>\n",
       "\t<li>0.918918918918919</li>\n",
       "\t<li>1</li>\n",
       "\t<li>1.26470588235294</li>\n",
       "</ol>\n"
      ],
      "text/latex": [
       "\\begin{enumerate*}\n",
       "\\item 1.17647058823529\n",
       "\\item 1.05\n",
       "\\item 1.28571428571429\n",
       "\\item 0.907407407407407\n",
       "\\item 1.44897959183673\n",
       "\\item 0.929577464788732\n",
       "\\item 0.848484848484849\n",
       "\\item 1.28571428571429\n",
       "\\item 1.06944444444444\n",
       "\\item 0.480519480519481\n",
       "\\item 0.864864864864865\n",
       "\\item 0.8125\n",
       "\\item 0.846153846153846\n",
       "\\item 1.40909090909091\n",
       "\\item 0.903225806451613\n",
       "\\item 1.46428571428571\n",
       "\\item 0.878048780487805\n",
       "\\item 1.02777777777778\n",
       "\\item 1.18918918918919\n",
       "\\item 0.772727272727273\n",
       "\\item 1.38235294117647\n",
       "\\item 0.957446808510638\n",
       "\\item 0.911111111111111\n",
       "\\item 0.780487804878049\n",
       "\\item 1.25\n",
       "\\item 3\n",
       "\\item 0.8\n",
       "\\item 0.96875\n",
       "\\item 0.720430107526882\n",
       "\\item 1.25373134328358\n",
       "\\item 1.07142857142857\n",
       "\\item 0.411111111111111\n",
       "\\item 0.918918918918919\n",
       "\\item 1\n",
       "\\item 1.26470588235294\n",
       "\\end{enumerate*}\n"
      ],
      "text/markdown": [
       "1. 1.17647058823529\n",
       "2. 1.05\n",
       "3. 1.28571428571429\n",
       "4. 0.907407407407407\n",
       "5. 1.44897959183673\n",
       "6. 0.929577464788732\n",
       "7. 0.848484848484849\n",
       "8. 1.28571428571429\n",
       "9. 1.06944444444444\n",
       "10. 0.480519480519481\n",
       "11. 0.864864864864865\n",
       "12. 0.8125\n",
       "13. 0.846153846153846\n",
       "14. 1.40909090909091\n",
       "15. 0.903225806451613\n",
       "16. 1.46428571428571\n",
       "17. 0.878048780487805\n",
       "18. 1.02777777777778\n",
       "19. 1.18918918918919\n",
       "20. 0.772727272727273\n",
       "21. 1.38235294117647\n",
       "22. 0.957446808510638\n",
       "23. 0.911111111111111\n",
       "24. 0.780487804878049\n",
       "25. 1.25\n",
       "26. 3\n",
       "27. 0.8\n",
       "28. 0.96875\n",
       "29. 0.720430107526882\n",
       "30. 1.25373134328358\n",
       "31. 1.07142857142857\n",
       "32. 0.411111111111111\n",
       "33. 0.918918918918919\n",
       "34. 1\n",
       "35. 1.26470588235294\n",
       "\n",
       "\n"
      ],
      "text/plain": [
       " [1] 1.1764706 1.0500000 1.2857143 0.9074074 1.4489796 0.9295775 0.8484848\n",
       " [8] 1.2857143 1.0694444 0.4805195 0.8648649 0.8125000 0.8461538 1.4090909\n",
       "[15] 0.9032258 1.4642857 0.8780488 1.0277778 1.1891892 0.7727273 1.3823529\n",
       "[22] 0.9574468 0.9111111 0.7804878 1.2500000 3.0000000 0.8000000 0.9687500\n",
       "[29] 0.7204301 1.2537313 1.0714286 0.4111111 0.9189189 1.0000000 1.2647059"
      ]
     },
     "metadata": {},
     "output_type": "display_data"
    }
   ],
   "source": [
    "obs.R <- Count[-1]/Count[-length(Count)]\n",
    "obs.R"
   ]
  },
  {
   "cell_type": "code",
   "execution_count": 23,
   "id": "d1a40a2e-5bd0-498e-982c-fb3852455afb",
   "metadata": {},
   "outputs": [
    {
     "data": {
      "image/png": "[encoded data removed]",
      "text/plain": [
       "plot without title"
      ]
     },
     "metadata": {},
     "output_type": "display_data"
    }
   ],
   "source": [
    "qplot(x=Year[-length(Count)], y=obs.R, geom=\"point\") + geom_hline(yintercept=1, lty=3) + \n",
    "  labs(y=bquote(N[t+1]/N[t]), x=\"Year (t)\")"
   ]
  },
  {
   "cell_type": "markdown",
   "id": "b0af20c5-2600-40e6-bfa0-9cc67f74d11f",
   "metadata": {},
   "source": [
    "###  Average growth rate \n",
    "\n",
    "Since growth rate varies from year to year, we may want to calculate average annual growth rate over several years. As we see below, however, the arithmetic averages are not really appropriate. How do we calculate an average growth rate for a fluctuating population? \n",
    "\n",
    "Consider that $N_{t+1}/N_t$ may be a random variable which we will call $R$. That is, this ratio from any one particular year could take on a wide variety of values, from close to zero, up to some (unknown) large number. Let’s pick two out of a hat, where $ R= 0.5, 1.5$. The arithmetic average of these is 1.0, so this mightseem to predict that, on average, the population does not change. Let’s project the population for two years using each $R$ once.\n",
    "\n",
    "$N_0 = 100$\n",
    "$N_1 = N_0(0.5) = 50$ \n",
    "$N-2 = N_1(1.5) = 75$\n",
    "\n",
    "We started with 100 individuals, but the population shrank! Why did that happen? It happens because, in essence, we multiply the *λ* together, where $N_2 = N_0R_1R_2$. In this case, then, what is a sensible “average”?\n",
    "\n",
    "How do we calculate an average for things that we multiply together? We would like a value for $R$ which would provide the solution to\n",
    "$$\n",
    "    \\overline {R}^t = R_1 R_2 ... R_t \n",
    "$$\n",
    "where $t$ is the number of time steps and $R_1$ is the observed finite rate of increase from year 1 to year 2. The bar over $R$ indicates a mean.\n",
    "\n",
    "All we have to do is solve for $R$.\n",
    "$$\n",
    "    (\\overline {R}^t)^{\\frac {1}{t}} = (R_1 R_2 ... R_t)^{\\frac {1}{t}}\n",
    "$$\n",
    "$$\n",
    "    (\\overline {R}) = (R_1 R_2 ... R_t)^{\\frac {1}{t}}\n",
    "$$\n",
    "We take the $t$-th root of the product of all the R. This is called the *geometric average*. Another way of writing this would be to use the product symbol, Π, as in\n",
    "$$\n",
    "    (\\overline {R}) = (\\prod {R_i})^{\\frac {1}{t}}\n",
    "$$\n",
    "\n",
    "If we examine the Song Sparrow data, we see that projections based on the geometric average R are less than when based on the arithmetic average; this is always the case.\n"
   ]
  },
  {
   "cell_type": "code",
   "execution_count": 24,
   "id": "9422c47c-e89d-4102-bf9f-165cd4733b00",
   "metadata": {},
   "outputs": [
    {
     "data": {
      "text/html": [
       "1.06687574738494"
      ],
      "text/latex": [
       "1.06687574738494"
      ],
      "text/markdown": [
       "1.06687574738494"
      ],
      "text/plain": [
       "[1] 1.066876"
      ]
     },
     "metadata": {},
     "output_type": "display_data"
    },
    {
     "data": {
      "text/html": [
       "1.00673226308654"
      ],
      "text/latex": [
       "1.00673226308654"
      ],
      "text/markdown": [
       "1.00673226308654"
      ],
      "text/plain": [
       "[1] 1.006732"
      ]
     },
     "metadata": {},
     "output_type": "display_data"
    },
    {
     "data": {
      "image/png": "[encoded data removed]",
      "text/plain": [
       "plot without title"
      ]
     },
     "metadata": {},
     "output_type": "display_data"
    }
   ],
   "source": [
    "lam.A <- sum(obs.R)/(length (Year) -1)\n",
    "lam.G <- prod(obs.R)^(1/(length (Year)-1 ))\n",
    "\n",
    "lam.A\n",
    "lam.G\n",
    "\n",
    "N0 <- Count[1]\n",
    "plot(1:length(Year), Count, ylab = \"Projected Population Size\", xlab = \"Time\")\n",
    "lines(1:length(Year), N0 * lam.A^(1:length (Year)), lty = 2)\n",
    "lines(1:length(Year), N0 * lam.G^(1:length (Year)), lty = 1)\n",
    "legend(1, 110, c(\"Arithmetic Ave.\", \"Geometric Ave.\"), title = \"Projections Based On:\", lty = 2:1, bty = \"n\", xjust = 0)\n",
    "\n",
    "\n"
   ]
  },
  {
   "cell_type": "code",
   "execution_count": 33,
   "id": "25d5b654-6c0f-4ff0-a815-749ccd64c9e9",
   "metadata": {},
   "outputs": [
    {
     "data": {
      "image/png": "[encoded data removed]",
      "text/plain": [
       "plot without title"
      ]
     },
     "metadata": {},
     "output_type": "display_data"
    }
   ],
   "source": [
    "years <- 100\n",
    "\n",
    "set.seed(3)\n",
    "sim.Rs <- sample(x = obs.R, size = years, replace = TRUE)\n",
    "output <- numeric(years + 1)\n",
    "output[1] <- Count[Year == max(Year)]\n",
    "\n",
    "for (t in 1:years) output[t + 1] <- {\n",
    " output[t] * sim.Rs[t]\n",
    "} \n",
    "\n",
    "plot(0:years, output, type = \"l\", xlab = \"Year\", ylab = \"Number\")\n"
   ]
  },
  {
   "cell_type": "code",
   "execution_count": 45,
   "id": "dd8230ec-20fb-4294-b498-0103c842d529",
   "metadata": {},
   "outputs": [
    {
     "data": {
      "image/png": "[encoded data removed]",
      "text/plain": [
       "plot without title"
      ]
     },
     "metadata": {},
     "output_type": "display_data"
    }
   ],
   "source": [
    "sims = 100\n",
    "\n",
    "sim.RM <- matrix(sample(obs.R, sims * years, replace = TRUE), nrow = years, ncol = sims)\n",
    "\n",
    "output[1] <- Count[Year == max(Year)]\n",
    "for (t in 1:years) output[t + 1] <- output[t] * sim.RM[t, i]\n",
    "outmat <- sapply(1:sims, function(i) { for (t in 1:years) output[t + 1] <- output[t] * sim.RM[t, i]\n",
    " + output})\n",
    "\n",
    "\n",
    "matplot(0:years, outmat, type = \"l\", log = \"y\")\n"
   ]
  },
  {
   "cell_type": "code",
   "execution_count": null,
   "id": "2db3661d-4161-4a13-b5d8-624fc4aa165c",
   "metadata": {},
   "outputs": [],
   "source": []
  }
 ],
 "metadata": {
  "kernelspec": {
   "display_name": "R",
   "language": "R",
   "name": "ir"
  },
  "language_info": {
   "codemirror_mode": "r",
   "file_extension": ".r",
   "mimetype": "text/x-r-source",
   "name": "R",
   "pygments_lexer": "r",
   "version": "3.6.1"
  }
 },
 "nbformat": 4,
 "nbformat_minor": 5
}
