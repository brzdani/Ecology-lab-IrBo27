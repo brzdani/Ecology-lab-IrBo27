{
 "cells": [
  {
   "cell_type": "markdown",
   "id": "4026c819-f188-4f57-af5c-c65045d8fa4b",
   "metadata": {},
   "source": [
    "## <div dir=\"rtl\"> پاسخ تشریحی تسک نوترکیبی و LD"
   ]
  },
  {
   "cell_type": "code",
   "execution_count": 2,
   "id": "78d52198-bdce-4fba-ad16-b0fd42ee6e4e",
   "metadata": {},
   "outputs": [],
   "source": [
    "library('SciViews')\n",
    "library ( 'ggplot2')\n",
    "P = 0.1"
   ]
  },
  {
   "cell_type": "markdown",
   "id": "b07ea301-b44a-4e10-90e8-f19281a60574",
   "metadata": {},
   "source": [
    " <div dir=\"rtl\"> در این تسک فرض می‌کنیم نرخ نوترکیبی (P) برابر با ۰.۱ می‌باشد. ابتدا با توجه به فراوانی هر هاپلوتایپ فراوانی‌ ژنوتیپ‌های هر نسل را محاسبه می‌کنیم. برای این کار از جدولی که در تسک به شما داده شده است استفاده می‌کنیم. "
   ]
  },
  {
   "cell_type": "code",
   "execution_count": 3,
   "id": "8c579c84-a183-40aa-b03d-30312565202d",
   "metadata": {},
   "outputs": [
    {
     "data": {
      "text/html": [
       "<table>\n",
       "<thead><tr><th scope=col>Generation</th><th scope=col>gAB</th><th scope=col>gAb</th><th scope=col>gaB</th><th scope=col>gab</th></tr></thead>\n",
       "<tbody>\n",
       "\t<tr><td>1  </td><td>0.2</td><td>0.3</td><td>0.4</td><td>0.1</td></tr>\n",
       "</tbody>\n",
       "</table>\n"
      ],
      "text/latex": [
       "\\begin{tabular}{r|lllll}\n",
       " Generation & gAB & gAb & gaB & gab\\\\\n",
       "\\hline\n",
       "\t 1   & 0.2 & 0.3 & 0.4 & 0.1\\\\\n",
       "\\end{tabular}\n"
      ],
      "text/markdown": [
       "\n",
       "| Generation | gAB | gAb | gaB | gab |\n",
       "|---|---|---|---|---|\n",
       "| 1   | 0.2 | 0.3 | 0.4 | 0.1 |\n",
       "\n"
      ],
      "text/plain": [
       "  Generation gAB gAb gaB gab\n",
       "1 1          0.2 0.3 0.4 0.1"
      ]
     },
     "metadata": {},
     "output_type": "display_data"
    },
    {
     "data": {
      "text/html": [
       "<table>\n",
       "<thead><tr><th scope=col>Generation</th><th scope=col>X1</th><th scope=col>X2</th><th scope=col>X3</th><th scope=col>X4</th><th scope=col>X5</th><th scope=col>X6</th><th scope=col>X7</th><th scope=col>X8</th><th scope=col>X9</th><th scope=col>X10</th></tr></thead>\n",
       "<tbody>\n",
       "\t<tr><td>1   </td><td>0.04</td><td>0.09</td><td>0.16</td><td>0.01</td><td>0.12</td><td>0.16</td><td>0.04</td><td>0.24</td><td>0.06</td><td>0.08</td></tr>\n",
       "</tbody>\n",
       "</table>\n"
      ],
      "text/latex": [
       "\\begin{tabular}{r|lllllllllll}\n",
       " Generation & X1 & X2 & X3 & X4 & X5 & X6 & X7 & X8 & X9 & X10\\\\\n",
       "\\hline\n",
       "\t 1    & 0.04 & 0.09 & 0.16 & 0.01 & 0.12 & 0.16 & 0.04 & 0.24 & 0.06 & 0.08\\\\\n",
       "\\end{tabular}\n"
      ],
      "text/markdown": [
       "\n",
       "| Generation | X1 | X2 | X3 | X4 | X5 | X6 | X7 | X8 | X9 | X10 |\n",
       "|---|---|---|---|---|---|---|---|---|---|---|\n",
       "| 1    | 0.04 | 0.09 | 0.16 | 0.01 | 0.12 | 0.16 | 0.04 | 0.24 | 0.06 | 0.08 |\n",
       "\n"
      ],
      "text/plain": [
       "  Generation X1   X2   X3   X4   X5   X6   X7   X8   X9   X10 \n",
       "1 1          0.04 0.09 0.16 0.01 0.12 0.16 0.04 0.24 0.06 0.08"
      ]
     },
     "metadata": {},
     "output_type": "display_data"
    }
   ],
   "source": [
    "  rNumber = vector() \n",
    "  rNumber[1] = 0.2\n",
    "  rNumber[2] = 0.3\n",
    "  rNumber[3] = 0.4\n",
    "  rNumber[4] = 0.1\n",
    "  SUmrNumber = sum (rNumber)\n",
    "  \n",
    "  gAB0 = rNumber[1] / SUmrNumber\n",
    "  gAb0 = rNumber[2] / SUmrNumber\n",
    "  gaB0 = rNumber[3] / SUmrNumber\n",
    "  gab0 = rNumber[4] / SUmrNumber\n",
    "  \n",
    "  SexHostGeneSpace = vector()  #shows frequencies of every genotypes in the  initial sexual host population\n",
    "  SexHostGeneSpace[1] = gAB0 * gAB0 \n",
    "  SexHostGeneSpace[2] = gAb0 * gAb0 \n",
    "  SexHostGeneSpace[3] = gaB0 * gaB0\n",
    "  SexHostGeneSpace[4] = gab0 * gab0 \n",
    "  SexHostGeneSpace[5] = 2 * gAB0 * gAb0 \n",
    "  SexHostGeneSpace[6] = 2 * gAB0 * gaB0 \n",
    "  SexHostGeneSpace[7] = 2 * gAB0 * gab0 \n",
    "  SexHostGeneSpace[8] = 2 * gAb0 * gaB0 \n",
    "  SexHostGeneSpace[9] = 2 * gAb0 * gab0 \n",
    "  SexHostGeneSpace[10] = 2 * gaB0 * gab0\n",
    "\n",
    "    haplotype_frame <- data.frame (\n",
    "        Generation = 1,\n",
    "        gAB = gAB0,\n",
    "        gAb = gAb0,\n",
    "        gaB = gaB0, \n",
    "        gab = gab0\n",
    "    )\n",
    "haplotype_frame\n",
    "\n",
    "\n",
    "    genotype_frame <- data.frame (\n",
    "        Generation = 1,\n",
    "        '1' = SexHostGeneSpace[1],\n",
    "        '2' = SexHostGeneSpace[2],\n",
    "        '3' = SexHostGeneSpace[3], \n",
    "        '4' = SexHostGeneSpace[4],\n",
    "        '5' = SexHostGeneSpace[5],\n",
    "        '6' = SexHostGeneSpace[6],\n",
    "        '7' = SexHostGeneSpace[7],\n",
    "        '8' = SexHostGeneSpace[8],\n",
    "        '9' = SexHostGeneSpace[9], \n",
    "        '10' = SexHostGeneSpace[10]\n",
    "    )\n",
    "genotype_frame"
   ]
  },
  {
   "cell_type": "code",
   "execution_count": 4,
   "id": "117b86d1-a870-4ff2-b813-e57850ac55d0",
   "metadata": {},
   "outputs": [],
   "source": [
    "  NbSex = vector()\n",
    "  nABSex = vector()\n",
    "  nAbSex = vector() \n",
    "  naBSex = vector() \n",
    "  nabSex = vector() \n",
    "  gABSex = vector()\n",
    "  gAbSex = vector() \n",
    "  gaBSex = vector() \n",
    "  gabSex = vector()"
   ]
  },
  {
   "cell_type": "markdown",
   "id": "c95cbe99-bf79-414e-921e-a27256ff335b",
   "metadata": {},
   "source": [
    " <div dir=\"rtl\"> برای محاسبه فراوانی هر هاپلوتایپ در نسل بعد از فرمول‌های زیر استفاده می‌کنیم. "
   ]
  },
  {
   "cell_type": "markdown",
   "id": "9ec1c454-25f1-46e8-aaf0-4d40b8d9e68c",
   "metadata": {},
   "source": [
    "$$\n",
    "g_{AB}  =( S_{AB/AB}' +(S_{AB/Ab}' ×0.5)+(S_{AB/aB}' ×0.5)+(S_{AB/ab}' ×(1-r)×0.5)+(S_{Ab/aB}' ×r×0.5))\n",
    "$$\n",
    "$$\n",
    "g_{Ab}  =( S_{Ab/Ab}' +(S_{AB/Ab}' ×0.5)+(S_{Ab/ab}' ×0.5)+(S_{Ab/aB}' ×(1-r)×0.5)+(S_{AB/ab}' ×r×0.5))\n",
    "$$\n",
    "$$\n",
    "g_{aB}  =( S_{aB/aB}' +(S_{AB/aB}' ×0.5)+(S_{ab/aB}' ×0.5)+(S_{Ab/aB}' ×(1-r)×0.5)+(S_{AB/ab}' ×r×0.5))\n",
    "$$\n",
    "$$\n",
    "g_{ab}  =( S_{ab/ab}' +(S_{Ab/ab}  ×0.5)+(S_{ab/aB}' ×0.5)+(S_{AB/ab}' ×(1-r)×0.5)+(S_{Ab/aB}' ×r×0.5))\n",
    "$$\n"
   ]
  },
  {
   "cell_type": "code",
   "execution_count": 5,
   "id": "b8ce3f4c-11a4-40ae-9b86-8577056a70a2",
   "metadata": {},
   "outputs": [],
   "source": [
    "for ( i in 1:9) {\n",
    "    gABSex[2] = SexHostGeneSpace[1]  + ( SexHostGeneSpace[5] * 0.5 ) + ( SexHostGeneSpace[6] * 0.5 ) + ( SexHostGeneSpace[7] * 0.5 * (1 - P) ) + ( SexHostGeneSpace[8] * 0.5 * P ) \n",
    "    gAbSex[2] = SexHostGeneSpace[2]  + ( SexHostGeneSpace[5] * 0.5 ) + ( SexHostGeneSpace[9] * 0.5 ) + ( SexHostGeneSpace[8] * 0.5 * ( 1- P) ) + ( SexHostGeneSpace[7] * 0.5 * P ) \n",
    "    gaBSex[2] = SexHostGeneSpace[3]  + ( SexHostGeneSpace[6] * 0.5 ) + ( SexHostGeneSpace[10] * 0.5 ) + ( SexHostGeneSpace[8] * 0.5 * (1 - P) ) + ( SexHostGeneSpace[7] * 0.5 * P )  \n",
    "    gabSex[2] = SexHostGeneSpace[4]  + ( SexHostGeneSpace[10] * 0.5 ) + ( SexHostGeneSpace[9] * 0.5 ) + ( SexHostGeneSpace[7] * 0.5 * (1 - P) ) + ( SexHostGeneSpace[8] * 0.5 * P )\n",
    "    x <- c ( i + 1 , gABSex[2] ,  gAbSex[2], gaBSex[2], gabSex[2]) \n",
    "    haplotype_frame <- rbind(haplotype_frame, x) \n",
    "\n",
    "    \n",
    "      SexHostGeneSpace[1] = gABSex[2] * gABSex[2] \n",
    "      SexHostGeneSpace[2] = gAbSex[2] * gAbSex[2] \n",
    "      SexHostGeneSpace[3] = gaBSex[2] * gaBSex[2] \n",
    "      SexHostGeneSpace[4] = gabSex[2] * gabSex[2] \n",
    "      SexHostGeneSpace[5] = 2 * gABSex[2] * gAbSex[2] \n",
    "      SexHostGeneSpace[6] = 2 * gABSex[2] * gaBSex[2] \n",
    "      SexHostGeneSpace[7] = 2 * gABSex[2] * gabSex[2] \n",
    "      SexHostGeneSpace[8] = 2 * gAbSex[2] * gaBSex[2] \n",
    "      SexHostGeneSpace[9] = 2 * gAbSex[2] * gabSex[2] \n",
    "      SexHostGeneSpace[10] = 2 * gaBSex[2] * gabSex[2] \n",
    "\n",
    "      x <- c ( i + 1 , SexHostGeneSpace) \n",
    "      genotype_frame <- rbind(genotype_frame, x) \n",
    "}"
   ]
  },
  {
   "cell_type": "markdown",
   "id": "922a467a-d165-48dd-ade1-95d4ca29340c",
   "metadata": {},
   "source": [
    " <div dir=\"rtl\"> جواب بخش ۱ تسک به صورت زیر خواهد بود. "
   ]
  },
  {
   "cell_type": "code",
   "execution_count": 6,
   "id": "15d1752e-1ec4-4c66-a093-b549aaa4adaf",
   "metadata": {},
   "outputs": [
    {
     "data": {
      "text/html": [
       "<table>\n",
       "<thead><tr><th scope=col>Generation</th><th scope=col>gAB</th><th scope=col>gAb</th><th scope=col>gaB</th><th scope=col>gab</th></tr></thead>\n",
       "<tbody>\n",
       "\t<tr><td> 1       </td><td>0.2000000</td><td>0.3000000</td><td>0.4000000</td><td>0.1000000</td></tr>\n",
       "\t<tr><td> 2       </td><td>0.2100000</td><td>0.2900000</td><td>0.3900000</td><td>0.1100000</td></tr>\n",
       "\t<tr><td> 3       </td><td>0.2190000</td><td>0.2810000</td><td>0.3810000</td><td>0.1190000</td></tr>\n",
       "\t<tr><td> 4       </td><td>0.2271000</td><td>0.2729000</td><td>0.3729000</td><td>0.1271000</td></tr>\n",
       "\t<tr><td> 5       </td><td>0.2343900</td><td>0.2656100</td><td>0.3656100</td><td>0.1343900</td></tr>\n",
       "\t<tr><td> 6       </td><td>0.2409510</td><td>0.2590490</td><td>0.3590490</td><td>0.1409510</td></tr>\n",
       "\t<tr><td> 7       </td><td>0.2468559</td><td>0.2531441</td><td>0.3531441</td><td>0.1468559</td></tr>\n",
       "\t<tr><td> 8       </td><td>0.2521703</td><td>0.2478297</td><td>0.3478297</td><td>0.1521703</td></tr>\n",
       "\t<tr><td> 9       </td><td>0.2569533</td><td>0.2430467</td><td>0.3430467</td><td>0.1569533</td></tr>\n",
       "\t<tr><td>10       </td><td>0.2612580</td><td>0.2387420</td><td>0.3387420</td><td>0.1612580</td></tr>\n",
       "</tbody>\n",
       "</table>\n"
      ],
      "text/latex": [
       "\\begin{tabular}{r|lllll}\n",
       " Generation & gAB & gAb & gaB & gab\\\\\n",
       "\\hline\n",
       "\t  1        & 0.2000000 & 0.3000000 & 0.4000000 & 0.1000000\\\\\n",
       "\t  2        & 0.2100000 & 0.2900000 & 0.3900000 & 0.1100000\\\\\n",
       "\t  3        & 0.2190000 & 0.2810000 & 0.3810000 & 0.1190000\\\\\n",
       "\t  4        & 0.2271000 & 0.2729000 & 0.3729000 & 0.1271000\\\\\n",
       "\t  5        & 0.2343900 & 0.2656100 & 0.3656100 & 0.1343900\\\\\n",
       "\t  6        & 0.2409510 & 0.2590490 & 0.3590490 & 0.1409510\\\\\n",
       "\t  7        & 0.2468559 & 0.2531441 & 0.3531441 & 0.1468559\\\\\n",
       "\t  8        & 0.2521703 & 0.2478297 & 0.3478297 & 0.1521703\\\\\n",
       "\t  9        & 0.2569533 & 0.2430467 & 0.3430467 & 0.1569533\\\\\n",
       "\t 10        & 0.2612580 & 0.2387420 & 0.3387420 & 0.1612580\\\\\n",
       "\\end{tabular}\n"
      ],
      "text/markdown": [
       "\n",
       "| Generation | gAB | gAb | gaB | gab |\n",
       "|---|---|---|---|---|\n",
       "|  1        | 0.2000000 | 0.3000000 | 0.4000000 | 0.1000000 |\n",
       "|  2        | 0.2100000 | 0.2900000 | 0.3900000 | 0.1100000 |\n",
       "|  3        | 0.2190000 | 0.2810000 | 0.3810000 | 0.1190000 |\n",
       "|  4        | 0.2271000 | 0.2729000 | 0.3729000 | 0.1271000 |\n",
       "|  5        | 0.2343900 | 0.2656100 | 0.3656100 | 0.1343900 |\n",
       "|  6        | 0.2409510 | 0.2590490 | 0.3590490 | 0.1409510 |\n",
       "|  7        | 0.2468559 | 0.2531441 | 0.3531441 | 0.1468559 |\n",
       "|  8        | 0.2521703 | 0.2478297 | 0.3478297 | 0.1521703 |\n",
       "|  9        | 0.2569533 | 0.2430467 | 0.3430467 | 0.1569533 |\n",
       "| 10        | 0.2612580 | 0.2387420 | 0.3387420 | 0.1612580 |\n",
       "\n"
      ],
      "text/plain": [
       "   Generation gAB       gAb       gaB       gab      \n",
       "1   1         0.2000000 0.3000000 0.4000000 0.1000000\n",
       "2   2         0.2100000 0.2900000 0.3900000 0.1100000\n",
       "3   3         0.2190000 0.2810000 0.3810000 0.1190000\n",
       "4   4         0.2271000 0.2729000 0.3729000 0.1271000\n",
       "5   5         0.2343900 0.2656100 0.3656100 0.1343900\n",
       "6   6         0.2409510 0.2590490 0.3590490 0.1409510\n",
       "7   7         0.2468559 0.2531441 0.3531441 0.1468559\n",
       "8   8         0.2521703 0.2478297 0.3478297 0.1521703\n",
       "9   9         0.2569533 0.2430467 0.3430467 0.1569533\n",
       "10 10         0.2612580 0.2387420 0.3387420 0.1612580"
      ]
     },
     "metadata": {},
     "output_type": "display_data"
    }
   ],
   "source": [
    "haplotype_frame"
   ]
  },
  {
   "cell_type": "markdown",
   "id": "9deca721-faa7-4401-b4c9-00b168700756",
   "metadata": {},
   "source": [
    " <div dir=\"rtl\"> جواب بخش ۲ تسک به صورت زیر خواهد بود. "
   ]
  },
  {
   "cell_type": "code",
   "execution_count": 7,
   "id": "0717c541-e7a2-4de8-b774-938fb29e7845",
   "metadata": {},
   "outputs": [
    {
     "data": {
      "text/html": [
       "<table>\n",
       "<thead><tr><th scope=col>Generation</th><th scope=col>X1</th><th scope=col>X2</th><th scope=col>X3</th><th scope=col>X4</th><th scope=col>X5</th><th scope=col>X6</th><th scope=col>X7</th><th scope=col>X8</th><th scope=col>X9</th><th scope=col>X10</th></tr></thead>\n",
       "<tbody>\n",
       "\t<tr><td> 1        </td><td>0.04000000</td><td>0.09000000</td><td>0.1600000 </td><td>0.01000000</td><td>0.1200000 </td><td>0.1600000 </td><td>0.04000000</td><td>0.2400000 </td><td>0.06000000</td><td>0.08000000</td></tr>\n",
       "\t<tr><td> 2        </td><td>0.04410000</td><td>0.08410000</td><td>0.1521000 </td><td>0.01210000</td><td>0.1218000 </td><td>0.1638000 </td><td>0.04620000</td><td>0.2262000 </td><td>0.06380000</td><td>0.08580000</td></tr>\n",
       "\t<tr><td> 3        </td><td>0.04796100</td><td>0.07896100</td><td>0.1451610 </td><td>0.01416100</td><td>0.1230780 </td><td>0.1668780 </td><td>0.05212200</td><td>0.2141220 </td><td>0.06687800</td><td>0.09067800</td></tr>\n",
       "\t<tr><td> 4        </td><td>0.05157441</td><td>0.07447441</td><td>0.1390544 </td><td>0.01615441</td><td>0.1239512 </td><td>0.1693712 </td><td>0.05772882</td><td>0.2035288 </td><td>0.06937118</td><td>0.09479118</td></tr>\n",
       "\t<tr><td> 5        </td><td>0.05493867</td><td>0.07054867</td><td>0.1336707 </td><td>0.01806067</td><td>0.1245127 </td><td>0.1713907 </td><td>0.06299934</td><td>0.1942193 </td><td>0.07139066</td><td>0.09826866</td></tr>\n",
       "\t<tr><td> 6        </td><td>0.05805738</td><td>0.06710638</td><td>0.1289162 </td><td>0.01986718</td><td>0.1248362 </td><td>0.1730264 </td><td>0.06792457</td><td>0.1860226 </td><td>0.07302643</td><td>0.10121663</td></tr>\n",
       "\t<tr><td> 7        </td><td>0.06093784</td><td>0.06408194</td><td>0.1247108 </td><td>0.02156666</td><td>0.1249802 </td><td>0.1743514 </td><td>0.07250449</td><td>0.1787927 </td><td>0.07435141</td><td>0.10372259</td></tr>\n",
       "\t<tr><td> 8        </td><td>0.06358987</td><td>0.06141956</td><td>0.1209855 </td><td>0.02315580</td><td>0.1249906 </td><td>0.1754246 </td><td>0.07674567</td><td>0.1724050 </td><td>0.07542464</td><td>0.10585870</td></tr>\n",
       "\t<tr><td> 9        </td><td>0.06602499</td><td>0.05907171</td><td>0.1176811 </td><td>0.02463433</td><td>0.1249033 </td><td>0.1762940 </td><td>0.08065932</td><td>0.1667528 </td><td>0.07629396</td><td>0.10768462</td></tr>\n",
       "\t<tr><td>10        </td><td>0.06825572</td><td>0.05699777</td><td>0.1147462 </td><td>0.02600413</td><td>0.1247465 </td><td>0.1769981 </td><td>0.08425984</td><td>0.1617439 </td><td>0.07699811</td><td>0.10924970</td></tr>\n",
       "</tbody>\n",
       "</table>\n"
      ],
      "text/latex": [
       "\\begin{tabular}{r|lllllllllll}\n",
       " Generation & X1 & X2 & X3 & X4 & X5 & X6 & X7 & X8 & X9 & X10\\\\\n",
       "\\hline\n",
       "\t  1         & 0.04000000 & 0.09000000 & 0.1600000  & 0.01000000 & 0.1200000  & 0.1600000  & 0.04000000 & 0.2400000  & 0.06000000 & 0.08000000\\\\\n",
       "\t  2         & 0.04410000 & 0.08410000 & 0.1521000  & 0.01210000 & 0.1218000  & 0.1638000  & 0.04620000 & 0.2262000  & 0.06380000 & 0.08580000\\\\\n",
       "\t  3         & 0.04796100 & 0.07896100 & 0.1451610  & 0.01416100 & 0.1230780  & 0.1668780  & 0.05212200 & 0.2141220  & 0.06687800 & 0.09067800\\\\\n",
       "\t  4         & 0.05157441 & 0.07447441 & 0.1390544  & 0.01615441 & 0.1239512  & 0.1693712  & 0.05772882 & 0.2035288  & 0.06937118 & 0.09479118\\\\\n",
       "\t  5         & 0.05493867 & 0.07054867 & 0.1336707  & 0.01806067 & 0.1245127  & 0.1713907  & 0.06299934 & 0.1942193  & 0.07139066 & 0.09826866\\\\\n",
       "\t  6         & 0.05805738 & 0.06710638 & 0.1289162  & 0.01986718 & 0.1248362  & 0.1730264  & 0.06792457 & 0.1860226  & 0.07302643 & 0.10121663\\\\\n",
       "\t  7         & 0.06093784 & 0.06408194 & 0.1247108  & 0.02156666 & 0.1249802  & 0.1743514  & 0.07250449 & 0.1787927  & 0.07435141 & 0.10372259\\\\\n",
       "\t  8         & 0.06358987 & 0.06141956 & 0.1209855  & 0.02315580 & 0.1249906  & 0.1754246  & 0.07674567 & 0.1724050  & 0.07542464 & 0.10585870\\\\\n",
       "\t  9         & 0.06602499 & 0.05907171 & 0.1176811  & 0.02463433 & 0.1249033  & 0.1762940  & 0.08065932 & 0.1667528  & 0.07629396 & 0.10768462\\\\\n",
       "\t 10         & 0.06825572 & 0.05699777 & 0.1147462  & 0.02600413 & 0.1247465  & 0.1769981  & 0.08425984 & 0.1617439  & 0.07699811 & 0.10924970\\\\\n",
       "\\end{tabular}\n"
      ],
      "text/markdown": [
       "\n",
       "| Generation | X1 | X2 | X3 | X4 | X5 | X6 | X7 | X8 | X9 | X10 |\n",
       "|---|---|---|---|---|---|---|---|---|---|---|\n",
       "|  1         | 0.04000000 | 0.09000000 | 0.1600000  | 0.01000000 | 0.1200000  | 0.1600000  | 0.04000000 | 0.2400000  | 0.06000000 | 0.08000000 |\n",
       "|  2         | 0.04410000 | 0.08410000 | 0.1521000  | 0.01210000 | 0.1218000  | 0.1638000  | 0.04620000 | 0.2262000  | 0.06380000 | 0.08580000 |\n",
       "|  3         | 0.04796100 | 0.07896100 | 0.1451610  | 0.01416100 | 0.1230780  | 0.1668780  | 0.05212200 | 0.2141220  | 0.06687800 | 0.09067800 |\n",
       "|  4         | 0.05157441 | 0.07447441 | 0.1390544  | 0.01615441 | 0.1239512  | 0.1693712  | 0.05772882 | 0.2035288  | 0.06937118 | 0.09479118 |\n",
       "|  5         | 0.05493867 | 0.07054867 | 0.1336707  | 0.01806067 | 0.1245127  | 0.1713907  | 0.06299934 | 0.1942193  | 0.07139066 | 0.09826866 |\n",
       "|  6         | 0.05805738 | 0.06710638 | 0.1289162  | 0.01986718 | 0.1248362  | 0.1730264  | 0.06792457 | 0.1860226  | 0.07302643 | 0.10121663 |\n",
       "|  7         | 0.06093784 | 0.06408194 | 0.1247108  | 0.02156666 | 0.1249802  | 0.1743514  | 0.07250449 | 0.1787927  | 0.07435141 | 0.10372259 |\n",
       "|  8         | 0.06358987 | 0.06141956 | 0.1209855  | 0.02315580 | 0.1249906  | 0.1754246  | 0.07674567 | 0.1724050  | 0.07542464 | 0.10585870 |\n",
       "|  9         | 0.06602499 | 0.05907171 | 0.1176811  | 0.02463433 | 0.1249033  | 0.1762940  | 0.08065932 | 0.1667528  | 0.07629396 | 0.10768462 |\n",
       "| 10         | 0.06825572 | 0.05699777 | 0.1147462  | 0.02600413 | 0.1247465  | 0.1769981  | 0.08425984 | 0.1617439  | 0.07699811 | 0.10924970 |\n",
       "\n"
      ],
      "text/plain": [
       "   Generation X1         X2         X3        X4         X5        X6       \n",
       "1   1         0.04000000 0.09000000 0.1600000 0.01000000 0.1200000 0.1600000\n",
       "2   2         0.04410000 0.08410000 0.1521000 0.01210000 0.1218000 0.1638000\n",
       "3   3         0.04796100 0.07896100 0.1451610 0.01416100 0.1230780 0.1668780\n",
       "4   4         0.05157441 0.07447441 0.1390544 0.01615441 0.1239512 0.1693712\n",
       "5   5         0.05493867 0.07054867 0.1336707 0.01806067 0.1245127 0.1713907\n",
       "6   6         0.05805738 0.06710638 0.1289162 0.01986718 0.1248362 0.1730264\n",
       "7   7         0.06093784 0.06408194 0.1247108 0.02156666 0.1249802 0.1743514\n",
       "8   8         0.06358987 0.06141956 0.1209855 0.02315580 0.1249906 0.1754246\n",
       "9   9         0.06602499 0.05907171 0.1176811 0.02463433 0.1249033 0.1762940\n",
       "10 10         0.06825572 0.05699777 0.1147462 0.02600413 0.1247465 0.1769981\n",
       "   X7         X8        X9         X10       \n",
       "1  0.04000000 0.2400000 0.06000000 0.08000000\n",
       "2  0.04620000 0.2262000 0.06380000 0.08580000\n",
       "3  0.05212200 0.2141220 0.06687800 0.09067800\n",
       "4  0.05772882 0.2035288 0.06937118 0.09479118\n",
       "5  0.06299934 0.1942193 0.07139066 0.09826866\n",
       "6  0.06792457 0.1860226 0.07302643 0.10121663\n",
       "7  0.07250449 0.1787927 0.07435141 0.10372259\n",
       "8  0.07674567 0.1724050 0.07542464 0.10585870\n",
       "9  0.08065932 0.1667528 0.07629396 0.10768462\n",
       "10 0.08425984 0.1617439 0.07699811 0.10924970"
      ]
     },
     "metadata": {},
     "output_type": "display_data"
    }
   ],
   "source": [
    "genotype_frame"
   ]
  },
  {
   "cell_type": "markdown",
   "id": "352b206b-8ac4-46e9-aec6-fbbbc454983f",
   "metadata": {},
   "source": [
    " <div dir=\"rtl\">جواب بخش ۳ تسک به صورت زیر خواهد بود. "
   ]
  },
  {
   "cell_type": "code",
   "execution_count": 8,
   "id": "701009a7-cfa7-4b7f-b078-2614e40a83f6",
   "metadata": {},
   "outputs": [
    {
     "data": {
      "text/html": [
       "<ol class=list-inline>\n",
       "\t<li>-0.1</li>\n",
       "\t<li>-0.09</li>\n",
       "\t<li>-0.081</li>\n",
       "\t<li>-0.0729</li>\n",
       "\t<li>-0.06561</li>\n",
       "\t<li>-0.059049</li>\n",
       "\t<li>-0.0531441000000001</li>\n",
       "\t<li>-0.0478296900000002</li>\n",
       "\t<li>-0.0430467210000004</li>\n",
       "\t<li>-0.0387420489000007</li>\n",
       "</ol>\n"
      ],
      "text/latex": [
       "\\begin{enumerate*}\n",
       "\\item -0.1\n",
       "\\item -0.09\n",
       "\\item -0.081\n",
       "\\item -0.0729\n",
       "\\item -0.06561\n",
       "\\item -0.059049\n",
       "\\item -0.0531441000000001\n",
       "\\item -0.0478296900000002\n",
       "\\item -0.0430467210000004\n",
       "\\item -0.0387420489000007\n",
       "\\end{enumerate*}\n"
      ],
      "text/markdown": [
       "1. -0.1\n",
       "2. -0.09\n",
       "3. -0.081\n",
       "4. -0.0729\n",
       "5. -0.06561\n",
       "6. -0.059049\n",
       "7. -0.0531441000000001\n",
       "8. -0.0478296900000002\n",
       "9. -0.0430467210000004\n",
       "10. -0.0387420489000007\n",
       "\n",
       "\n"
      ],
      "text/plain": [
       " [1] -0.10000000 -0.09000000 -0.08100000 -0.07290000 -0.06561000 -0.05904900\n",
       " [7] -0.05314410 -0.04782969 -0.04304672 -0.03874205"
      ]
     },
     "metadata": {},
     "output_type": "display_data"
    }
   ],
   "source": [
    "LD = vector() \n",
    "LD = haplotype_frame [, 2] * haplotype_frame [,5] - haplotype_frame[,3] * haplotype_frame[,4] \n",
    "LD"
   ]
  },
  {
   "cell_type": "markdown",
   "id": "f19c27c8-37a0-4acd-9d8e-48eec3cf1ce4",
   "metadata": {},
   "source": [
    " <div dir=\"rtl\"> جواب بخش ۴ تسک به صورت زیر خواهد بود. "
   ]
  },
  {
   "cell_type": "code",
   "execution_count": 9,
   "id": "9e819888-3e7f-48dd-8c6a-f791bf169d2e",
   "metadata": {},
   "outputs": [
    {
     "data": {
      "image/png": "[encoded data removed]",
      "text/plain": [
       "plot without title"
      ]
     },
     "metadata": {},
     "output_type": "display_data"
    }
   ],
   "source": [
    "plot (1:10, LD, type = 'l')"
   ]
  }
 ],
 "metadata": {
  "kernelspec": {
   "display_name": "R",
   "language": "R",
   "name": "ir"
  },
  "language_info": {
   "codemirror_mode": "r",
   "file_extension": ".r",
   "mimetype": "text/x-r-source",
   "name": "R",
   "pygments_lexer": "r",
   "version": "3.6.1"
  }
 },
 "nbformat": 4,
 "nbformat_minor": 5
}
