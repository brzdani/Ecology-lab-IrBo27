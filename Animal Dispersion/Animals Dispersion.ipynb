{
 "cells": [
  {
   "cell_type": "markdown",
   "id": "728982f8-dbea-4f8c-98d3-43dccb8c303c",
   "metadata": {},
   "source": [
    "## <div dir=\"rtl\"> پاسخ تشریحی تسک پراکنش جانداران"
   ]
  },
  {
   "cell_type": "code",
   "execution_count": 1,
   "id": "f3b3d962-b6e8-41d7-9814-e5e5ce171a6f",
   "metadata": {},
   "outputs": [],
   "source": [
    "dL = 0.1 \n",
    "dR = 0.1 \n",
    "N0 = 2000 \n",
    "x0 = 6 # initial placemanet of population \n",
    "nx = 11 #number of cells \n",
    "\n",
    "cells = vector()\n",
    "for (z in 1:11) {\n",
    "\n",
    "    cells[z] = 0\n",
    "    if (z == 6) {\n",
    "    \n",
    "        cells[z] = N0\n",
    "        \n",
    "    }\n",
    "    \n",
    "}\n",
    "data_matrix <- data.frame (\n",
    "    \"Time (h)\" = 0, \"Cell1\" = cells[1],  \"Cell2\" = cells[2], \"Cell3\" = cells[3], \"Cell4\" = cells[4], \"Cell5\" = cells[5], \"Cell6\" = cells[6],\n",
    "    \"Cell7\" = cells[7], \"Cell8\" = cells[8], \"Cell9\" = cells[9], \"Cell10\" = cells[10], \"Cell11\" = cells[11]\n",
    ")\n"
   ]
  },
  {
   "cell_type": "markdown",
   "id": "7d1d4ad2-c3d6-4ee7-916b-1335af3e9c10",
   "metadata": {},
   "source": [
    "<div dir=\"rtl\"> جدول زیر نشان‌دهنده پراکنش افراد در زمان اول است. محیط ما دارای ۱۱ خانه است و در خانه شش ۲۰۰۰ نفر قرار داده شده است. در ادامه به شبیه‌سازی محیط می‌پردازیم. در هر ساعت ۰.۱ افراد هر خانه به سمت راست و ۰.۱ دیگر به سمت چپ می‌روند. باقی افراد در خانه خود می‌مانند."
   ]
  },
  {
   "cell_type": "code",
   "execution_count": 2,
   "id": "e6621c6f-4d09-4ec7-a7c3-ba509b62138e",
   "metadata": {},
   "outputs": [
    {
     "data": {
      "text/html": [
       "<table>\n",
       "<thead><tr><th scope=col>Time..h.</th><th scope=col>Cell1</th><th scope=col>Cell2</th><th scope=col>Cell3</th><th scope=col>Cell4</th><th scope=col>Cell5</th><th scope=col>Cell6</th><th scope=col>Cell7</th><th scope=col>Cell8</th><th scope=col>Cell9</th><th scope=col>Cell10</th><th scope=col>Cell11</th></tr></thead>\n",
       "<tbody>\n",
       "\t<tr><td>0   </td><td>0   </td><td>0   </td><td>0   </td><td>0   </td><td>0   </td><td>2000</td><td>0   </td><td>0   </td><td>0   </td><td>0   </td><td>0   </td></tr>\n",
       "</tbody>\n",
       "</table>\n"
      ],
      "text/latex": [
       "\\begin{tabular}{r|llllllllllll}\n",
       " Time..h. & Cell1 & Cell2 & Cell3 & Cell4 & Cell5 & Cell6 & Cell7 & Cell8 & Cell9 & Cell10 & Cell11\\\\\n",
       "\\hline\n",
       "\t 0    & 0    & 0    & 0    & 0    & 0    & 2000 & 0    & 0    & 0    & 0    & 0   \\\\\n",
       "\\end{tabular}\n"
      ],
      "text/markdown": [
       "\n",
       "| Time..h. | Cell1 | Cell2 | Cell3 | Cell4 | Cell5 | Cell6 | Cell7 | Cell8 | Cell9 | Cell10 | Cell11 |\n",
       "|---|---|---|---|---|---|---|---|---|---|---|---|\n",
       "| 0    | 0    | 0    | 0    | 0    | 0    | 2000 | 0    | 0    | 0    | 0    | 0    |\n",
       "\n"
      ],
      "text/plain": [
       "  Time..h. Cell1 Cell2 Cell3 Cell4 Cell5 Cell6 Cell7 Cell8 Cell9 Cell10 Cell11\n",
       "1 0        0     0     0     0     0     2000  0     0     0     0      0     "
      ]
     },
     "metadata": {},
     "output_type": "display_data"
    }
   ],
   "source": [
    "data_matrix"
   ]
  },
  {
   "cell_type": "code",
   "execution_count": 3,
   "id": "0d6cf60a-3ff1-449e-8181-6587253525fa",
   "metadata": {},
   "outputs": [],
   "source": [
    "h = 15\n",
    "hcells = vector() \n",
    "for (y in 1:h) {\n",
    "     \n",
    "    for (z in 2:10) { \n",
    "        \n",
    "        hcells[z] =  cells[z] + (cells[z-1] * dR) + (cells[z+1] * dL) -  (cells[z] * (dL + dR))\n",
    "\n",
    "    }\n",
    "    hcells[1] = cells[1] + (cells[2] * dL) -  (cells[1] * (dR)) \n",
    "    hcells[11] = cells[11] + (cells[10] * dR) -  (cells[11] * (dL))\n",
    "\n",
    "    for ( z in 1:11) {\n",
    "\n",
    "        cells[z] = hcells[z] \n",
    "        \n",
    "    } \n",
    "    x <- c ( y , cells) \n",
    "    data_matrix <- rbind(data_matrix, x) \n",
    "}"
   ]
  },
  {
   "cell_type": "markdown",
   "id": "ec5f0c3e-77c9-462e-b070-0c2f12863809",
   "metadata": {},
   "source": [
    "<div dir=\"rtl\">\n",
    "نتیجه این شبیه‌سازی را برای ۱۵ ساعت در زیر مشاهده می‌کنید. ردیف‌های ۲ تا ۱۶ همان ردیف‌هایی هستند که باید در بخش ۱ تسک وارد کنید. \n",
    "</div>\n"
   ]
  },
  {
   "cell_type": "code",
   "execution_count": 4,
   "id": "2faad6c3-5d37-469d-aac9-50e6d6a3572b",
   "metadata": {},
   "outputs": [
    {
     "data": {
      "text/html": [
       "<table>\n",
       "<thead><tr><th scope=col>Time..h.</th><th scope=col>Cell1</th><th scope=col>Cell2</th><th scope=col>Cell3</th><th scope=col>Cell4</th><th scope=col>Cell5</th><th scope=col>Cell6</th><th scope=col>Cell7</th><th scope=col>Cell8</th><th scope=col>Cell9</th><th scope=col>Cell10</th><th scope=col>Cell11</th></tr></thead>\n",
       "<tbody>\n",
       "\t<tr><td> 0       </td><td>0.000000 </td><td> 0.00000 </td><td> 0.00000 </td><td>  0.0000 </td><td>  0.0000 </td><td>2000.0000</td><td>  0.0000 </td><td>  0.0000 </td><td> 0.00000 </td><td> 0.00000 </td><td>0.000000 </td></tr>\n",
       "\t<tr><td> 1       </td><td>0.000000 </td><td> 0.00000 </td><td> 0.00000 </td><td>  0.0000 </td><td>200.0000 </td><td>1600.0000</td><td>200.0000 </td><td>  0.0000 </td><td> 0.00000 </td><td> 0.00000 </td><td>0.000000 </td></tr>\n",
       "\t<tr><td> 2       </td><td>0.000000 </td><td> 0.00000 </td><td> 0.00000 </td><td> 20.0000 </td><td>320.0000 </td><td>1320.0000</td><td>320.0000 </td><td> 20.0000 </td><td> 0.00000 </td><td> 0.00000 </td><td>0.000000 </td></tr>\n",
       "\t<tr><td> 3       </td><td>0.000000 </td><td> 0.00000 </td><td> 2.00000 </td><td> 48.0000 </td><td>390.0000 </td><td>1120.0000</td><td>390.0000 </td><td> 48.0000 </td><td> 2.00000 </td><td> 0.00000 </td><td>0.000000 </td></tr>\n",
       "\t<tr><td> 4       </td><td>0.000000 </td><td> 0.20000 </td><td> 6.40000 </td><td> 77.6000 </td><td>428.8000 </td><td> 974.0000</td><td>428.8000 </td><td> 77.6000 </td><td> 6.40000 </td><td> 0.20000 </td><td>0.000000 </td></tr>\n",
       "\t<tr><td> 5       </td><td>0.020000 </td><td> 0.80000 </td><td>12.90000 </td><td>105.6000 </td><td>448.2000 </td><td> 864.9600</td><td>448.2000 </td><td>105.6000 </td><td>12.90000 </td><td> 0.80000 </td><td>0.020000 </td></tr>\n",
       "\t<tr><td> 6       </td><td>0.098000 </td><td> 1.93200 </td><td>20.96000 </td><td>130.5900 </td><td>455.6160 </td><td> 781.6080</td><td>455.6160 </td><td>130.5900 </td><td>20.96000 </td><td> 1.93200 </td><td>0.098000 </td></tr>\n",
       "\t<tr><td> 7       </td><td>0.281400 </td><td> 3.65140 </td><td>30.02020 </td><td>152.1296 </td><td>455.7126 </td><td> 716.4096</td><td>455.7126 </td><td>152.1296 </td><td>30.02020 </td><td> 3.65140 </td><td>0.281400 </td></tr>\n",
       "\t<tr><td> 8       </td><td>0.618400 </td><td> 5.95128 </td><td>39.59426 </td><td>170.2770 </td><td>451.4240 </td><td> 664.2702</td><td>451.4240 </td><td>170.2770 </td><td>39.59426 </td><td> 5.95128 </td><td>0.618400 </td></tr>\n",
       "\t<tr><td> 9       </td><td>1.151688 </td><td> 8.78229 </td><td>49.29823 </td><td>185.3234 </td><td>444.5939 </td><td> 621.7010</td><td>444.5939 </td><td>185.3234 </td><td>49.29823 </td><td> 8.78229 </td><td>1.151688 </td></tr>\n",
       "\t<tr><td>10       </td><td>1.914748 </td><td>12.07082 </td><td>58.84915 </td><td>197.6479 </td><td>436.3776 </td><td> 586.2796</td><td>436.3776 </td><td>197.6479 </td><td>58.84915 </td><td>12.07082 </td><td>1.914748 </td></tr>\n",
       "\t<tr><td>11       </td><td>2.930356 </td><td>15.73305 </td><td>68.05120 </td><td>207.6410 </td><td>427.4948 </td><td> 556.2992</td><td>427.4948 </td><td>207.6410 </td><td>68.05120 </td><td>15.73305 </td><td>2.930356 </td></tr>\n",
       "\t<tr><td>12       </td><td>4.210625 </td><td>19.68459 </td><td>76.77837 </td><td>215.6674 </td><td>418.3899 </td><td> 530.5383</td><td>418.3899 </td><td>215.6674 </td><td>76.77837 </td><td>19.68459 </td><td>4.210625 </td></tr>\n",
       "\t<tr><td>13       </td><td>5.758022 </td><td>23.84658 </td><td>84.95789 </td><td>222.0508 </td><td>409.3325 </td><td> 508.1086</td><td>409.3325 </td><td>222.0508 </td><td>84.95789 </td><td>23.84658 </td><td>5.758022 </td></tr>\n",
       "\t<tr><td>14       </td><td>7.566877 </td><td>28.14885 </td><td>92.55605 </td><td>227.0696 </td><td>400.4819 </td><td> 488.3534</td><td>400.4819 </td><td>227.0696 </td><td>92.55605 </td><td>28.14885 </td><td>7.566877 </td></tr>\n",
       "\t<tr><td>15       </td><td>9.625075 </td><td>32.53137 </td><td>99.56669 </td><td>230.9595 </td><td>391.9278 </td><td> 470.7791</td><td>391.9278 </td><td>230.9595 </td><td>99.56669 </td><td>32.53137 </td><td>9.625075 </td></tr>\n",
       "</tbody>\n",
       "</table>\n"
      ],
      "text/latex": [
       "\\begin{tabular}{r|llllllllllll}\n",
       " Time..h. & Cell1 & Cell2 & Cell3 & Cell4 & Cell5 & Cell6 & Cell7 & Cell8 & Cell9 & Cell10 & Cell11\\\\\n",
       "\\hline\n",
       "\t  0        & 0.000000  &  0.00000  &  0.00000  &   0.0000  &   0.0000  & 2000.0000 &   0.0000  &   0.0000  &  0.00000  &  0.00000  & 0.000000 \\\\\n",
       "\t  1        & 0.000000  &  0.00000  &  0.00000  &   0.0000  & 200.0000  & 1600.0000 & 200.0000  &   0.0000  &  0.00000  &  0.00000  & 0.000000 \\\\\n",
       "\t  2        & 0.000000  &  0.00000  &  0.00000  &  20.0000  & 320.0000  & 1320.0000 & 320.0000  &  20.0000  &  0.00000  &  0.00000  & 0.000000 \\\\\n",
       "\t  3        & 0.000000  &  0.00000  &  2.00000  &  48.0000  & 390.0000  & 1120.0000 & 390.0000  &  48.0000  &  2.00000  &  0.00000  & 0.000000 \\\\\n",
       "\t  4        & 0.000000  &  0.20000  &  6.40000  &  77.6000  & 428.8000  &  974.0000 & 428.8000  &  77.6000  &  6.40000  &  0.20000  & 0.000000 \\\\\n",
       "\t  5        & 0.020000  &  0.80000  & 12.90000  & 105.6000  & 448.2000  &  864.9600 & 448.2000  & 105.6000  & 12.90000  &  0.80000  & 0.020000 \\\\\n",
       "\t  6        & 0.098000  &  1.93200  & 20.96000  & 130.5900  & 455.6160  &  781.6080 & 455.6160  & 130.5900  & 20.96000  &  1.93200  & 0.098000 \\\\\n",
       "\t  7        & 0.281400  &  3.65140  & 30.02020  & 152.1296  & 455.7126  &  716.4096 & 455.7126  & 152.1296  & 30.02020  &  3.65140  & 0.281400 \\\\\n",
       "\t  8        & 0.618400  &  5.95128  & 39.59426  & 170.2770  & 451.4240  &  664.2702 & 451.4240  & 170.2770  & 39.59426  &  5.95128  & 0.618400 \\\\\n",
       "\t  9        & 1.151688  &  8.78229  & 49.29823  & 185.3234  & 444.5939  &  621.7010 & 444.5939  & 185.3234  & 49.29823  &  8.78229  & 1.151688 \\\\\n",
       "\t 10        & 1.914748  & 12.07082  & 58.84915  & 197.6479  & 436.3776  &  586.2796 & 436.3776  & 197.6479  & 58.84915  & 12.07082  & 1.914748 \\\\\n",
       "\t 11        & 2.930356  & 15.73305  & 68.05120  & 207.6410  & 427.4948  &  556.2992 & 427.4948  & 207.6410  & 68.05120  & 15.73305  & 2.930356 \\\\\n",
       "\t 12        & 4.210625  & 19.68459  & 76.77837  & 215.6674  & 418.3899  &  530.5383 & 418.3899  & 215.6674  & 76.77837  & 19.68459  & 4.210625 \\\\\n",
       "\t 13        & 5.758022  & 23.84658  & 84.95789  & 222.0508  & 409.3325  &  508.1086 & 409.3325  & 222.0508  & 84.95789  & 23.84658  & 5.758022 \\\\\n",
       "\t 14        & 7.566877  & 28.14885  & 92.55605  & 227.0696  & 400.4819  &  488.3534 & 400.4819  & 227.0696  & 92.55605  & 28.14885  & 7.566877 \\\\\n",
       "\t 15        & 9.625075  & 32.53137  & 99.56669  & 230.9595  & 391.9278  &  470.7791 & 391.9278  & 230.9595  & 99.56669  & 32.53137  & 9.625075 \\\\\n",
       "\\end{tabular}\n"
      ],
      "text/markdown": [
       "\n",
       "| Time..h. | Cell1 | Cell2 | Cell3 | Cell4 | Cell5 | Cell6 | Cell7 | Cell8 | Cell9 | Cell10 | Cell11 |\n",
       "|---|---|---|---|---|---|---|---|---|---|---|---|\n",
       "|  0        | 0.000000  |  0.00000  |  0.00000  |   0.0000  |   0.0000  | 2000.0000 |   0.0000  |   0.0000  |  0.00000  |  0.00000  | 0.000000  |\n",
       "|  1        | 0.000000  |  0.00000  |  0.00000  |   0.0000  | 200.0000  | 1600.0000 | 200.0000  |   0.0000  |  0.00000  |  0.00000  | 0.000000  |\n",
       "|  2        | 0.000000  |  0.00000  |  0.00000  |  20.0000  | 320.0000  | 1320.0000 | 320.0000  |  20.0000  |  0.00000  |  0.00000  | 0.000000  |\n",
       "|  3        | 0.000000  |  0.00000  |  2.00000  |  48.0000  | 390.0000  | 1120.0000 | 390.0000  |  48.0000  |  2.00000  |  0.00000  | 0.000000  |\n",
       "|  4        | 0.000000  |  0.20000  |  6.40000  |  77.6000  | 428.8000  |  974.0000 | 428.8000  |  77.6000  |  6.40000  |  0.20000  | 0.000000  |\n",
       "|  5        | 0.020000  |  0.80000  | 12.90000  | 105.6000  | 448.2000  |  864.9600 | 448.2000  | 105.6000  | 12.90000  |  0.80000  | 0.020000  |\n",
       "|  6        | 0.098000  |  1.93200  | 20.96000  | 130.5900  | 455.6160  |  781.6080 | 455.6160  | 130.5900  | 20.96000  |  1.93200  | 0.098000  |\n",
       "|  7        | 0.281400  |  3.65140  | 30.02020  | 152.1296  | 455.7126  |  716.4096 | 455.7126  | 152.1296  | 30.02020  |  3.65140  | 0.281400  |\n",
       "|  8        | 0.618400  |  5.95128  | 39.59426  | 170.2770  | 451.4240  |  664.2702 | 451.4240  | 170.2770  | 39.59426  |  5.95128  | 0.618400  |\n",
       "|  9        | 1.151688  |  8.78229  | 49.29823  | 185.3234  | 444.5939  |  621.7010 | 444.5939  | 185.3234  | 49.29823  |  8.78229  | 1.151688  |\n",
       "| 10        | 1.914748  | 12.07082  | 58.84915  | 197.6479  | 436.3776  |  586.2796 | 436.3776  | 197.6479  | 58.84915  | 12.07082  | 1.914748  |\n",
       "| 11        | 2.930356  | 15.73305  | 68.05120  | 207.6410  | 427.4948  |  556.2992 | 427.4948  | 207.6410  | 68.05120  | 15.73305  | 2.930356  |\n",
       "| 12        | 4.210625  | 19.68459  | 76.77837  | 215.6674  | 418.3899  |  530.5383 | 418.3899  | 215.6674  | 76.77837  | 19.68459  | 4.210625  |\n",
       "| 13        | 5.758022  | 23.84658  | 84.95789  | 222.0508  | 409.3325  |  508.1086 | 409.3325  | 222.0508  | 84.95789  | 23.84658  | 5.758022  |\n",
       "| 14        | 7.566877  | 28.14885  | 92.55605  | 227.0696  | 400.4819  |  488.3534 | 400.4819  | 227.0696  | 92.55605  | 28.14885  | 7.566877  |\n",
       "| 15        | 9.625075  | 32.53137  | 99.56669  | 230.9595  | 391.9278  |  470.7791 | 391.9278  | 230.9595  | 99.56669  | 32.53137  | 9.625075  |\n",
       "\n"
      ],
      "text/plain": [
       "   Time..h. Cell1    Cell2    Cell3    Cell4    Cell5    Cell6     Cell7   \n",
       "1   0       0.000000  0.00000  0.00000   0.0000   0.0000 2000.0000   0.0000\n",
       "2   1       0.000000  0.00000  0.00000   0.0000 200.0000 1600.0000 200.0000\n",
       "3   2       0.000000  0.00000  0.00000  20.0000 320.0000 1320.0000 320.0000\n",
       "4   3       0.000000  0.00000  2.00000  48.0000 390.0000 1120.0000 390.0000\n",
       "5   4       0.000000  0.20000  6.40000  77.6000 428.8000  974.0000 428.8000\n",
       "6   5       0.020000  0.80000 12.90000 105.6000 448.2000  864.9600 448.2000\n",
       "7   6       0.098000  1.93200 20.96000 130.5900 455.6160  781.6080 455.6160\n",
       "8   7       0.281400  3.65140 30.02020 152.1296 455.7126  716.4096 455.7126\n",
       "9   8       0.618400  5.95128 39.59426 170.2770 451.4240  664.2702 451.4240\n",
       "10  9       1.151688  8.78229 49.29823 185.3234 444.5939  621.7010 444.5939\n",
       "11 10       1.914748 12.07082 58.84915 197.6479 436.3776  586.2796 436.3776\n",
       "12 11       2.930356 15.73305 68.05120 207.6410 427.4948  556.2992 427.4948\n",
       "13 12       4.210625 19.68459 76.77837 215.6674 418.3899  530.5383 418.3899\n",
       "14 13       5.758022 23.84658 84.95789 222.0508 409.3325  508.1086 409.3325\n",
       "15 14       7.566877 28.14885 92.55605 227.0696 400.4819  488.3534 400.4819\n",
       "16 15       9.625075 32.53137 99.56669 230.9595 391.9278  470.7791 391.9278\n",
       "   Cell8    Cell9    Cell10   Cell11  \n",
       "1    0.0000  0.00000  0.00000 0.000000\n",
       "2    0.0000  0.00000  0.00000 0.000000\n",
       "3   20.0000  0.00000  0.00000 0.000000\n",
       "4   48.0000  2.00000  0.00000 0.000000\n",
       "5   77.6000  6.40000  0.20000 0.000000\n",
       "6  105.6000 12.90000  0.80000 0.020000\n",
       "7  130.5900 20.96000  1.93200 0.098000\n",
       "8  152.1296 30.02020  3.65140 0.281400\n",
       "9  170.2770 39.59426  5.95128 0.618400\n",
       "10 185.3234 49.29823  8.78229 1.151688\n",
       "11 197.6479 58.84915 12.07082 1.914748\n",
       "12 207.6410 68.05120 15.73305 2.930356\n",
       "13 215.6674 76.77837 19.68459 4.210625\n",
       "14 222.0508 84.95789 23.84658 5.758022\n",
       "15 227.0696 92.55605 28.14885 7.566877\n",
       "16 230.9595 99.56669 32.53137 9.625075"
      ]
     },
     "metadata": {},
     "output_type": "display_data"
    }
   ],
   "source": [
    "data_matrix"
   ]
  },
  {
   "cell_type": "markdown",
   "id": "8c0098a9-e6bd-4e42-9440-835e71cff4a7",
   "metadata": {},
   "source": [
    "<div dir=\"rtl\">\n",
    "شکل زیر نکته جالبی را نشان می‌دهد. محور افقی نشان‌دهنده شماره‌ی خانه‌ها و محور عمودی تعداد افراد در هر خانه است. از آن‌جا که افراد از خانه شش شروع کرده‌اند، بیشترین فراوانی در خانه شش است. با گذشت زمان، واریانس توزیع افراد در خانه‌ها افزایش یافته و توزیع به یک توزیع ثابت نزدیک‌تر می‌شود. فرمول واریانس یک مجموعه‌‌ی داده را در زیر مشاهده می‌کنید. \n",
    "</div>\n",
    "\n",
    "$$\n",
    "Var = \\frac {1} {N} \\sum {(x_i - \\bar {x} )^2}\n",
    "$$\n",
    "\n",
    "<div dir=\"rtl\">\n",
    "در اینجا x همان شماره خانه‌ها است، زیرا در حال سنجش فراوانی افراد در طول خانه‌ها هستیم. با توجه به شکل زیر، میانگین xها  شش است. اختلاف هر x از x میانگین در حقیقت همان فاصله‌ای است که هر فرد طی کرده است. سپس این فاصله را به توان دو می‌رسانیم و از آن میانگین وزن‌دار می‌گیریم تا واریانس به دست بیاید. بیاید به عنوان قرارداد مسافت طی‌شده افراد را با Ed نشان دهیم. در نتیجه می‌توان واریانس را به صورت زیر بازنویسی کرد.\n",
    "</div>\n",
    "\n",
    "$$\n",
    "Var = <Ed^2>\n",
    "$$\n",
    "<div dir=\"rtl\">\n",
    "در نتیجه واریانس این توزیع، با میانگین مسافت طی شده افراد برابر است. \n",
    "نکته جالب دیگر این شکل، شکل توزیع افراد در طول خانه‌ها است. همانطور که مشاهده می‌کنید، این توزیع شباهت بسیار زیادی به توزیع نرمال دارد، در نتیجه می‌توان به وسیله توزیع نرمال این توزیع را تخمین زد و تعداد افراد در هر خانه (x) را در طی زمان پیش‌بینی کرد.  \n",
    "</div>\n",
    "\n",
    "$$\n",
    "P(x,t) = \\frac {N_0} {\\sqrt{4\\pi Dt}} \\exp (\\frac {-(x-\\bar x)^2} {4Dt})\n",
    "$$\n",
    "\n",
    "<div dir=\"rtl\">\n",
    "با مقایسه این فرمول با تابع توزیع نرمال، به رابطه زیر می‌رسیم:\n",
    "</div>\n",
    "\n",
    "$$\n",
    "Var = 2Dt\n",
    "$$"
   ]
  },
  {
   "cell_type": "code",
   "execution_count": 5,
   "id": "50d7fc21-cc1f-4110-a5b5-67e498fe9fae",
   "metadata": {},
   "outputs": [
    {
     "data": {
      "image/png": "[encoded data removed]",
      "text/plain": [
       "plot without title"
      ]
     },
     "metadata": {},
     "output_type": "display_data"
    }
   ],
   "source": [
    "df2 <- data.frame(t(data_matrix [1:122, 2:12]))\n",
    "matplot (c (1:11) , df2 [1:11, 1:15 ], type = \"l\", xlab = \"Cells\" , ylab = \"Number\" )"
   ]
  },
  {
   "cell_type": "markdown",
   "id": "3c534d00-ddc7-493e-9ae3-481a9d0586e2",
   "metadata": {},
   "source": [
    "<div dir=\"rtl\">\n",
    "حال به محاسبه میانگین توان‌دو مسافت طی شده می‌پردازیم.\n",
    "</div>\n"
   ]
  },
  {
   "cell_type": "code",
   "execution_count": 6,
   "id": "69d094e9-ca2c-44b4-a4b0-4a9f87610a19",
   "metadata": {},
   "outputs": [],
   "source": [
    "distance = vector() \n",
    "for ( z in 1:11) {\n",
    "\n",
    "    distance[z] = (z - x0) ^ 2\n",
    "    \n",
    "}"
   ]
  },
  {
   "cell_type": "code",
   "execution_count": 7,
   "id": "2982d08d-a4ff-45ed-8f62-f98597a16a0d",
   "metadata": {},
   "outputs": [],
   "source": [
    "meandistance = vector()  \n",
    "\n",
    "for ( y in 1:(h)) {\n",
    "\n",
    "    meandistance[y] = 0 \n",
    "    for (z in 1:11) {\n",
    "        \n",
    "        meandistance[y] = meandistance[y] + distance[z] * data_matrix [y+1 , z+1] \n",
    "            \n",
    "    }\n",
    "    meandistance[y] = meandistance[y] / N0\n",
    "    \n",
    "}\n"
   ]
  },
  {
   "cell_type": "markdown",
   "id": "80ad2a5b-b8ba-46b0-86b0-22d1eddbe70e",
   "metadata": {},
   "source": [
    "<div dir=\"rtl\">\n",
    "شکل زیر نشان‌دهنده میانگین مسافت‌طی شده افراد (واریانس توزیع افراد در طول خانه‌ها) در طی زمان است. با گذشت زمان کم کم تغییرات واریانس صفر شده و میانگین مسافت‌ طی‌شده ثابت می‌ماند. علت این امر بسته و محدودبودن محیط است. البته به علت کم بودن زمانی که محیط را بررسی کرده‌ایم این امر در شکل زیر مشاهده نمی‌شود.  </div>\n"
   ]
  },
  {
   "cell_type": "code",
   "execution_count": 8,
   "id": "66134736-2416-4d5d-97db-ff64f0951926",
   "metadata": {},
   "outputs": [
    {
     "data": {
      "image/png": "[encoded data removed]",
      "text/plain": [
       "plot without title"
      ]
     },
     "metadata": {},
     "output_type": "display_data"
    }
   ],
   "source": [
    "plot (1:(h) , meandistance , ylab = \"Variance\", xlab = \"Time\", type = \"l\")\n"
   ]
  },
  {
   "cell_type": "markdown",
   "id": "eed40f4c-7b46-4b88-8d0f-604bc65ab9f2",
   "metadata": {},
   "source": [
    "<div dir=\"rtl\">\n",
    "حال زمان محاسبه D است. D برای هر زمان محاسبه می‌شود. در نتیجه ابتدا برای هر یک از ۱۵ ردیف جدول بخش ۱ تسک D را محاسبه می‌کنیم. سپس برای اینکه یک D واحد در محاسبات خود داشته باشیم، از آن‌ها میانگین می‌گیریم و آن را به عنوان D در نظر می‌گیریم. \n",
    "</div>"
   ]
  },
  {
   "cell_type": "code",
   "execution_count": 9,
   "id": "ee112c21-afef-44de-8ffb-2a79167fee79",
   "metadata": {},
   "outputs": [],
   "source": [
    "D = vector() \n",
    "\n",
    "for ( y in 1:(h) ) {\n",
    "\n",
    "    D[y]  = meandistance[y] / (2 * (y)) \n",
    "    \n",
    "}"
   ]
  },
  {
   "cell_type": "code",
   "execution_count": 10,
   "id": "726198ee-3f05-439f-940e-bf8dae5d9b5e",
   "metadata": {},
   "outputs": [
    {
     "data": {
      "image/png": "[encoded data removed]",
      "text/plain": [
       "plot without title"
      ]
     },
     "metadata": {},
     "output_type": "display_data"
    }
   ],
   "source": [
    "plot (1:(h) , D , ylab = \"D\", xlab = \"Time\", type = \"l\")\n"
   ]
  },
  {
   "cell_type": "markdown",
   "id": "03e1c418-0e62-43e3-a862-6dc7528e4b55",
   "metadata": {},
   "source": [
    "<div dir=\"rtl\">\n",
    "در نتیجه پاسخ بخش ۳ تسک برابر خواهد بود با: \n",
    "</div>"
   ]
  },
  {
   "cell_type": "code",
   "execution_count": 11,
   "id": "decdf3c4-0411-4a64-97b6-769334490f32",
   "metadata": {},
   "outputs": [
    {
     "data": {
      "text/html": [
       "0.0998141279436817"
      ],
      "text/latex": [
       "0.0998141279436817"
      ],
      "text/markdown": [
       "0.0998141279436817"
      ],
      "text/plain": [
       "[1] 0.09981413"
      ]
     },
     "metadata": {},
     "output_type": "display_data"
    }
   ],
   "source": [
    "mean (D[1:15])"
   ]
  },
  {
   "cell_type": "markdown",
   "id": "2cfba6e1-1541-4963-ae46-1017501a1cdc",
   "metadata": {},
   "source": [
    "<div dir=\"rtl\">\n",
    "در ادامه از شما خواسته شده است به محاسبه تعداد افراد در ساعت‌های ۲۰، ۳۰، ۴۰، ۵۰ و ۹۰ را محاسبه کنید. \n",
    "</div>"
   ]
  },
  {
   "cell_type": "code",
   "execution_count": 12,
   "id": "947f787a-afd3-4c41-8bb2-3f26a3a0e168",
   "metadata": {},
   "outputs": [],
   "source": [
    "d = mean (D[1:15])\n",
    "x <- c ( 20 , (N0 / sqrt (4 * pi * d * 20)) * exp (-(z - x0)^2/(4 * d * 20)))  \n",
    "data_matrix <- rbind(data_matrix, x) \n",
    "\n",
    "x <- c ( 30 , (N0 / sqrt (4 * pi * d * 30)) * exp (-(z - x0)^2/(4 * d * 30)))  \n",
    "data_matrix <- rbind(data_matrix, x) \n",
    "\n",
    "x <- c ( 40 , (N0 / sqrt (4 * pi * d * 40)) * exp (-(z - x0)^2/(4 * d * 40)))  \n",
    "data_matrix <- rbind(data_matrix, x) \n",
    "\n",
    "x <- c ( 50 , (N0 / sqrt (4 * pi * d * 50)) * exp (-(z - x0)^2/(4 * d * 50)))  \n",
    "data_matrix <- rbind(data_matrix, x) \n",
    "\n",
    "x <- c ( 90 , (N0 / sqrt (4 * pi * d * 90)) * exp (-(z - x0)^2/(4 * d * 90)))  \n",
    "data_matrix <- rbind(data_matrix, x) "
   ]
  },
  {
   "cell_type": "markdown",
   "id": "fba42e55-1f5f-4a60-b4eb-0ecda4c58966",
   "metadata": {},
   "source": [
    "<div dir=\"rtl\">\n",
    "نتیجه و پاسخ بخش ۴ تسک را در زیر مشاهده می‌کنید. </div>"
   ]
  },
  {
   "cell_type": "code",
   "execution_count": 13,
   "id": "953cafe6-cd7f-459b-8457-245106eff00d",
   "metadata": {},
   "outputs": [
    {
     "data": {
      "text/html": [
       "<table>\n",
       "<thead><tr><th scope=col>Time..h.</th><th scope=col>Cell1</th><th scope=col>Cell2</th><th scope=col>Cell3</th><th scope=col>Cell4</th><th scope=col>Cell5</th><th scope=col>Cell6</th><th scope=col>Cell7</th><th scope=col>Cell8</th><th scope=col>Cell9</th><th scope=col>Cell10</th><th scope=col>Cell11</th></tr></thead>\n",
       "<tbody>\n",
       "\t<tr><td> 0       </td><td> 0.000000</td><td> 0.00000 </td><td> 0.00000 </td><td>  0.0000 </td><td>  0.00000</td><td>2000.0000</td><td>  0.00000</td><td>  0.0000 </td><td> 0.00000 </td><td> 0.00000 </td><td> 0.000000</td></tr>\n",
       "\t<tr><td> 1       </td><td> 0.000000</td><td> 0.00000 </td><td> 0.00000 </td><td>  0.0000 </td><td>200.00000</td><td>1600.0000</td><td>200.00000</td><td>  0.0000 </td><td> 0.00000 </td><td> 0.00000 </td><td> 0.000000</td></tr>\n",
       "\t<tr><td> 2       </td><td> 0.000000</td><td> 0.00000 </td><td> 0.00000 </td><td> 20.0000 </td><td>320.00000</td><td>1320.0000</td><td>320.00000</td><td> 20.0000 </td><td> 0.00000 </td><td> 0.00000 </td><td> 0.000000</td></tr>\n",
       "\t<tr><td> 3       </td><td> 0.000000</td><td> 0.00000 </td><td> 2.00000 </td><td> 48.0000 </td><td>390.00000</td><td>1120.0000</td><td>390.00000</td><td> 48.0000 </td><td> 2.00000 </td><td> 0.00000 </td><td> 0.000000</td></tr>\n",
       "\t<tr><td> 4       </td><td> 0.000000</td><td> 0.20000 </td><td> 6.40000 </td><td> 77.6000 </td><td>428.80000</td><td> 974.0000</td><td>428.80000</td><td> 77.6000 </td><td> 6.40000 </td><td> 0.20000 </td><td> 0.000000</td></tr>\n",
       "\t<tr><td> 5       </td><td> 0.020000</td><td> 0.80000 </td><td>12.90000 </td><td>105.6000 </td><td>448.20000</td><td> 864.9600</td><td>448.20000</td><td>105.6000 </td><td>12.90000 </td><td> 0.80000 </td><td> 0.020000</td></tr>\n",
       "\t<tr><td> 6       </td><td> 0.098000</td><td> 1.93200 </td><td>20.96000 </td><td>130.5900 </td><td>455.61600</td><td> 781.6080</td><td>455.61600</td><td>130.5900 </td><td>20.96000 </td><td> 1.93200 </td><td> 0.098000</td></tr>\n",
       "\t<tr><td> 7       </td><td> 0.281400</td><td> 3.65140 </td><td>30.02020 </td><td>152.1296 </td><td>455.71260</td><td> 716.4096</td><td>455.71260</td><td>152.1296 </td><td>30.02020 </td><td> 3.65140 </td><td> 0.281400</td></tr>\n",
       "\t<tr><td> 8       </td><td> 0.618400</td><td> 5.95128 </td><td>39.59426 </td><td>170.2770 </td><td>451.42400</td><td> 664.2702</td><td>451.42400</td><td>170.2770 </td><td>39.59426 </td><td> 5.95128 </td><td> 0.618400</td></tr>\n",
       "\t<tr><td> 9       </td><td> 1.151688</td><td> 8.78229 </td><td>49.29823 </td><td>185.3234 </td><td>444.59392</td><td> 621.7010</td><td>444.59392</td><td>185.3234 </td><td>49.29823 </td><td> 8.78229 </td><td> 1.151688</td></tr>\n",
       "\t<tr><td>10       </td><td> 1.914748</td><td>12.07082 </td><td>58.84915 </td><td>197.6479 </td><td>436.37757</td><td> 586.2796</td><td>436.37757</td><td>197.6479 </td><td>58.84915 </td><td>12.07082 </td><td> 1.914748</td></tr>\n",
       "\t<tr><td>11       </td><td> 2.930356</td><td>15.73305 </td><td>68.05120 </td><td>207.6410 </td><td>427.49480</td><td> 556.2992</td><td>427.49480</td><td>207.6410 </td><td>68.05120 </td><td>15.73305 </td><td> 2.930356</td></tr>\n",
       "\t<tr><td>12       </td><td> 4.210625</td><td>19.68459 </td><td>76.77837 </td><td>215.6674 </td><td>418.38986</td><td> 530.5383</td><td>418.38986</td><td>215.6674 </td><td>76.77837 </td><td>19.68459 </td><td> 4.210625</td></tr>\n",
       "\t<tr><td>13       </td><td> 5.758022</td><td>23.84658 </td><td>84.95789 </td><td>222.0508 </td><td>409.33246</td><td> 508.1086</td><td>409.33246</td><td>222.0508 </td><td>84.95789 </td><td>23.84658 </td><td> 5.758022</td></tr>\n",
       "\t<tr><td>14       </td><td> 7.566877</td><td>28.14885 </td><td>92.55605 </td><td>227.0696 </td><td>400.48190</td><td> 488.3534</td><td>400.48190</td><td>227.0696 </td><td>92.55605 </td><td>28.14885 </td><td> 7.566877</td></tr>\n",
       "\t<tr><td>15       </td><td> 9.625075</td><td>32.53137 </td><td>99.56669 </td><td>230.9595 </td><td>391.92782</td><td> 470.7791</td><td>391.92782</td><td>230.9595 </td><td>99.56669 </td><td>32.53137 </td><td> 9.625075</td></tr>\n",
       "\t<tr><td>20       </td><td>17.442812</td><td>20.00000 </td><td>17.44281 </td><td> 20.0000 </td><td> 17.44281</td><td>  20.0000</td><td> 17.44281</td><td> 20.0000 </td><td>17.44281 </td><td>20.00000 </td><td>17.442812</td></tr>\n",
       "\t<tr><td>30       </td><td>40.439278</td><td>30.00000 </td><td>40.43928 </td><td> 30.0000 </td><td> 40.43928</td><td>  30.0000</td><td> 40.43928</td><td> 30.0000 </td><td>40.43928 </td><td>30.00000 </td><td>40.439278</td></tr>\n",
       "\t<tr><td>40       </td><td>59.013352</td><td>40.00000 </td><td>59.01335 </td><td> 40.0000 </td><td> 59.01335</td><td>  40.0000</td><td> 59.01335</td><td> 40.0000 </td><td>59.01335 </td><td>40.00000 </td><td>59.013352</td></tr>\n",
       "\t<tr><td>50       </td><td>72.188004</td><td>50.00000 </td><td>72.18800 </td><td> 50.0000 </td><td> 72.18800</td><td>  50.0000</td><td> 72.18800</td><td> 50.0000 </td><td>72.18800 </td><td>50.00000 </td><td>72.188004</td></tr>\n",
       "\t<tr><td>90       </td><td>93.875614</td><td>90.00000 </td><td>93.87561 </td><td> 90.0000 </td><td> 93.87561</td><td>  90.0000</td><td> 93.87561</td><td> 90.0000 </td><td>93.87561 </td><td>90.00000 </td><td>93.875614</td></tr>\n",
       "</tbody>\n",
       "</table>\n"
      ],
      "text/latex": [
       "\\begin{tabular}{r|llllllllllll}\n",
       " Time..h. & Cell1 & Cell2 & Cell3 & Cell4 & Cell5 & Cell6 & Cell7 & Cell8 & Cell9 & Cell10 & Cell11\\\\\n",
       "\\hline\n",
       "\t  0        &  0.000000 &  0.00000  &  0.00000  &   0.0000  &   0.00000 & 2000.0000 &   0.00000 &   0.0000  &  0.00000  &  0.00000  &  0.000000\\\\\n",
       "\t  1        &  0.000000 &  0.00000  &  0.00000  &   0.0000  & 200.00000 & 1600.0000 & 200.00000 &   0.0000  &  0.00000  &  0.00000  &  0.000000\\\\\n",
       "\t  2        &  0.000000 &  0.00000  &  0.00000  &  20.0000  & 320.00000 & 1320.0000 & 320.00000 &  20.0000  &  0.00000  &  0.00000  &  0.000000\\\\\n",
       "\t  3        &  0.000000 &  0.00000  &  2.00000  &  48.0000  & 390.00000 & 1120.0000 & 390.00000 &  48.0000  &  2.00000  &  0.00000  &  0.000000\\\\\n",
       "\t  4        &  0.000000 &  0.20000  &  6.40000  &  77.6000  & 428.80000 &  974.0000 & 428.80000 &  77.6000  &  6.40000  &  0.20000  &  0.000000\\\\\n",
       "\t  5        &  0.020000 &  0.80000  & 12.90000  & 105.6000  & 448.20000 &  864.9600 & 448.20000 & 105.6000  & 12.90000  &  0.80000  &  0.020000\\\\\n",
       "\t  6        &  0.098000 &  1.93200  & 20.96000  & 130.5900  & 455.61600 &  781.6080 & 455.61600 & 130.5900  & 20.96000  &  1.93200  &  0.098000\\\\\n",
       "\t  7        &  0.281400 &  3.65140  & 30.02020  & 152.1296  & 455.71260 &  716.4096 & 455.71260 & 152.1296  & 30.02020  &  3.65140  &  0.281400\\\\\n",
       "\t  8        &  0.618400 &  5.95128  & 39.59426  & 170.2770  & 451.42400 &  664.2702 & 451.42400 & 170.2770  & 39.59426  &  5.95128  &  0.618400\\\\\n",
       "\t  9        &  1.151688 &  8.78229  & 49.29823  & 185.3234  & 444.59392 &  621.7010 & 444.59392 & 185.3234  & 49.29823  &  8.78229  &  1.151688\\\\\n",
       "\t 10        &  1.914748 & 12.07082  & 58.84915  & 197.6479  & 436.37757 &  586.2796 & 436.37757 & 197.6479  & 58.84915  & 12.07082  &  1.914748\\\\\n",
       "\t 11        &  2.930356 & 15.73305  & 68.05120  & 207.6410  & 427.49480 &  556.2992 & 427.49480 & 207.6410  & 68.05120  & 15.73305  &  2.930356\\\\\n",
       "\t 12        &  4.210625 & 19.68459  & 76.77837  & 215.6674  & 418.38986 &  530.5383 & 418.38986 & 215.6674  & 76.77837  & 19.68459  &  4.210625\\\\\n",
       "\t 13        &  5.758022 & 23.84658  & 84.95789  & 222.0508  & 409.33246 &  508.1086 & 409.33246 & 222.0508  & 84.95789  & 23.84658  &  5.758022\\\\\n",
       "\t 14        &  7.566877 & 28.14885  & 92.55605  & 227.0696  & 400.48190 &  488.3534 & 400.48190 & 227.0696  & 92.55605  & 28.14885  &  7.566877\\\\\n",
       "\t 15        &  9.625075 & 32.53137  & 99.56669  & 230.9595  & 391.92782 &  470.7791 & 391.92782 & 230.9595  & 99.56669  & 32.53137  &  9.625075\\\\\n",
       "\t 20        & 17.442812 & 20.00000  & 17.44281  &  20.0000  &  17.44281 &   20.0000 &  17.44281 &  20.0000  & 17.44281  & 20.00000  & 17.442812\\\\\n",
       "\t 30        & 40.439278 & 30.00000  & 40.43928  &  30.0000  &  40.43928 &   30.0000 &  40.43928 &  30.0000  & 40.43928  & 30.00000  & 40.439278\\\\\n",
       "\t 40        & 59.013352 & 40.00000  & 59.01335  &  40.0000  &  59.01335 &   40.0000 &  59.01335 &  40.0000  & 59.01335  & 40.00000  & 59.013352\\\\\n",
       "\t 50        & 72.188004 & 50.00000  & 72.18800  &  50.0000  &  72.18800 &   50.0000 &  72.18800 &  50.0000  & 72.18800  & 50.00000  & 72.188004\\\\\n",
       "\t 90        & 93.875614 & 90.00000  & 93.87561  &  90.0000  &  93.87561 &   90.0000 &  93.87561 &  90.0000  & 93.87561  & 90.00000  & 93.875614\\\\\n",
       "\\end{tabular}\n"
      ],
      "text/markdown": [
       "\n",
       "| Time..h. | Cell1 | Cell2 | Cell3 | Cell4 | Cell5 | Cell6 | Cell7 | Cell8 | Cell9 | Cell10 | Cell11 |\n",
       "|---|---|---|---|---|---|---|---|---|---|---|---|\n",
       "|  0        |  0.000000 |  0.00000  |  0.00000  |   0.0000  |   0.00000 | 2000.0000 |   0.00000 |   0.0000  |  0.00000  |  0.00000  |  0.000000 |\n",
       "|  1        |  0.000000 |  0.00000  |  0.00000  |   0.0000  | 200.00000 | 1600.0000 | 200.00000 |   0.0000  |  0.00000  |  0.00000  |  0.000000 |\n",
       "|  2        |  0.000000 |  0.00000  |  0.00000  |  20.0000  | 320.00000 | 1320.0000 | 320.00000 |  20.0000  |  0.00000  |  0.00000  |  0.000000 |\n",
       "|  3        |  0.000000 |  0.00000  |  2.00000  |  48.0000  | 390.00000 | 1120.0000 | 390.00000 |  48.0000  |  2.00000  |  0.00000  |  0.000000 |\n",
       "|  4        |  0.000000 |  0.20000  |  6.40000  |  77.6000  | 428.80000 |  974.0000 | 428.80000 |  77.6000  |  6.40000  |  0.20000  |  0.000000 |\n",
       "|  5        |  0.020000 |  0.80000  | 12.90000  | 105.6000  | 448.20000 |  864.9600 | 448.20000 | 105.6000  | 12.90000  |  0.80000  |  0.020000 |\n",
       "|  6        |  0.098000 |  1.93200  | 20.96000  | 130.5900  | 455.61600 |  781.6080 | 455.61600 | 130.5900  | 20.96000  |  1.93200  |  0.098000 |\n",
       "|  7        |  0.281400 |  3.65140  | 30.02020  | 152.1296  | 455.71260 |  716.4096 | 455.71260 | 152.1296  | 30.02020  |  3.65140  |  0.281400 |\n",
       "|  8        |  0.618400 |  5.95128  | 39.59426  | 170.2770  | 451.42400 |  664.2702 | 451.42400 | 170.2770  | 39.59426  |  5.95128  |  0.618400 |\n",
       "|  9        |  1.151688 |  8.78229  | 49.29823  | 185.3234  | 444.59392 |  621.7010 | 444.59392 | 185.3234  | 49.29823  |  8.78229  |  1.151688 |\n",
       "| 10        |  1.914748 | 12.07082  | 58.84915  | 197.6479  | 436.37757 |  586.2796 | 436.37757 | 197.6479  | 58.84915  | 12.07082  |  1.914748 |\n",
       "| 11        |  2.930356 | 15.73305  | 68.05120  | 207.6410  | 427.49480 |  556.2992 | 427.49480 | 207.6410  | 68.05120  | 15.73305  |  2.930356 |\n",
       "| 12        |  4.210625 | 19.68459  | 76.77837  | 215.6674  | 418.38986 |  530.5383 | 418.38986 | 215.6674  | 76.77837  | 19.68459  |  4.210625 |\n",
       "| 13        |  5.758022 | 23.84658  | 84.95789  | 222.0508  | 409.33246 |  508.1086 | 409.33246 | 222.0508  | 84.95789  | 23.84658  |  5.758022 |\n",
       "| 14        |  7.566877 | 28.14885  | 92.55605  | 227.0696  | 400.48190 |  488.3534 | 400.48190 | 227.0696  | 92.55605  | 28.14885  |  7.566877 |\n",
       "| 15        |  9.625075 | 32.53137  | 99.56669  | 230.9595  | 391.92782 |  470.7791 | 391.92782 | 230.9595  | 99.56669  | 32.53137  |  9.625075 |\n",
       "| 20        | 17.442812 | 20.00000  | 17.44281  |  20.0000  |  17.44281 |   20.0000 |  17.44281 |  20.0000  | 17.44281  | 20.00000  | 17.442812 |\n",
       "| 30        | 40.439278 | 30.00000  | 40.43928  |  30.0000  |  40.43928 |   30.0000 |  40.43928 |  30.0000  | 40.43928  | 30.00000  | 40.439278 |\n",
       "| 40        | 59.013352 | 40.00000  | 59.01335  |  40.0000  |  59.01335 |   40.0000 |  59.01335 |  40.0000  | 59.01335  | 40.00000  | 59.013352 |\n",
       "| 50        | 72.188004 | 50.00000  | 72.18800  |  50.0000  |  72.18800 |   50.0000 |  72.18800 |  50.0000  | 72.18800  | 50.00000  | 72.188004 |\n",
       "| 90        | 93.875614 | 90.00000  | 93.87561  |  90.0000  |  93.87561 |   90.0000 |  93.87561 |  90.0000  | 93.87561  | 90.00000  | 93.875614 |\n",
       "\n"
      ],
      "text/plain": [
       "   Time..h. Cell1     Cell2    Cell3    Cell4    Cell5     Cell6     Cell7    \n",
       "1   0        0.000000  0.00000  0.00000   0.0000   0.00000 2000.0000   0.00000\n",
       "2   1        0.000000  0.00000  0.00000   0.0000 200.00000 1600.0000 200.00000\n",
       "3   2        0.000000  0.00000  0.00000  20.0000 320.00000 1320.0000 320.00000\n",
       "4   3        0.000000  0.00000  2.00000  48.0000 390.00000 1120.0000 390.00000\n",
       "5   4        0.000000  0.20000  6.40000  77.6000 428.80000  974.0000 428.80000\n",
       "6   5        0.020000  0.80000 12.90000 105.6000 448.20000  864.9600 448.20000\n",
       "7   6        0.098000  1.93200 20.96000 130.5900 455.61600  781.6080 455.61600\n",
       "8   7        0.281400  3.65140 30.02020 152.1296 455.71260  716.4096 455.71260\n",
       "9   8        0.618400  5.95128 39.59426 170.2770 451.42400  664.2702 451.42400\n",
       "10  9        1.151688  8.78229 49.29823 185.3234 444.59392  621.7010 444.59392\n",
       "11 10        1.914748 12.07082 58.84915 197.6479 436.37757  586.2796 436.37757\n",
       "12 11        2.930356 15.73305 68.05120 207.6410 427.49480  556.2992 427.49480\n",
       "13 12        4.210625 19.68459 76.77837 215.6674 418.38986  530.5383 418.38986\n",
       "14 13        5.758022 23.84658 84.95789 222.0508 409.33246  508.1086 409.33246\n",
       "15 14        7.566877 28.14885 92.55605 227.0696 400.48190  488.3534 400.48190\n",
       "16 15        9.625075 32.53137 99.56669 230.9595 391.92782  470.7791 391.92782\n",
       "17 20       17.442812 20.00000 17.44281  20.0000  17.44281   20.0000  17.44281\n",
       "18 30       40.439278 30.00000 40.43928  30.0000  40.43928   30.0000  40.43928\n",
       "19 40       59.013352 40.00000 59.01335  40.0000  59.01335   40.0000  59.01335\n",
       "20 50       72.188004 50.00000 72.18800  50.0000  72.18800   50.0000  72.18800\n",
       "21 90       93.875614 90.00000 93.87561  90.0000  93.87561   90.0000  93.87561\n",
       "   Cell8    Cell9    Cell10   Cell11   \n",
       "1    0.0000  0.00000  0.00000  0.000000\n",
       "2    0.0000  0.00000  0.00000  0.000000\n",
       "3   20.0000  0.00000  0.00000  0.000000\n",
       "4   48.0000  2.00000  0.00000  0.000000\n",
       "5   77.6000  6.40000  0.20000  0.000000\n",
       "6  105.6000 12.90000  0.80000  0.020000\n",
       "7  130.5900 20.96000  1.93200  0.098000\n",
       "8  152.1296 30.02020  3.65140  0.281400\n",
       "9  170.2770 39.59426  5.95128  0.618400\n",
       "10 185.3234 49.29823  8.78229  1.151688\n",
       "11 197.6479 58.84915 12.07082  1.914748\n",
       "12 207.6410 68.05120 15.73305  2.930356\n",
       "13 215.6674 76.77837 19.68459  4.210625\n",
       "14 222.0508 84.95789 23.84658  5.758022\n",
       "15 227.0696 92.55605 28.14885  7.566877\n",
       "16 230.9595 99.56669 32.53137  9.625075\n",
       "17  20.0000 17.44281 20.00000 17.442812\n",
       "18  30.0000 40.43928 30.00000 40.439278\n",
       "19  40.0000 59.01335 40.00000 59.013352\n",
       "20  50.0000 72.18800 50.00000 72.188004\n",
       "21  90.0000 93.87561 90.00000 93.875614"
      ]
     },
     "metadata": {},
     "output_type": "display_data"
    }
   ],
   "source": [
    "data_matrix"
   ]
  },
  {
   "cell_type": "markdown",
   "id": "f43a3cb6-a29f-46bb-aab7-21a4f884b013",
   "metadata": {},
   "source": [
    "<div dir=\"rtl\">\n",
    "حال مجددا مقدار D را محاسبه می‌کنیم. روش محاسبه شبیه گذشته است. </div>"
   ]
  },
  {
   "cell_type": "code",
   "execution_count": 14,
   "id": "b4caf2e9-3e71-443c-987b-aab5a9628309",
   "metadata": {},
   "outputs": [],
   "source": [
    "distance = vector() \n",
    "for ( z in 1:11) {\n",
    "\n",
    "    distance[z] = (z - x0) ^ 2\n",
    "    \n",
    "}\n",
    "meandistance = vector()  \n",
    "\n",
    "for ( y in 1:(h+5)) {\n",
    "\n",
    "    meandistance[y] = 0 \n",
    "    for (z in 1:11) {\n",
    "        \n",
    "        meandistance[y] = meandistance[y] + distance[z] * data_matrix [y+1 , z+1] \n",
    "            \n",
    "    }\n",
    "    meandistance[y] = meandistance[y] / N0\n",
    "    \n",
    "}\n",
    "D = vector() \n",
    "\n",
    "for ( y in 1:(h+5) ) {\n",
    "\n",
    "    D[y]  = meandistance[y] / (2 * (y)) \n",
    "    \n",
    "}\n",
    "\n"
   ]
  },
  {
   "cell_type": "markdown",
   "id": "5ef77ecd-05a0-498b-83ec-1feb26a9fe4f",
   "metadata": {},
   "source": [
    "<div dir=\"rtl\">\n",
    "در نتیجه پاسخ بخش ۵ تسک برابر خواهد بود با: </div>"
   ]
  },
  {
   "cell_type": "code",
   "execution_count": 15,
   "id": "a132ce05-9adc-403f-bce4-33a4ecc876a4",
   "metadata": {},
   "outputs": [
    {
     "data": {
      "text/html": [
       "0.0943803969304563"
      ],
      "text/latex": [
       "0.0943803969304563"
      ],
      "text/markdown": [
       "0.0943803969304563"
      ],
      "text/plain": [
       "[1] 0.0943804"
      ]
     },
     "metadata": {},
     "output_type": "display_data"
    }
   ],
   "source": [
    "mean (D[1:20])"
   ]
  },
  {
   "cell_type": "markdown",
   "id": "fcbbbea6-da0e-48ff-8e5b-86df8965b0e0",
   "metadata": {},
   "source": [
    "<div dir=\"rtl\">\n",
    "در ادامه به محاسبه وسعت زیستگاه می‌پردازیم. وسعت‌ زیستگاه محدوده‌ایست که ۹۵ درصد افراد در آن قرار داده باشند. می‌توان گفت وسعت زیستگاه همان CI95% توزیع افراد در طول خانه‌ها است. رابطه بین CI95% و انحراف از محیار داده‌ها را به صورت زیر می‌توان تعریف کرد. (توجه کنید ضریب انحراف معیار در این رابطه اگر توزیع را توزیع نرمال تصور کنیم کمی متفاوت است.) \n",
    "</div>\n",
    "\n",
    "$$\n",
    "CI95 = 2\\sigma\n",
    "$$\n",
    "\n",
    "<div dir=\"rtl\">\n",
    "در ادامه وسعت زیستگاه را برای داده‌هایی که داریم محاسبه می‌کنیم.\n",
    "</div>"
   ]
  },
  {
   "cell_type": "code",
   "execution_count": 16,
   "id": "c0d8a232-4935-48d9-a4c1-0b5397114a0d",
   "metadata": {},
   "outputs": [],
   "source": [
    "range_fram <- data.frame (\n",
    "\n",
    "    Time = data_matrix [2:21 , 1], \n",
    "    Range = 2^sqrt(meandistance)\n",
    "    \n",
    ")"
   ]
  },
  {
   "cell_type": "markdown",
   "id": "65704986-ffd6-415f-bd24-6e42d9ceef0a",
   "metadata": {},
   "source": [
    "<div dir=\"rtl\">\n",
    "در نتیجه جواب بخش ۷ تسک برابر خواهد بود با: </div>"
   ]
  },
  {
   "cell_type": "code",
   "execution_count": 17,
   "id": "7be4f115-a7fa-44d2-99a1-114841565b98",
   "metadata": {},
   "outputs": [
    {
     "data": {
      "text/html": [
       "<table>\n",
       "<thead><tr><th scope=col>Time</th><th scope=col>Range</th></tr></thead>\n",
       "<tbody>\n",
       "\t<tr><td> 1      </td><td>1.363404</td></tr>\n",
       "\t<tr><td> 2      </td><td>1.550201</td></tr>\n",
       "\t<tr><td> 3      </td><td>1.710712</td></tr>\n",
       "\t<tr><td> 4      </td><td>1.858872</td></tr>\n",
       "\t<tr><td> 5      </td><td>2.000000</td></tr>\n",
       "\t<tr><td> 6      </td><td>2.136775</td></tr>\n",
       "\t<tr><td> 7      </td><td>2.270738</td></tr>\n",
       "\t<tr><td> 8      </td><td>2.402835</td></tr>\n",
       "\t<tr><td> 9      </td><td>2.533661</td></tr>\n",
       "\t<tr><td>10      </td><td>2.663585</td></tr>\n",
       "\t<tr><td>11      </td><td>2.792824</td></tr>\n",
       "\t<tr><td>12      </td><td>2.921483</td></tr>\n",
       "\t<tr><td>13      </td><td>3.049596</td></tr>\n",
       "\t<tr><td>14      </td><td>3.177140</td></tr>\n",
       "\t<tr><td>15      </td><td>3.304054</td></tr>\n",
       "\t<tr><td>20      </td><td>2.007271</td></tr>\n",
       "\t<tr><td>30      </td><td>2.675186</td></tr>\n",
       "\t<tr><td>40      </td><td>3.232766</td></tr>\n",
       "\t<tr><td>50      </td><td>3.675445</td></tr>\n",
       "\t<tr><td>90      </td><td>4.773799</td></tr>\n",
       "</tbody>\n",
       "</table>\n"
      ],
      "text/latex": [
       "\\begin{tabular}{r|ll}\n",
       " Time & Range\\\\\n",
       "\\hline\n",
       "\t  1       & 1.363404\\\\\n",
       "\t  2       & 1.550201\\\\\n",
       "\t  3       & 1.710712\\\\\n",
       "\t  4       & 1.858872\\\\\n",
       "\t  5       & 2.000000\\\\\n",
       "\t  6       & 2.136775\\\\\n",
       "\t  7       & 2.270738\\\\\n",
       "\t  8       & 2.402835\\\\\n",
       "\t  9       & 2.533661\\\\\n",
       "\t 10       & 2.663585\\\\\n",
       "\t 11       & 2.792824\\\\\n",
       "\t 12       & 2.921483\\\\\n",
       "\t 13       & 3.049596\\\\\n",
       "\t 14       & 3.177140\\\\\n",
       "\t 15       & 3.304054\\\\\n",
       "\t 20       & 2.007271\\\\\n",
       "\t 30       & 2.675186\\\\\n",
       "\t 40       & 3.232766\\\\\n",
       "\t 50       & 3.675445\\\\\n",
       "\t 90       & 4.773799\\\\\n",
       "\\end{tabular}\n"
      ],
      "text/markdown": [
       "\n",
       "| Time | Range |\n",
       "|---|---|\n",
       "|  1       | 1.363404 |\n",
       "|  2       | 1.550201 |\n",
       "|  3       | 1.710712 |\n",
       "|  4       | 1.858872 |\n",
       "|  5       | 2.000000 |\n",
       "|  6       | 2.136775 |\n",
       "|  7       | 2.270738 |\n",
       "|  8       | 2.402835 |\n",
       "|  9       | 2.533661 |\n",
       "| 10       | 2.663585 |\n",
       "| 11       | 2.792824 |\n",
       "| 12       | 2.921483 |\n",
       "| 13       | 3.049596 |\n",
       "| 14       | 3.177140 |\n",
       "| 15       | 3.304054 |\n",
       "| 20       | 2.007271 |\n",
       "| 30       | 2.675186 |\n",
       "| 40       | 3.232766 |\n",
       "| 50       | 3.675445 |\n",
       "| 90       | 4.773799 |\n",
       "\n"
      ],
      "text/plain": [
       "   Time Range   \n",
       "1   1   1.363404\n",
       "2   2   1.550201\n",
       "3   3   1.710712\n",
       "4   4   1.858872\n",
       "5   5   2.000000\n",
       "6   6   2.136775\n",
       "7   7   2.270738\n",
       "8   8   2.402835\n",
       "9   9   2.533661\n",
       "10 10   2.663585\n",
       "11 11   2.792824\n",
       "12 12   2.921483\n",
       "13 13   3.049596\n",
       "14 14   3.177140\n",
       "15 15   3.304054\n",
       "16 20   2.007271\n",
       "17 30   2.675186\n",
       "18 40   3.232766\n",
       "19 50   3.675445\n",
       "20 90   4.773799"
      ]
     },
     "metadata": {},
     "output_type": "display_data"
    }
   ],
   "source": [
    "range_fram"
   ]
  },
  {
   "cell_type": "markdown",
   "id": "837df159-ab08-4b46-9aa2-a3c7ac05d70f",
   "metadata": {},
   "source": [
    "<div dir=\"rtl\">\n",
    "برای پاسخ به بخش ۲ تسک شبیه‌سازی خود را برای ۶۰۰ ساعت انجام می‌دهیم. </div>"
   ]
  },
  {
   "cell_type": "code",
   "execution_count": 18,
   "id": "6fedb928-e952-40e0-8228-cd8e78b14ed7",
   "metadata": {},
   "outputs": [],
   "source": [
    "dL = 0.1 \n",
    "dR = 0.1 \n",
    "N0 = 2000 \n",
    "x0 = 6 # initial placemanet of population \n",
    "nx = 11 #number of cells \n",
    "\n",
    "cells = vector()\n",
    "for (z in 1:11) {\n",
    "\n",
    "    cells[z] = 0\n",
    "    if (z == 6) {\n",
    "    \n",
    "        cells[z] = N0\n",
    "        \n",
    "    }\n",
    "    \n",
    "}\n",
    "data_matrix <- data.frame (\n",
    "    \"Time (h)\" = 0, \"Cell1\" = cells[1],  \"Cell2\" = cells[2], \"Cell3\" = cells[3], \"Cell4\" = cells[4], \"Cell5\" = cells[5], \"Cell6\" = cells[6],\n",
    "    \"Cell7\" = cells[7], \"Cell8\" = cells[8], \"Cell9\" = cells[9], \"Cell10\" = cells[10], \"Cell11\" = cells[11]\n",
    ")"
   ]
  },
  {
   "cell_type": "code",
   "execution_count": 19,
   "id": "64ac82e2-2ff6-4f07-98ff-5a6dfa786ead",
   "metadata": {},
   "outputs": [],
   "source": [
    "h = 600\n",
    "hcells = vector() \n",
    "for (y in 1:h) {\n",
    "     \n",
    "    for (z in 2:10) { \n",
    "        \n",
    "        hcells[z] =  cells[z] + (cells[z-1] * dR) + (cells[z+1] * dL) -  (cells[z] * (dL + dR))\n",
    "\n",
    "    }\n",
    "    hcells[1] = cells[1] + (cells[2] * dL) -  (cells[1] * (dR)) \n",
    "    hcells[11] = cells[11] + (cells[10] * dR) -  (cells[11] * (dL))\n",
    "\n",
    "    for ( z in 1:11) {\n",
    "\n",
    "        cells[z] = hcells[z] \n",
    "        \n",
    "    } \n",
    "    x <- c ( y , cells) \n",
    "    data_matrix <- rbind(data_matrix, x) \n",
    "}"
   ]
  },
  {
   "cell_type": "code",
   "execution_count": 20,
   "id": "e928e8f3-e58c-4c38-8b6b-1b620168df02",
   "metadata": {},
   "outputs": [
    {
     "data": {
      "text/html": [
       "<table>\n",
       "<thead><tr><th scope=col>Time..h.</th><th scope=col>Cell1</th><th scope=col>Cell2</th><th scope=col>Cell3</th><th scope=col>Cell4</th><th scope=col>Cell5</th><th scope=col>Cell6</th><th scope=col>Cell7</th><th scope=col>Cell8</th><th scope=col>Cell9</th><th scope=col>Cell10</th><th scope=col>Cell11</th></tr></thead>\n",
       "<tbody>\n",
       "\t<tr><td> 0       </td><td> 0.000000</td><td> 0.00000 </td><td>  0.00000</td><td>  0.0000 </td><td>  0.0000 </td><td>2000.0000</td><td>  0.0000 </td><td>  0.0000 </td><td>  0.00000</td><td> 0.00000 </td><td> 0.000000</td></tr>\n",
       "\t<tr><td> 1       </td><td> 0.000000</td><td> 0.00000 </td><td>  0.00000</td><td>  0.0000 </td><td>200.0000 </td><td>1600.0000</td><td>200.0000 </td><td>  0.0000 </td><td>  0.00000</td><td> 0.00000 </td><td> 0.000000</td></tr>\n",
       "\t<tr><td> 2       </td><td> 0.000000</td><td> 0.00000 </td><td>  0.00000</td><td> 20.0000 </td><td>320.0000 </td><td>1320.0000</td><td>320.0000 </td><td> 20.0000 </td><td>  0.00000</td><td> 0.00000 </td><td> 0.000000</td></tr>\n",
       "\t<tr><td> 3       </td><td> 0.000000</td><td> 0.00000 </td><td>  2.00000</td><td> 48.0000 </td><td>390.0000 </td><td>1120.0000</td><td>390.0000 </td><td> 48.0000 </td><td>  2.00000</td><td> 0.00000 </td><td> 0.000000</td></tr>\n",
       "\t<tr><td> 4       </td><td> 0.000000</td><td> 0.20000 </td><td>  6.40000</td><td> 77.6000 </td><td>428.8000 </td><td> 974.0000</td><td>428.8000 </td><td> 77.6000 </td><td>  6.40000</td><td> 0.20000 </td><td> 0.000000</td></tr>\n",
       "\t<tr><td> 5       </td><td> 0.020000</td><td> 0.80000 </td><td> 12.90000</td><td>105.6000 </td><td>448.2000 </td><td> 864.9600</td><td>448.2000 </td><td>105.6000 </td><td> 12.90000</td><td> 0.80000 </td><td> 0.020000</td></tr>\n",
       "\t<tr><td> 6       </td><td> 0.098000</td><td> 1.93200 </td><td> 20.96000</td><td>130.5900 </td><td>455.6160 </td><td> 781.6080</td><td>455.6160 </td><td>130.5900 </td><td> 20.96000</td><td> 1.93200 </td><td> 0.098000</td></tr>\n",
       "\t<tr><td> 7       </td><td> 0.281400</td><td> 3.65140 </td><td> 30.02020</td><td>152.1296 </td><td>455.7126 </td><td> 716.4096</td><td>455.7126 </td><td>152.1296 </td><td> 30.02020</td><td> 3.65140 </td><td> 0.281400</td></tr>\n",
       "\t<tr><td> 8       </td><td> 0.618400</td><td> 5.95128 </td><td> 39.59426</td><td>170.2770 </td><td>451.4240 </td><td> 664.2702</td><td>451.4240 </td><td>170.2770 </td><td> 39.59426</td><td> 5.95128 </td><td> 0.618400</td></tr>\n",
       "\t<tr><td> 9       </td><td> 1.151688</td><td> 8.78229 </td><td> 49.29823</td><td>185.3234 </td><td>444.5939 </td><td> 621.7010</td><td>444.5939 </td><td>185.3234 </td><td> 49.29823</td><td> 8.78229 </td><td> 1.151688</td></tr>\n",
       "\t<tr><td>10       </td><td> 1.914748</td><td>12.07082 </td><td> 58.84915</td><td>197.6479 </td><td>436.3776 </td><td> 586.2796</td><td>436.3776 </td><td>197.6479 </td><td> 58.84915</td><td>12.07082 </td><td> 1.914748</td></tr>\n",
       "\t<tr><td>11       </td><td> 2.930356</td><td>15.73305 </td><td> 68.05120</td><td>207.6410 </td><td>427.4948 </td><td> 556.2992</td><td>427.4948 </td><td>207.6410 </td><td> 68.05120</td><td>15.73305 </td><td> 2.930356</td></tr>\n",
       "\t<tr><td>12       </td><td> 4.210625</td><td>19.68459 </td><td> 76.77837</td><td>215.6674 </td><td>418.3899 </td><td> 530.5383</td><td>418.3899 </td><td>215.6674 </td><td> 76.77837</td><td>19.68459 </td><td> 4.210625</td></tr>\n",
       "\t<tr><td>13       </td><td> 5.758022</td><td>23.84658 </td><td> 84.95789</td><td>222.0508 </td><td>409.3325 </td><td> 508.1086</td><td>409.3325 </td><td>222.0508 </td><td> 84.95789</td><td>23.84658 </td><td> 5.758022</td></tr>\n",
       "\t<tr><td>14       </td><td> 7.566877</td><td>28.14885 </td><td> 92.55605</td><td>227.0696 </td><td>400.4819 </td><td> 488.3534</td><td>400.4819 </td><td>227.0696 </td><td> 92.55605</td><td>28.14885 </td><td> 7.566877</td></tr>\n",
       "\t<tr><td>15       </td><td> 9.625075</td><td>32.53137 </td><td> 99.56669</td><td>230.9595 </td><td>391.9278 </td><td> 470.7791</td><td>391.9278 </td><td>230.9595 </td><td> 99.56669</td><td>32.53137 </td><td> 9.625075</td></tr>\n",
       "\t<tr><td>16       </td><td>11.915705</td><td>36.94428 </td><td>106.00244</td><td>233.9171 </td><td>383.7161 </td><td> 455.0088</td><td>383.7161 </td><td>233.9171 </td><td>106.00244</td><td>36.94428 </td><td>11.915705</td></tr>\n",
       "\t<tr><td>17       </td><td>14.418562</td><td>41.34723 </td><td>111.88808</td><td>236.1055 </td><td>375.8655 </td><td> 440.7503</td><td>375.8655 </td><td>236.1055 </td><td>111.88808</td><td>41.34723 </td><td>14.418562</td></tr>\n",
       "\t<tr><td>18       </td><td>17.111429</td><td>45.70845 </td><td>117.25574</td><td>237.6598 </td><td>368.3780 </td><td> 427.7733</td><td>368.3780 </td><td>237.6598 </td><td>117.25574</td><td>45.70845 </td><td>17.111429</td></tr>\n",
       "\t<tr><td>19       </td><td>19.971131</td><td>50.00348 </td><td>122.14141</td><td>238.6912 </td><td>361.2457 </td><td> 415.8943</td><td>361.2457 </td><td>238.6912 </td><td>122.14141</td><td>50.00348 </td><td>19.971131</td></tr>\n",
       "\t<tr><td>20       </td><td>22.974366</td><td>54.21404 </td><td>126.58260</td><td>239.2916 </td><td>354.4551 </td><td> 404.9645</td><td>354.4551 </td><td>239.2916 </td><td>126.58260</td><td>54.21404 </td><td>22.974366</td></tr>\n",
       "\t<tr><td>21       </td><td>26.098333</td><td>58.32693 </td><td>130.61664</td><td>239.5371 </td><td>347.9897 </td><td> 394.8626</td><td>347.9897 </td><td>239.5371 </td><td>130.61664</td><td>58.32693 </td><td>26.098333</td></tr>\n",
       "\t<tr><td>22       </td><td>29.321192</td><td>62.33304 </td><td>134.27972</td><td>239.4903 </td><td>341.8317 </td><td> 385.4881</td><td>341.8317 </td><td>239.4903 </td><td>134.27972</td><td>62.33304 </td><td>29.321192</td></tr>\n",
       "\t<tr><td>23       </td><td>32.622377</td><td>66.22652 </td><td>137.60611</td><td>239.2034 </td><td>335.9632 </td><td> 376.7568</td><td>335.9632 </td><td>239.2034 </td><td>137.60611</td><td>66.22652 </td><td>32.622377</td></tr>\n",
       "\t<tr><td>24       </td><td>35.982791</td><td>70.00407 </td><td>140.62788</td><td>238.7196 </td><td>330.3666 </td><td> 368.5981</td><td>330.3666 </td><td>238.7196 </td><td>140.62788</td><td>70.00407 </td><td>35.982791</td></tr>\n",
       "\t<tr><td>25       </td><td>39.384919</td><td>73.66432 </td><td>143.37467</td><td>238.0752 </td><td>325.0250 </td><td> 360.9518</td><td>325.0250 </td><td>238.0752 </td><td>143.37467</td><td>73.66432 </td><td>39.384919</td></tr>\n",
       "\t<tr><td>26       </td><td>42.812859</td><td>77.20741 </td><td>145.87369</td><td>237.3001 </td><td>319.9227 </td><td> 353.7664</td><td>319.9227 </td><td>237.3001 </td><td>145.87369</td><td>77.20741 </td><td>42.812859</td></tr>\n",
       "\t<tr><td>27       </td><td>46.252315</td><td>80.63459 </td><td>148.14970</td><td>236.4197 </td><td>315.0448 </td><td> 346.9977</td><td>315.0448 </td><td>236.4197 </td><td>148.14970</td><td>80.63459 </td><td>46.252315</td></tr>\n",
       "\t<tr><td>28       </td><td>49.690542</td><td>83.94787 </td><td>150.22519</td><td>235.4552 </td><td>310.3776 </td><td> 340.6071</td><td>310.3776 </td><td>235.4552 </td><td>150.22519</td><td>83.94787 </td><td>49.690542</td></tr>\n",
       "\t<tr><td>29       </td><td>53.116275</td><td>87.14987 </td><td>152.12046</td><td>234.4245 </td><td>305.9083 </td><td> 334.5612</td><td>305.9083 </td><td>234.4245 </td><td>152.12046</td><td>87.14987 </td><td>53.116275</td></tr>\n",
       "\t<tr><td>...</td><td>...</td><td>...</td><td>...</td><td>...</td><td>...</td><td>...</td><td>...</td><td>...</td><td>...</td><td>...</td><td>...</td></tr>\n",
       "\t<tr><td>571     </td><td>181.8182</td><td>181.8182</td><td>181.8182</td><td>181.8182</td><td>181.8182</td><td>181.8182</td><td>181.8182</td><td>181.8182</td><td>181.8182</td><td>181.8182</td><td>181.8182</td></tr>\n",
       "\t<tr><td>572     </td><td>181.8182</td><td>181.8182</td><td>181.8182</td><td>181.8182</td><td>181.8182</td><td>181.8182</td><td>181.8182</td><td>181.8182</td><td>181.8182</td><td>181.8182</td><td>181.8182</td></tr>\n",
       "\t<tr><td>573     </td><td>181.8182</td><td>181.8182</td><td>181.8182</td><td>181.8182</td><td>181.8182</td><td>181.8182</td><td>181.8182</td><td>181.8182</td><td>181.8182</td><td>181.8182</td><td>181.8182</td></tr>\n",
       "\t<tr><td>574     </td><td>181.8182</td><td>181.8182</td><td>181.8182</td><td>181.8182</td><td>181.8182</td><td>181.8182</td><td>181.8182</td><td>181.8182</td><td>181.8182</td><td>181.8182</td><td>181.8182</td></tr>\n",
       "\t<tr><td>575     </td><td>181.8182</td><td>181.8182</td><td>181.8182</td><td>181.8182</td><td>181.8182</td><td>181.8182</td><td>181.8182</td><td>181.8182</td><td>181.8182</td><td>181.8182</td><td>181.8182</td></tr>\n",
       "\t<tr><td>576     </td><td>181.8182</td><td>181.8182</td><td>181.8182</td><td>181.8182</td><td>181.8182</td><td>181.8182</td><td>181.8182</td><td>181.8182</td><td>181.8182</td><td>181.8182</td><td>181.8182</td></tr>\n",
       "\t<tr><td>577     </td><td>181.8182</td><td>181.8182</td><td>181.8182</td><td>181.8182</td><td>181.8182</td><td>181.8182</td><td>181.8182</td><td>181.8182</td><td>181.8182</td><td>181.8182</td><td>181.8182</td></tr>\n",
       "\t<tr><td>578     </td><td>181.8182</td><td>181.8182</td><td>181.8182</td><td>181.8182</td><td>181.8182</td><td>181.8182</td><td>181.8182</td><td>181.8182</td><td>181.8182</td><td>181.8182</td><td>181.8182</td></tr>\n",
       "\t<tr><td>579     </td><td>181.8182</td><td>181.8182</td><td>181.8182</td><td>181.8182</td><td>181.8182</td><td>181.8182</td><td>181.8182</td><td>181.8182</td><td>181.8182</td><td>181.8182</td><td>181.8182</td></tr>\n",
       "\t<tr><td>580     </td><td>181.8182</td><td>181.8182</td><td>181.8182</td><td>181.8182</td><td>181.8182</td><td>181.8182</td><td>181.8182</td><td>181.8182</td><td>181.8182</td><td>181.8182</td><td>181.8182</td></tr>\n",
       "\t<tr><td>581     </td><td>181.8182</td><td>181.8182</td><td>181.8182</td><td>181.8182</td><td>181.8182</td><td>181.8182</td><td>181.8182</td><td>181.8182</td><td>181.8182</td><td>181.8182</td><td>181.8182</td></tr>\n",
       "\t<tr><td>582     </td><td>181.8182</td><td>181.8182</td><td>181.8182</td><td>181.8182</td><td>181.8182</td><td>181.8182</td><td>181.8182</td><td>181.8182</td><td>181.8182</td><td>181.8182</td><td>181.8182</td></tr>\n",
       "\t<tr><td>583     </td><td>181.8182</td><td>181.8182</td><td>181.8182</td><td>181.8182</td><td>181.8182</td><td>181.8182</td><td>181.8182</td><td>181.8182</td><td>181.8182</td><td>181.8182</td><td>181.8182</td></tr>\n",
       "\t<tr><td>584     </td><td>181.8182</td><td>181.8182</td><td>181.8182</td><td>181.8182</td><td>181.8182</td><td>181.8182</td><td>181.8182</td><td>181.8182</td><td>181.8182</td><td>181.8182</td><td>181.8182</td></tr>\n",
       "\t<tr><td>585     </td><td>181.8182</td><td>181.8182</td><td>181.8182</td><td>181.8182</td><td>181.8182</td><td>181.8182</td><td>181.8182</td><td>181.8182</td><td>181.8182</td><td>181.8182</td><td>181.8182</td></tr>\n",
       "\t<tr><td>586     </td><td>181.8182</td><td>181.8182</td><td>181.8182</td><td>181.8182</td><td>181.8182</td><td>181.8182</td><td>181.8182</td><td>181.8182</td><td>181.8182</td><td>181.8182</td><td>181.8182</td></tr>\n",
       "\t<tr><td>587     </td><td>181.8182</td><td>181.8182</td><td>181.8182</td><td>181.8182</td><td>181.8182</td><td>181.8182</td><td>181.8182</td><td>181.8182</td><td>181.8182</td><td>181.8182</td><td>181.8182</td></tr>\n",
       "\t<tr><td>588     </td><td>181.8182</td><td>181.8182</td><td>181.8182</td><td>181.8182</td><td>181.8182</td><td>181.8182</td><td>181.8182</td><td>181.8182</td><td>181.8182</td><td>181.8182</td><td>181.8182</td></tr>\n",
       "\t<tr><td>589     </td><td>181.8182</td><td>181.8182</td><td>181.8182</td><td>181.8182</td><td>181.8182</td><td>181.8182</td><td>181.8182</td><td>181.8182</td><td>181.8182</td><td>181.8182</td><td>181.8182</td></tr>\n",
       "\t<tr><td>590     </td><td>181.8182</td><td>181.8182</td><td>181.8182</td><td>181.8182</td><td>181.8182</td><td>181.8182</td><td>181.8182</td><td>181.8182</td><td>181.8182</td><td>181.8182</td><td>181.8182</td></tr>\n",
       "\t<tr><td>591     </td><td>181.8182</td><td>181.8182</td><td>181.8182</td><td>181.8182</td><td>181.8182</td><td>181.8182</td><td>181.8182</td><td>181.8182</td><td>181.8182</td><td>181.8182</td><td>181.8182</td></tr>\n",
       "\t<tr><td>592     </td><td>181.8182</td><td>181.8182</td><td>181.8182</td><td>181.8182</td><td>181.8182</td><td>181.8182</td><td>181.8182</td><td>181.8182</td><td>181.8182</td><td>181.8182</td><td>181.8182</td></tr>\n",
       "\t<tr><td>593     </td><td>181.8182</td><td>181.8182</td><td>181.8182</td><td>181.8182</td><td>181.8182</td><td>181.8182</td><td>181.8182</td><td>181.8182</td><td>181.8182</td><td>181.8182</td><td>181.8182</td></tr>\n",
       "\t<tr><td>594     </td><td>181.8182</td><td>181.8182</td><td>181.8182</td><td>181.8182</td><td>181.8182</td><td>181.8182</td><td>181.8182</td><td>181.8182</td><td>181.8182</td><td>181.8182</td><td>181.8182</td></tr>\n",
       "\t<tr><td>595     </td><td>181.8182</td><td>181.8182</td><td>181.8182</td><td>181.8182</td><td>181.8182</td><td>181.8182</td><td>181.8182</td><td>181.8182</td><td>181.8182</td><td>181.8182</td><td>181.8182</td></tr>\n",
       "\t<tr><td>596     </td><td>181.8182</td><td>181.8182</td><td>181.8182</td><td>181.8182</td><td>181.8182</td><td>181.8182</td><td>181.8182</td><td>181.8182</td><td>181.8182</td><td>181.8182</td><td>181.8182</td></tr>\n",
       "\t<tr><td>597     </td><td>181.8182</td><td>181.8182</td><td>181.8182</td><td>181.8182</td><td>181.8182</td><td>181.8182</td><td>181.8182</td><td>181.8182</td><td>181.8182</td><td>181.8182</td><td>181.8182</td></tr>\n",
       "\t<tr><td>598     </td><td>181.8182</td><td>181.8182</td><td>181.8182</td><td>181.8182</td><td>181.8182</td><td>181.8182</td><td>181.8182</td><td>181.8182</td><td>181.8182</td><td>181.8182</td><td>181.8182</td></tr>\n",
       "\t<tr><td>599     </td><td>181.8182</td><td>181.8182</td><td>181.8182</td><td>181.8182</td><td>181.8182</td><td>181.8182</td><td>181.8182</td><td>181.8182</td><td>181.8182</td><td>181.8182</td><td>181.8182</td></tr>\n",
       "\t<tr><td>600     </td><td>181.8182</td><td>181.8182</td><td>181.8182</td><td>181.8182</td><td>181.8182</td><td>181.8182</td><td>181.8182</td><td>181.8182</td><td>181.8182</td><td>181.8182</td><td>181.8182</td></tr>\n",
       "</tbody>\n",
       "</table>\n"
      ],
      "text/latex": [
       "\\begin{tabular}{r|llllllllllll}\n",
       " Time..h. & Cell1 & Cell2 & Cell3 & Cell4 & Cell5 & Cell6 & Cell7 & Cell8 & Cell9 & Cell10 & Cell11\\\\\n",
       "\\hline\n",
       "\t  0        &  0.000000 &  0.00000  &   0.00000 &   0.0000  &   0.0000  & 2000.0000 &   0.0000  &   0.0000  &   0.00000 &  0.00000  &  0.000000\\\\\n",
       "\t  1        &  0.000000 &  0.00000  &   0.00000 &   0.0000  & 200.0000  & 1600.0000 & 200.0000  &   0.0000  &   0.00000 &  0.00000  &  0.000000\\\\\n",
       "\t  2        &  0.000000 &  0.00000  &   0.00000 &  20.0000  & 320.0000  & 1320.0000 & 320.0000  &  20.0000  &   0.00000 &  0.00000  &  0.000000\\\\\n",
       "\t  3        &  0.000000 &  0.00000  &   2.00000 &  48.0000  & 390.0000  & 1120.0000 & 390.0000  &  48.0000  &   2.00000 &  0.00000  &  0.000000\\\\\n",
       "\t  4        &  0.000000 &  0.20000  &   6.40000 &  77.6000  & 428.8000  &  974.0000 & 428.8000  &  77.6000  &   6.40000 &  0.20000  &  0.000000\\\\\n",
       "\t  5        &  0.020000 &  0.80000  &  12.90000 & 105.6000  & 448.2000  &  864.9600 & 448.2000  & 105.6000  &  12.90000 &  0.80000  &  0.020000\\\\\n",
       "\t  6        &  0.098000 &  1.93200  &  20.96000 & 130.5900  & 455.6160  &  781.6080 & 455.6160  & 130.5900  &  20.96000 &  1.93200  &  0.098000\\\\\n",
       "\t  7        &  0.281400 &  3.65140  &  30.02020 & 152.1296  & 455.7126  &  716.4096 & 455.7126  & 152.1296  &  30.02020 &  3.65140  &  0.281400\\\\\n",
       "\t  8        &  0.618400 &  5.95128  &  39.59426 & 170.2770  & 451.4240  &  664.2702 & 451.4240  & 170.2770  &  39.59426 &  5.95128  &  0.618400\\\\\n",
       "\t  9        &  1.151688 &  8.78229  &  49.29823 & 185.3234  & 444.5939  &  621.7010 & 444.5939  & 185.3234  &  49.29823 &  8.78229  &  1.151688\\\\\n",
       "\t 10        &  1.914748 & 12.07082  &  58.84915 & 197.6479  & 436.3776  &  586.2796 & 436.3776  & 197.6479  &  58.84915 & 12.07082  &  1.914748\\\\\n",
       "\t 11        &  2.930356 & 15.73305  &  68.05120 & 207.6410  & 427.4948  &  556.2992 & 427.4948  & 207.6410  &  68.05120 & 15.73305  &  2.930356\\\\\n",
       "\t 12        &  4.210625 & 19.68459  &  76.77837 & 215.6674  & 418.3899  &  530.5383 & 418.3899  & 215.6674  &  76.77837 & 19.68459  &  4.210625\\\\\n",
       "\t 13        &  5.758022 & 23.84658  &  84.95789 & 222.0508  & 409.3325  &  508.1086 & 409.3325  & 222.0508  &  84.95789 & 23.84658  &  5.758022\\\\\n",
       "\t 14        &  7.566877 & 28.14885  &  92.55605 & 227.0696  & 400.4819  &  488.3534 & 400.4819  & 227.0696  &  92.55605 & 28.14885  &  7.566877\\\\\n",
       "\t 15        &  9.625075 & 32.53137  &  99.56669 & 230.9595  & 391.9278  &  470.7791 & 391.9278  & 230.9595  &  99.56669 & 32.53137  &  9.625075\\\\\n",
       "\t 16        & 11.915705 & 36.94428  & 106.00244 & 233.9171  & 383.7161  &  455.0088 & 383.7161  & 233.9171  & 106.00244 & 36.94428  & 11.915705\\\\\n",
       "\t 17        & 14.418562 & 41.34723  & 111.88808 & 236.1055  & 375.8655  &  440.7503 & 375.8655  & 236.1055  & 111.88808 & 41.34723  & 14.418562\\\\\n",
       "\t 18        & 17.111429 & 45.70845  & 117.25574 & 237.6598  & 368.3780  &  427.7733 & 368.3780  & 237.6598  & 117.25574 & 45.70845  & 17.111429\\\\\n",
       "\t 19        & 19.971131 & 50.00348  & 122.14141 & 238.6912  & 361.2457  &  415.8943 & 361.2457  & 238.6912  & 122.14141 & 50.00348  & 19.971131\\\\\n",
       "\t 20        & 22.974366 & 54.21404  & 126.58260 & 239.2916  & 354.4551  &  404.9645 & 354.4551  & 239.2916  & 126.58260 & 54.21404  & 22.974366\\\\\n",
       "\t 21        & 26.098333 & 58.32693  & 130.61664 & 239.5371  & 347.9897  &  394.8626 & 347.9897  & 239.5371  & 130.61664 & 58.32693  & 26.098333\\\\\n",
       "\t 22        & 29.321192 & 62.33304  & 134.27972 & 239.4903  & 341.8317  &  385.4881 & 341.8317  & 239.4903  & 134.27972 & 62.33304  & 29.321192\\\\\n",
       "\t 23        & 32.622377 & 66.22652  & 137.60611 & 239.2034  & 335.9632  &  376.7568 & 335.9632  & 239.2034  & 137.60611 & 66.22652  & 32.622377\\\\\n",
       "\t 24        & 35.982791 & 70.00407  & 140.62788 & 238.7196  & 330.3666  &  368.5981 & 330.3666  & 238.7196  & 140.62788 & 70.00407  & 35.982791\\\\\n",
       "\t 25        & 39.384919 & 73.66432  & 143.37467 & 238.0752  & 325.0250  &  360.9518 & 325.0250  & 238.0752  & 143.37467 & 73.66432  & 39.384919\\\\\n",
       "\t 26        & 42.812859 & 77.20741  & 145.87369 & 237.3001  & 319.9227  &  353.7664 & 319.9227  & 237.3001  & 145.87369 & 77.20741  & 42.812859\\\\\n",
       "\t 27        & 46.252315 & 80.63459  & 148.14970 & 236.4197  & 315.0448  &  346.9977 & 315.0448  & 236.4197  & 148.14970 & 80.63459  & 46.252315\\\\\n",
       "\t 28        & 49.690542 & 83.94787  & 150.22519 & 235.4552  & 310.3776  &  340.6071 & 310.3776  & 235.4552  & 150.22519 & 83.94787  & 49.690542\\\\\n",
       "\t 29        & 53.116275 & 87.14987  & 152.12046 & 234.4245  & 305.9083  &  334.5612 & 305.9083  & 234.4245  & 152.12046 & 87.14987  & 53.116275\\\\\n",
       "\t ... & ... & ... & ... & ... & ... & ... & ... & ... & ... & ... & ...\\\\\n",
       "\t 571      & 181.8182 & 181.8182 & 181.8182 & 181.8182 & 181.8182 & 181.8182 & 181.8182 & 181.8182 & 181.8182 & 181.8182 & 181.8182\\\\\n",
       "\t 572      & 181.8182 & 181.8182 & 181.8182 & 181.8182 & 181.8182 & 181.8182 & 181.8182 & 181.8182 & 181.8182 & 181.8182 & 181.8182\\\\\n",
       "\t 573      & 181.8182 & 181.8182 & 181.8182 & 181.8182 & 181.8182 & 181.8182 & 181.8182 & 181.8182 & 181.8182 & 181.8182 & 181.8182\\\\\n",
       "\t 574      & 181.8182 & 181.8182 & 181.8182 & 181.8182 & 181.8182 & 181.8182 & 181.8182 & 181.8182 & 181.8182 & 181.8182 & 181.8182\\\\\n",
       "\t 575      & 181.8182 & 181.8182 & 181.8182 & 181.8182 & 181.8182 & 181.8182 & 181.8182 & 181.8182 & 181.8182 & 181.8182 & 181.8182\\\\\n",
       "\t 576      & 181.8182 & 181.8182 & 181.8182 & 181.8182 & 181.8182 & 181.8182 & 181.8182 & 181.8182 & 181.8182 & 181.8182 & 181.8182\\\\\n",
       "\t 577      & 181.8182 & 181.8182 & 181.8182 & 181.8182 & 181.8182 & 181.8182 & 181.8182 & 181.8182 & 181.8182 & 181.8182 & 181.8182\\\\\n",
       "\t 578      & 181.8182 & 181.8182 & 181.8182 & 181.8182 & 181.8182 & 181.8182 & 181.8182 & 181.8182 & 181.8182 & 181.8182 & 181.8182\\\\\n",
       "\t 579      & 181.8182 & 181.8182 & 181.8182 & 181.8182 & 181.8182 & 181.8182 & 181.8182 & 181.8182 & 181.8182 & 181.8182 & 181.8182\\\\\n",
       "\t 580      & 181.8182 & 181.8182 & 181.8182 & 181.8182 & 181.8182 & 181.8182 & 181.8182 & 181.8182 & 181.8182 & 181.8182 & 181.8182\\\\\n",
       "\t 581      & 181.8182 & 181.8182 & 181.8182 & 181.8182 & 181.8182 & 181.8182 & 181.8182 & 181.8182 & 181.8182 & 181.8182 & 181.8182\\\\\n",
       "\t 582      & 181.8182 & 181.8182 & 181.8182 & 181.8182 & 181.8182 & 181.8182 & 181.8182 & 181.8182 & 181.8182 & 181.8182 & 181.8182\\\\\n",
       "\t 583      & 181.8182 & 181.8182 & 181.8182 & 181.8182 & 181.8182 & 181.8182 & 181.8182 & 181.8182 & 181.8182 & 181.8182 & 181.8182\\\\\n",
       "\t 584      & 181.8182 & 181.8182 & 181.8182 & 181.8182 & 181.8182 & 181.8182 & 181.8182 & 181.8182 & 181.8182 & 181.8182 & 181.8182\\\\\n",
       "\t 585      & 181.8182 & 181.8182 & 181.8182 & 181.8182 & 181.8182 & 181.8182 & 181.8182 & 181.8182 & 181.8182 & 181.8182 & 181.8182\\\\\n",
       "\t 586      & 181.8182 & 181.8182 & 181.8182 & 181.8182 & 181.8182 & 181.8182 & 181.8182 & 181.8182 & 181.8182 & 181.8182 & 181.8182\\\\\n",
       "\t 587      & 181.8182 & 181.8182 & 181.8182 & 181.8182 & 181.8182 & 181.8182 & 181.8182 & 181.8182 & 181.8182 & 181.8182 & 181.8182\\\\\n",
       "\t 588      & 181.8182 & 181.8182 & 181.8182 & 181.8182 & 181.8182 & 181.8182 & 181.8182 & 181.8182 & 181.8182 & 181.8182 & 181.8182\\\\\n",
       "\t 589      & 181.8182 & 181.8182 & 181.8182 & 181.8182 & 181.8182 & 181.8182 & 181.8182 & 181.8182 & 181.8182 & 181.8182 & 181.8182\\\\\n",
       "\t 590      & 181.8182 & 181.8182 & 181.8182 & 181.8182 & 181.8182 & 181.8182 & 181.8182 & 181.8182 & 181.8182 & 181.8182 & 181.8182\\\\\n",
       "\t 591      & 181.8182 & 181.8182 & 181.8182 & 181.8182 & 181.8182 & 181.8182 & 181.8182 & 181.8182 & 181.8182 & 181.8182 & 181.8182\\\\\n",
       "\t 592      & 181.8182 & 181.8182 & 181.8182 & 181.8182 & 181.8182 & 181.8182 & 181.8182 & 181.8182 & 181.8182 & 181.8182 & 181.8182\\\\\n",
       "\t 593      & 181.8182 & 181.8182 & 181.8182 & 181.8182 & 181.8182 & 181.8182 & 181.8182 & 181.8182 & 181.8182 & 181.8182 & 181.8182\\\\\n",
       "\t 594      & 181.8182 & 181.8182 & 181.8182 & 181.8182 & 181.8182 & 181.8182 & 181.8182 & 181.8182 & 181.8182 & 181.8182 & 181.8182\\\\\n",
       "\t 595      & 181.8182 & 181.8182 & 181.8182 & 181.8182 & 181.8182 & 181.8182 & 181.8182 & 181.8182 & 181.8182 & 181.8182 & 181.8182\\\\\n",
       "\t 596      & 181.8182 & 181.8182 & 181.8182 & 181.8182 & 181.8182 & 181.8182 & 181.8182 & 181.8182 & 181.8182 & 181.8182 & 181.8182\\\\\n",
       "\t 597      & 181.8182 & 181.8182 & 181.8182 & 181.8182 & 181.8182 & 181.8182 & 181.8182 & 181.8182 & 181.8182 & 181.8182 & 181.8182\\\\\n",
       "\t 598      & 181.8182 & 181.8182 & 181.8182 & 181.8182 & 181.8182 & 181.8182 & 181.8182 & 181.8182 & 181.8182 & 181.8182 & 181.8182\\\\\n",
       "\t 599      & 181.8182 & 181.8182 & 181.8182 & 181.8182 & 181.8182 & 181.8182 & 181.8182 & 181.8182 & 181.8182 & 181.8182 & 181.8182\\\\\n",
       "\t 600      & 181.8182 & 181.8182 & 181.8182 & 181.8182 & 181.8182 & 181.8182 & 181.8182 & 181.8182 & 181.8182 & 181.8182 & 181.8182\\\\\n",
       "\\end{tabular}\n"
      ],
      "text/markdown": [
       "\n",
       "| Time..h. | Cell1 | Cell2 | Cell3 | Cell4 | Cell5 | Cell6 | Cell7 | Cell8 | Cell9 | Cell10 | Cell11 |\n",
       "|---|---|---|---|---|---|---|---|---|---|---|---|\n",
       "|  0        |  0.000000 |  0.00000  |   0.00000 |   0.0000  |   0.0000  | 2000.0000 |   0.0000  |   0.0000  |   0.00000 |  0.00000  |  0.000000 |\n",
       "|  1        |  0.000000 |  0.00000  |   0.00000 |   0.0000  | 200.0000  | 1600.0000 | 200.0000  |   0.0000  |   0.00000 |  0.00000  |  0.000000 |\n",
       "|  2        |  0.000000 |  0.00000  |   0.00000 |  20.0000  | 320.0000  | 1320.0000 | 320.0000  |  20.0000  |   0.00000 |  0.00000  |  0.000000 |\n",
       "|  3        |  0.000000 |  0.00000  |   2.00000 |  48.0000  | 390.0000  | 1120.0000 | 390.0000  |  48.0000  |   2.00000 |  0.00000  |  0.000000 |\n",
       "|  4        |  0.000000 |  0.20000  |   6.40000 |  77.6000  | 428.8000  |  974.0000 | 428.8000  |  77.6000  |   6.40000 |  0.20000  |  0.000000 |\n",
       "|  5        |  0.020000 |  0.80000  |  12.90000 | 105.6000  | 448.2000  |  864.9600 | 448.2000  | 105.6000  |  12.90000 |  0.80000  |  0.020000 |\n",
       "|  6        |  0.098000 |  1.93200  |  20.96000 | 130.5900  | 455.6160  |  781.6080 | 455.6160  | 130.5900  |  20.96000 |  1.93200  |  0.098000 |\n",
       "|  7        |  0.281400 |  3.65140  |  30.02020 | 152.1296  | 455.7126  |  716.4096 | 455.7126  | 152.1296  |  30.02020 |  3.65140  |  0.281400 |\n",
       "|  8        |  0.618400 |  5.95128  |  39.59426 | 170.2770  | 451.4240  |  664.2702 | 451.4240  | 170.2770  |  39.59426 |  5.95128  |  0.618400 |\n",
       "|  9        |  1.151688 |  8.78229  |  49.29823 | 185.3234  | 444.5939  |  621.7010 | 444.5939  | 185.3234  |  49.29823 |  8.78229  |  1.151688 |\n",
       "| 10        |  1.914748 | 12.07082  |  58.84915 | 197.6479  | 436.3776  |  586.2796 | 436.3776  | 197.6479  |  58.84915 | 12.07082  |  1.914748 |\n",
       "| 11        |  2.930356 | 15.73305  |  68.05120 | 207.6410  | 427.4948  |  556.2992 | 427.4948  | 207.6410  |  68.05120 | 15.73305  |  2.930356 |\n",
       "| 12        |  4.210625 | 19.68459  |  76.77837 | 215.6674  | 418.3899  |  530.5383 | 418.3899  | 215.6674  |  76.77837 | 19.68459  |  4.210625 |\n",
       "| 13        |  5.758022 | 23.84658  |  84.95789 | 222.0508  | 409.3325  |  508.1086 | 409.3325  | 222.0508  |  84.95789 | 23.84658  |  5.758022 |\n",
       "| 14        |  7.566877 | 28.14885  |  92.55605 | 227.0696  | 400.4819  |  488.3534 | 400.4819  | 227.0696  |  92.55605 | 28.14885  |  7.566877 |\n",
       "| 15        |  9.625075 | 32.53137  |  99.56669 | 230.9595  | 391.9278  |  470.7791 | 391.9278  | 230.9595  |  99.56669 | 32.53137  |  9.625075 |\n",
       "| 16        | 11.915705 | 36.94428  | 106.00244 | 233.9171  | 383.7161  |  455.0088 | 383.7161  | 233.9171  | 106.00244 | 36.94428  | 11.915705 |\n",
       "| 17        | 14.418562 | 41.34723  | 111.88808 | 236.1055  | 375.8655  |  440.7503 | 375.8655  | 236.1055  | 111.88808 | 41.34723  | 14.418562 |\n",
       "| 18        | 17.111429 | 45.70845  | 117.25574 | 237.6598  | 368.3780  |  427.7733 | 368.3780  | 237.6598  | 117.25574 | 45.70845  | 17.111429 |\n",
       "| 19        | 19.971131 | 50.00348  | 122.14141 | 238.6912  | 361.2457  |  415.8943 | 361.2457  | 238.6912  | 122.14141 | 50.00348  | 19.971131 |\n",
       "| 20        | 22.974366 | 54.21404  | 126.58260 | 239.2916  | 354.4551  |  404.9645 | 354.4551  | 239.2916  | 126.58260 | 54.21404  | 22.974366 |\n",
       "| 21        | 26.098333 | 58.32693  | 130.61664 | 239.5371  | 347.9897  |  394.8626 | 347.9897  | 239.5371  | 130.61664 | 58.32693  | 26.098333 |\n",
       "| 22        | 29.321192 | 62.33304  | 134.27972 | 239.4903  | 341.8317  |  385.4881 | 341.8317  | 239.4903  | 134.27972 | 62.33304  | 29.321192 |\n",
       "| 23        | 32.622377 | 66.22652  | 137.60611 | 239.2034  | 335.9632  |  376.7568 | 335.9632  | 239.2034  | 137.60611 | 66.22652  | 32.622377 |\n",
       "| 24        | 35.982791 | 70.00407  | 140.62788 | 238.7196  | 330.3666  |  368.5981 | 330.3666  | 238.7196  | 140.62788 | 70.00407  | 35.982791 |\n",
       "| 25        | 39.384919 | 73.66432  | 143.37467 | 238.0752  | 325.0250  |  360.9518 | 325.0250  | 238.0752  | 143.37467 | 73.66432  | 39.384919 |\n",
       "| 26        | 42.812859 | 77.20741  | 145.87369 | 237.3001  | 319.9227  |  353.7664 | 319.9227  | 237.3001  | 145.87369 | 77.20741  | 42.812859 |\n",
       "| 27        | 46.252315 | 80.63459  | 148.14970 | 236.4197  | 315.0448  |  346.9977 | 315.0448  | 236.4197  | 148.14970 | 80.63459  | 46.252315 |\n",
       "| 28        | 49.690542 | 83.94787  | 150.22519 | 235.4552  | 310.3776  |  340.6071 | 310.3776  | 235.4552  | 150.22519 | 83.94787  | 49.690542 |\n",
       "| 29        | 53.116275 | 87.14987  | 152.12046 | 234.4245  | 305.9083  |  334.5612 | 305.9083  | 234.4245  | 152.12046 | 87.14987  | 53.116275 |\n",
       "| ... | ... | ... | ... | ... | ... | ... | ... | ... | ... | ... | ... |\n",
       "| 571      | 181.8182 | 181.8182 | 181.8182 | 181.8182 | 181.8182 | 181.8182 | 181.8182 | 181.8182 | 181.8182 | 181.8182 | 181.8182 |\n",
       "| 572      | 181.8182 | 181.8182 | 181.8182 | 181.8182 | 181.8182 | 181.8182 | 181.8182 | 181.8182 | 181.8182 | 181.8182 | 181.8182 |\n",
       "| 573      | 181.8182 | 181.8182 | 181.8182 | 181.8182 | 181.8182 | 181.8182 | 181.8182 | 181.8182 | 181.8182 | 181.8182 | 181.8182 |\n",
       "| 574      | 181.8182 | 181.8182 | 181.8182 | 181.8182 | 181.8182 | 181.8182 | 181.8182 | 181.8182 | 181.8182 | 181.8182 | 181.8182 |\n",
       "| 575      | 181.8182 | 181.8182 | 181.8182 | 181.8182 | 181.8182 | 181.8182 | 181.8182 | 181.8182 | 181.8182 | 181.8182 | 181.8182 |\n",
       "| 576      | 181.8182 | 181.8182 | 181.8182 | 181.8182 | 181.8182 | 181.8182 | 181.8182 | 181.8182 | 181.8182 | 181.8182 | 181.8182 |\n",
       "| 577      | 181.8182 | 181.8182 | 181.8182 | 181.8182 | 181.8182 | 181.8182 | 181.8182 | 181.8182 | 181.8182 | 181.8182 | 181.8182 |\n",
       "| 578      | 181.8182 | 181.8182 | 181.8182 | 181.8182 | 181.8182 | 181.8182 | 181.8182 | 181.8182 | 181.8182 | 181.8182 | 181.8182 |\n",
       "| 579      | 181.8182 | 181.8182 | 181.8182 | 181.8182 | 181.8182 | 181.8182 | 181.8182 | 181.8182 | 181.8182 | 181.8182 | 181.8182 |\n",
       "| 580      | 181.8182 | 181.8182 | 181.8182 | 181.8182 | 181.8182 | 181.8182 | 181.8182 | 181.8182 | 181.8182 | 181.8182 | 181.8182 |\n",
       "| 581      | 181.8182 | 181.8182 | 181.8182 | 181.8182 | 181.8182 | 181.8182 | 181.8182 | 181.8182 | 181.8182 | 181.8182 | 181.8182 |\n",
       "| 582      | 181.8182 | 181.8182 | 181.8182 | 181.8182 | 181.8182 | 181.8182 | 181.8182 | 181.8182 | 181.8182 | 181.8182 | 181.8182 |\n",
       "| 583      | 181.8182 | 181.8182 | 181.8182 | 181.8182 | 181.8182 | 181.8182 | 181.8182 | 181.8182 | 181.8182 | 181.8182 | 181.8182 |\n",
       "| 584      | 181.8182 | 181.8182 | 181.8182 | 181.8182 | 181.8182 | 181.8182 | 181.8182 | 181.8182 | 181.8182 | 181.8182 | 181.8182 |\n",
       "| 585      | 181.8182 | 181.8182 | 181.8182 | 181.8182 | 181.8182 | 181.8182 | 181.8182 | 181.8182 | 181.8182 | 181.8182 | 181.8182 |\n",
       "| 586      | 181.8182 | 181.8182 | 181.8182 | 181.8182 | 181.8182 | 181.8182 | 181.8182 | 181.8182 | 181.8182 | 181.8182 | 181.8182 |\n",
       "| 587      | 181.8182 | 181.8182 | 181.8182 | 181.8182 | 181.8182 | 181.8182 | 181.8182 | 181.8182 | 181.8182 | 181.8182 | 181.8182 |\n",
       "| 588      | 181.8182 | 181.8182 | 181.8182 | 181.8182 | 181.8182 | 181.8182 | 181.8182 | 181.8182 | 181.8182 | 181.8182 | 181.8182 |\n",
       "| 589      | 181.8182 | 181.8182 | 181.8182 | 181.8182 | 181.8182 | 181.8182 | 181.8182 | 181.8182 | 181.8182 | 181.8182 | 181.8182 |\n",
       "| 590      | 181.8182 | 181.8182 | 181.8182 | 181.8182 | 181.8182 | 181.8182 | 181.8182 | 181.8182 | 181.8182 | 181.8182 | 181.8182 |\n",
       "| 591      | 181.8182 | 181.8182 | 181.8182 | 181.8182 | 181.8182 | 181.8182 | 181.8182 | 181.8182 | 181.8182 | 181.8182 | 181.8182 |\n",
       "| 592      | 181.8182 | 181.8182 | 181.8182 | 181.8182 | 181.8182 | 181.8182 | 181.8182 | 181.8182 | 181.8182 | 181.8182 | 181.8182 |\n",
       "| 593      | 181.8182 | 181.8182 | 181.8182 | 181.8182 | 181.8182 | 181.8182 | 181.8182 | 181.8182 | 181.8182 | 181.8182 | 181.8182 |\n",
       "| 594      | 181.8182 | 181.8182 | 181.8182 | 181.8182 | 181.8182 | 181.8182 | 181.8182 | 181.8182 | 181.8182 | 181.8182 | 181.8182 |\n",
       "| 595      | 181.8182 | 181.8182 | 181.8182 | 181.8182 | 181.8182 | 181.8182 | 181.8182 | 181.8182 | 181.8182 | 181.8182 | 181.8182 |\n",
       "| 596      | 181.8182 | 181.8182 | 181.8182 | 181.8182 | 181.8182 | 181.8182 | 181.8182 | 181.8182 | 181.8182 | 181.8182 | 181.8182 |\n",
       "| 597      | 181.8182 | 181.8182 | 181.8182 | 181.8182 | 181.8182 | 181.8182 | 181.8182 | 181.8182 | 181.8182 | 181.8182 | 181.8182 |\n",
       "| 598      | 181.8182 | 181.8182 | 181.8182 | 181.8182 | 181.8182 | 181.8182 | 181.8182 | 181.8182 | 181.8182 | 181.8182 | 181.8182 |\n",
       "| 599      | 181.8182 | 181.8182 | 181.8182 | 181.8182 | 181.8182 | 181.8182 | 181.8182 | 181.8182 | 181.8182 | 181.8182 | 181.8182 |\n",
       "| 600      | 181.8182 | 181.8182 | 181.8182 | 181.8182 | 181.8182 | 181.8182 | 181.8182 | 181.8182 | 181.8182 | 181.8182 | 181.8182 |\n",
       "\n"
      ],
      "text/plain": [
       "    Time..h. Cell1     Cell2    Cell3     Cell4    Cell5    Cell6     Cell7   \n",
       "1    0        0.000000  0.00000   0.00000   0.0000   0.0000 2000.0000   0.0000\n",
       "2    1        0.000000  0.00000   0.00000   0.0000 200.0000 1600.0000 200.0000\n",
       "3    2        0.000000  0.00000   0.00000  20.0000 320.0000 1320.0000 320.0000\n",
       "4    3        0.000000  0.00000   2.00000  48.0000 390.0000 1120.0000 390.0000\n",
       "5    4        0.000000  0.20000   6.40000  77.6000 428.8000  974.0000 428.8000\n",
       "6    5        0.020000  0.80000  12.90000 105.6000 448.2000  864.9600 448.2000\n",
       "7    6        0.098000  1.93200  20.96000 130.5900 455.6160  781.6080 455.6160\n",
       "8    7        0.281400  3.65140  30.02020 152.1296 455.7126  716.4096 455.7126\n",
       "9    8        0.618400  5.95128  39.59426 170.2770 451.4240  664.2702 451.4240\n",
       "10   9        1.151688  8.78229  49.29823 185.3234 444.5939  621.7010 444.5939\n",
       "11  10        1.914748 12.07082  58.84915 197.6479 436.3776  586.2796 436.3776\n",
       "12  11        2.930356 15.73305  68.05120 207.6410 427.4948  556.2992 427.4948\n",
       "13  12        4.210625 19.68459  76.77837 215.6674 418.3899  530.5383 418.3899\n",
       "14  13        5.758022 23.84658  84.95789 222.0508 409.3325  508.1086 409.3325\n",
       "15  14        7.566877 28.14885  92.55605 227.0696 400.4819  488.3534 400.4819\n",
       "16  15        9.625075 32.53137  99.56669 230.9595 391.9278  470.7791 391.9278\n",
       "17  16       11.915705 36.94428 106.00244 233.9171 383.7161  455.0088 383.7161\n",
       "18  17       14.418562 41.34723 111.88808 236.1055 375.8655  440.7503 375.8655\n",
       "19  18       17.111429 45.70845 117.25574 237.6598 368.3780  427.7733 368.3780\n",
       "20  19       19.971131 50.00348 122.14141 238.6912 361.2457  415.8943 361.2457\n",
       "21  20       22.974366 54.21404 126.58260 239.2916 354.4551  404.9645 354.4551\n",
       "22  21       26.098333 58.32693 130.61664 239.5371 347.9897  394.8626 347.9897\n",
       "23  22       29.321192 62.33304 134.27972 239.4903 341.8317  385.4881 341.8317\n",
       "24  23       32.622377 66.22652 137.60611 239.2034 335.9632  376.7568 335.9632\n",
       "25  24       35.982791 70.00407 140.62788 238.7196 330.3666  368.5981 330.3666\n",
       "26  25       39.384919 73.66432 143.37467 238.0752 325.0250  360.9518 325.0250\n",
       "27  26       42.812859 77.20741 145.87369 237.3001 319.9227  353.7664 319.9227\n",
       "28  27       46.252315 80.63459 148.14970 236.4197 315.0448  346.9977 315.0448\n",
       "29  28       49.690542 83.94787 150.22519 235.4552 310.3776  340.6071 310.3776\n",
       "30  29       53.116275 87.14987 152.12046 234.4245 305.9083  334.5612 305.9083\n",
       "... ...      ...       ...      ...       ...      ...      ...       ...     \n",
       "572 571      181.8182  181.8182 181.8182  181.8182 181.8182 181.8182  181.8182\n",
       "573 572      181.8182  181.8182 181.8182  181.8182 181.8182 181.8182  181.8182\n",
       "574 573      181.8182  181.8182 181.8182  181.8182 181.8182 181.8182  181.8182\n",
       "575 574      181.8182  181.8182 181.8182  181.8182 181.8182 181.8182  181.8182\n",
       "576 575      181.8182  181.8182 181.8182  181.8182 181.8182 181.8182  181.8182\n",
       "577 576      181.8182  181.8182 181.8182  181.8182 181.8182 181.8182  181.8182\n",
       "578 577      181.8182  181.8182 181.8182  181.8182 181.8182 181.8182  181.8182\n",
       "579 578      181.8182  181.8182 181.8182  181.8182 181.8182 181.8182  181.8182\n",
       "580 579      181.8182  181.8182 181.8182  181.8182 181.8182 181.8182  181.8182\n",
       "581 580      181.8182  181.8182 181.8182  181.8182 181.8182 181.8182  181.8182\n",
       "582 581      181.8182  181.8182 181.8182  181.8182 181.8182 181.8182  181.8182\n",
       "583 582      181.8182  181.8182 181.8182  181.8182 181.8182 181.8182  181.8182\n",
       "584 583      181.8182  181.8182 181.8182  181.8182 181.8182 181.8182  181.8182\n",
       "585 584      181.8182  181.8182 181.8182  181.8182 181.8182 181.8182  181.8182\n",
       "586 585      181.8182  181.8182 181.8182  181.8182 181.8182 181.8182  181.8182\n",
       "587 586      181.8182  181.8182 181.8182  181.8182 181.8182 181.8182  181.8182\n",
       "588 587      181.8182  181.8182 181.8182  181.8182 181.8182 181.8182  181.8182\n",
       "589 588      181.8182  181.8182 181.8182  181.8182 181.8182 181.8182  181.8182\n",
       "590 589      181.8182  181.8182 181.8182  181.8182 181.8182 181.8182  181.8182\n",
       "591 590      181.8182  181.8182 181.8182  181.8182 181.8182 181.8182  181.8182\n",
       "592 591      181.8182  181.8182 181.8182  181.8182 181.8182 181.8182  181.8182\n",
       "593 592      181.8182  181.8182 181.8182  181.8182 181.8182 181.8182  181.8182\n",
       "594 593      181.8182  181.8182 181.8182  181.8182 181.8182 181.8182  181.8182\n",
       "595 594      181.8182  181.8182 181.8182  181.8182 181.8182 181.8182  181.8182\n",
       "596 595      181.8182  181.8182 181.8182  181.8182 181.8182 181.8182  181.8182\n",
       "597 596      181.8182  181.8182 181.8182  181.8182 181.8182 181.8182  181.8182\n",
       "598 597      181.8182  181.8182 181.8182  181.8182 181.8182 181.8182  181.8182\n",
       "599 598      181.8182  181.8182 181.8182  181.8182 181.8182 181.8182  181.8182\n",
       "600 599      181.8182  181.8182 181.8182  181.8182 181.8182 181.8182  181.8182\n",
       "601 600      181.8182  181.8182 181.8182  181.8182 181.8182 181.8182  181.8182\n",
       "    Cell8    Cell9     Cell10   Cell11   \n",
       "1     0.0000   0.00000  0.00000  0.000000\n",
       "2     0.0000   0.00000  0.00000  0.000000\n",
       "3    20.0000   0.00000  0.00000  0.000000\n",
       "4    48.0000   2.00000  0.00000  0.000000\n",
       "5    77.6000   6.40000  0.20000  0.000000\n",
       "6   105.6000  12.90000  0.80000  0.020000\n",
       "7   130.5900  20.96000  1.93200  0.098000\n",
       "8   152.1296  30.02020  3.65140  0.281400\n",
       "9   170.2770  39.59426  5.95128  0.618400\n",
       "10  185.3234  49.29823  8.78229  1.151688\n",
       "11  197.6479  58.84915 12.07082  1.914748\n",
       "12  207.6410  68.05120 15.73305  2.930356\n",
       "13  215.6674  76.77837 19.68459  4.210625\n",
       "14  222.0508  84.95789 23.84658  5.758022\n",
       "15  227.0696  92.55605 28.14885  7.566877\n",
       "16  230.9595  99.56669 32.53137  9.625075\n",
       "17  233.9171 106.00244 36.94428 11.915705\n",
       "18  236.1055 111.88808 41.34723 14.418562\n",
       "19  237.6598 117.25574 45.70845 17.111429\n",
       "20  238.6912 122.14141 50.00348 19.971131\n",
       "21  239.2916 126.58260 54.21404 22.974366\n",
       "22  239.5371 130.61664 58.32693 26.098333\n",
       "23  239.4903 134.27972 62.33304 29.321192\n",
       "24  239.2034 137.60611 66.22652 32.622377\n",
       "25  238.7196 140.62788 70.00407 35.982791\n",
       "26  238.0752 143.37467 73.66432 39.384919\n",
       "27  237.3001 145.87369 77.20741 42.812859\n",
       "28  236.4197 148.14970 80.63459 46.252315\n",
       "29  235.4552 150.22519 83.94787 49.690542\n",
       "30  234.4245 152.12046 87.14987 53.116275\n",
       "... ...      ...       ...      ...      \n",
       "572 181.8182 181.8182  181.8182 181.8182 \n",
       "573 181.8182 181.8182  181.8182 181.8182 \n",
       "574 181.8182 181.8182  181.8182 181.8182 \n",
       "575 181.8182 181.8182  181.8182 181.8182 \n",
       "576 181.8182 181.8182  181.8182 181.8182 \n",
       "577 181.8182 181.8182  181.8182 181.8182 \n",
       "578 181.8182 181.8182  181.8182 181.8182 \n",
       "579 181.8182 181.8182  181.8182 181.8182 \n",
       "580 181.8182 181.8182  181.8182 181.8182 \n",
       "581 181.8182 181.8182  181.8182 181.8182 \n",
       "582 181.8182 181.8182  181.8182 181.8182 \n",
       "583 181.8182 181.8182  181.8182 181.8182 \n",
       "584 181.8182 181.8182  181.8182 181.8182 \n",
       "585 181.8182 181.8182  181.8182 181.8182 \n",
       "586 181.8182 181.8182  181.8182 181.8182 \n",
       "587 181.8182 181.8182  181.8182 181.8182 \n",
       "588 181.8182 181.8182  181.8182 181.8182 \n",
       "589 181.8182 181.8182  181.8182 181.8182 \n",
       "590 181.8182 181.8182  181.8182 181.8182 \n",
       "591 181.8182 181.8182  181.8182 181.8182 \n",
       "592 181.8182 181.8182  181.8182 181.8182 \n",
       "593 181.8182 181.8182  181.8182 181.8182 \n",
       "594 181.8182 181.8182  181.8182 181.8182 \n",
       "595 181.8182 181.8182  181.8182 181.8182 \n",
       "596 181.8182 181.8182  181.8182 181.8182 \n",
       "597 181.8182 181.8182  181.8182 181.8182 \n",
       "598 181.8182 181.8182  181.8182 181.8182 \n",
       "599 181.8182 181.8182  181.8182 181.8182 \n",
       "600 181.8182 181.8182  181.8182 181.8182 \n",
       "601 181.8182 181.8182  181.8182 181.8182 "
      ]
     },
     "metadata": {},
     "output_type": "display_data"
    }
   ],
   "source": [
    "data_matrix"
   ]
  }
 ],
 "metadata": {
  "kernelspec": {
   "display_name": "R",
   "language": "R",
   "name": "ir"
  },
  "language_info": {
   "codemirror_mode": "r",
   "file_extension": ".r",
   "mimetype": "text/x-r-source",
   "name": "R",
   "pygments_lexer": "r",
   "version": "3.6.1"
  }
 },
 "nbformat": 4,
 "nbformat_minor": 5
}
