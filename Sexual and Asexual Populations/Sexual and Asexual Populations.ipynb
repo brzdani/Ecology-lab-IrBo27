{
 "cells": [
  {
   "cell_type": "markdown",
   "id": "5be2276d-b674-4b1b-b6c8-3bf59044274f",
   "metadata": {},
   "source": [
    "## <div dir=\"rtl\"> پاسخ تشریحی تسک جمعیت‌های جنسی و غیرحنسی"
   ]
  },
  {
   "cell_type": "markdown",
   "id": "1562e61e-6af4-48da-b5e3-52198ad7d06f",
   "metadata": {},
   "source": [
    " <div dir=\"rtl\"> همانطور که در کلاس بحث شد، ظرفیت حمل محیط برای جمعیت جنسی (Ksex) و جمعیت غیر جنسی (Kasex) از طریق فرمول‌های زیر به دست می‌آید.\n",
    "\n",
    " $$\n",
    "  K_{asex} = \\frac {b-d} {a+c}\n",
    "$$\n",
    "\n",
    "$$\n",
    "    K_{sex} = \\frac{(1-s)b - d} {(1-s)a + c}\n",
    "$$"
   ]
  },
  {
   "cell_type": "code",
   "execution_count": 1,
   "id": "6b1ad9c3-125b-4064-97ae-ae339950be81",
   "metadata": {},
   "outputs": [],
   "source": [
    "a = 0.0001 \n",
    "d = 1.0 \n",
    "b = 3.0 \n",
    "c = 0 \n",
    "ssex = 0.5\n",
    "ksex = ((1-ssex) * b - d) / ((1-ssex) * a + c)\n",
    "kasex = (b-d) / (a + c) \n",
    "\n",
    "k_frame <- data.frame (\n",
    "\n",
    "     Population = c('Sexual', 'Asexual'),\n",
    "    Carrying_capacity = c(ksex, kasex)\n",
    ")"
   ]
  },
  {
   "cell_type": "markdown",
   "id": "4428a0d0-9d41-42b5-8c4c-f05f90966a02",
   "metadata": {},
   "source": [
    " <div dir=\"rtl\"> در زیر جواب بخش ۱ تسک را مشاهده می‌کنید. "
   ]
  },
  {
   "cell_type": "code",
   "execution_count": 2,
   "id": "bc2d4f47-ba4d-439c-b071-5aea62a7846c",
   "metadata": {},
   "outputs": [
    {
     "data": {
      "text/html": [
       "<table>\n",
       "<thead><tr><th scope=col>Population</th><th scope=col>Carrying_capacity</th></tr></thead>\n",
       "<tbody>\n",
       "\t<tr><td>Sexual </td><td>10000  </td></tr>\n",
       "\t<tr><td>Asexual</td><td>20000  </td></tr>\n",
       "</tbody>\n",
       "</table>\n"
      ],
      "text/latex": [
       "\\begin{tabular}{r|ll}\n",
       " Population & Carrying\\_capacity\\\\\n",
       "\\hline\n",
       "\t Sexual  & 10000  \\\\\n",
       "\t Asexual & 20000  \\\\\n",
       "\\end{tabular}\n"
      ],
      "text/markdown": [
       "\n",
       "| Population | Carrying_capacity |\n",
       "|---|---|\n",
       "| Sexual  | 10000   |\n",
       "| Asexual | 20000   |\n",
       "\n"
      ],
      "text/plain": [
       "  Population Carrying_capacity\n",
       "1 Sexual     10000            \n",
       "2 Asexual    20000            "
      ]
     },
     "metadata": {},
     "output_type": "display_data"
    }
   ],
   "source": [
    "k_frame"
   ]
  },
  {
   "cell_type": "markdown",
   "id": "582d4aca-5d82-4c10-a4a3-77cf7ec34dd2",
   "metadata": {},
   "source": [
    " <div dir=\"rtl\"> حال نسل به نسل به محاسبه جمعیت هر یک از زیرجمعیت‌های جنسی و غیرجنسی می‌پردازیم. برای ۲۰۰۰ نسل شبیه‌سازی می‌کنیم. در ابتدا فرض می‌کنیم جمعیت جنسی در تعادل قرار دارد. سپس در نسل ۱۰۰۰ام یک فرد از زیرجمعیت غیرجنسی به جمعیت اضافه می‌کنیم و تغییرات را دنبال می‌کنیم. فرمول محاسبه تعداد زیرجمعیت‌های جنسی (Nsex) و غیرجنسی (Nasex) در زیر آمده است. \n",
    "\n",
    "$$\n",
    "N_{sex} (t+1)  = N_{sex} (t) - N_{sex} (t) \\times (d + c \\times (N_{sex} + N_{asex}) +  N_{sex} (t) \\times (b - a \\times (N_{sex} + N_{asex})\n",
    "$$\n",
    " $$\n",
    "N_{asex} (t+1)  = N_{asex} (t) - N_{asex} (t) \\times (d + c \\times (N_{sex} + N_{asex}) +  N_{asex} (t) \\times (b - a \\times (N_{sex} + N_{asex})\n",
    "$$"
   ]
  },
  {
   "cell_type": "code",
   "execution_count": 3,
   "id": "701bab83-53eb-4731-8262-0a431901cb68",
   "metadata": {},
   "outputs": [],
   "source": [
    "Sex = ksex \n",
    "Asex = 0\n",
    "\n",
    "outSex = vector() \n",
    "outSex[1] = ksex \n",
    "\n",
    "outAsex = vector() \n",
    "outAsex = 0 \n",
    "\n",
    "Gasex = 1001\n",
    "\n",
    "T = 2000\n",
    "time = c(1:T)  #\n",
    "for (i in 1:T) {\n",
    "\n",
    "  outSex[i] = Sex[i]\n",
    "  Sex[i+1] = Sex[i] - Sex[i]*(d + c*(Sex[i]+Asex[i])) + Sex[i]*(1-ssex)*(b - a*(Sex[i]+Asex[i]))\n",
    "  \n",
    "  if(i == Gasex)\n",
    "    {\n",
    "    Asex[i] = Asex[i] + 1\n",
    "    }\n",
    "  \n",
    "  outAsex[i] = Asex[i]\n",
    "  Asex[i+1] = Asex[i] - Asex[i]*d + Asex[i]*(b - a*(Sex[i]+Asex[i]))\n",
    "    \n",
    "} \n",
    "pop_frame <- data.frame (\n",
    "\n",
    "    Year = c(999:1024),\n",
    "    Sexauls = outSex[1000:1025],\n",
    "    Asexuals = outAsex[1000:1025]\n",
    ") "
   ]
  },
  {
   "cell_type": "markdown",
   "id": "1d65fb59-37f6-47ea-b1de-34d806eb6691",
   "metadata": {},
   "source": [
    " <div dir=\"rtl\"> جواب بخش ۲ تسک در زیر آمده است. \n"
   ]
  },
  {
   "cell_type": "code",
   "execution_count": 4,
   "id": "7592d523-e6af-4f75-afc0-73e1d4fe740f",
   "metadata": {},
   "outputs": [
    {
     "data": {
      "text/html": [
       "<table>\n",
       "<thead><tr><th scope=col>Year</th><th scope=col>Sexauls</th><th scope=col>Asexuals</th></tr></thead>\n",
       "<tbody>\n",
       "\t<tr><td> 999       </td><td>10000.00000</td><td>    0.00000</td></tr>\n",
       "\t<tr><td>1000       </td><td>10000.00000</td><td>    1.00000</td></tr>\n",
       "\t<tr><td>1001       </td><td>10000.00000</td><td>    1.99990</td></tr>\n",
       "\t<tr><td>1002       </td><td> 9999.00005</td><td>    3.99940</td></tr>\n",
       "\t<tr><td>1003       </td><td> 9997.50047</td><td>    7.99760</td></tr>\n",
       "\t<tr><td>1004       </td><td> 9994.75212</td><td>   15.99080</td></tr>\n",
       "\t<tr><td>1005       </td><td> 9989.38348</td><td>   31.96443</td></tr>\n",
       "\t<tr><td>1006       </td><td> 9978.72086</td><td>   63.86062</td></tr>\n",
       "\t<tr><td>1007       </td><td> 9957.47542</td><td>  127.44931</td></tr>\n",
       "\t<tr><td>1008       </td><td> 9915.19362</td><td>  253.81627</td></tr>\n",
       "\t<tr><td>1009       </td><td> 9831.40534</td><td>  503.34278</td></tr>\n",
       "\t<tr><td>1010       </td><td> 9666.85311</td><td>  989.83626</td></tr>\n",
       "\t<tr><td>1011       </td><td> 9349.44713</td><td> 1914.67103</td></tr>\n",
       "\t<tr><td>1012       </td><td> 8758.50683</td><td> 3587.30502</td></tr>\n",
       "\t<tr><td>1013       </td><td> 7731.21637</td><td> 6333.09578</td></tr>\n",
       "\t<tr><td>1014       </td><td> 6160.11254</td><td>10092.22375</td></tr>\n",
       "\t<tr><td>1015       </td><td> 4234.35778</td><td>13874.44982</td></tr>\n",
       "\t<tr><td>1016       </td><td> 2517.57815</td><td>16498.37522</td></tr>\n",
       "\t<tr><td>1017       </td><td> 1382.65979</td><td>18121.89227</td></tr>\n",
       "\t<tr><td>1018       </td><td>  725.58169</td><td>19019.73769</td></tr>\n",
       "\t<tr><td>1019       </td><td>  372.03043</td><td>19504.13354</td></tr>\n",
       "\t<tr><td>1020       </td><td>  188.31875</td><td>19745.66499</td></tr>\n",
       "\t<tr><td>1021       </td><td>   94.78098</td><td>19876.01848</td></tr>\n",
       "\t<tr><td>1022       </td><td>   47.52887</td><td>19934.05753</td></tr>\n",
       "\t<tr><td>1023       </td><td>   23.80820</td><td>19970.76330</td></tr>\n",
       "\t<tr><td>1024       </td><td>   11.91056</td><td>19981.60443</td></tr>\n",
       "</tbody>\n",
       "</table>\n"
      ],
      "text/latex": [
       "\\begin{tabular}{r|lll}\n",
       " Year & Sexauls & Asexuals\\\\\n",
       "\\hline\n",
       "\t  999        & 10000.00000 &     0.00000\\\\\n",
       "\t 1000        & 10000.00000 &     1.00000\\\\\n",
       "\t 1001        & 10000.00000 &     1.99990\\\\\n",
       "\t 1002        &  9999.00005 &     3.99940\\\\\n",
       "\t 1003        &  9997.50047 &     7.99760\\\\\n",
       "\t 1004        &  9994.75212 &    15.99080\\\\\n",
       "\t 1005        &  9989.38348 &    31.96443\\\\\n",
       "\t 1006        &  9978.72086 &    63.86062\\\\\n",
       "\t 1007        &  9957.47542 &   127.44931\\\\\n",
       "\t 1008        &  9915.19362 &   253.81627\\\\\n",
       "\t 1009        &  9831.40534 &   503.34278\\\\\n",
       "\t 1010        &  9666.85311 &   989.83626\\\\\n",
       "\t 1011        &  9349.44713 &  1914.67103\\\\\n",
       "\t 1012        &  8758.50683 &  3587.30502\\\\\n",
       "\t 1013        &  7731.21637 &  6333.09578\\\\\n",
       "\t 1014        &  6160.11254 & 10092.22375\\\\\n",
       "\t 1015        &  4234.35778 & 13874.44982\\\\\n",
       "\t 1016        &  2517.57815 & 16498.37522\\\\\n",
       "\t 1017        &  1382.65979 & 18121.89227\\\\\n",
       "\t 1018        &   725.58169 & 19019.73769\\\\\n",
       "\t 1019        &   372.03043 & 19504.13354\\\\\n",
       "\t 1020        &   188.31875 & 19745.66499\\\\\n",
       "\t 1021        &    94.78098 & 19876.01848\\\\\n",
       "\t 1022        &    47.52887 & 19934.05753\\\\\n",
       "\t 1023        &    23.80820 & 19970.76330\\\\\n",
       "\t 1024        &    11.91056 & 19981.60443\\\\\n",
       "\\end{tabular}\n"
      ],
      "text/markdown": [
       "\n",
       "| Year | Sexauls | Asexuals |\n",
       "|---|---|---|\n",
       "|  999        | 10000.00000 |     0.00000 |\n",
       "| 1000        | 10000.00000 |     1.00000 |\n",
       "| 1001        | 10000.00000 |     1.99990 |\n",
       "| 1002        |  9999.00005 |     3.99940 |\n",
       "| 1003        |  9997.50047 |     7.99760 |\n",
       "| 1004        |  9994.75212 |    15.99080 |\n",
       "| 1005        |  9989.38348 |    31.96443 |\n",
       "| 1006        |  9978.72086 |    63.86062 |\n",
       "| 1007        |  9957.47542 |   127.44931 |\n",
       "| 1008        |  9915.19362 |   253.81627 |\n",
       "| 1009        |  9831.40534 |   503.34278 |\n",
       "| 1010        |  9666.85311 |   989.83626 |\n",
       "| 1011        |  9349.44713 |  1914.67103 |\n",
       "| 1012        |  8758.50683 |  3587.30502 |\n",
       "| 1013        |  7731.21637 |  6333.09578 |\n",
       "| 1014        |  6160.11254 | 10092.22375 |\n",
       "| 1015        |  4234.35778 | 13874.44982 |\n",
       "| 1016        |  2517.57815 | 16498.37522 |\n",
       "| 1017        |  1382.65979 | 18121.89227 |\n",
       "| 1018        |   725.58169 | 19019.73769 |\n",
       "| 1019        |   372.03043 | 19504.13354 |\n",
       "| 1020        |   188.31875 | 19745.66499 |\n",
       "| 1021        |    94.78098 | 19876.01848 |\n",
       "| 1022        |    47.52887 | 19934.05753 |\n",
       "| 1023        |    23.80820 | 19970.76330 |\n",
       "| 1024        |    11.91056 | 19981.60443 |\n",
       "\n"
      ],
      "text/plain": [
       "   Year Sexauls     Asexuals   \n",
       "1   999 10000.00000     0.00000\n",
       "2  1000 10000.00000     1.00000\n",
       "3  1001 10000.00000     1.99990\n",
       "4  1002  9999.00005     3.99940\n",
       "5  1003  9997.50047     7.99760\n",
       "6  1004  9994.75212    15.99080\n",
       "7  1005  9989.38348    31.96443\n",
       "8  1006  9978.72086    63.86062\n",
       "9  1007  9957.47542   127.44931\n",
       "10 1008  9915.19362   253.81627\n",
       "11 1009  9831.40534   503.34278\n",
       "12 1010  9666.85311   989.83626\n",
       "13 1011  9349.44713  1914.67103\n",
       "14 1012  8758.50683  3587.30502\n",
       "15 1013  7731.21637  6333.09578\n",
       "16 1014  6160.11254 10092.22375\n",
       "17 1015  4234.35778 13874.44982\n",
       "18 1016  2517.57815 16498.37522\n",
       "19 1017  1382.65979 18121.89227\n",
       "20 1018   725.58169 19019.73769\n",
       "21 1019   372.03043 19504.13354\n",
       "22 1020   188.31875 19745.66499\n",
       "23 1021    94.78098 19876.01848\n",
       "24 1022    47.52887 19934.05753\n",
       "25 1023    23.80820 19970.76330\n",
       "26 1024    11.91056 19981.60443"
      ]
     },
     "metadata": {},
     "output_type": "display_data"
    }
   ],
   "source": [
    "pop_frame"
   ]
  },
  {
   "cell_type": "code",
   "execution_count": 6,
   "id": "23769fcc-4a64-4da0-91fd-1882c066130d",
   "metadata": {},
   "outputs": [
    {
     "name": "stderr",
     "output_type": "stream",
     "text": [
      "Warning message:\n",
      "\"Removed 3848 rows containing missing values (geom_path).\""
     ]
    },
    {
     "data": {
      "image/png": "[encoded data removed]",
      "text/plain": [
       "plot without title"
      ]
     },
     "metadata": {},
     "output_type": "display_data"
    }
   ],
   "source": [
    "library(ggplot2)\n",
    "\n",
    "Fig12 <- data.frame(\"Generation\" = time, \"Number\" = outAsex, \"Mode\" = rep(\"Asexuals\", length(outAsex)))\n",
    "Fig12s <- data.frame(\"Generation\" = time, \"Number\" = outSex, \"Mode\" = rep(\"Sexuals\", length(outSex)))\n",
    "Fig12 <- rbind(Fig12, Fig12s)\n",
    "\n",
    "ggplot(Fig12, aes(x=Generation, y=Number, color=Mode)) +\n",
    "  geom_line(size=2) +\n",
    "  scale_x_continuous(name=\"GENERATION\",  limits =c(975, 1050), breaks=seq(975, 1050, 25)) + \n",
    "  scale_y_continuous(name=\"NUMBER\\n\", limits = c(0, 21500)) +\n",
    "  scale_color_manual(values = c(Asexuals = \"#235FA4\", Sexuals = \"#FF4242\"))  +\n",
    "  annotate(geom = \"text\", x= 1040, y = 21500, label = \"Asexuals\", color = \"#235FA4\", size = 6) +\n",
    "  annotate(geom = \"text\", x= 1040, y = 1500, label = \"Sexuals\", color = \"#FF4242\", size = 6) "
   ]
  }
 ],
 "metadata": {
  "kernelspec": {
   "display_name": "R",
   "language": "R",
   "name": "ir"
  },
  "language_info": {
   "codemirror_mode": "r",
   "file_extension": ".r",
   "mimetype": "text/x-r-source",
   "name": "R",
   "pygments_lexer": "r",
   "version": "3.6.1"
  }
 },
 "nbformat": 4,
 "nbformat_minor": 5
}
